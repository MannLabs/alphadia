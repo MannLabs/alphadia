{
 "cells": [
  {
   "cell_type": "code",
   "execution_count": null,
   "metadata": {},
   "outputs": [],
   "source": [
    "%reload_ext autoreload\n",
    "%autoreload 2\n",
    "\n",
    "import numpy as np\n",
    "import pandas as pd\n",
    "import matplotlib.pyplot as plt\n",
    "import seaborn as sns\n",
    "import os\n",
    "\n",
    "from alphabase.spectral_library.base import SpecLibBase\n",
    "from alphadia import data, planning\n",
    "from alphadia.workflow import manager, peptidecentric"
   ]
  },
  {
   "cell_type": "code",
   "execution_count": null,
   "metadata": {},
   "outputs": [],
   "source": [
    "performance_test_folder = \"/Users/georgwallmann/Documents/data/performance_tests\"\n",
    "\n",
    "MODE = \"astral\"\n",
    "\n",
    "if MODE == \"astral\":\n",
    "    raw_files = [\n",
    "        os.path.join(\n",
    "            performance_test_folder,\n",
    "            \"raw_data/astral_lf_dia/20230815_OA1_SoSt_SA_Whisper40_ADIAMA_HeLa_5ng_8Th14ms_FAIMS-40_1900V_noLoopCount_01.raw\",\n",
    "        )\n",
    "    ]\n",
    "    output_location = os.path.join(performance_test_folder, \"outputs/astral_lf_dia\")\n",
    "    speclib_path = os.path.join(\n",
    "        performance_test_folder,\n",
    "        \"libraries/astral/48_fraction_hela_PaSk_orbitrap_ms2.hdf\",\n",
    "    )\n",
    "elif MODE == \"timstof\":\n",
    "    raw_files = [\n",
    "        os.path.join(\n",
    "            performance_test_folder,\n",
    "            \"raw_data/timstof_lf_diap/20230502_TIMS05_PaSk_SA_HeLa_21min_diaP_12scans_S2-A3_1_2089.d\",\n",
    "        )\n",
    "    ]\n",
    "    output_location = os.path.join(\n",
    "        performance_test_folder, \"outputs/timstof_lf_diaPASEF\"\n",
    "    )\n",
    "    speclib_path = os.path.join(\n",
    "        performance_test_folder,\n",
    "        \"libraries/timstof/21min_Evosep_HeLa_BR14_48fractions_diaPASEF_py_diAID_2_egs.hdf\",\n",
    "    )\n",
    "else:\n",
    "    raise ValueError(\"Unknown mode\")"
   ]
  },
  {
   "cell_type": "code",
   "execution_count": null,
   "metadata": {},
   "outputs": [],
   "source": [
    "config = {\n",
    "    \"general\": {\n",
    "        \"reuse_calibration\": False,\n",
    "        \"reuse_quant\": False,\n",
    "        \"thread_count\": 10,\n",
    "        \"astral_ms1\": False,\n",
    "    },\n",
    "    \"search_initial\": {\n",
    "        \"initial_num_candidates\": 2,\n",
    "    },\n",
    "    \"search_advanced\": {\n",
    "        \"top_k_fragments_scoring\": 12,\n",
    "    },\n",
    "    \"search\": {\n",
    "        \"target_num_candidates\": 5,\n",
    "        \"target_ms1_tolerance\": 4 if MODE == \"astral\" else 15,\n",
    "        \"target_ms2_tolerance\": 7 if MODE == \"astral\" else 15,\n",
    "        \"target_rt_tolerance\": 200,\n",
    "    },\n",
    "    \"fdr\": {\"classifier\": \"legacy\"},\n",
    "}\n",
    "plan = planning.Plan(output_location, raw_files, speclib_path, config=config)"
   ]
  },
  {
   "cell_type": "code",
   "execution_count": null,
   "metadata": {},
   "outputs": [],
   "source": [
    "for raw_name, dia_path, speclib in plan.get_run_data():\n",
    "    pass"
   ]
  },
  {
   "cell_type": "code",
   "execution_count": null,
   "metadata": {},
   "outputs": [],
   "source": [
    "workflow = peptidecentric.PeptideCentricWorkflow(\n",
    "    raw_name,\n",
    "    plan.config,\n",
    ")\n",
    "workflow.load(dia_path, speclib)\n",
    "workflow.calibration()"
   ]
  },
  {
   "cell_type": "code",
   "execution_count": null,
   "metadata": {},
   "outputs": [],
   "source": [
    "workflow.extraction()"
   ]
  },
  {
   "cell_type": "code",
   "execution_count": null,
   "metadata": {},
   "outputs": [],
   "source": [
    "test_df = workflow.spectral_library.precursor_df.sample(1000)"
   ]
  },
  {
   "cell_type": "code",
   "execution_count": null,
   "metadata": {},
   "outputs": [],
   "source": [
    "from alphadia import hybridselection\n",
    "\n",
    "config = hybridselection.HybridCandidateConfig()\n",
    "config.update(workflow.config[\"selection_config\"])\n",
    "config.update(\n",
    "    {\n",
    "        \"rt_tolerance\": workflow.com.rt_error,\n",
    "        \"mobility_tolerance\": workflow.com.mobility_error,\n",
    "        \"candidate_count\": workflow.com.num_candidates,\n",
    "        \"precursor_mz_tolerance\": workflow.com.ms1_error,\n",
    "        \"fragment_mz_tolerance\": workflow.com.ms2_error,\n",
    "        \"exclude_shared_ions\": workflow.config[\"search\"][\"exclude_shared_ions\"],\n",
    "    }\n",
    ")\n",
    "\n",
    "extraction = hybridselection.HybridCandidateSelection(\n",
    "    workflow.dia_data.jitclass(),\n",
    "    test_df,\n",
    "    workflow.spectral_library.fragment_df,\n",
    "    config.jitclass(),\n",
    "    rt_column=f\"rt_{workflow.com.column_type}\",\n",
    "    mobility_column=f\"mobility_{workflow.com.column_type}\",\n",
    "    precursor_mz_column=f\"mz_{workflow.com.column_type}\",\n",
    "    fragment_mz_column=f\"mz_{workflow.com.column_type}\",\n",
    "    fwhm_rt=workflow.optimization_manager.fwhm_rt,\n",
    "    fwhm_mobility=workflow.optimization_manager.fwhm_mobility,\n",
    ")\n",
    "candidates_df = extraction(thread_count=workflow.config[\"general\"][\"thread_count\"])"
   ]
  },
  {
   "cell_type": "code",
   "execution_count": null,
   "metadata": {},
   "outputs": [],
   "source": [
    "from alphadia import plexscoring\n",
    "\n",
    "config = plexscoring.CandidateConfig()\n",
    "config.update(workflow.config[\"scoring_config\"])\n",
    "config.update(\n",
    "    {\n",
    "        \"precursor_mz_tolerance\": workflow.com.ms1_error,\n",
    "        \"fragment_mz_tolerance\": workflow.com.ms2_error,\n",
    "        \"exclude_shared_ions\": workflow.config[\"search\"][\"exclude_shared_ions\"],\n",
    "    }\n",
    ")\n",
    "\n",
    "candidate_scoring = plexscoring.CandidateScoring(\n",
    "    workflow.dia_data.jitclass(),\n",
    "    workflow.spectral_library._precursor_df,\n",
    "    workflow.spectral_library._fragment_df,\n",
    "    config=config,\n",
    "    rt_column=f\"rt_{workflow.com.column_type}\",\n",
    "    mobility_column=f\"mobility_{workflow.com.column_type}\",\n",
    "    precursor_mz_column=f\"mz_{workflow.com.column_type}\",\n",
    "    fragment_mz_column=f\"mz_{workflow.com.column_type}\",\n",
    ")\n",
    "\n",
    "features_df, fragments_df = candidate_scoring(\n",
    "    candidates_df,\n",
    "    thread_count=workflow.config[\"general\"][\"thread_count\"],\n",
    ")"
   ]
  }
 ],
 "metadata": {
  "kernelspec": {
   "display_name": "alpha",
   "language": "python",
   "name": "python3"
  },
  "language_info": {
   "codemirror_mode": {
    "name": "ipython",
    "version": 3
   },
   "file_extension": ".py",
   "mimetype": "text/x-python",
   "name": "python",
   "nbconvert_exporter": "python",
   "pygments_lexer": "ipython3",
   "version": "3.9.18"
  },
  "orig_nbformat": 4
 },
 "nbformat": 4,
 "nbformat_minor": 2
}
