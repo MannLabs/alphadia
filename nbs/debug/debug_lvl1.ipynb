{
 "cells": [
  {
   "cell_type": "code",
   "execution_count": 2,
   "metadata": {},
   "outputs": [
    {
     "name": "stderr",
     "output_type": "stream",
     "text": [
      "WARNING:root:WARNING: Temp mmap arrays are written to /var/folders/lc/9594t94d5b5_gn0y04w1jh980000gn/T/temp_mmap_8wbttgfv. Cleanup of this folder is OS dependant, and might need to be triggered manually! Current space: 135,225,167,872\n",
      "WARNING:root:WARNING: No Bruker libraries are available for this operating system. Mobility and m/z values need to be estimated. While this estimation often returns acceptable results with errors < 0.02 Th, huge errors (e.g. offsets of 6 Th) have already been observed for some samples!\n"
     ]
    }
   ],
   "source": [
    "%reload_ext autoreload\n",
    "%autoreload 2\n",
    "\n",
    "import numpy as np\n",
    "import pandas as pd\n",
    "import matplotlib.pyplot as plt\n",
    "import seaborn as sns\n",
    "import os\n",
    "\n",
    "from alphabase.spectral_library.base import SpecLibBase\n",
    "from alphadia import data, planning\n",
    "from alphadia.workflow import manager, peptidecentric"
   ]
  },
  {
   "cell_type": "code",
   "execution_count": 5,
   "metadata": {},
   "outputs": [],
   "source": [
    "performance_test_folder = \"/Users/georgwallmann/Documents/data/performance_tests\"\n",
    "\n",
    "MODE = \"astral\"\n",
    "\n",
    "if MODE == \"astral\":\n",
    "    raw_files = [\n",
    "        os.path.join(\n",
    "            performance_test_folder,\n",
    "            \"raw_data/astral_lf_dia/20230815_OA1_SoSt_SA_Whisper40_ADIAMA_HeLa_5ng_8Th14ms_FAIMS-40_1900V_noLoopCount_01.raw\",\n",
    "        )\n",
    "    ]\n",
    "    output_location = os.path.join(performance_test_folder, \"outputs/astral_lf_dia\")\n",
    "    speclib = os.path.join(\n",
    "        performance_test_folder,\n",
    "        \"libraries/astral/48_fraction_hela_PaSk_orbitrap_ms2.hdf\",\n",
    "    )\n",
    "elif MODE == \"timstof\":\n",
    "    raw_files = [\n",
    "        os.path.join(\n",
    "            performance_test_folder,\n",
    "            \"raw_data/timstof_lf_diap/20230502_TIMS05_PaSk_SA_HeLa_21min_diaP_12scans_S2-A3_1_2089.d\",\n",
    "        )\n",
    "    ]\n",
    "    output_location = os.path.join(\n",
    "        performance_test_folder, \"outputs/timstof_lf_diaPASEF\"\n",
    "    )\n",
    "    speclib = os.path.join(\n",
    "        performance_test_folder,\n",
    "        \"libraries/timstof/21min_Evosep_HeLa_BR14_48fractions_diaPASEF_py_diAID_2_egs.hdf\",\n",
    "    )\n",
    "else:\n",
    "    raise ValueError(\"Unknown mode\")"
   ]
  },
  {
   "cell_type": "code",
   "execution_count": 6,
   "metadata": {},
   "outputs": [
    {
     "name": "stderr",
     "output_type": "stream",
     "text": [
      "0:00:00.000299 \u001b[32;20mPROGRESS:       _   _      _         ___ ___   _   \u001b[0m\n",
      "0:00:00.000810 \u001b[32;20mPROGRESS:      /_\\ | |_ __| |_  __ _|   \\_ _| /_\\  \u001b[0m\n",
      "0:00:00.001200 \u001b[32;20mPROGRESS:     / _ \\| | '_ \\ ' \\/ _` | |) | | / _ \\ \u001b[0m\n",
      "0:00:00.001430 \u001b[32;20mPROGRESS:    /_/ \\_\\_| .__/_||_\\__,_|___/___/_/ \\_\\\u001b[0m\n",
      "0:00:00.001851 \u001b[32;20mPROGRESS:            |_|                            \u001b[0m\n",
      "0:00:00.002328 \u001b[32;20mPROGRESS: \u001b[0m\n",
      "0:00:00.002817 INFO: loading default config from /Users/georgwallmann/Documents/git/alphadia/alphadia/../misc/config/default.yaml\n",
      "0:00:00.010220 INFO: Applying config update from dict\n",
      "0:00:00.010736 \u001b[32;20mPROGRESS: version: 1.3.2\u001b[0m\n",
      "0:00:00.010906 \u001b[32;20mPROGRESS: hostname: Georgs-MacBook-Pro.local\u001b[0m\n",
      "0:00:00.011244 \u001b[32;20mPROGRESS: date: 2023-11-14 16:30:39\u001b[0m\n",
      "0:00:00.011553 INFO: Running DynamicLoader\n",
      "0:00:01.958157 INFO: Running PrecursorInitializer\n",
      "0:00:01.959985 INFO: Running AnnotateFasta\n",
      "0:00:01.960559 INFO: Dropping decoys from input library before annotation\n",
      "0:00:02.046945 INFO: Running IsotopeGenerator\n",
      "0:00:02.047515 \u001b[33;20mWARNING: Input library already contains isotope information. Skipping isotope generation. \n",
      " Please note that isotope generation outside of alphabase is not supported.\u001b[0m\n",
      "0:00:02.047836 INFO: Running RTNormalization\n",
      "0:00:02.055838 INFO: Running DecoyGenerator\n",
      "0:00:05.156083 INFO: Running FlattenLibrary\n",
      "0:00:11.293920 INFO: Running InitFlatColumns\n",
      "0:00:11.294946 INFO: Running LogFlatLibraryStats\n",
      "0:00:11.295227 INFO: ============ Library Stats ============\n",
      "0:00:11.295416 INFO: Number of precursors: 470,599\n",
      "0:00:11.358480 INFO: \tthereof targets:235,310\n",
      "0:00:11.359254 INFO: \tthereof decoys: 235,289\n",
      "0:00:11.363403 INFO: Number of elution groups: 235,310\n",
      "0:00:11.363838 INFO: \taverage size: 2.00\n",
      "0:00:11.377859 INFO: Number of proteins: 9,904\n",
      "0:00:11.380199 INFO: Number of channels: 1 ([0])\n",
      "0:00:11.380608 INFO: Isotopes Distribution for 6 isotopes\n",
      "0:00:11.380883 INFO: =======================================\n"
     ]
    }
   ],
   "source": [
    "config_update = {\n",
    "    \"general\": {\n",
    "        \"reuse_calibration\": True,\n",
    "        \"reuse_quant\": True,\n",
    "        \"thread_count\": 10,\n",
    "        \"astral_ms1\": False,\n",
    "    },\n",
    "    \"search_initial\": {\n",
    "        \"initial_num_candidates\": 2,\n",
    "    },\n",
    "    \"search\": {\n",
    "        \"target_num_candidates\": 5,\n",
    "        \"target_ms1_tolerance\": 3 if MODE == \"astral\" else 15,\n",
    "        \"target_ms2_tolerance\": 5 if MODE == \"astral\" else 15,\n",
    "        \"target_rt_tolerance\": 120,\n",
    "    },\n",
    "    \"fdr\": {\"library_grouping\": True},\n",
    "}\n",
    "plan = planning.Plan(output_location, raw_files, speclib, config_update=config_update)"
   ]
  },
  {
   "cell_type": "code",
   "execution_count": 7,
   "metadata": {},
   "outputs": [
    {
     "name": "stderr",
     "output_type": "stream",
     "text": [
      "0:00:13.456621 \u001b[32;20mPROGRESS: Loading raw file 1/1: 20230815_OA1_SoSt_SA_Whisper40_ADIAMA_HeLa_5ng_8Th14ms_FAIMS-40_1900V_noLoopCount_01\u001b[0m\n"
     ]
    }
   ],
   "source": [
    "for raw_name, dia_path, speclib in plan.get_run_data():\n",
    "    pass"
   ]
  },
  {
   "cell_type": "code",
   "execution_count": 9,
   "metadata": {},
   "outputs": [
    {
     "name": "stderr",
     "output_type": "stream",
     "text": [
      "11it [00:15,  1.43s/it]\n"
     ]
    },
    {
     "name": "stdout",
     "output_type": "stream",
     "text": [
      "None True\n"
     ]
    },
    {
     "name": "stderr",
     "output_type": "stream",
     "text": [
      "0:01:34.889078 INFO: Loaded CalibrationManager from /Users/georgwallmann/Documents/data/performance_tests/outputs/astral_lf_dia/.progress/20230815_OA1_SoSt_SA_Whisper40_ADIAMA_HeLa_5ng_8Th14ms_FAIMS-40_1900V_noLoopCount_01/calibration_manager.pkl\n",
      "0:01:34.889792 INFO: Initializing CalibrationManager\n",
      "0:01:34.890751 INFO: Disabling ion mobility calibration\n",
      "0:01:34.891526 INFO: Loaded OptimizationManager from /Users/georgwallmann/Documents/data/performance_tests/outputs/astral_lf_dia/.progress/20230815_OA1_SoSt_SA_Whisper40_ADIAMA_HeLa_5ng_8Th14ms_FAIMS-40_1900V_noLoopCount_01/optimization_manager.pkl\n",
      "0:01:34.892314 INFO: Initializing OptimizationManager\n",
      "0:01:34.893053 \u001b[32;20mPROGRESS: Initializing workflow 20230815_OA1_SoSt_SA_Whisper40_ADIAMA_HeLa_5ng_8Th14ms_FAIMS-40_1900V_noLoopCount_01\u001b[0m\n",
      "0:01:34.893844 INFO: Initializing OptimizationManager\n",
      "0:01:34.894256 INFO: initial parameter: current_epoch = 0\n",
      "0:01:34.894679 INFO: initial parameter: current_step = 0\n",
      "0:01:34.895098 INFO: initial parameter: ms1_error = 30\n",
      "0:01:34.895443 INFO: initial parameter: ms2_error = 30\n",
      "0:01:34.895790 INFO: initial parameter: rt_error = 240\n",
      "0:01:34.896160 INFO: initial parameter: mobility_error = 0.08\n",
      "0:01:34.896496 INFO: initial parameter: column_type = library\n",
      "0:01:34.896792 INFO: initial parameter: num_candidates = 2\n",
      "0:01:34.897099 INFO: initial parameter: recalibration_target = 200\n",
      "0:01:34.897395 INFO: initial parameter: accumulated_precursors = 0\n",
      "0:01:34.897697 INFO: initial parameter: accumulated_precursors_01FDR = 0\n",
      "0:01:34.897994 INFO: initial parameter: accumulated_precursors_001FDR = 0\n",
      "0:01:34.898446 INFO: Initializing FDRManager\n",
      "0:01:34.898759 \u001b[32;20mPROGRESS: Applying channel filter using only: [0]\u001b[0m\n",
      "0:01:34.953161 \u001b[32;20mPROGRESS: 219,866 target precursors potentially observable (15,444 removed)\u001b[0m\n",
      "0:01:35.043559 \u001b[32;20mPROGRESS: Skipping calibration as existing calibration was found\u001b[0m\n"
     ]
    }
   ],
   "source": [
    "workflow = peptidecentric.PeptideCentricWorkflow(\n",
    "    raw_name,\n",
    "    plan.config,\n",
    ")\n",
    "workflow.load(dia_path, speclib)\n",
    "workflow.calibration()"
   ]
  },
  {
   "cell_type": "code",
   "execution_count": 10,
   "metadata": {},
   "outputs": [],
   "source": [
    "test_df = workflow.spectral_library.precursor_df.sample(1000)"
   ]
  },
  {
   "cell_type": "code",
   "execution_count": 12,
   "metadata": {},
   "outputs": [
    {
     "name": "stderr",
     "output_type": "stream",
     "text": [
      "0:03:13.549251 INFO: Duty cycle consists of 76 frames, 1.34 seconds cycle time\n",
      "0:03:13.549875 INFO: Duty cycle consists of 1 scans, 0.00000 1/K_0 resolution\n",
      "0:03:13.550268 INFO: FWHM in RT is 3.59 seconds, sigma is 0.57\n",
      "0:03:13.551165 INFO: FWHM in mobility is 0.000 1/K_0, sigma is 1.00\n",
      "0:03:14.343229 INFO: Starting candidate selection\n",
      "100%|██████████| 1000/1000 [00:21<00:00, 46.29it/s]\n",
      "0:03:37.596133 INFO: Finished candidate selection\n"
     ]
    }
   ],
   "source": [
    "from alphadia import hybridselection\n",
    "\n",
    "config = hybridselection.HybridCandidateConfig()\n",
    "config.update(workflow.config[\"selection_config\"])\n",
    "config.update(\n",
    "    {\n",
    "        \"rt_tolerance\": workflow.com.rt_error,\n",
    "        \"mobility_tolerance\": workflow.com.mobility_error,\n",
    "        \"candidate_count\": workflow.com.num_candidates,\n",
    "        \"precursor_mz_tolerance\": workflow.com.ms1_error,\n",
    "        \"fragment_mz_tolerance\": workflow.com.ms2_error,\n",
    "        \"exclude_shared_ions\": workflow.config[\"search\"][\"exclude_shared_ions\"],\n",
    "    }\n",
    ")\n",
    "\n",
    "extraction = hybridselection.HybridCandidateSelection(\n",
    "    workflow.dia_data.jitclass(),\n",
    "    test_df,\n",
    "    workflow.spectral_library.fragment_df,\n",
    "    config.jitclass(),\n",
    "    rt_column=f\"rt_{workflow.com.column_type}\",\n",
    "    mobility_column=f\"mobility_{workflow.com.column_type}\",\n",
    "    precursor_mz_column=f\"mz_{workflow.com.column_type}\",\n",
    "    fragment_mz_column=f\"mz_{workflow.com.column_type}\",\n",
    "    fwhm_rt=workflow.optimization_manager.fwhm_rt,\n",
    "    fwhm_mobility=workflow.optimization_manager.fwhm_mobility,\n",
    ")\n",
    "candidates_df = extraction(thread_count=workflow.config[\"general\"][\"thread_count\"])"
   ]
  },
  {
   "cell_type": "code",
   "execution_count": 13,
   "metadata": {},
   "outputs": [
    {
     "name": "stderr",
     "output_type": "stream",
     "text": [
      "0:05:34.568625 INFO: Starting candidate scoring\n",
      "  0%|          | 0/1991 [00:00<?, ?it/s]/Users/georgwallmann/Documents/git/alphatims/alphatims/utils.py:583: NumbaTypeSafetyWarning: \u001b[1m\u001b[1m\u001b[1m\u001b[1m\u001b[1m\u001b[1m\u001b[1munsafe cast from float64 to float32. Precision may be lost.\u001b[0m\u001b[0m\u001b[0m\u001b[0m\u001b[0m\u001b[0m\u001b[0m\n",
      "  numba_func(i, *args)\n",
      "/Users/georgwallmann/Documents/git/alphatims/alphatims/utils.py:583: NumbaTypeSafetyWarning: \u001b[1m\u001b[1m\u001b[1m\u001b[1m\u001b[1m\u001b[1m\u001b[1munsafe cast from int64 to float32. Precision may be lost.\u001b[0m\u001b[0m\u001b[0m\u001b[0m\u001b[0m\u001b[0m\u001b[0m\n",
      "  numba_func(i, *args)\n",
      "100%|██████████| 1991/1991 [00:57<00:00, 34.33it/s]\n",
      "0:06:35.413602 INFO: Finished candidate scoring\n"
     ]
    }
   ],
   "source": [
    "from alphadia import plexscoring\n",
    "\n",
    "config = plexscoring.CandidateConfig()\n",
    "config.update(workflow.config[\"scoring_config\"])\n",
    "config.update(\n",
    "    {\n",
    "        \"precursor_mz_tolerance\": workflow.com.ms1_error,\n",
    "        \"fragment_mz_tolerance\": workflow.com.ms2_error,\n",
    "        \"exclude_shared_ions\": workflow.config[\"search\"][\"exclude_shared_ions\"],\n",
    "    }\n",
    ")\n",
    "\n",
    "candidate_scoring = plexscoring.CandidateScoring(\n",
    "    workflow.dia_data.jitclass(),\n",
    "    workflow.spectral_library._precursor_df,\n",
    "    workflow.spectral_library._fragment_df,\n",
    "    config=config,\n",
    "    rt_column=f\"rt_{workflow.com.column_type}\",\n",
    "    mobility_column=f\"mobility_{workflow.com.column_type}\",\n",
    "    precursor_mz_column=f\"mz_{workflow.com.column_type}\",\n",
    "    fragment_mz_column=f\"mz_{workflow.com.column_type}\",\n",
    ")\n",
    "\n",
    "features_df, fragments_df = candidate_scoring(\n",
    "    candidates_df,\n",
    "    thread_count=workflow.config[\"general\"][\"thread_count\"],\n",
    ")"
   ]
  }
 ],
 "metadata": {
  "kernelspec": {
   "display_name": "alpha",
   "language": "python",
   "name": "python3"
  },
  "language_info": {
   "codemirror_mode": {
    "name": "ipython",
    "version": 3
   },
   "file_extension": ".py",
   "mimetype": "text/x-python",
   "name": "python",
   "nbconvert_exporter": "python",
   "pygments_lexer": "ipython3",
   "version": "3.9.18"
  },
  "orig_nbformat": 4
 },
 "nbformat": 4,
 "nbformat_minor": 2
}
