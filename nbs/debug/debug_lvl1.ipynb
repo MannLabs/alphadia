{
 "cells": [
  {
   "cell_type": "markdown",
   "metadata": {},
   "source": [
    "# Debugging notebook for alphaDIA\n",
    "This notebooks allows you to run a search in a jupyter notebook and debug the results.\n",
    "It allows you to debug a search on the workflow level as well on the peakgroup level"
   ]
  },
  {
   "cell_type": "code",
   "execution_count": null,
   "metadata": {},
   "outputs": [],
   "source": [
    "%reload_ext autoreload\n",
    "%autoreload 2\n",
    "\n",
    "import os\n",
    "\n",
    "from alphadia import search_step\n",
    "from alphadia.workflow.peptidecentric import peptidecentric\n",
    "\n",
    "os.environ[\"NUMBA_BOUNDSCHECK\"] = \"1\"\n",
    "os.environ[\"NUMBA_DEVELOPER_MODE\"] = \"1\"\n",
    "os.environ[\"NUMBA_FULL_TRACEBACKS\"] = \"1\""
   ]
  },
  {
   "cell_type": "code",
   "execution_count": null,
   "metadata": {},
   "outputs": [],
   "source": [
    "import tempfile\n",
    "\n",
    "test_folder = tempfile.mkdtemp()\n",
    "\n",
    "# uncomment the following line to use a specific folder\n",
    "# test_folder = \"/Users/georgwallmann/Documents/data/alphadia_performance_tests\"\n",
    "#\n",
    "# library_path\n",
    "#\n",
    "# raw_data_path_list = [\n",
    "#   \"/Users/georgwallmann/Documents/data/alphadia_performance_tests/20231017_OA2_TiHe_ADIAMA_HeLa_200ng_Evo011_21min_F-40_05.raw\",\n",
    "#   \"/Users/georgwallmann/Documents/data/alphadia_performance_tests/20231017_OA2_TiHe_ADIAMA_HeLa_200ng_Evo011_21min_F-40_06.raw\",\n",
    "#   \"/Users/georgwallmann/Documents/data/alphadia_performance_tests/20231017_OA2_TiHe_ADIAMA_HeLa_200ng_Evo011_21min_F-40_07.raw\",\n",
    "# ]\n",
    "\n",
    "# HeLa library as used in the getting started guide\n",
    "library_url = \"https://datashare.biochem.mpg.de/s/Uw2yfNSbApfPpTk\"\n",
    "\n",
    "# Bulk injections of HeLa cell lysate acquired on the Orbitrap Astral\n",
    "raw_data_url_list = [\n",
    "    \"https://datashare.biochem.mpg.de/s/339jg5HtGrwLwDN/download?files=20231017_OA2_TiHe_ADIAMA_HeLa_200ng_Evo011_21min_F-40_05.raw\",\n",
    "    \"https://datashare.biochem.mpg.de/s/339jg5HtGrwLwDN/download?files=20231017_OA2_TiHe_ADIAMA_HeLa_200ng_Evo011_21min_F-40_06.raw\",\n",
    "    \"https://datashare.biochem.mpg.de/s/339jg5HtGrwLwDN/download?files=20231017_OA2_TiHe_ADIAMA_HeLa_200ng_Evo011_21min_F-40_07.raw\",\n",
    "]\n",
    "\n",
    "from alphabase.tools.data_downloader import DataShareDownloader\n",
    "\n",
    "library_path = DataShareDownloader(library_url,test_folder).download()\n",
    "raw_data_path_list = [DataShareDownloader(url,test_folder).download() for url in raw_data_url_list]"
   ]
  },
  {
   "cell_type": "code",
   "execution_count": null,
   "metadata": {},
   "outputs": [],
   "source": [
    "config = {\n",
    "    \"general\": {\n",
    "        \"reuse_calibration\": True,\n",
    "        \"reuse_quant\": False,\n",
    "        \"thread_count\": 10,\n",
    "    },\n",
    "    \"search\": {\n",
    "        \"target_num_candidates\": 2,\n",
    "        \"target_ms1_tolerance\": 4,\n",
    "        \"target_ms2_tolerance\": 7,\n",
    "        \"target_rt_tolerance\": 200,\n",
    "    },\n",
    "    \"raw_paths\": raw_data_path_list,\n",
    "    \"library_path\": library_path,\n",
    "}\n",
    "output_folder = test_folder + \"/output\"\n",
    "step = search_step.SearchStep(output_folder, config=config)"
   ]
  },
  {
   "cell_type": "code",
   "execution_count": null,
   "metadata": {},
   "outputs": [],
   "source": [
    "for raw_name, dia_path, speclib in step.get_run_data():\n",
    "    pass"
   ]
  },
  {
   "cell_type": "code",
   "execution_count": null,
   "metadata": {},
   "outputs": [],
   "source": [
    "workflow = peptidecentric.PeptideCentricWorkflow(\n",
    "    raw_name,\n",
    "    step.config,\n",
    ")\n",
    "workflow.load(dia_path, speclib)\n",
    "workflow.search_parameter_optimization()"
   ]
  },
  {
   "cell_type": "code",
   "execution_count": null,
   "metadata": {},
   "outputs": [],
   "source": [
    "workflow.extraction()"
   ]
  },
  {
   "cell_type": "code",
   "execution_count": null,
   "metadata": {},
   "outputs": [],
   "source": [
    "test_df = workflow.spectral_library.precursor_df.sample(1000)"
   ]
  },
  {
   "cell_type": "code",
   "execution_count": null,
   "metadata": {},
   "outputs": [],
   "source": [
    "from alphadia.search.selection.config_df import CandidateSelectionConfig\n",
    "from alphadia.search.selection.selection import CandidateSelection\n",
    "\n",
    "config = CandidateSelectionConfig()\n",
    "config.update(workflow.config[\"selection_config\"])\n",
    "config.update(\n",
    "    {\n",
    "        \"rt_tolerance\": workflow.optimization_manager.rt_error,\n",
    "        \"mobility_tolerance\": workflow.optimization_manager.mobility_error,\n",
    "        \"candidate_count\": workflow.optimization_manager.num_candidates,\n",
    "        \"precursor_mz_tolerance\": workflow.optimization_manager.ms1_error,\n",
    "        \"fragment_mz_tolerance\": workflow.optimization_manager.ms2_error,\n",
    "        \"exclude_shared_ions\": workflow.config[\"search\"][\"exclude_shared_ions\"],\n",
    "    }\n",
    ")\n",
    "\n",
    "extraction = CandidateSelection(\n",
    "    workflow.dia_data,\n",
    "    test_df,\n",
    "    workflow.spectral_library.fragment_df,\n",
    "    config,\n",
    "    rt_column=f\"rt_{workflow.optimization_manager.column_type}\",\n",
    "    precursor_mz_column=f\"mz_{workflow.optimization_manager.column_type}\",\n",
    "    fragment_mz_column=f\"mz_{workflow.optimization_manager.column_type}\",\n",
    "    mobility_column=f\"mobility_library\",\n",
    "    fwhm_rt=workflow.optimization_manager.fwhm_rt,\n",
    "    fwhm_mobility=workflow.optimization_manager.fwhm_mobility,\n",
    ")\n",
    "candidates_df = extraction(thread_count=workflow.config[\"general\"][\"thread_count\"])"
   ]
  },
  {
   "cell_type": "code",
   "execution_count": null,
   "metadata": {},
   "outputs": [],
   "source": [
    "from alphadia.search.scoring.config import CandidateConfig\n",
    "from alphadia.search.scoring.scoring import CandidateScoring\n",
    "\n",
    "config = CandidateConfig()\n",
    "config.update(workflow.config[\"scoring_config\"])\n",
    "config.update(\n",
    "    {\n",
    "        \"precursor_mz_tolerance\": workflow.optimization_manager.ms1_error,\n",
    "        \"fragment_mz_tolerance\": workflow.optimization_manager.ms2_error,\n",
    "        \"exclude_shared_ions\": workflow.config[\"search\"][\"exclude_shared_ions\"],\n",
    "    }\n",
    ")\n",
    "\n",
    "candidate_scoring = CandidateScoring(\n",
    "    workflow.dia_data,\n",
    "    workflow.spectral_library._precursor_df,\n",
    "    workflow.spectral_library._fragment_df,\n",
    "    config=config,\n",
    "    rt_column=f\"rt_{workflow.optimization_manager.column_type}\",\n",
    "    mobility_column=f\"mobility_{workflow.optimization_manager.column_type}\",\n",
    "    precursor_mz_column=f\"mz_{workflow.optimization_manager.column_type}\",\n",
    "    fragment_mz_column=f\"mz_{workflow.optimization_manager.column_type}\",\n",
    ")\n",
    "\n",
    "features_df, fragments_df = candidate_scoring(\n",
    "    candidates_df,\n",
    "    thread_count=workflow.config[\"general\"][\"thread_count\"],\n",
    "    debug=True,\n",
    ")"
   ]
  },
  {
   "cell_type": "markdown",
   "metadata": {},
   "source": [
    "## Multistep Search"
   ]
  },
  {
   "cell_type": "code",
   "execution_count": null,
   "metadata": {},
   "outputs": [],
   "source": [
    "from alphadia.search_plan import SearchPlan\n",
    "\n",
    "config = {\n",
    "    \"raw_paths\": raw_data_path_list,\n",
    "    \"library_path\": library_path,\n",
    "}\n",
    "\n",
    "plan = SearchPlan(output_folder, config=config)\n",
    "plan.run_plan()"
   ]
  }
 ],
 "metadata": {
  "kernelspec": {
   "display_name": "alpha",
   "language": "python",
   "name": "python3"
  },
  "language_info": {
   "codemirror_mode": {
    "name": "ipython",
    "version": 3
   },
   "file_extension": ".py",
   "mimetype": "text/x-python",
   "name": "python",
   "nbconvert_exporter": "python",
   "pygments_lexer": "ipython3"
  }
 },
 "nbformat": 4,
 "nbformat_minor": 2
}
