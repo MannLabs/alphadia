{
 "cells": [
  {
   "cell_type": "code",
   "execution_count": null,
   "metadata": {},
   "outputs": [],
   "source": [
    "%reload_ext autoreload\n",
    "%autoreload 2\n",
    "\n",
    "import numpy as np\n",
    "import pandas as pd\n",
    "import matplotlib.pyplot as plt\n",
    "import seaborn as sns\n",
    "import os\n",
    "\n",
    "from alphabase.spectral_library.base import SpecLibBase\n",
    "from alphadia.extraction import data, planning\n",
    "from alphadia.extraction.workflow import manager, peptidecentric"
   ]
  },
  {
   "cell_type": "code",
   "execution_count": null,
   "metadata": {},
   "outputs": [],
   "source": [
    "performance_test_folder = '/Users/georgwallmann/Documents/data/performance_tests'\n",
    "\n",
    "MODE = 'astral'\n",
    "\n",
    "if MODE == 'astral':\n",
    "    raw_files = [os.path.join(performance_test_folder, 'raw_data/astral_lf_dia/20230815_OA1_SoSt_SA_Whisper40_ADIAMA_HeLa_5ng_8Th14ms_FAIMS-40_1900V_noLoopCount_01.raw')]\n",
    "    output_location = os.path.join(performance_test_folder, 'outputs/astral_lf_dia')\n",
    "    speclib = os.path.join(performance_test_folder, 'libraries/astral/48_fraction_hela_PaSk_orbitrap_ms2.hdf')\n",
    "elif MODE == 'timstof':\n",
    "    raw_files = [os.path.join(performance_test_folder, 'raw_data/timstof_lf_diap/20230502_TIMS05_PaSk_SA_HeLa_21min_diaP_12scans_S2-A3_1_2089.d')]\n",
    "    output_location = os.path.join(performance_test_folder, 'outputs/timstof_lf_diaPASEF')\n",
    "    speclib = os.path.join(performance_test_folder, 'libraries/timstof/21min_Evosep_HeLa_BR14_48fractions_diaPASEF_py_diAID_2_egs.hdf')\n",
    "else:\n",
    "    raise ValueError('Unknown mode')"
   ]
  },
  {
   "cell_type": "code",
   "execution_count": null,
   "metadata": {},
   "outputs": [],
   "source": [
    "test_lib = SpecLibBase()\n",
    "test_lib.load_hdf(speclib, load_mod_seq=True)\n",
    "plan = planning.Plan(output_location, raw_files, test_lib)\n",
    "\n",
    "plan.config['general']['reuse_calibration'] = False\n",
    "plan.config['general']['thread_count'] = 10\n",
    "plan.config['general']['astral_ms1'] = False\n",
    "plan.config['calibration']['norm_rt_mode'] = 'linear'\n",
    "\n",
    "plan.config['extraction_target']['target_num_candidates'] = 5\n",
    "plan.config['extraction_target']['target_ms1_tolerance'] = 3 if MODE == 'astral' else 15\n",
    "plan.config['extraction_target']['target_ms2_tolerance'] = 5 if MODE == 'astral' else 15\n",
    "plan.config['extraction_target']['target_rt_tolerance'] = 150"
   ]
  },
  {
   "cell_type": "code",
   "execution_count": null,
   "metadata": {},
   "outputs": [],
   "source": [
    "for raw_name, dia_path, speclib in plan.get_run_data():\n",
    "    pass"
   ]
  },
  {
   "cell_type": "code",
   "execution_count": null,
   "metadata": {},
   "outputs": [],
   "source": [
    "workflow = peptidecentric.PeptideCentricWorkflow(\n",
    "    raw_name,\n",
    "    plan.config,\n",
    "    dia_path,\n",
    "    speclib\n",
    ")\n",
    "workflow.calibration()"
   ]
  },
  {
   "cell_type": "code",
   "execution_count": null,
   "metadata": {},
   "outputs": [],
   "source": [
    "test_df = workflow.spectral_library.precursor_df.sample(1000)"
   ]
  },
  {
   "cell_type": "code",
   "execution_count": null,
   "metadata": {},
   "outputs": [],
   "source": [
    "from alphadia.extraction import hybridselection\n",
    "\n",
    "config = hybridselection.HybridCandidateConfig()\n",
    "config.update(workflow.config['selection_config'])\n",
    "config.update({\n",
    "    'rt_tolerance':workflow.com.rt_error,\n",
    "    'mobility_tolerance': workflow.com.mobility_error,\n",
    "    'candidate_count': workflow.com.num_candidates,\n",
    "    'precursor_mz_tolerance': workflow.com.ms1_error,\n",
    "    'fragment_mz_tolerance': workflow.com.ms2_error,\n",
    "    'exclude_shared_ions': workflow.config['library_loading']['exclude_shared_ions']\n",
    "})\n",
    "\n",
    "extraction = hybridselection.HybridCandidateSelection(\n",
    "    workflow.dia_data.jitclass(),\n",
    "    test_df,\n",
    "    workflow.spectral_library.fragment_df,\n",
    "    config.jitclass(),\n",
    "    rt_column = f'rt_{workflow.com.column_type}',\n",
    "    mobility_column = f'mobility_{workflow.com.column_type}',\n",
    "    precursor_mz_column = f'mz_{workflow.com.column_type}',\n",
    "    fragment_mz_column = f'mz_{workflow.com.column_type}',\n",
    "    fwhm_rt = workflow.optimization_manager.fwhm_rt,\n",
    "    fwhm_mobility = workflow.optimization_manager.fwhm_mobility\n",
    ")\n",
    "candidates_df = extraction(\n",
    "    thread_count=workflow.config['general']['thread_count']\n",
    ")"
   ]
  },
  {
   "cell_type": "code",
   "execution_count": null,
   "metadata": {},
   "outputs": [],
   "source": [
    "from alphadia.extraction import plexscoring\n",
    "\n",
    "config = plexscoring.CandidateConfig()\n",
    "config.update(workflow.config['scoring_config'])\n",
    "config.update({\n",
    "    'precursor_mz_tolerance': workflow.com.ms1_error,\n",
    "    'fragment_mz_tolerance': workflow.com.ms2_error,\n",
    "    'exclude_shared_ions': workflow.config['library_loading']['exclude_shared_ions']\n",
    "})\n",
    "\n",
    "candidate_scoring = plexscoring.CandidateScoring(\n",
    "    workflow.dia_data.jitclass(),\n",
    "    workflow.spectral_library._precursor_df,\n",
    "    workflow.spectral_library._fragment_df,\n",
    "    config = config,\n",
    "    rt_column = f'rt_{workflow.com.column_type}',\n",
    "    mobility_column = f'mobility_{workflow.com.column_type}',\n",
    "    precursor_mz_column = f'mz_{workflow.com.column_type}',\n",
    "    fragment_mz_column = f'mz_{workflow.com.column_type}',\n",
    ")\n",
    "\n",
    "features_df, fragments_df = candidate_scoring(\n",
    "    candidates_df, \n",
    "    thread_count=workflow.config['general']['thread_count'],\n",
    ")"
   ]
  }
 ],
 "metadata": {
  "kernelspec": {
   "display_name": "alpha",
   "language": "python",
   "name": "python3"
  },
  "language_info": {
   "codemirror_mode": {
    "name": "ipython",
    "version": 3
   },
   "file_extension": ".py",
   "mimetype": "text/x-python",
   "name": "python",
   "nbconvert_exporter": "python",
   "pygments_lexer": "ipython3",
   "version": "3.9.13"
  },
  "orig_nbformat": 4
 },
 "nbformat": 4,
 "nbformat_minor": 2
}
