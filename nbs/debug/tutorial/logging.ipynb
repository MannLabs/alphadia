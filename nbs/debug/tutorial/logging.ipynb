{
 "cells": [
  {
   "cell_type": "code",
   "execution_count": 2,
   "metadata": {},
   "outputs": [],
   "source": [
    "%reload_ext autoreload\n",
    "%autoreload 2\n",
    "\n",
    "from alphadia.extraction.workflow import logger"
   ]
  },
  {
   "cell_type": "code",
   "execution_count": 2,
   "metadata": {},
   "outputs": [],
   "source": [
    "workflow_logger = logger.MetricLogger(\n",
    "    backends=[\n",
    "        logger.StdoutBackend(),\n",
    "        logger.FigureBackend(path = '/Users/georgwallmann/Documents/data/performance_tests/outputs/astral_lf_dia')\n",
    "    ]\n",
    ")"
   ]
  },
  {
   "cell_type": "code",
   "execution_count": 3,
   "metadata": {},
   "outputs": [
    {
     "name": "stdout",
     "output_type": "stream",
     "text": [
      "accuracy: 0.9\n",
      "loss: 0.1\n"
     ]
    }
   ],
   "source": [
    "with workflow_logger.context:\n",
    "    workflow_logger.log_metric(\"accuracy\", 0.9)\n",
    "    workflow_logger.log_metric(\"loss\", 0.1)"
   ]
  },
  {
   "cell_type": "code",
   "execution_count": 4,
   "metadata": {},
   "outputs": [
    {
     "data": {
      "text/plain": [
       "<matplotlib.collections.PathCollection at 0x11a2814c0>"
      ]
     },
     "execution_count": 4,
     "metadata": {},
     "output_type": "execute_result"
    },
    {
     "data": {
      "image/png": "[encoded data removed]",
      "text/plain": [
       "<Figure size 500x500 with 1 Axes>"
      ]
     },
     "metadata": {},
     "output_type": "display_data"
    }
   ],
   "source": [
    "from matplotlib import pyplot as plt\n",
    "import numpy as np\n",
    "from io import BytesIO\n",
    "import base64\n",
    "\n",
    "fig, ax = plt.subplots(1, 1, figsize=(5, 5))\n",
    "ax.scatter(np.random.rand(10), np.random.rand(10))\n",
    "\n"
   ]
  },
  {
   "cell_type": "code",
   "execution_count": 11,
   "metadata": {},
   "outputs": [],
   "source": [
    "path = '/Users/georgwallmann/Documents/data/performance_tests/outputs/astral_lf_dia/.progress'\n",
    "\n",
    "workflow_logger = logger.MetricLogger(\n",
    "    backends=[\n",
    "        #logger.StdoutBackend(),\n",
    "        logger.FigureBackend(path = path),\n",
    "        logger.JSONLBackend(path = path, enable_figure=False)\n",
    "    ]\n",
    ")"
   ]
  },
  {
   "cell_type": "code",
   "execution_count": 12,
   "metadata": {},
   "outputs": [],
   "source": [
    "with workflow_logger.context:\n",
    "    workflow_logger.log_event(\"start_extraction\", None)\n",
    "    workflow_logger.log_figure(\"scatter\", fig)"
   ]
  },
  {
   "cell_type": "code",
   "execution_count": 18,
   "metadata": {},
   "outputs": [],
   "source": [
    "from matplotlib import pyplot as plt\n",
    "import numpy as np\n",
    "import tempfile\n",
    "import os\n",
    "\n",
    "def test_backend():\n",
    "\n",
    "    backend = logger.Backend()\n",
    "    backend.log_event(\"start_extraction\", None)\n",
    "    backend.log_metric(\"accuracy\", 0.9)\n",
    "    backend.log_string(\"test\")\n",
    "    backend.log_figure(\"scatter\", None)\n",
    "    backend.log_data(\"test\", None)\n",
    "\n",
    "test_backend()\n",
    "\n",
    "def test_figure_backend():\n",
    "\n",
    "    figure_backend = logger.FigureBackend(path = tempfile.gettempdir())\n",
    "\n",
    "    fig, ax = plt.subplots(1, 1, figsize=(5, 5))\n",
    "    ax.scatter(np.random.rand(10), np.random.rand(10))\n",
    "\n",
    "    figure_backend.log_figure(\"scatter\", fig)\n",
    "    plt.close(fig)\n",
    "\n",
    "    assert os.path.exists(os.path.join(tempfile.gettempdir(), figure_backend.FIGURE_PATH, \"scatter.png\"))\n",
    "    os.remove(os.path.join(tempfile.gettempdir(), figure_backend.FIGURE_PATH, \"scatter.png\"))\n",
    "\n",
    "test_figure_backend()\n",
    "\n",
    "def test_jsonl_backend():\n",
    "    \n",
    "    with logger.JSONLBackend(path = tempfile.gettempdir()) as jsonl_backend:\n",
    "        jsonl_backend.log_event(\"start_extraction\", None)\n",
    "        jsonl_backend.log_metric(\"accuracy\", 0.9)\n",
    "        jsonl_backend.log_string(\"test\")\n",
    "\n",
    "    assert os.path.exists(os.path.join(tempfile.gettempdir(), \"events.jsonl\"))\n",
    "    with open(os.path.join(tempfile.gettempdir(), \"events.jsonl\"), \"r\") as f:\n",
    "        assert len(f.readlines()) == 5\n",
    "    os.remove(os.path.join(tempfile.gettempdir(), \"events.jsonl\"))\n",
    "\n",
    "test_jsonl_backend()"
   ]
  },
  {
   "cell_type": "code",
   "execution_count": null,
   "metadata": {},
   "outputs": [],
   "source": []
  }
 ],
 "metadata": {
  "kernelspec": {
   "display_name": "alpha",
   "language": "python",
   "name": "python3"
  },
  "language_info": {
   "codemirror_mode": {
    "name": "ipython",
    "version": 3
   },
   "file_extension": ".py",
   "mimetype": "text/x-python",
   "name": "python",
   "nbconvert_exporter": "python",
   "pygments_lexer": "ipython3",
   "version": "3.9.13"
  },
  "orig_nbformat": 4
 },
 "nbformat": 4,
 "nbformat_minor": 2
}
