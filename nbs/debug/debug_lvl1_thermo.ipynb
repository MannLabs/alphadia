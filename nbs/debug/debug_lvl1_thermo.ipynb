{
 "cells": [
  {
   "cell_type": "code",
   "execution_count": 1,
   "metadata": {},
   "outputs": [
    {
     "name": "stderr",
     "output_type": "stream",
     "text": [
      "/var/folders/lc/9594t94d5b5_gn0y04w1jh980000gn/T/ipykernel_64491/2606146819.py:8: NeptuneDeprecationWarning: You're importing the Neptune client library via the deprecated `neptune.new` module, which will be removed in a future release. Import directly from `neptune` instead.\n",
      "  import neptune.new as neptune\n",
      "WARNING:root:WARNING: Temp mmap arrays are written to /var/folders/lc/9594t94d5b5_gn0y04w1jh980000gn/T/temp_mmap_28vci2e9. Cleanup of this folder is OS dependant, and might need to be triggered manually! Current space: 605,839,400,960\n",
      "WARNING:root:WARNING: No Bruker libraries are available for this operating system. Mobility and m/z values need to be estimated. While this estimation often returns acceptable results with errors < 0.02 Th, huge errors (e.g. offsets of 6 Th) have already been observed for some samples!\n"
     ]
    }
   ],
   "source": [
    "%reload_ext autoreload\n",
    "%autoreload 2\n",
    "\n",
    "import numpy as np\n",
    "import pandas as pd\n",
    "import matplotlib.pyplot as plt\n",
    "import seaborn as sns\n",
    "import neptune.new as neptune\n",
    "import alphatims.bruker as bruker\n",
    "\n",
    "from alphabase.spectral_library.base import SpecLibBase\n",
    "from alphadia.extraction import data, planning, workflow\n",
    "from alphadia.extraction.workflow import manager, peptidecentric\n",
    "\n",
    "\n",
    "\n",
    "raw_files = [\n",
    "    '/Users/georgwallmann/Documents/data/alphadia_astral/raw_data/2023_08_22_astral_MS1/20230821_OA1_SoSt_SA_Whisper40_ADIAMA_HeLa_5ng_8Th14ms_Astral-MS1_AIF_01.raw',\n",
    "    '/Users/georgwallmann/Documents/data/alphadia_astral/raw_data/2023_08_22_astral_MS1/20230821_OA1_SoSt_SA_Whisper40_ADIAMA_HeLa_5ng_8Th14ms_Astral-MS1_AIF_02.raw',\n",
    "    '/Users/georgwallmann/Documents/data/alphadia_astral/raw_data/2023_08_22_astral_MS1/20230821_OA1_SoSt_SA_Whisper40_ADIAMA_HeLa_5ng_8Th14ms_Astral-MS1_AIF_03.raw',\n",
    "    '/Users/georgwallmann/Documents/data/alphadia_astral/raw_data/2023_08_22_astral_MS1/20230821_OA1_SoSt_SA_Whisper40_ADIAMA_HeLa_5ng_8Th14ms_Astral-MS1_AIF_04.raw',\n",
    "    '/Users/georgwallmann/Documents/data/alphadia_astral/raw_data/2023_08_22_astral_MS1/20230821_OA1_SoSt_SA_Whisper40_ADIAMA_HeLa_5ng_8Th14ms_Astral-MS1_AIF_05.raw',\n",
    "    '/Users/georgwallmann/Documents/data/alphadia_astral/raw_data/2023_08_22_astral_MS1/20230821_OA1_SoSt_SA_Whisper40_ADIAMA_HeLa_5ng_8Th14ms_Astral-MS1_AIF-3u_01.raw',\n",
    "    '/Users/georgwallmann/Documents/data/alphadia_astral/raw_data/2023_08_22_astral_MS1/20230821_OA1_SoSt_SA_Whisper40_ADIAMA_HeLa_5ng_8Th14ms_Astral-MS1_AIF-3u_02.raw',\n",
    "    '/Users/georgwallmann/Documents/data/alphadia_astral/raw_data/2023_08_22_astral_MS1/20230821_OA1_SoSt_SA_Whisper40_ADIAMA_HeLa_5ng_8Th14ms_Astral-MS1_AIF-3u_03.raw',\n",
    "    '/Users/georgwallmann/Documents/data/alphadia_astral/raw_data/2023_08_22_astral_MS1/20230821_OA1_SoSt_SA_Whisper40_ADIAMA_HeLa_5ng_8Th14ms_Astral-MS1_AIF-3u_04.raw',\n",
    "    '/Users/georgwallmann/Documents/data/alphadia_astral/raw_data/2023_08_22_astral_MS1/20230821_OA1_SoSt_SA_Whisper40_ADIAMA_HeLa_5ng_8Th14ms_Astral-MS1_AIF-3u_05.raw',\n",
    "    '/Users/georgwallmann/Documents/data/alphadia_astral/raw_data/2023_08_22_astral_MS1/20230821_OA1_SoSt_SA_Whisper40_ADIAMA_HeLa_5ng_8Th14ms_Astral-MS1_DIA_01.raw',\n",
    "    '/Users/georgwallmann/Documents/data/alphadia_astral/raw_data/2023_08_22_astral_MS1/20230821_OA1_SoSt_SA_Whisper40_ADIAMA_HeLa_5ng_8Th14ms_Astral-MS1_DIA_02.raw',\n",
    "    '/Users/georgwallmann/Documents/data/alphadia_astral/raw_data/2023_08_22_astral_MS1/20230821_OA1_SoSt_SA_Whisper40_ADIAMA_HeLa_5ng_8Th14ms_Astral-MS1_DIA_03.raw',\n",
    "    '/Users/georgwallmann/Documents/data/alphadia_astral/raw_data/2023_08_22_astral_MS1/20230821_OA1_SoSt_SA_Whisper40_ADIAMA_HeLa_5ng_8Th14ms_Astral-MS1_DIA_04.raw',\n",
    "    '/Users/georgwallmann/Documents/data/alphadia_astral/raw_data/2023_08_22_astral_MS1/20230821_OA1_SoSt_SA_Whisper40_ADIAMA_HeLa_5ng_8Th14ms_Astral-MS1_DIA_05.raw',\n",
    "]\n",
    "output_location = '/Users/georgwallmann/Documents/data/alphadia_astral/outputs/2023_08_25_astral_dev_5ng_hela/astral_ms1'"
   ]
  },
  {
   "cell_type": "code",
   "execution_count": 2,
   "metadata": {},
   "outputs": [],
   "source": [
    "speclib = '/Users/georgwallmann/Documents/data/alphadia_astral/libraries/48_fraction_hela_PaSk_orbitrap_ms2.hdf'\n",
    "test_lib = SpecLibBase()\n",
    "test_lib.load_hdf(speclib, load_mod_seq=True)"
   ]
  },
  {
   "cell_type": "code",
   "execution_count": 3,
   "metadata": {},
   "outputs": [
    {
     "name": "stderr",
     "output_type": "stream",
     "text": [
      "0:00:00.001069 \u001b[32;20m PROGRESS:       _   _      _         ___ ___   _   \u001b[0m\n",
      "0:00:00.002189 \u001b[32;20m PROGRESS:      /_\\ | |_ __| |_  __ _|   \\_ _| /_\\  \u001b[0m\n",
      "0:00:00.002571 \u001b[32;20m PROGRESS:     / _ \\| | '_ \\ ' \\/ _` | |) | | / _ \\ \u001b[0m\n",
      "0:00:00.002955 \u001b[32;20m PROGRESS:    /_/ \\_\\_| .__/_||_\\__,_|___/___/_/ \\_\\\u001b[0m\n",
      "0:00:00.003368 \u001b[32;20m PROGRESS:            |_|                            \u001b[0m\n",
      "0:00:00.003875 \u001b[32;20m PROGRESS: \u001b[0m\n",
      "0:00:00.004284 \u001b[38;20m INFO: loading default config from /Users/georgwallmann/Documents/git/alphadia/alphadia/extraction/../../misc/config/default.yaml\u001b[0m\n",
      "0:00:00.012185 \u001b[32;20m PROGRESS: version: 1.3.1\u001b[0m\n",
      "0:00:00.012650 \u001b[32;20m PROGRESS: hostname: Georgs-MacBook-Pro.local\u001b[0m\n",
      "0:00:00.013027 \u001b[32;20m PROGRESS: date: 2023-09-19 19:39:49\u001b[0m\n",
      "0:00:06.267484 \u001b[38;20m INFO: renaming precursor_columns columns\u001b[0m\n",
      "0:00:06.268732 \u001b[38;20m INFO: renaming fragment_columns columns\u001b[0m\n",
      "0:00:06.269443 \u001b[38;20m INFO: ========= Library Stats =========\u001b[0m\n",
      "0:00:06.269772 \u001b[38;20m INFO: Number of precursors: 465,279\u001b[0m\n",
      "0:00:06.327800 \u001b[38;20m INFO: \tthereof targets:235,310\u001b[0m\n",
      "0:00:06.328427 \u001b[38;20m INFO: \tthereof decoys: 229,969\u001b[0m\n",
      "0:00:06.332142 \u001b[38;20m INFO: Number of elution groups: 235,310\u001b[0m\n",
      "0:00:06.332517 \u001b[38;20m INFO: \taverage size: 1.98\u001b[0m\n",
      "0:00:06.348972 \u001b[38;20m INFO: Number of proteins: 9,904\u001b[0m\n",
      "0:00:06.351690 \u001b[38;20m INFO: Number of channels: 1 ([0])\u001b[0m\n",
      "0:00:06.352418 \u001b[38;20m INFO: Isotopes Distribution for 6 isotopes\u001b[0m\n",
      "0:00:06.353842 \u001b[38;20m INFO: =================================\u001b[0m\n",
      "0:00:06.357327 \u001b[33;20m WARNING: no precursor_idx column found, creating one\u001b[0m\n"
     ]
    }
   ],
   "source": [
    "plan = planning.Plan(output_location, raw_files, test_lib)\n",
    "\n",
    "plan.config['general']['reuse_calibration'] = True\n",
    "plan.config['general']['save_figueres'] = True\n",
    "plan.config['general']['thread_count'] = 10\n",
    "plan.config['general']['astral_ms1'] = True\n",
    "plan.config['library_loading']['channel_filter'] = '0'\n",
    "plan.config['library_loading']['exclude_shared_ions'] = False\n",
    "plan.config['calibration']['norm_rt_mode'] = 'linear'\n",
    "\n",
    "plan.config['extraction_target']['target_num_candidates'] = 3\n",
    "plan.config['extraction_target']['target_ms1_tolerance'] = 3\n",
    "plan.config['extraction_target']['target_ms2_tolerance'] = 3\n",
    "plan.config['extraction_target']['target_rt_tolerance'] = 150"
   ]
  },
  {
   "cell_type": "code",
   "execution_count": 4,
   "metadata": {},
   "outputs": [],
   "source": [
    "for raw_name, dia_path, speclib in plan.get_run_data():\n",
    "    pass"
   ]
  },
  {
   "cell_type": "code",
   "execution_count": 5,
   "metadata": {},
   "outputs": [
    {
     "name": "stderr",
     "output_type": "stream",
     "text": [
      "/Users/georgwallmann/Documents/git/alphadia/alphadia/extraction/workflow/base.py:58: NeptuneWarning: To avoid unintended consumption of logging hours during interactive sessions, the following monitoring options are disabled unless set to 'True' when initializing the run: 'capture_stdout', 'capture_stderr', and 'capture_hardware_metrics'.\n",
      "  self.neptune = neptune.init_run(\n"
     ]
    },
    {
     "name": "stdout",
     "output_type": "stream",
     "text": [
      "https://app.neptune.ai/MannLabs/alphaDIA/e/AL-335\n"
     ]
    },
    {
     "name": "stderr",
     "output_type": "stream",
     "text": [
      "11it [00:15,  1.42s/it]\n",
      "0:00:26.702529 \u001b[38;20m INFO: ========= Initializing Calibration Manager =========\u001b[0m\n",
      "0:00:26.704449 \u001b[38;20m INFO: Loaded CalibrationManager from /Users/georgwallmann/Documents/data/alphadia_astral/outputs/2023_08_25_astral_dev_5ng_hela/astral_ms1/.progress/20230821_OA1_SoSt_SA_Whisper40_ADIAMA_HeLa_5ng_8Th14ms_Astral-MS1_DIA_05/calibration_manager.pkl\u001b[0m\n",
      "0:00:26.704718 \u001b[38;20m INFO: ====================================================\u001b[0m\n",
      "0:00:26.704963 \u001b[38;20m INFO: ========= Initializing Optimization Manager =========\u001b[0m\n",
      "0:00:26.705792 \u001b[38;20m INFO: Loaded OptimizationManager from /Users/georgwallmann/Documents/data/alphadia_astral/outputs/2023_08_25_astral_dev_5ng_hela/astral_ms1/.progress/20230821_OA1_SoSt_SA_Whisper40_ADIAMA_HeLa_5ng_8Th14ms_Astral-MS1_DIA_05/optimization_manager.pkl\u001b[0m\n",
      "0:00:26.706217 \u001b[38;20m INFO: ====================================================\u001b[0m\n",
      "0:00:26.706525 \u001b[32;20m PROGRESS: Initializing workflow 20230821_OA1_SoSt_SA_Whisper40_ADIAMA_HeLa_5ng_8Th14ms_Astral-MS1_DIA_05\u001b[0m\n",
      "0:00:26.706989 \u001b[38;20m INFO: ========= Initializing Optimization Manager =========\u001b[0m\n",
      "0:00:26.707472 \u001b[38;20m INFO: initial parameter: current_epoch = 0\u001b[0m\n",
      "0:00:26.707920 \u001b[38;20m INFO: initial parameter: current_step = 0\u001b[0m\n",
      "0:00:26.708556 \u001b[38;20m INFO: initial parameter: ms1_error = 30\u001b[0m\n",
      "0:00:26.709084 \u001b[38;20m INFO: initial parameter: ms2_error = 30\u001b[0m\n",
      "0:00:26.709521 \u001b[38;20m INFO: initial parameter: rt_error = 240\u001b[0m\n",
      "0:00:26.709948 \u001b[38;20m INFO: initial parameter: mobility_error = 0.08\u001b[0m\n",
      "0:00:26.710380 \u001b[38;20m INFO: initial parameter: column_type = library\u001b[0m\n",
      "0:00:26.710792 \u001b[38;20m INFO: initial parameter: num_candidates = 2\u001b[0m\n",
      "0:00:26.711193 \u001b[38;20m INFO: initial parameter: recalibration_target = 200\u001b[0m\n",
      "0:00:26.711678 \u001b[38;20m INFO: initial parameter: accumulated_precursors = 0\u001b[0m\n",
      "0:00:26.712185 \u001b[38;20m INFO: initial parameter: accumulated_precursors_01FDR = 0\u001b[0m\n",
      "0:00:26.712580 \u001b[38;20m INFO: initial parameter: accumulated_precursors_001FDR = 0\u001b[0m\n",
      "0:00:26.713031 \u001b[38;20m INFO: ====================================================\u001b[0m\n",
      "0:00:26.713401 \u001b[38;20m INFO: ========= Initializing FDR Manager =========\u001b[0m\n",
      "0:00:26.713786 \u001b[38;20m INFO: ====================================================\u001b[0m\n",
      "0:00:26.714059 \u001b[32;20m PROGRESS: Applying channel filter using only: [0]\u001b[0m\n"
     ]
    }
   ],
   "source": [
    "workflow = peptidecentric.PeptideCentricWorkflow(\n",
    "    raw_name,\n",
    "    plan.config,\n",
    "    dia_path,\n",
    "    speclib\n",
    ")"
   ]
  },
  {
   "cell_type": "code",
   "execution_count": 6,
   "metadata": {},
   "outputs": [],
   "source": [
    "test_df = workflow.spectral_library.precursor_df.head(100)"
   ]
  },
  {
   "cell_type": "code",
   "execution_count": 7,
   "metadata": {},
   "outputs": [
    {
     "name": "stderr",
     "output_type": "stream",
     "text": [
      "0:00:52.706322 \u001b[38;20m INFO: Duty cycle consists of 78 frames, 1.41 seconds cycle time\u001b[0m\n",
      "0:00:52.706915 \u001b[38;20m INFO: Duty cycle consists of 1 scans, 0.00000 1/K_0 resolution\u001b[0m\n",
      "0:00:52.707258 \u001b[38;20m INFO: FWHM in RT is 3.23 seconds, sigma is 0.49\u001b[0m\n",
      "0:00:52.707528 \u001b[38;20m INFO: FWHM in mobility is 0.000 1/K_0, sigma is 1.00\u001b[0m\n",
      "0:00:53.602913 \u001b[38;20m INFO: Starting candidate selection\u001b[0m\n",
      "100%|██████████| 100/100 [00:28<00:00,  3.53it/s]\n",
      "0:01:23.558864 \u001b[38;20m INFO: Finished candidate selection\u001b[0m\n"
     ]
    }
   ],
   "source": [
    "from alphadia.extraction import hybridselection\n",
    "\n",
    "config = hybridselection.HybridCandidateConfig()\n",
    "config.update(workflow.config['selection_config'])\n",
    "config.update({\n",
    "    'rt_tolerance':workflow.com.rt_error,\n",
    "    'mobility_tolerance': workflow.com.mobility_error,\n",
    "    'candidate_count': workflow.com.num_candidates,\n",
    "    'precursor_mz_tolerance': workflow.com.ms1_error,\n",
    "    'fragment_mz_tolerance': workflow.com.ms2_error,\n",
    "    'exclude_shared_ions': workflow.config['library_loading']['exclude_shared_ions']\n",
    "})\n",
    "\n",
    "extraction = hybridselection.HybridCandidateSelection(\n",
    "    workflow.dia_data.jitclass(),\n",
    "    test_df,\n",
    "    workflow.spectral_library.fragment_df,\n",
    "    config.jitclass(),\n",
    "    rt_column = f'rt_{workflow.com.column_type}',\n",
    "    mobility_column = f'mobility_{workflow.com.column_type}',\n",
    "    precursor_mz_column = f'mz_{workflow.com.column_type}',\n",
    "    fragment_mz_column = f'mz_{workflow.com.column_type}',\n",
    "    fwhm_rt = workflow.optimization_manager.fwhm_rt,\n",
    "    fwhm_mobility = workflow.optimization_manager.fwhm_mobility\n",
    ")\n",
    "candidates_df = extraction(\n",
    "    thread_count=workflow.config['general']['thread_count']\n",
    ")"
   ]
  },
  {
   "cell_type": "code",
   "execution_count": 8,
   "metadata": {},
   "outputs": [
    {
     "name": "stderr",
     "output_type": "stream",
     "text": [
      "0:01:24.418267 \u001b[38;20m INFO: Starting candidate scoring\u001b[0m\n",
      "  0%|          | 0/195 [00:00<?, ?it/s]/Users/georgwallmann/Documents/git/alphatims/alphatims/utils.py:583: NumbaTypeSafetyWarning: \u001b[1m\u001b[1m\u001b[1m\u001b[1m\u001b[1m\u001b[1m\u001b[1munsafe cast from float64 to float32. Precision may be lost.\u001b[0m\u001b[0m\u001b[0m\u001b[0m\u001b[0m\u001b[0m\u001b[0m\n",
      "  numba_func(i, *args)\n",
      "/Users/georgwallmann/Documents/git/alphatims/alphatims/utils.py:583: NumbaTypeSafetyWarning: \u001b[1m\u001b[1m\u001b[1m\u001b[1m\u001b[1m\u001b[1m\u001b[1munsafe cast from int64 to float32. Precision may be lost.\u001b[0m\u001b[0m\u001b[0m\u001b[0m\u001b[0m\u001b[0m\u001b[0m\n",
      "  numba_func(i, *args)\n",
      "100%|██████████| 195/195 [00:56<00:00,  3.46it/s]\n",
      "0:02:23.329944 \u001b[38;20m INFO: Finished candidate scoring\u001b[0m\n"
     ]
    }
   ],
   "source": [
    "from alphadia.extraction import plexscoring\n",
    "\n",
    "config = plexscoring.CandidateConfig()\n",
    "config.update(workflow.config['scoring_config'])\n",
    "config.update({\n",
    "    'precursor_mz_tolerance': workflow.com.ms1_error,\n",
    "    'fragment_mz_tolerance': workflow.com.ms2_error,\n",
    "    'exclude_shared_ions': workflow.config['library_loading']['exclude_shared_ions']\n",
    "})\n",
    "\n",
    "candidate_scoring = plexscoring.CandidateScoring(\n",
    "    workflow.dia_data.jitclass(),\n",
    "    workflow.spectral_library._precursor_df,\n",
    "    workflow.spectral_library._fragment_df,\n",
    "    config = config,\n",
    "    rt_column = f'rt_{workflow.com.column_type}',\n",
    "    mobility_column = f'mobility_{workflow.com.column_type}',\n",
    "    precursor_mz_column = f'mz_{workflow.com.column_type}',\n",
    "    fragment_mz_column = f'mz_{workflow.com.column_type}',\n",
    ")\n",
    "\n",
    "features_df, fragments_df = candidate_scoring(\n",
    "    candidates_df, \n",
    "    thread_count=workflow.config['general']['thread_count'],\n",
    ")"
   ]
  }
 ],
 "metadata": {
  "kernelspec": {
   "display_name": "alpha",
   "language": "python",
   "name": "python3"
  },
  "language_info": {
   "codemirror_mode": {
    "name": "ipython",
    "version": 3
   },
   "file_extension": ".py",
   "mimetype": "text/x-python",
   "name": "python",
   "nbconvert_exporter": "python",
   "pygments_lexer": "ipython3",
   "version": "3.9.13"
  },
  "orig_nbformat": 4
 },
 "nbformat": 4,
 "nbformat_minor": 2
}
