{
 "cells": [
  {
   "cell_type": "markdown",
   "metadata": {},
   "source": [
    "## Main Notebook Aim"
   ]
  },
  {
   "cell_type": "markdown",
   "metadata": {},
   "source": [
    "The aim of this notebook is to delineate differences in protein inference between AlphaDIA, Spectronaut and DIANN. Heuristic and Strict Parsimony grouping of either of these engines shall be evaluated on a HeLa QC dataset (Orbitrap Astral). Aims are the following:\n",
    "\n",
    "- Explain apparent differences in protein inference between AlphaDIA - DIANN: Strict Parsimony\n",
    "- Explain apparent differences in protein inference between AlphaDIA - Spectronaut: Strict Parsimony\n",
    "- Explain apparent differences in protein inference between AlphaDIA - DIANN: Highly Heuristic\n",
    "- Explain apparent differences in protein inference between AlphaDIA - Spectronaut: Highly Heuristic\n",
    "\n",
    "Special focus lies on edge cases (subsumable, circular, non-deterministic) grouping situations.\n",
    "\n",
    "Algorithmically, this is a challenging task since the different search engines operate with different, closed source codebases. Instead, opt for a post-hoc approach:\n",
    "\n",
    "1. From each search engine, obtain a peptide and protein-group level output file for the same rawfiles processed with the same fasta/spectral library\n",
    "2. Parse outputs such that each precursor is associated with its genes, with fanned out rows for peptides associating with more than one gene\n",
    "3. Iterate over each gene in each result table and select those with exactly identical precursor sets. Mark these genes as \"shared\", with the definition: \"A shared gene is a gene whose associated precursors are the same from each search engine\"\n",
    "4. Then, select groups that consist only of shared genes. While the gene-precursor association is clearly determined by the fasta, the manner in which genes are combined into groups may differ between search engines. Using these cases, we can examine how different search engines handle grouping starting from exactly the same precursors."
   ]
  },
  {
   "cell_type": "code",
   "execution_count": null,
   "metadata": {},
   "outputs": [],
   "source": [
    "# Inspect QC file and generate an overview of the data "
   ]
  },
  {
   "cell_type": "code",
   "execution_count": null,
   "metadata": {},
   "outputs": [],
   "source": [
    "# Load AlphaDIA results for both grouping methods"
   ]
  },
  {
   "cell_type": "code",
   "execution_count": null,
   "metadata": {},
   "outputs": [],
   "source": [
    "# Load Spectronaut results for both grouping methods"
   ]
  },
  {
   "cell_type": "code",
   "execution_count": null,
   "metadata": {},
   "outputs": [],
   "source": [
    "# Load DIA-NN results for both grouping methods"
   ]
  },
  {
   "cell_type": "code",
   "execution_count": null,
   "metadata": {},
   "outputs": [],
   "source": [
    "# Visualize differences between the datasets for each method"
   ]
  },
  {
   "cell_type": "markdown",
   "metadata": {},
   "source": [
    "## Closer investigation of divergent grouping results"
   ]
  },
  {
   "cell_type": "code",
   "execution_count": null,
   "metadata": {},
   "outputs": [],
   "source": []
  }
 ],
 "metadata": {
  "language_info": {
   "name": "python"
  },
  "orig_nbformat": 4
 },
 "nbformat": 4,
 "nbformat_minor": 2
}
