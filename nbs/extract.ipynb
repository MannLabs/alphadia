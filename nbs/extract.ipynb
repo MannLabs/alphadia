{
 "cells": [
  {
   "cell_type": "code",
   "execution_count": null,
   "metadata": {},
   "outputs": [],
   "source": [
    "%reload_ext autoreload\n",
    "%autoreload 2\n",
    "\n",
    "import os, psutil\n",
    "os.environ['NUMEXPR_MAX_THREADS'] = '20'\n",
    "import logging\n",
    "from alphadia.extraction import processlogger\n",
    "\n",
    "from alphabase.spectral_library.base import SpecLibBase\n",
    "from alphadia.extraction.planning import Plan\n",
    "\n",
    "try:\n",
    "    neptune_token = os.environ['NEPTUNE_TOKEN']\n",
    "except KeyError:\n",
    "    logging.warning('NEPTUNE_TOKEN environtment variable not set')\n",
    "    neptune_token = None"
   ]
  },
  {
   "cell_type": "code",
   "execution_count": null,
   "metadata": {},
   "outputs": [],
   "source": [
    "\n",
    "# spectral library location\n",
    "# requires an alphabase spectral library with decoys\n",
    "lib_location = '/Users/georgwallmann/Documents/data/alphadia_benchmarking/libraries/library_MSFragger.hdf'\n",
    "\n",
    "# output location\n",
    "# a file called alpha psm will be written to this location\n",
    "output_location = '/Users/georgwallmann/Documents/data/alphadia_benchmarking/alphadia_runs/2023_02_12_diaPASEF_vs_synchroPASEF'\n",
    "\n",
    "raw_files = ['/Users/georgwallmann/Documents/data/alphadia_benchmarking/raw_data/diaPASEF_vs_synchroPASEF/20221221_TIMS05_PaSk_SA_HeLa_Evo05_200ng_21min_IM0713_diaPASEF_S4-A1_1_500.d']\n",
    "\n",
    "processlogger.init_logging(output_location)"
   ]
  },
  {
   "cell_type": "code",
   "execution_count": null,
   "metadata": {},
   "outputs": [],
   "source": [
    "test_lib = SpecLibBase()\n",
    "test_lib.load_hdf(lib_location, load_mod_seq=True)\n",
    "test_lib._precursor_df['elution_group_idx'] = test_lib._precursor_df['precursor_idx']"
   ]
  },
  {
   "cell_type": "code",
   "execution_count": null,
   "metadata": {},
   "outputs": [],
   "source": [
    "plan = Plan(raw_files)\n",
    "plan.from_spec_lib_base(test_lib)\n",
    "plan.run(output_location, neptune_token=neptune_token)"
   ]
  }
 ],
 "metadata": {
  "kernelspec": {
   "display_name": "alpha",
   "language": "python",
   "name": "python3"
  },
  "language_info": {
   "codemirror_mode": {
    "name": "ipython",
    "version": 3
   },
   "file_extension": ".py",
   "mimetype": "text/x-python",
   "name": "python",
   "nbconvert_exporter": "python",
   "pygments_lexer": "ipython3",
   "version": "3.9.13"
  },
  "orig_nbformat": 4,
  "vscode": {
   "interpreter": {
    "hash": "bfa83213b3107409f6f749b3f3e6e3a0c51921f6998a582a53d8fef6c3fba7c5"
   }
  }
 },
 "nbformat": 4,
 "nbformat_minor": 2
}
