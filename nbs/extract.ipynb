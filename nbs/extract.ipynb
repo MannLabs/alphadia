{
 "cells": [
  {
   "cell_type": "code",
   "execution_count": 7,
   "metadata": {},
   "outputs": [
    {
     "name": "stderr",
     "output_type": "stream",
     "text": [
      "2 days, 5:32:05.914057 \u001b[33;20m WARNING: NEPTUNE_TOKEN environtment variable not set\u001b[0m\n"
     ]
    }
   ],
   "source": [
    "%reload_ext autoreload\n",
    "%autoreload 2\n",
    "\n",
    "import os, psutil\n",
    "os.environ['NUMEXPR_MAX_THREADS'] = '20'\n",
    "import logging\n",
    "from alphadia.extraction import processlogger\n",
    "\n",
    "\n",
    "import neptune.new as neptune\n",
    "\n",
    "from alphabase.spectral_library.base import SpecLibBase\n",
    "from alphadia.extraction.planning import Plan\n",
    "\n",
    "try:\n",
    "    neptune_token = os.environ['NEPTUNE_TOKEN']\n",
    "except KeyError:\n",
    "    logging.warning('NEPTUNE_TOKEN environtment variable not set')\n",
    "    neptune_token = None\n"
   ]
  },
  {
   "cell_type": "code",
   "execution_count": 8,
   "metadata": {},
   "outputs": [],
   "source": [
    "\n",
    "# spectral library location\n",
    "# requires an alphabase spectral library with decoys\n",
    "lib_location = '/Users/georgwallmann/Documents/data/alphadia_benchmarking/libraries/library_MSFragger.hdf'\n",
    "\n",
    "# output location\n",
    "# a file called alpha psm will be written to this location\n",
    "output_location = '/Users/georgwallmann/Documents/data/alphadia_benchmarking/alphadia_runs/2023_02_12_diaPASEF_vs_synchroPASEF'\n",
    "\n",
    "raw_files = ['/Users/georgwallmann/Documents/data/alphadia_benchmarking/raw_data/diaPASEF_vs_synchroPASEF/20221221_TIMS05_PaSk_SA_HeLa_Evo05_200ng_21min_IM0713_diaPASEF_S4-A1_1_500.d']\n",
    "\n",
    "processlogger.init_logging(output_location)"
   ]
  },
  {
   "cell_type": "code",
   "execution_count": 9,
   "metadata": {},
   "outputs": [],
   "source": [
    "test_lib = SpecLibBase()\n",
    "test_lib.load_hdf(lib_location, load_mod_seq=True)\n",
    "\n"
   ]
  },
  {
   "cell_type": "code",
   "execution_count": 13,
   "metadata": {},
   "outputs": [
    {
     "name": "stderr",
     "output_type": "stream",
     "text": [
      "1:18:00.950383 \u001b[32;20m PROGRESS:       _   _      _         ___ ___   _   \u001b[0m\n",
      "1:18:00.951001 \u001b[32;20m PROGRESS:      /_\\ | |_ __| |_  __ _|   \\_ _| /_\\  \u001b[0m\n",
      "1:18:00.951300 \u001b[32;20m PROGRESS:     / _ \\| | '_ \\ ' \\/ _` | |) | | / _ \\ \u001b[0m\n",
      "1:18:00.951505 \u001b[32;20m PROGRESS:    /_/ \\_\\_| .__/_||_\\__,_|___/___/_/ \\_\\\u001b[0m\n",
      "1:18:00.951730 \u001b[32;20m PROGRESS:            |_|                            \u001b[0m\n",
      "1:18:00.952101 \u001b[32;20m PROGRESS: \u001b[0m\n",
      "1:18:00.952477 \u001b[38;20m INFO: loading default config from /Users/georgwallmann/Documents/git/alphadia/alphadia/extraction/../../misc/config/default.yaml\u001b[0m\n",
      "1:18:00.957470 \u001b[32;20m PROGRESS: version: alpha_1.0\u001b[0m\n",
      "1:18:00.957971 \u001b[32;20m PROGRESS: hostname: Georgs-MacBook-Pro.local\u001b[0m\n",
      "1:18:00.958401 \u001b[32;20m PROGRESS: date: 2023-02-23 18:40:24\u001b[0m\n",
      "1:18:02.126054 \u001b[38;20m INFO: renaming precursor_columns columns\u001b[0m\n",
      "1:18:02.127053 \u001b[38;20m INFO: renaming fragment_columns columns\u001b[0m\n",
      "1:18:02.127578 \u001b[38;20m INFO: ========= Library Stats =========\u001b[0m\n",
      "1:18:02.127844 \u001b[38;20m INFO: Number of precursors: 104,110\u001b[0m\n",
      "1:18:02.141464 \u001b[38;20m INFO: \tthereof targets:52,792\u001b[0m\n",
      "1:18:02.141951 \u001b[38;20m INFO: \tthereof decoys: 51,318\u001b[0m\n",
      "1:18:02.144182 \u001b[38;20m INFO: Number of elution groups: 52,792\u001b[0m\n",
      "1:18:02.144583 \u001b[38;20m INFO: \taverage size: 1.97\u001b[0m\n",
      "1:18:02.149314 \u001b[38;20m INFO: Number of proteins: 5,416\u001b[0m\n",
      "1:18:02.149999 \u001b[33;20m WARNING: No isotope_apex_offset column was found\u001b[0m\n",
      "1:18:02.150302 \u001b[38;20m INFO: Isotopes Distribution for 6 isotopes\u001b[0m\n",
      "1:18:02.150566 \u001b[38;20m INFO: =================================\u001b[0m\n",
      "1:18:02.251729 \u001b[38;20m INFO: rt_type automatically determined as norm\u001b[0m\n",
      "1:18:02.252195 \u001b[38;20m INFO: Importing data from /Users/georgwallmann/Documents/data/alphadia_benchmarking/raw_data/diaPASEF_vs_synchroPASEF/20221221_TIMS05_PaSk_SA_HeLa_Evo05_200ng_21min_IM0713_diaPASEF_S4-A1_1_500.d\u001b[0m\n",
      "1:18:02.252625 \u001b[38;20m INFO: Using .d import for /Users/georgwallmann/Documents/data/alphadia_benchmarking/raw_data/diaPASEF_vs_synchroPASEF/20221221_TIMS05_PaSk_SA_HeLa_Evo05_200ng_21min_IM0713_diaPASEF_S4-A1_1_500.d\u001b[0m\n",
      "1:18:02.252798 \u001b[38;20m INFO: Reading frame metadata for /Users/georgwallmann/Documents/data/alphadia_benchmarking/raw_data/diaPASEF_vs_synchroPASEF/20221221_TIMS05_PaSk_SA_HeLa_Evo05_200ng_21min_IM0713_diaPASEF_S4-A1_1_500.d\u001b[0m\n",
      "1:18:02.349303 \u001b[38;20m INFO: Reading 11,812 frames with 1,449,841,416 detector events for /Users/georgwallmann/Documents/data/alphadia_benchmarking/raw_data/diaPASEF_vs_synchroPASEF/20221221_TIMS05_PaSk_SA_HeLa_Evo05_200ng_21min_IM0713_diaPASEF_S4-A1_1_500.d\u001b[0m\n",
      "100%|██████████| 11812/11812 [00:04<00:00, 2581.03it/s]\n",
      "1:18:06.974379 \u001b[38;20m INFO: Indexing /Users/georgwallmann/Documents/data/alphadia_benchmarking/raw_data/diaPASEF_vs_synchroPASEF/20221221_TIMS05_PaSk_SA_HeLa_Evo05_200ng_21min_IM0713_diaPASEF_S4-A1_1_500.d...\u001b[0m\n",
      "1:18:06.976104 \u001b[38;20m INFO: Bruker DLL not available, estimating mobility values\u001b[0m\n",
      "1:18:06.976455 \u001b[38;20m INFO: Bruker DLL not available, estimating mz values\u001b[0m\n",
      "1:18:06.978026 \u001b[38;20m INFO: Indexing quadrupole dimension\u001b[0m\n",
      "1:18:07.568086 \u001b[38;20m INFO: Successfully imported data from /Users/georgwallmann/Documents/data/alphadia_benchmarking/raw_data/diaPASEF_vs_synchroPASEF/20221221_TIMS05_PaSk_SA_HeLa_Evo05_200ng_21min_IM0713_diaPASEF_S4-A1_1_500.d\u001b[0m\n"
     ]
    }
   ],
   "source": [
    "plan = Plan(raw_files)\n",
    "plan.from_spec_lib_base(test_lib)\n",
    "\n",
    "for dia_data, precursors_flat, fragments_flat in plan.get_run_data():\n",
    "    pass"
   ]
  },
  {
   "cell_type": "code",
   "execution_count": 30,
   "metadata": {},
   "outputs": [
    {
     "name": "stderr",
     "output_type": "stream",
     "text": [
      "[autoreload of alphadia.extraction.candidateselection failed: Traceback (most recent call last):\n",
      "  File \"/Users/georgwallmann/miniconda3/envs/alpha/lib/python3.9/site-packages/IPython/extensions/autoreload.py\", line 257, in check\n",
      "    superreload(m, reload, self.old_objects)\n",
      "  File \"/Users/georgwallmann/miniconda3/envs/alpha/lib/python3.9/site-packages/IPython/extensions/autoreload.py\", line 480, in superreload\n",
      "    update_generic(old_obj, new_obj)\n",
      "  File \"/Users/georgwallmann/miniconda3/envs/alpha/lib/python3.9/site-packages/IPython/extensions/autoreload.py\", line 377, in update_generic\n",
      "    update(a, b)\n",
      "  File \"/Users/georgwallmann/miniconda3/envs/alpha/lib/python3.9/site-packages/IPython/extensions/autoreload.py\", line 289, in update_function\n",
      "    setattr(old, name, getattr(new, name))\n",
      "ValueError: _executor() requires a code object with 0 free vars, not 5\n",
      "]\n",
      "1:37:47.439737 \u001b[38;20m INFO: Duty cycle consists of 13 frames, 1.39 seconds cycle time\u001b[0m\n",
      "1:37:47.440333 \u001b[38;20m INFO: Duty cycle consists of 928 scans, 0.00065 1/K_0 resolution\u001b[0m\n",
      "1:37:47.440648 \u001b[38;20m INFO: Expected peak length in RT is 8.00 seconds, sigma is 0.96\u001b[0m\n",
      "1:37:47.441212 \u001b[38;20m INFO: Expected peak length in mobility is 0.02 1/K_0, sigma is 5.16\u001b[0m\n",
      "100%|██████████| 1158/1158 [00:07<00:00, 150.24it/s]\n",
      "1:37:56.606520 \u001b[38;20m INFO: Extracted candidates for 1149 target precursors (100.00%)\u001b[0m\n",
      "1:37:56.606974 \u001b[38;20m INFO: Extracted candidates for 851 decoy precursors  (100.00%)\u001b[0m\n"
     ]
    }
   ],
   "source": [
    "from alphadia.extraction import candidateselection\n",
    "\n",
    "selection = candidateselection.MS1CentricCandidateSelection(\n",
    "    dia_data,\n",
    "    precursors_flat[:2000],\n",
    "    rt_tolerance=60,\n",
    "    mz_tolerance=15,\n",
    "    mobility_tolerance=0.02,\n",
    "    candidate_count=10,\n",
    "    thread_count=1,\n",
    "    debug=False\n",
    ")\n",
    "\n",
    "candidates = selection()"
   ]
  },
  {
   "cell_type": "code",
   "execution_count": 20,
   "metadata": {},
   "outputs": [
    {
     "data": {
      "text/plain": [
       "<numba.experimental.jitclass.boxing.ElutionGroupContainer at 0x28820b850>"
      ]
     },
     "execution_count": 20,
     "metadata": {},
     "output_type": "execute_result"
    }
   ],
   "source": [
    "selection.assemble_elution_groups()"
   ]
  },
  {
   "cell_type": "code",
   "execution_count": 23,
   "metadata": {},
   "outputs": [
    {
     "data": {
      "text/plain": [
       "<numba.experimental.jitclass.boxing.TimsTOFJIT at 0x6dcc1d040>"
      ]
     },
     "execution_count": 23,
     "metadata": {},
     "output_type": "execute_result"
    }
   ],
   "source": [
    "dia_data.jitclass()"
   ]
  },
  {
   "cell_type": "code",
   "execution_count": null,
   "metadata": {},
   "outputs": [],
   "source": []
  }
 ],
 "metadata": {
  "kernelspec": {
   "display_name": "alpha",
   "language": "python",
   "name": "python3"
  },
  "language_info": {
   "codemirror_mode": {
    "name": "ipython",
    "version": 3
   },
   "file_extension": ".py",
   "mimetype": "text/x-python",
   "name": "python",
   "nbconvert_exporter": "python",
   "pygments_lexer": "ipython3",
   "version": "3.9.13"
  },
  "orig_nbformat": 4,
  "vscode": {
   "interpreter": {
    "hash": "bfa83213b3107409f6f749b3f3e6e3a0c51921f6998a582a53d8fef6c3fba7c5"
   }
  }
 },
 "nbformat": 4,
 "nbformat_minor": 2
}
