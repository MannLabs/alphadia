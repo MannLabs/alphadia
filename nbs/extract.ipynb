{
 "cells": [
  {
   "cell_type": "code",
   "execution_count": 4,
   "metadata": {},
   "outputs": [],
   "source": [
    "%reload_ext autoreload\n",
    "%autoreload 2\n",
    "\n",
    "import os, psutil\n",
    "os.environ['NUMEXPR_MAX_THREADS'] = '20'\n",
    "import logging\n",
    "from alphadia.extraction import processlogger\n",
    "\n",
    "from alphabase.spectral_library.base import SpecLibBase\n",
    "from alphadia.extraction.planning import Plan\n",
    "\n",
    "try:\n",
    "    neptune_token = os.environ['NEPTUNE_TOKEN']\n",
    "except KeyError:\n",
    "    logging.warning('NEPTUNE_TOKEN environtment variable not set')\n",
    "    neptune_token = None"
   ]
  },
  {
   "cell_type": "code",
   "execution_count": 5,
   "metadata": {},
   "outputs": [],
   "source": [
    "\n",
    "# spectral library location\n",
    "# requires an alphabase spectral library with decoys\n",
    "lib_location = '/Users/georgwallmann/Documents/data/alphadia_benchmarking/libraries/patricia_hela/21min_Evosep_HeLa_BR14_48fractions_diaPASEF_py_diAID_2_egs.hdf'\n",
    "\n",
    "# output location\n",
    "# a file called alpha psm will be written to this location\n",
    "output_location = '/Users/georgwallmann/Documents/data/alphadia_benchmarking/alphadia_runs/2023_02_12_diaPASEF_vs_synchroPASEF'\n",
    "\n",
    "raw_files = ['/Users/georgwallmann/Documents/data/alphadia_benchmarking/raw_data/diaPASEF_vs_synchroPASEF/20221221_TIMS05_PaSk_SA_HeLa_Evo05_200ng_21min_IM0713_SyP_classical_5bins_S2-A4_1_464.d']\n",
    "\n",
    "processlogger.init_logging(output_location)"
   ]
  },
  {
   "cell_type": "code",
   "execution_count": 6,
   "metadata": {},
   "outputs": [],
   "source": [
    "test_lib = SpecLibBase()\n",
    "test_lib.load_hdf(lib_location, load_mod_seq=True)"
   ]
  },
  {
   "cell_type": "code",
   "execution_count": 7,
   "metadata": {},
   "outputs": [
    {
     "name": "stderr",
     "output_type": "stream",
     "text": [
      "0:00:03.856001 \u001b[32;20m PROGRESS:       _   _      _         ___ ___   _   \u001b[0m\n",
      "0:00:03.856541 \u001b[32;20m PROGRESS:      /_\\ | |_ __| |_  __ _|   \\_ _| /_\\  \u001b[0m\n",
      "0:00:03.856879 \u001b[32;20m PROGRESS:     / _ \\| | '_ \\ ' \\/ _` | |) | | / _ \\ \u001b[0m\n",
      "0:00:03.857375 \u001b[32;20m PROGRESS:    /_/ \\_\\_| .__/_||_\\__,_|___/___/_/ \\_\\\u001b[0m\n",
      "0:00:03.857587 \u001b[32;20m PROGRESS:            |_|                            \u001b[0m\n",
      "0:00:03.857925 \u001b[32;20m PROGRESS: \u001b[0m\n",
      "0:00:03.858453 \u001b[38;20m INFO: loading default config from /Users/georgwallmann/Documents/git/alphadia/alphadia/extraction/../../misc/config/default.yaml\u001b[0m\n",
      "0:00:03.864579 \u001b[32;20m PROGRESS: version: 1.0.2\u001b[0m\n",
      "0:00:03.864963 \u001b[32;20m PROGRESS: hostname: Georgs-MacBook-Pro.local\u001b[0m\n",
      "0:00:03.865231 \u001b[32;20m PROGRESS: date: 2023-05-02 14:49:38\u001b[0m\n",
      "0:00:09.920030 \u001b[38;20m INFO: renaming precursor_columns columns\u001b[0m\n",
      "0:00:09.921154 \u001b[38;20m INFO: renaming fragment_columns columns\u001b[0m\n",
      "0:00:09.921983 \u001b[38;20m INFO: ========= Library Stats =========\u001b[0m\n",
      "0:00:09.940336 \u001b[38;20m INFO: Number of precursors: 460,153\u001b[0m\n",
      "0:00:09.997924 \u001b[38;20m INFO: \tthereof targets:230,483\u001b[0m\n",
      "0:00:09.998608 \u001b[38;20m INFO: \tthereof decoys: 229,670\u001b[0m\n",
      "0:00:10.002592 \u001b[38;20m INFO: Number of elution groups: 231,149\u001b[0m\n",
      "0:00:10.003145 \u001b[38;20m INFO: \taverage size: 1.99\u001b[0m\n",
      "0:00:10.018035 \u001b[38;20m INFO: Number of proteins: 9,899\u001b[0m\n",
      "0:00:10.018710 \u001b[33;20m WARNING: no channel column was found, will assume only one channel\u001b[0m\n",
      "0:00:10.019385 \u001b[38;20m INFO: Isotopes Distribution for 6 isotopes\u001b[0m\n",
      "0:00:10.019797 \u001b[38;20m INFO: =================================\u001b[0m\n",
      "0:00:10.021121 \u001b[33;20m WARNING: no precursor_idx column found, creating one\u001b[0m\n",
      "0:00:10.022108 \u001b[33;20m WARNING: no channel column found, creating one\u001b[0m\n",
      "/Users/georgwallmann/Documents/git/alphabase/alphabase/peptide/precursor.py:30: SettingWithCopyWarning: \n",
      "A value is trying to be set on a copy of a slice from a DataFrame\n",
      "\n",
      "See the caveats in the documentation: https://pandas.pydata.org/pandas-docs/stable/user_guide/indexing.html#returning-a-view-versus-a-copy\n",
      "  df.fillna('', inplace=True)\n",
      "/Users/georgwallmann/Documents/git/alphabase/alphabase/peptide/precursor.py:42: SettingWithCopyWarning: \n",
      "A value is trying to be set on a copy of a slice from a DataFrame.\n",
      "Try using .loc[row_indexer,col_indexer] = value instead\n",
      "\n",
      "See the caveats in the documentation: https://pandas.pydata.org/pandas-docs/stable/user_guide/indexing.html#returning-a-view-versus-a-copy\n",
      "  df['nAA']= df.sequence.str.len().astype(np.int32)\n",
      "/Users/georgwallmann/Documents/git/alphabase/alphabase/peptide/precursor.py:50: SettingWithCopyWarning: \n",
      "A value is trying to be set on a copy of a slice from a DataFrame\n",
      "\n",
      "See the caveats in the documentation: https://pandas.pydata.org/pandas-docs/stable/user_guide/indexing.html#returning-a-view-versus-a-copy\n",
      "  df.sort_values('nAA', inplace=True)\n",
      "0:00:10.788070 \u001b[38;20m INFO: rt_type automatically determined as norm\u001b[0m\n",
      "0:00:10.788565 \u001b[38;20m INFO: Importing data from /Users/georgwallmann/Documents/data/alphadia_benchmarking/raw_data/diaPASEF_vs_synchroPASEF/20221221_TIMS05_PaSk_SA_HeLa_Evo05_200ng_21min_IM0713_SyP_classical_5bins_S2-A4_1_464.d\u001b[0m\n",
      "0:00:10.789098 \u001b[38;20m INFO: Using .d import for /Users/georgwallmann/Documents/data/alphadia_benchmarking/raw_data/diaPASEF_vs_synchroPASEF/20221221_TIMS05_PaSk_SA_HeLa_Evo05_200ng_21min_IM0713_SyP_classical_5bins_S2-A4_1_464.d\u001b[0m\n",
      "0:00:10.789420 \u001b[38;20m INFO: Reading frame metadata for /Users/georgwallmann/Documents/data/alphadia_benchmarking/raw_data/diaPASEF_vs_synchroPASEF/20221221_TIMS05_PaSk_SA_HeLa_Evo05_200ng_21min_IM0713_SyP_classical_5bins_S2-A4_1_464.d\u001b[0m\n",
      "0:00:11.134109 \u001b[38;20m INFO: Reading 11,009 frames with 1,899,457,154 detector events for /Users/georgwallmann/Documents/data/alphadia_benchmarking/raw_data/diaPASEF_vs_synchroPASEF/20221221_TIMS05_PaSk_SA_HeLa_Evo05_200ng_21min_IM0713_SyP_classical_5bins_S2-A4_1_464.d\u001b[0m\n",
      "100%|██████████| 11009/11009 [00:06<00:00, 1743.44it/s]\n",
      "0:00:17.519490 \u001b[38;20m INFO: Indexing /Users/georgwallmann/Documents/data/alphadia_benchmarking/raw_data/diaPASEF_vs_synchroPASEF/20221221_TIMS05_PaSk_SA_HeLa_Evo05_200ng_21min_IM0713_SyP_classical_5bins_S2-A4_1_464.d...\u001b[0m\n",
      "0:00:17.520478 \u001b[38;20m INFO: Bruker DLL not available, estimating mobility values\u001b[0m\n",
      "0:00:17.520746 \u001b[38;20m INFO: Bruker DLL not available, estimating mz values\u001b[0m\n",
      "0:00:17.522419 \u001b[38;20m INFO: Indexing quadrupole dimension\u001b[0m\n",
      "0:00:23.098352 \u001b[38;20m INFO: Transposing detector events\u001b[0m\n",
      "0:00:52.903223 \u001b[38;20m INFO: Finished transposing data\u001b[0m\n",
      "0:00:57.032259 \u001b[38;20m INFO: Successfully imported data from /Users/georgwallmann/Documents/data/alphadia_benchmarking/raw_data/diaPASEF_vs_synchroPASEF/20221221_TIMS05_PaSk_SA_HeLa_Evo05_200ng_21min_IM0713_SyP_classical_5bins_S2-A4_1_464.d\u001b[0m\n"
     ]
    },
    {
     "name": "stdout",
     "output_type": "stream",
     "text": [
      "https://app.neptune.ai/MannLabs/alphaDIA/e/AL-291\n"
     ]
    },
    {
     "name": "stderr",
     "output_type": "stream",
     "text": [
      "0:00:58.771828 \u001b[33;20m WARNING: Info (NVML): NVML Shared Library Not Found. GPU usage metrics may not be reported. For more information, see https://docs.neptune.ai/help/nvml_error/\u001b[0m\n"
     ]
    },
    {
     "name": "stdout",
     "output_type": "stream",
     "text": [
      "Remember to stop your run once you’ve finished logging your metadata (https://docs.neptune.ai/api/run#stop). It will be stopped automatically only when the notebook kernel/interactive console is terminated.\n"
     ]
    },
    {
     "name": "stderr",
     "output_type": "stream",
     "text": [
      "0:00:58.780950 \u001b[38;20m INFO: found 2 calibration groups\u001b[0m\n",
      "0:00:58.781258 \u001b[38;20m INFO: (fragment) found 1 estimator(s)\u001b[0m\n",
      "0:00:58.781533 \u001b[38;20m INFO: (precursor) found 3 estimator(s)\u001b[0m\n",
      "0:00:58.799607 \u001b[38;20m INFO: calibration group: precursor, predicting mz\u001b[0m\n",
      "0:00:58.800195 \u001b[33;20m WARNING: mz prediction was skipped as it has not been fitted yet\u001b[0m\n",
      "0:00:58.800498 \u001b[38;20m INFO: calibration group: precursor, predicting rt\u001b[0m\n",
      "0:00:58.800701 \u001b[33;20m WARNING: rt prediction was skipped as it has not been fitted yet\u001b[0m\n",
      "0:00:58.801243 \u001b[38;20m INFO: calibration group: precursor, predicting mobility\u001b[0m\n",
      "0:00:58.801511 \u001b[33;20m WARNING: mobility prediction was skipped as it has not been fitted yet\u001b[0m\n",
      "0:00:58.801918 \u001b[38;20m INFO: calibration group: fragment, predicting mz\u001b[0m\n",
      "0:00:58.802218 \u001b[33;20m WARNING: mz prediction was skipped as it has not been fitted yet\u001b[0m\n",
      "0:00:58.804089 \u001b[32;20m PROGRESS: === Epoch 0, step 0, extracting elution groups 0 to 4000 ===\u001b[0m\n",
      "0:00:58.883431 \u001b[32;20m PROGRESS: MS1 error: 30, MS2 error: 30, RT error: 240, Mobility error: 0.08\u001b[0m\n"
     ]
    }
   ],
   "source": [
    "plan = Plan(raw_files)\n",
    "plan.from_spec_lib_base(test_lib)\n",
    "plan.run(output_location, neptune_token=neptune_token)"
   ]
  }
 ],
 "metadata": {
  "kernelspec": {
   "display_name": "alpha",
   "language": "python",
   "name": "python3"
  },
  "language_info": {
   "codemirror_mode": {
    "name": "ipython",
    "version": 3
   },
   "file_extension": ".py",
   "mimetype": "text/x-python",
   "name": "python",
   "nbconvert_exporter": "python",
   "pygments_lexer": "ipython3",
   "version": "3.9.13"
  },
  "orig_nbformat": 4,
  "vscode": {
   "interpreter": {
    "hash": "bfa83213b3107409f6f749b3f3e6e3a0c51921f6998a582a53d8fef6c3fba7c5"
   }
  }
 },
 "nbformat": 4,
 "nbformat_minor": 2
}
