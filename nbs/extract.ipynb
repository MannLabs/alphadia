{
 "cells": [
  {
   "cell_type": "code",
   "execution_count": 1,
   "metadata": {},
   "outputs": [
    {
     "name": "stderr",
     "output_type": "stream",
     "text": [
      "WARNING:root:WARNING: Temp mmap arrays are written to /var/folders/lc/9594t94d5b5_gn0y04w1jh980000gn/T/temp_mmap_30lge0sp. Cleanup of this folder is OS dependant, and might need to be triggered manually! Current space: 361,687,584,768\n",
      "WARNING:root:WARNING: No Bruker libraries are available for this operating system. Mobility and m/z values need to be estimated. While this estimation often returns acceptable results with errors < 0.02 Th, huge errors (e.g. offsets of 6 Th) have already been observed for some samples!\n"
     ]
    }
   ],
   "source": [
    "%reload_ext autoreload\n",
    "%autoreload 2\n",
    "\n",
    "import os, psutil\n",
    "os.environ['NUMEXPR_MAX_THREADS'] = '20'\n",
    "import logging\n",
    "from alphadia.extraction import processlogger\n",
    "\n",
    "from alphabase.spectral_library.base import SpecLibBase\n",
    "from alphadia.extraction.planning import Plan\n",
    "\n",
    "try:\n",
    "    neptune_token = os.environ['NEPTUNE_TOKEN']\n",
    "except KeyError:\n",
    "    logging.warning('NEPTUNE_TOKEN environtment variable not set')\n",
    "    neptune_token = None"
   ]
  },
  {
   "cell_type": "code",
   "execution_count": 2,
   "metadata": {},
   "outputs": [],
   "source": [
    "\n",
    "# spectral library location\n",
    "# requires an alphabase spectral library with decoys\n",
    "lib_location = '/Users/georgwallmann/Documents/data/alphadia_benchmarking/libraries/patricia_hela/21min_Evosep_HeLa_BR14_48fractions_diaPASEF_py_diAID_2_egs.hdf'\n",
    "\n",
    "# output location\n",
    "# a file called alpha psm will be written to this location\n",
    "output_location = '/Users/georgwallmann/Documents/data/alphadia_benchmarking/alphadia_runs/2023_02_12_diaPASEF_vs_synchroPASEF'\n",
    "\n",
    "raw_files = ['/Users/georgwallmann/Documents/data/alphadia_benchmarking/raw_data/diaPASEF_vs_synchroPASEF/20221221_TIMS05_PaSk_SA_HeLa_Evo05_200ng_21min_IM0713_SyP_classical_5bins_S2-A4_1_464.d']\n",
    "\n",
    "processlogger.init_logging(output_location)"
   ]
  },
  {
   "cell_type": "code",
   "execution_count": 3,
   "metadata": {},
   "outputs": [],
   "source": [
    "test_lib = SpecLibBase()\n",
    "test_lib.load_hdf(lib_location, load_mod_seq=True)\n",
    "test_lib._precursor_df['elution_group_idx'] = test_lib._precursor_df['precursor_idx']"
   ]
  },
  {
   "cell_type": "code",
   "execution_count": 4,
   "metadata": {},
   "outputs": [
    {
     "name": "stderr",
     "output_type": "stream",
     "text": [
      "0:00:11.421567 \u001b[32;20m PROGRESS:       _   _      _         ___ ___   _   \u001b[0m\n",
      "0:00:11.422234 \u001b[32;20m PROGRESS:      /_\\ | |_ __| |_  __ _|   \\_ _| /_\\  \u001b[0m\n",
      "0:00:11.422631 \u001b[32;20m PROGRESS:     / _ \\| | '_ \\ ' \\/ _` | |) | | / _ \\ \u001b[0m\n",
      "0:00:11.423097 \u001b[32;20m PROGRESS:    /_/ \\_\\_| .__/_||_\\__,_|___/___/_/ \\_\\\u001b[0m\n",
      "0:00:11.423626 \u001b[32;20m PROGRESS:            |_|                            \u001b[0m\n",
      "0:00:11.424007 \u001b[32;20m PROGRESS: \u001b[0m\n",
      "0:00:11.424439 \u001b[38;20m INFO: loading default config from /Users/georgwallmann/Documents/git/alphadia/alphadia/extraction/../../misc/config/default.yaml\u001b[0m\n",
      "0:00:11.430915 \u001b[32;20m PROGRESS: version: 1.0.2\u001b[0m\n",
      "0:00:11.431310 \u001b[32;20m PROGRESS: hostname: Georgs-MacBook-Pro.local\u001b[0m\n",
      "0:00:11.431682 \u001b[32;20m PROGRESS: date: 2023-05-02 14:47:48\u001b[0m\n",
      "0:00:13.812351 \u001b[38;20m INFO: renaming precursor_columns columns\u001b[0m\n",
      "0:00:13.813192 \u001b[38;20m INFO: renaming fragment_columns columns\u001b[0m\n",
      "0:00:13.813988 \u001b[38;20m INFO: ========= Library Stats =========\u001b[0m\n",
      "0:00:13.814353 \u001b[38;20m INFO: Number of precursors: 104,108\u001b[0m\n",
      "0:00:13.828955 \u001b[38;20m INFO: \tthereof targets:52,791\u001b[0m\n",
      "0:00:13.829422 \u001b[38;20m INFO: \tthereof decoys: 51,317\u001b[0m\n",
      "0:00:13.830777 \u001b[38;20m INFO: Number of elution groups: 104,108\u001b[0m\n",
      "0:00:13.831067 \u001b[38;20m INFO: \taverage size: 1.00\u001b[0m\n",
      "0:00:13.834429 \u001b[38;20m INFO: Number of proteins: 5,415\u001b[0m\n",
      "0:00:13.834820 \u001b[33;20m WARNING: no channel column was found, will assume only one channel\u001b[0m\n",
      "0:00:13.835129 \u001b[38;20m INFO: Isotopes Distribution for 6 isotopes\u001b[0m\n",
      "0:00:13.835508 \u001b[38;20m INFO: =================================\u001b[0m\n",
      "0:00:13.836277 \u001b[33;20m WARNING: no channel column found, creating one\u001b[0m\n",
      "/Users/georgwallmann/Documents/git/alphabase/alphabase/peptide/precursor.py:30: SettingWithCopyWarning: \n",
      "A value is trying to be set on a copy of a slice from a DataFrame\n",
      "\n",
      "See the caveats in the documentation: https://pandas.pydata.org/pandas-docs/stable/user_guide/indexing.html#returning-a-view-versus-a-copy\n",
      "  df.fillna('', inplace=True)\n",
      "/Users/georgwallmann/Documents/git/alphabase/alphabase/peptide/precursor.py:42: SettingWithCopyWarning: \n",
      "A value is trying to be set on a copy of a slice from a DataFrame.\n",
      "Try using .loc[row_indexer,col_indexer] = value instead\n",
      "\n",
      "See the caveats in the documentation: https://pandas.pydata.org/pandas-docs/stable/user_guide/indexing.html#returning-a-view-versus-a-copy\n",
      "  df['nAA']= df.sequence.str.len().astype(np.int32)\n",
      "/Users/georgwallmann/Documents/git/alphabase/alphabase/peptide/precursor.py:50: SettingWithCopyWarning: \n",
      "A value is trying to be set on a copy of a slice from a DataFrame\n",
      "\n",
      "See the caveats in the documentation: https://pandas.pydata.org/pandas-docs/stable/user_guide/indexing.html#returning-a-view-versus-a-copy\n",
      "  df.sort_values('nAA', inplace=True)\n",
      "0:00:13.958682 \u001b[38;20m INFO: rt_type automatically determined as irt\u001b[0m\n",
      "0:00:13.959264 \u001b[38;20m INFO: Importing data from /Users/georgwallmann/Documents/data/alphadia_benchmarking/raw_data/diaPASEF_vs_synchroPASEF/20221221_TIMS05_PaSk_SA_HeLa_Evo05_200ng_21min_IM0713_SyP_classical_5bins_S2-A4_1_464.d\u001b[0m\n",
      "0:00:13.960792 \u001b[38;20m INFO: Using .d import for /Users/georgwallmann/Documents/data/alphadia_benchmarking/raw_data/diaPASEF_vs_synchroPASEF/20221221_TIMS05_PaSk_SA_HeLa_Evo05_200ng_21min_IM0713_SyP_classical_5bins_S2-A4_1_464.d\u001b[0m\n",
      "0:00:13.961143 \u001b[38;20m INFO: Reading frame metadata for /Users/georgwallmann/Documents/data/alphadia_benchmarking/raw_data/diaPASEF_vs_synchroPASEF/20221221_TIMS05_PaSk_SA_HeLa_Evo05_200ng_21min_IM0713_SyP_classical_5bins_S2-A4_1_464.d\u001b[0m\n",
      "0:00:14.317587 \u001b[38;20m INFO: Reading 11,009 frames with 1,899,457,154 detector events for /Users/georgwallmann/Documents/data/alphadia_benchmarking/raw_data/diaPASEF_vs_synchroPASEF/20221221_TIMS05_PaSk_SA_HeLa_Evo05_200ng_21min_IM0713_SyP_classical_5bins_S2-A4_1_464.d\u001b[0m\n",
      "100%|██████████| 11009/11009 [00:06<00:00, 1814.34it/s]\n",
      "0:00:20.553058 \u001b[38;20m INFO: Indexing /Users/georgwallmann/Documents/data/alphadia_benchmarking/raw_data/diaPASEF_vs_synchroPASEF/20221221_TIMS05_PaSk_SA_HeLa_Evo05_200ng_21min_IM0713_SyP_classical_5bins_S2-A4_1_464.d...\u001b[0m\n",
      "0:00:20.554325 \u001b[38;20m INFO: Bruker DLL not available, estimating mobility values\u001b[0m\n",
      "0:00:20.554655 \u001b[38;20m INFO: Bruker DLL not available, estimating mz values\u001b[0m\n",
      "0:00:20.556395 \u001b[38;20m INFO: Indexing quadrupole dimension\u001b[0m\n",
      "0:00:26.327804 \u001b[38;20m INFO: Transposing detector events\u001b[0m\n",
      "0:00:56.147019 \u001b[38;20m INFO: Finished transposing data\u001b[0m\n",
      "0:00:59.397561 \u001b[38;20m INFO: Successfully imported data from /Users/georgwallmann/Documents/data/alphadia_benchmarking/raw_data/diaPASEF_vs_synchroPASEF/20221221_TIMS05_PaSk_SA_HeLa_Evo05_200ng_21min_IM0713_SyP_classical_5bins_S2-A4_1_464.d\u001b[0m\n"
     ]
    },
    {
     "name": "stdout",
     "output_type": "stream",
     "text": [
      "https://app.neptune.ai/MannLabs/alphaDIA/e/AL-290\n"
     ]
    },
    {
     "name": "stderr",
     "output_type": "stream",
     "text": [
      "0:01:01.278659 \u001b[33;20m WARNING: Info (NVML): NVML Shared Library Not Found. GPU usage metrics may not be reported. For more information, see https://docs.neptune.ai/help/nvml_error/\u001b[0m\n"
     ]
    },
    {
     "name": "stdout",
     "output_type": "stream",
     "text": [
      "Remember to stop your run once you’ve finished logging your metadata (https://docs.neptune.ai/api/run#stop). It will be stopped automatically only when the notebook kernel/interactive console is terminated.\n"
     ]
    },
    {
     "name": "stderr",
     "output_type": "stream",
     "text": [
      "0:01:01.288956 \u001b[38;20m INFO: found 2 calibration groups\u001b[0m\n",
      "0:01:01.289384 \u001b[38;20m INFO: (fragment) found 1 estimator(s)\u001b[0m\n",
      "0:01:01.289861 \u001b[38;20m INFO: (precursor) found 3 estimator(s)\u001b[0m\n",
      "0:01:01.295815 \u001b[38;20m INFO: calibration group: precursor, predicting mz\u001b[0m\n",
      "0:01:01.296302 \u001b[33;20m WARNING: mz prediction was skipped as it has not been fitted yet\u001b[0m\n",
      "0:01:01.296719 \u001b[38;20m INFO: calibration group: precursor, predicting rt\u001b[0m\n",
      "0:01:01.297098 \u001b[33;20m WARNING: rt prediction was skipped as it has not been fitted yet\u001b[0m\n",
      "0:01:01.297536 \u001b[38;20m INFO: calibration group: precursor, predicting mobility\u001b[0m\n",
      "0:01:01.298121 \u001b[33;20m WARNING: mobility prediction was skipped as it has not been fitted yet\u001b[0m\n",
      "0:01:01.298537 \u001b[38;20m INFO: calibration group: fragment, predicting mz\u001b[0m\n",
      "0:01:01.298900 \u001b[33;20m WARNING: mz prediction was skipped as it has not been fitted yet\u001b[0m\n",
      "0:01:01.300860 \u001b[32;20m PROGRESS: === Epoch 0, step 0, extracting elution groups 0 to 4000 ===\u001b[0m\n",
      "0:01:01.315315 \u001b[32;20m PROGRESS: MS1 error: 30, MS2 error: 30, RT error: 240, Mobility error: 0.08\u001b[0m\n",
      "0:01:05.336874 \u001b[38;20m INFO: Duty cycle consists of 6 frames, 0.69 seconds cycle time\u001b[0m\n",
      "0:01:05.337335 \u001b[38;20m INFO: Duty cycle consists of 928 scans, 0.00065 1/K_0 resolution\u001b[0m\n",
      "0:01:05.337673 \u001b[38;20m INFO: FWHM in RT is 5.00 seconds, sigma is 1.55\u001b[0m\n",
      "0:01:05.337977 \u001b[38;20m INFO: FWHM in mobility is 0.015 1/K_0, sigma is 9.85\u001b[0m\n",
      "0:01:06.224242 \u001b[31;20m ERROR: Validation of precursors_flat failed: Column mobility_library is not present in the dataframe\u001b[0m\n",
      "Traceback (most recent call last):\n",
      "  File \"/Users/georgwallmann/Documents/git/alphadia/alphadia/extraction/planning.py\", line 451, in run\n",
      "    workflow.calibration()\n",
      "  File \"/Users/georgwallmann/Documents/git/alphadia/alphadia/extraction/planning.py\", line 638, in calibration\n",
      "    feature_df, fragment_df = self.extract_batch(batch_df)\n",
      "  File \"/Users/georgwallmann/Documents/git/alphadia/alphadia/extraction/planning.py\", line 784, in extract_batch\n",
      "    candidates_df = extraction()\n",
      "  File \"/Users/georgwallmann/Documents/git/alphadia/alphadia/extraction/hybridselection.py\", line 1093, in __call__\n",
      "    elution_group_container = self.assemble_score_groups(self.precursors_flat)\n",
      "  File \"/Users/georgwallmann/Documents/git/alphadia/alphadia/extraction/hybridselection.py\", line 1185, in assemble_score_groups\n",
      "    validate.precursors_flat(precursors_sorted)\n",
      "  File \"/Users/georgwallmann/Documents/git/alphadia/alphadia/extraction/validate.py\", line 144, in __call__\n",
      "    raise ValueError(f\"Validation of {self.name} failed: Column {property.name} is not present in the dataframe\")\n",
      "ValueError: Validation of precursors_flat failed: Column mobility_library is not present in the dataframe\n"
     ]
    },
    {
     "ename": "ValueError",
     "evalue": "No objects to concatenate",
     "output_type": "error",
     "traceback": [
      "\u001b[0;31m---------------------------------------------------------------------------\u001b[0m",
      "\u001b[0;31mValueError\u001b[0m                                Traceback (most recent call last)",
      "\u001b[1;32m/Users/georgwallmann/Documents/git/alphadia/nbs/extract.ipynb Cell 4\u001b[0m in \u001b[0;36m3\n\u001b[1;32m      <a href='vscode-notebook-cell:/Users/georgwallmann/Documents/git/alphadia/nbs/extract.ipynb#W3sZmlsZQ%3D%3D?line=0'>1</a>\u001b[0m plan \u001b[39m=\u001b[39m Plan(raw_files)\n\u001b[1;32m      <a href='vscode-notebook-cell:/Users/georgwallmann/Documents/git/alphadia/nbs/extract.ipynb#W3sZmlsZQ%3D%3D?line=1'>2</a>\u001b[0m plan\u001b[39m.\u001b[39mfrom_spec_lib_base(test_lib)\n\u001b[0;32m----> <a href='vscode-notebook-cell:/Users/georgwallmann/Documents/git/alphadia/nbs/extract.ipynb#W3sZmlsZQ%3D%3D?line=2'>3</a>\u001b[0m plan\u001b[39m.\u001b[39;49mrun(output_location, neptune_token\u001b[39m=\u001b[39;49mneptune_token)\n",
      "File \u001b[0;32m~/Documents/git/alphadia/alphadia/extraction/planning.py:464\u001b[0m, in \u001b[0;36mPlan.run\u001b[0;34m(self, output_folder, figure_path, neptune_token, neptune_tags, keep_decoys, fdr)\u001b[0m\n\u001b[1;32m    461\u001b[0m         logger\u001b[39m.\u001b[39mexception(e)\n\u001b[1;32m    462\u001b[0m         \u001b[39mcontinue\u001b[39;00m\n\u001b[0;32m--> 464\u001b[0m out_df \u001b[39m=\u001b[39m pd\u001b[39m.\u001b[39;49mconcat(dataframes)\n\u001b[1;32m    465\u001b[0m out_df\u001b[39m.\u001b[39mto_csv(os\u001b[39m.\u001b[39mpath\u001b[39m.\u001b[39mjoin(output_folder, \u001b[39mf\u001b[39m\u001b[39m'\u001b[39m\u001b[39malpha_psms.tsv\u001b[39m\u001b[39m'\u001b[39m), sep\u001b[39m=\u001b[39m\u001b[39m'\u001b[39m\u001b[39m\\t\u001b[39;00m\u001b[39m'\u001b[39m, index\u001b[39m=\u001b[39m\u001b[39mFalse\u001b[39;00m)\n",
      "File \u001b[0;32m~/miniconda3/envs/alpha/lib/python3.9/site-packages/pandas/util/_decorators.py:317\u001b[0m, in \u001b[0;36mdeprecate_nonkeyword_arguments.<locals>.decorate.<locals>.wrapper\u001b[0;34m(*args, **kwargs)\u001b[0m\n\u001b[1;32m    311\u001b[0m \u001b[39mif\u001b[39;00m \u001b[39mlen\u001b[39m(args) \u001b[39m>\u001b[39m num_allow_args:\n\u001b[1;32m    312\u001b[0m     warnings\u001b[39m.\u001b[39mwarn(\n\u001b[1;32m    313\u001b[0m         msg\u001b[39m.\u001b[39mformat(arguments\u001b[39m=\u001b[39marguments),\n\u001b[1;32m    314\u001b[0m         \u001b[39mFutureWarning\u001b[39;00m,\n\u001b[1;32m    315\u001b[0m         stacklevel\u001b[39m=\u001b[39mfind_stack_level(inspect\u001b[39m.\u001b[39mcurrentframe()),\n\u001b[1;32m    316\u001b[0m     )\n\u001b[0;32m--> 317\u001b[0m \u001b[39mreturn\u001b[39;00m func(\u001b[39m*\u001b[39;49margs, \u001b[39m*\u001b[39;49m\u001b[39m*\u001b[39;49mkwargs)\n",
      "File \u001b[0;32m~/miniconda3/envs/alpha/lib/python3.9/site-packages/pandas/core/reshape/concat.py:369\u001b[0m, in \u001b[0;36mconcat\u001b[0;34m(objs, axis, join, ignore_index, keys, levels, names, verify_integrity, sort, copy)\u001b[0m\n\u001b[1;32m    147\u001b[0m \u001b[39m@deprecate_nonkeyword_arguments\u001b[39m(version\u001b[39m=\u001b[39m\u001b[39mNone\u001b[39;00m, allowed_args\u001b[39m=\u001b[39m[\u001b[39m\"\u001b[39m\u001b[39mobjs\u001b[39m\u001b[39m\"\u001b[39m])\n\u001b[1;32m    148\u001b[0m \u001b[39mdef\u001b[39;00m \u001b[39mconcat\u001b[39m(\n\u001b[1;32m    149\u001b[0m     objs: Iterable[NDFrame] \u001b[39m|\u001b[39m Mapping[HashableT, NDFrame],\n\u001b[0;32m   (...)\u001b[0m\n\u001b[1;32m    158\u001b[0m     copy: \u001b[39mbool\u001b[39m \u001b[39m=\u001b[39m \u001b[39mTrue\u001b[39;00m,\n\u001b[1;32m    159\u001b[0m ) \u001b[39m-\u001b[39m\u001b[39m>\u001b[39m DataFrame \u001b[39m|\u001b[39m Series:\n\u001b[1;32m    160\u001b[0m     \u001b[39m\"\"\"\u001b[39;00m\n\u001b[1;32m    161\u001b[0m \u001b[39m    Concatenate pandas objects along a particular axis.\u001b[39;00m\n\u001b[1;32m    162\u001b[0m \n\u001b[0;32m   (...)\u001b[0m\n\u001b[1;32m    367\u001b[0m \u001b[39m    1   3   4\u001b[39;00m\n\u001b[1;32m    368\u001b[0m \u001b[39m    \"\"\"\u001b[39;00m\n\u001b[0;32m--> 369\u001b[0m     op \u001b[39m=\u001b[39m _Concatenator(\n\u001b[1;32m    370\u001b[0m         objs,\n\u001b[1;32m    371\u001b[0m         axis\u001b[39m=\u001b[39;49maxis,\n\u001b[1;32m    372\u001b[0m         ignore_index\u001b[39m=\u001b[39;49mignore_index,\n\u001b[1;32m    373\u001b[0m         join\u001b[39m=\u001b[39;49mjoin,\n\u001b[1;32m    374\u001b[0m         keys\u001b[39m=\u001b[39;49mkeys,\n\u001b[1;32m    375\u001b[0m         levels\u001b[39m=\u001b[39;49mlevels,\n\u001b[1;32m    376\u001b[0m         names\u001b[39m=\u001b[39;49mnames,\n\u001b[1;32m    377\u001b[0m         verify_integrity\u001b[39m=\u001b[39;49mverify_integrity,\n\u001b[1;32m    378\u001b[0m         copy\u001b[39m=\u001b[39;49mcopy,\n\u001b[1;32m    379\u001b[0m         sort\u001b[39m=\u001b[39;49msort,\n\u001b[1;32m    380\u001b[0m     )\n\u001b[1;32m    382\u001b[0m     \u001b[39mreturn\u001b[39;00m op\u001b[39m.\u001b[39mget_result()\n",
      "File \u001b[0;32m~/miniconda3/envs/alpha/lib/python3.9/site-packages/pandas/core/reshape/concat.py:426\u001b[0m, in \u001b[0;36m_Concatenator.__init__\u001b[0;34m(self, objs, axis, join, keys, levels, names, ignore_index, verify_integrity, copy, sort)\u001b[0m\n\u001b[1;32m    423\u001b[0m     objs \u001b[39m=\u001b[39m \u001b[39mlist\u001b[39m(objs)\n\u001b[1;32m    425\u001b[0m \u001b[39mif\u001b[39;00m \u001b[39mlen\u001b[39m(objs) \u001b[39m==\u001b[39m \u001b[39m0\u001b[39m:\n\u001b[0;32m--> 426\u001b[0m     \u001b[39mraise\u001b[39;00m \u001b[39mValueError\u001b[39;00m(\u001b[39m\"\u001b[39m\u001b[39mNo objects to concatenate\u001b[39m\u001b[39m\"\u001b[39m)\n\u001b[1;32m    428\u001b[0m \u001b[39mif\u001b[39;00m keys \u001b[39mis\u001b[39;00m \u001b[39mNone\u001b[39;00m:\n\u001b[1;32m    429\u001b[0m     objs \u001b[39m=\u001b[39m \u001b[39mlist\u001b[39m(com\u001b[39m.\u001b[39mnot_none(\u001b[39m*\u001b[39mobjs))\n",
      "\u001b[0;31mValueError\u001b[0m: No objects to concatenate"
     ]
    }
   ],
   "source": [
    "plan = Plan(raw_files)\n",
    "plan.from_spec_lib_base(test_lib)\n",
    "plan.run(output_location, neptune_token=neptune_token)"
   ]
  },
  {
   "cell_type": "code",
   "execution_count": null,
   "metadata": {},
   "outputs": [],
   "source": []
  }
 ],
 "metadata": {
  "kernelspec": {
   "display_name": "alpha",
   "language": "python",
   "name": "python3"
  },
  "language_info": {
   "codemirror_mode": {
    "name": "ipython",
    "version": 3
   },
   "file_extension": ".py",
   "mimetype": "text/x-python",
   "name": "python",
   "nbconvert_exporter": "python",
   "pygments_lexer": "ipython3",
   "version": "3.9.13"
  },
  "orig_nbformat": 4,
  "vscode": {
   "interpreter": {
    "hash": "bfa83213b3107409f6f749b3f3e6e3a0c51921f6998a582a53d8fef6c3fba7c5"
   }
  }
 },
 "nbformat": 4,
 "nbformat_minor": 2
}
