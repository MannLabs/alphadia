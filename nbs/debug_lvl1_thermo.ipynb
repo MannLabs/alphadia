{
 "cells": [
  {
   "cell_type": "code",
   "execution_count": 1,
   "metadata": {},
   "outputs": [
    {
     "name": "stderr",
     "output_type": "stream",
     "text": [
      "/var/folders/lc/9594t94d5b5_gn0y04w1jh980000gn/T/ipykernel_18365/2606146819.py:8: NeptuneDeprecationWarning: You're importing the Neptune client library via the deprecated `neptune.new` module, which will be removed in a future release. Import directly from `neptune` instead.\n",
      "  import neptune.new as neptune\n",
      "WARNING:root:WARNING: Temp mmap arrays are written to /var/folders/lc/9594t94d5b5_gn0y04w1jh980000gn/T/temp_mmap_ffk1l6j5. Cleanup of this folder is OS dependant, and might need to be triggered manually! Current space: 621,149,286,400\n",
      "WARNING:root:WARNING: No Bruker libraries are available for this operating system. Mobility and m/z values need to be estimated. While this estimation often returns acceptable results with errors < 0.02 Th, huge errors (e.g. offsets of 6 Th) have already been observed for some samples!\n"
     ]
    }
   ],
   "source": [
    "%reload_ext autoreload\n",
    "%autoreload 2\n",
    "\n",
    "import numpy as np\n",
    "import pandas as pd\n",
    "import matplotlib.pyplot as plt\n",
    "import seaborn as sns\n",
    "import neptune.new as neptune\n",
    "import alphatims.bruker as bruker\n",
    "\n",
    "from alphabase.spectral_library.base import SpecLibBase\n",
    "from alphadia.extraction import data, planning, workflow\n",
    "from alphadia.extraction.workflow import manager, peptidecentric\n",
    "\n",
    "\n",
    "\n",
    "raw_files = [\n",
    "    '/Users/georgwallmann/Documents/data/alphadia_astral/raw_data/2023_08_22_astral_MS1/20230821_OA1_SoSt_SA_Whisper40_ADIAMA_HeLa_5ng_8Th14ms_Astral-MS1_AIF_01.raw',\n",
    "    '/Users/georgwallmann/Documents/data/alphadia_astral/raw_data/2023_08_22_astral_MS1/20230821_OA1_SoSt_SA_Whisper40_ADIAMA_HeLa_5ng_8Th14ms_Astral-MS1_AIF_02.raw',\n",
    "    '/Users/georgwallmann/Documents/data/alphadia_astral/raw_data/2023_08_22_astral_MS1/20230821_OA1_SoSt_SA_Whisper40_ADIAMA_HeLa_5ng_8Th14ms_Astral-MS1_AIF_03.raw',\n",
    "    '/Users/georgwallmann/Documents/data/alphadia_astral/raw_data/2023_08_22_astral_MS1/20230821_OA1_SoSt_SA_Whisper40_ADIAMA_HeLa_5ng_8Th14ms_Astral-MS1_AIF_04.raw',\n",
    "    '/Users/georgwallmann/Documents/data/alphadia_astral/raw_data/2023_08_22_astral_MS1/20230821_OA1_SoSt_SA_Whisper40_ADIAMA_HeLa_5ng_8Th14ms_Astral-MS1_AIF_05.raw',\n",
    "    '/Users/georgwallmann/Documents/data/alphadia_astral/raw_data/2023_08_22_astral_MS1/20230821_OA1_SoSt_SA_Whisper40_ADIAMA_HeLa_5ng_8Th14ms_Astral-MS1_AIF-3u_01.raw',\n",
    "    '/Users/georgwallmann/Documents/data/alphadia_astral/raw_data/2023_08_22_astral_MS1/20230821_OA1_SoSt_SA_Whisper40_ADIAMA_HeLa_5ng_8Th14ms_Astral-MS1_AIF-3u_02.raw',\n",
    "    '/Users/georgwallmann/Documents/data/alphadia_astral/raw_data/2023_08_22_astral_MS1/20230821_OA1_SoSt_SA_Whisper40_ADIAMA_HeLa_5ng_8Th14ms_Astral-MS1_AIF-3u_03.raw',\n",
    "    '/Users/georgwallmann/Documents/data/alphadia_astral/raw_data/2023_08_22_astral_MS1/20230821_OA1_SoSt_SA_Whisper40_ADIAMA_HeLa_5ng_8Th14ms_Astral-MS1_AIF-3u_04.raw',\n",
    "    '/Users/georgwallmann/Documents/data/alphadia_astral/raw_data/2023_08_22_astral_MS1/20230821_OA1_SoSt_SA_Whisper40_ADIAMA_HeLa_5ng_8Th14ms_Astral-MS1_AIF-3u_05.raw',\n",
    "    '/Users/georgwallmann/Documents/data/alphadia_astral/raw_data/2023_08_22_astral_MS1/20230821_OA1_SoSt_SA_Whisper40_ADIAMA_HeLa_5ng_8Th14ms_Astral-MS1_DIA_01.raw',\n",
    "    '/Users/georgwallmann/Documents/data/alphadia_astral/raw_data/2023_08_22_astral_MS1/20230821_OA1_SoSt_SA_Whisper40_ADIAMA_HeLa_5ng_8Th14ms_Astral-MS1_DIA_02.raw',\n",
    "    '/Users/georgwallmann/Documents/data/alphadia_astral/raw_data/2023_08_22_astral_MS1/20230821_OA1_SoSt_SA_Whisper40_ADIAMA_HeLa_5ng_8Th14ms_Astral-MS1_DIA_03.raw',\n",
    "    '/Users/georgwallmann/Documents/data/alphadia_astral/raw_data/2023_08_22_astral_MS1/20230821_OA1_SoSt_SA_Whisper40_ADIAMA_HeLa_5ng_8Th14ms_Astral-MS1_DIA_04.raw',\n",
    "    '/Users/georgwallmann/Documents/data/alphadia_astral/raw_data/2023_08_22_astral_MS1/20230821_OA1_SoSt_SA_Whisper40_ADIAMA_HeLa_5ng_8Th14ms_Astral-MS1_DIA_05.raw',\n",
    "]\n",
    "output_location = '/Users/georgwallmann/Documents/data/alphadia_astral/outputs/2023_08_25_astral_dev_5ng_hela/astral_ms1'"
   ]
  },
  {
   "cell_type": "code",
   "execution_count": 11,
   "metadata": {},
   "outputs": [],
   "source": [
    "speclib = '/Users/georgwallmann/Documents/data/alphadia_astral/libraries/48_fraction_hela_PaSk_orbitrap_ms2.hdf'\n",
    "test_lib = SpecLibBase()\n",
    "test_lib.load_hdf(speclib, load_mod_seq=True)"
   ]
  },
  {
   "cell_type": "code",
   "execution_count": null,
   "metadata": {},
   "outputs": [],
   "source": [
    "plan = planning.Plan(output_location, raw_files, test_lib)\n",
    "\n",
    "plan.config['general']['reuse_calibration'] = True\n",
    "plan.config['general']['save_figueres'] = True\n",
    "plan.config['general']['thread_count'] = 10\n",
    "plan.config['general']['astral_ms1'] = True\n",
    "plan.config['library_loading']['channel_filter'] = '0'\n",
    "plan.config['library_loading']['exclude_shared_ions'] = False\n",
    "plan.config['calibration']['norm_rt_mode'] = 'linear'\n",
    "\n",
    "plan.config['extraction_target']['target_num_candidates'] = 3\n",
    "plan.config['extraction_target']['target_ms1_tolerance'] = 3\n",
    "plan.config['extraction_target']['target_ms2_tolerance'] = 3\n",
    "plan.config['extraction_target']['target_rt_tolerance'] = 150"
   ]
  },
  {
   "cell_type": "code",
   "execution_count": null,
   "metadata": {},
   "outputs": [],
   "source": [
    "for raw_name, dia_path, speclib in plan.get_run_data():\n",
    "    pass"
   ]
  },
  {
   "cell_type": "code",
   "execution_count": null,
   "metadata": {},
   "outputs": [],
   "source": [
    "workflow = peptidecentric.PeptideCentricWorkflow(\n",
    "    raw_name,\n",
    "    plan.config,\n",
    "    dia_path,\n",
    "    speclib\n",
    ")"
   ]
  },
  {
   "cell_type": "code",
   "execution_count": null,
   "metadata": {},
   "outputs": [],
   "source": [
    "test_df = workflow.spectral_library.precursor_df.head(100)"
   ]
  },
  {
   "cell_type": "code",
   "execution_count": null,
   "metadata": {},
   "outputs": [],
   "source": [
    "from alphadia.extraction import hybridselection\n",
    "\n",
    "config = hybridselection.HybridCandidateConfig()\n",
    "config.update(workflow.config['selection_config'])\n",
    "config.update({\n",
    "    'rt_tolerance':workflow.com.rt_error,\n",
    "    'mobility_tolerance': workflow.com.mobility_error,\n",
    "    'candidate_count': workflow.com.num_candidates,\n",
    "    'precursor_mz_tolerance': workflow.com.ms1_error,\n",
    "    'fragment_mz_tolerance': workflow.com.ms2_error,\n",
    "    'exclude_shared_ions': workflow.config['library_loading']['exclude_shared_ions']\n",
    "})\n",
    "\n",
    "extraction = hybridselection.HybridCandidateSelection(\n",
    "    workflow.dia_data.jitclass(),\n",
    "    test_df,\n",
    "    workflow.spectral_library.fragment_df,\n",
    "    config.jitclass(),\n",
    "    rt_column = f'rt_{workflow.com.column_type}',\n",
    "    mobility_column = f'mobility_{workflow.com.column_type}',\n",
    "    precursor_mz_column = f'mz_{workflow.com.column_type}',\n",
    "    fragment_mz_column = f'mz_{workflow.com.column_type}',\n",
    "    fwhm_rt = workflow.optimization_manager.fwhm_rt,\n",
    "    fwhm_mobility = workflow.optimization_manager.fwhm_mobility\n",
    ")\n",
    "candidates_df = extraction(\n",
    "    thread_count=workflow.config['general']['thread_count']\n",
    ")"
   ]
  },
  {
   "cell_type": "code",
   "execution_count": null,
   "metadata": {},
   "outputs": [],
   "source": [
    "from alphadia.extraction import plexscoring\n",
    "\n",
    "config = plexscoring.CandidateConfig()\n",
    "config.update(workflow.config['scoring_config'])\n",
    "config.update({\n",
    "    'precursor_mz_tolerance': workflow.com.ms1_error,\n",
    "    'fragment_mz_tolerance': workflow.com.ms2_error,\n",
    "    'exclude_shared_ions': workflow.config['library_loading']['exclude_shared_ions']\n",
    "})\n",
    "\n",
    "candidate_scoring = plexscoring.CandidateScoring(\n",
    "    workflow.dia_data.jitclass(),\n",
    "    workflow.spectral_library._precursor_df,\n",
    "    workflow.spectral_library._fragment_df,\n",
    "    config = config,\n",
    "    rt_column = f'rt_{workflow.com.column_type}',\n",
    "    mobility_column = f'mobility_{workflow.com.column_type}',\n",
    "    precursor_mz_column = f'mz_{workflow.com.column_type}',\n",
    "    fragment_mz_column = f'mz_{workflow.com.column_type}',\n",
    ")\n",
    "\n",
    "features_df, fragments_df = candidate_scoring(\n",
    "    candidates_df, \n",
    "    thread_count=workflow.config['general']['thread_count'],\n",
    ")"
   ]
  }
 ],
 "metadata": {
  "kernelspec": {
   "display_name": "alpha",
   "language": "python",
   "name": "python3"
  },
  "language_info": {
   "codemirror_mode": {
    "name": "ipython",
    "version": 3
   },
   "file_extension": ".py",
   "mimetype": "text/x-python",
   "name": "python",
   "nbconvert_exporter": "python",
   "pygments_lexer": "ipython3",
   "version": "3.9.13"
  },
  "orig_nbformat": 4
 },
 "nbformat": 4,
 "nbformat_minor": 2
}
