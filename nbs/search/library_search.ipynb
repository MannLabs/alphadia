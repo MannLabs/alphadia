{
 "cells": [
  {
   "cell_type": "code",
   "metadata": {},
   "source": [
    "%reload_ext autoreload\n",
    "%autoreload 2\n",
    "\n",
    "import os\n",
    "\n",
    "from alphadia import search_step"
   ],
   "outputs": [],
   "execution_count": null
  },
  {
   "cell_type": "code",
   "metadata": {},
   "source": [
    "performance_test_folder = \"/Users/georgwallmann/Documents/data/performance_tests\"\n",
    "\n",
    "MODE = \"astral\"\n",
    "\n",
    "if MODE == \"astral\":\n",
    "    raw_files = [\n",
    "        os.path.join(\n",
    "            performance_test_folder,\n",
    "            \"raw_data/astral_lf_dia/20230815_OA1_SoSt_SA_Whisper40_ADIAMA_HeLa_5ng_8Th14ms_FAIMS-40_1900V_noLoopCount_01.raw\",\n",
    "        )\n",
    "    ]\n",
    "    output_location = os.path.join(performance_test_folder, \"outputs/astral_lf_dia\")\n",
    "    speclib = os.path.join(\n",
    "        performance_test_folder,\n",
    "        \"libraries/astral/48_fraction_hela_PaSk_orbitrap_ms2.hdf\",\n",
    "    )\n",
    "elif MODE == \"timstof\":\n",
    "    raw_files = [\n",
    "        os.path.join(\n",
    "            performance_test_folder,\n",
    "            \"raw_data/timstof_lf_diap/20230502_TIMS05_PaSk_SA_HeLa_21min_diaP_12scans_S2-A3_1_2089.d\",\n",
    "        )\n",
    "    ]\n",
    "    output_location = os.path.join(\n",
    "        performance_test_folder, \"outputs/timstof_lf_diaPASEF\"\n",
    "    )\n",
    "    speclib = os.path.join(\n",
    "        performance_test_folder,\n",
    "        \"libraries/timstof/21min_Evosep_HeLa_BR14_48fractions_diaPASEF_py_diAID_2_egs.hdf\",\n",
    "    )\n",
    "else:\n",
    "    raise ValueError(\"Unknown mode\")"
   ],
   "outputs": [],
   "execution_count": null
  },
  {
   "cell_type": "code",
   "metadata": {},
   "source": [
    "config_update = {\n",
    "    \"general\": {\"reuse_calibration\": True, \"thread_count\": 10, \"astral_ms1\": False},\n",
    "    \"calibration\": {\"norm_rt_mode\": \"linear\"},\n",
    "    \"library\": {\"save_hdf\": True},\n",
    "    \"extraction_target\": {\n",
    "        \"target_num_candidates\": 5,\n",
    "        \"target_ms1_tolerance\": 3 if MODE == \"astral\" else 15,\n",
    "        \"target_ms2_tolerance\": 5 if MODE == \"astral\" else 15,\n",
    "        \"target_rt_tolerance\": 150,\n",
    "    },\n",
    "}\n",
    "step = search_step.SearchStep(output_location, raw_files, speclib, extra_config=config_update)\n",
    "\n",
    "step.run()"
   ],
   "outputs": [],
   "execution_count": null
  },
  {
   "metadata": {},
   "cell_type": "code",
   "source": "",
   "outputs": [],
   "execution_count": null
  },
  {
   "metadata": {},
   "cell_type": "code",
   "source": "",
   "outputs": [],
   "execution_count": null
  }
 ],
 "metadata": {
  "kernelspec": {
   "display_name": "alpha",
   "language": "python",
   "name": "python3"
  },
  "language_info": {
   "codemirror_mode": {
    "name": "ipython",
    "version": 3
   },
   "file_extension": ".py",
   "mimetype": "text/x-python",
   "name": "python",
   "nbconvert_exporter": "python",
   "pygments_lexer": "ipython3"
  }
 },
 "nbformat": 4,
 "nbformat_minor": 2
}
