{
 "cells": [
  {
   "cell_type": "code",
   "execution_count": 1,
   "metadata": {},
   "outputs": [],
   "source": [
    "%reload_ext autoreload\n",
    "%autoreload 2\n",
    "\n",
    "import os\n",
    "\n",
    "from alphadia import planning"
   ]
  },
  {
   "cell_type": "code",
   "execution_count": 2,
   "metadata": {},
   "outputs": [],
   "source": [
    "performance_test_folder = '/Users/vincenthbrennsteiner/Documents/mann_labs/data'\n",
    "\n",
    "MODE = 'astral'\n",
    "\n",
    "if MODE == 'astral':\n",
    "    raw_files = [os.path.join(performance_test_folder, 'astral_lf_dia/20230815_OA1_SoSt_SA_Whisper40_ADIAMA_HeLa_5ng_8Th14ms_FAIMS-40_1900V_noLoopCount_01.raw')]\n",
    "    output_location = os.path.join(performance_test_folder, 'processed')\n",
    "    speclib = os.path.join(performance_test_folder, 'astral_lf_dia_lib/48_fraction_hela_PaSk_orbitrap_ms2.hdf')\n",
    "elif MODE == 'timstof':\n",
    "    raw_files = [os.path.join(performance_test_folder, 'raw_data/timstof_lf_diap/20230502_TIMS05_PaSk_SA_HeLa_21min_diaP_12scans_S2-A3_1_2089.d')]\n",
    "    output_location = os.path.join(performance_test_folder, 'outputs/timstof_lf_diaPASEF')\n",
    "    speclib = os.path.join(performance_test_folder, 'libraries/timstof/21min_Evosep_HeLa_BR14_48fractions_diaPASEF_py_diAID_2_egs.hdf')\n",
    "else:\n",
    "    raise ValueError('Unknown mode')"
   ]
  },
  {
   "cell_type": "code",
   "execution_count": 3,
   "metadata": {},
   "outputs": [
    {
     "name": "stderr",
     "output_type": "stream",
     "text": [
      "0:00:00.000459 \u001b[32;20mPROGRESS:       _   _      _         ___ ___   _   \u001b[0m\n",
      "0:00:00.001125 \u001b[32;20mPROGRESS:      /_\\ | |_ __| |_  __ _|   \\_ _| /_\\  \u001b[0m\n",
      "0:00:00.001599 \u001b[32;20mPROGRESS:     / _ \\| | '_ \\ ' \\/ _` | |) | | / _ \\ \u001b[0m\n",
      "0:00:00.001996 \u001b[32;20mPROGRESS:    /_/ \\_\\_| .__/_||_\\__,_|___/___/_/ \\_\\\u001b[0m\n",
      "0:00:00.002310 \u001b[32;20mPROGRESS:            |_|                            \u001b[0m\n",
      "0:00:00.002594 \u001b[32;20mPROGRESS: \u001b[0m\n",
      "0:00:00.002967 INFO: loading default config from /Users/vincenthbrennsteiner/Documents/mann_labs/_git_repositories/alphadia/alphadia/../misc/config/default.yaml\n",
      "0:00:00.011258 INFO: Applying config update from dict\n",
      "0:00:00.011744 \u001b[32;20mPROGRESS: version: 1.3.2\u001b[0m\n",
      "0:00:00.012068 \u001b[32;20mPROGRESS: hostname: Vincenths-MacBook-Pro.local\u001b[0m\n",
      "0:00:00.012451 \u001b[32;20mPROGRESS: date: 2023-10-17 10:38:46\u001b[0m\n",
      "0:00:00.012805 INFO: Running DynamicLoader\n",
      "0:00:02.329401 INFO: Running PrecursorInitializer\n",
      "0:00:02.331106 INFO: Running AnnotateFasta\n"
     ]
    },
    {
     "ename": "AttributeError",
     "evalue": "module 'alphabase.protein.fasta' has no attribute 'annotate_precursor_df'",
     "output_type": "error",
     "traceback": [
      "\u001b[0;31m---------------------------------------------------------------------------\u001b[0m",
      "\u001b[0;31mAttributeError\u001b[0m                            Traceback (most recent call last)",
      "\u001b[1;32m/Users/vincenthbrennsteiner/Documents/mann_labs/_git_repositories/alphadia/nbs/search/library_search.ipynb Cell 3\u001b[0m line \u001b[0;36m2\n\u001b[1;32m      <a href='vscode-notebook-cell:/Users/vincenthbrennsteiner/Documents/mann_labs/_git_repositories/alphadia/nbs/search/library_search.ipynb#W2sZmlsZQ%3D%3D?line=0'>1</a>\u001b[0m config_update \u001b[39m=\u001b[39m {\n\u001b[1;32m      <a href='vscode-notebook-cell:/Users/vincenthbrennsteiner/Documents/mann_labs/_git_repositories/alphadia/nbs/search/library_search.ipynb#W2sZmlsZQ%3D%3D?line=1'>2</a>\u001b[0m     \u001b[39m'\u001b[39m\u001b[39mgeneral\u001b[39m\u001b[39m'\u001b[39m: {\n\u001b[1;32m      <a href='vscode-notebook-cell:/Users/vincenthbrennsteiner/Documents/mann_labs/_git_repositories/alphadia/nbs/search/library_search.ipynb#W2sZmlsZQ%3D%3D?line=2'>3</a>\u001b[0m         \u001b[39m'\u001b[39m\u001b[39mreuse_calibration\u001b[39m\u001b[39m'\u001b[39m: \u001b[39mTrue\u001b[39;00m,\n\u001b[0;32m   (...)\u001b[0m\n\u001b[1;32m     <a href='vscode-notebook-cell:/Users/vincenthbrennsteiner/Documents/mann_labs/_git_repositories/alphadia/nbs/search/library_search.ipynb#W2sZmlsZQ%3D%3D?line=17'>18</a>\u001b[0m     },\n\u001b[1;32m     <a href='vscode-notebook-cell:/Users/vincenthbrennsteiner/Documents/mann_labs/_git_repositories/alphadia/nbs/search/library_search.ipynb#W2sZmlsZQ%3D%3D?line=18'>19</a>\u001b[0m }\n\u001b[0;32m---> <a href='vscode-notebook-cell:/Users/vincenthbrennsteiner/Documents/mann_labs/_git_repositories/alphadia/nbs/search/library_search.ipynb#W2sZmlsZQ%3D%3D?line=19'>20</a>\u001b[0m plan \u001b[39m=\u001b[39m planning\u001b[39m.\u001b[39;49mPlan(output_location, raw_files, speclib, config_update \u001b[39m=\u001b[39;49m config_update)\n\u001b[1;32m     <a href='vscode-notebook-cell:/Users/vincenthbrennsteiner/Documents/mann_labs/_git_repositories/alphadia/nbs/search/library_search.ipynb#W2sZmlsZQ%3D%3D?line=21'>22</a>\u001b[0m plan\u001b[39m.\u001b[39mrun()\n",
      "File \u001b[0;32m~/Documents/mann_labs/_git_repositories/alphadia/alphadia/planning.py:96\u001b[0m, in \u001b[0;36mPlan.__init__\u001b[0;34m(self, output_folder, raw_file_list, spec_lib_path, config_path, config_update_path, config_update)\u001b[0m\n\u001b[1;32m     93\u001b[0m now \u001b[39m=\u001b[39m datetime\u001b[39m.\u001b[39mtoday()\u001b[39m.\u001b[39mstrftime(\u001b[39m'\u001b[39m\u001b[39m%\u001b[39m\u001b[39mY-\u001b[39m\u001b[39m%\u001b[39m\u001b[39mm-\u001b[39m\u001b[39m%d\u001b[39;00m\u001b[39m \u001b[39m\u001b[39m%\u001b[39m\u001b[39mH:\u001b[39m\u001b[39m%\u001b[39m\u001b[39mM:\u001b[39m\u001b[39m%\u001b[39m\u001b[39mS\u001b[39m\u001b[39m'\u001b[39m)\n\u001b[1;32m     94\u001b[0m logger\u001b[39m.\u001b[39mprogress(\u001b[39mf\u001b[39m\u001b[39m'\u001b[39m\u001b[39mdate: \u001b[39m\u001b[39m{\u001b[39;00mnow\u001b[39m}\u001b[39;00m\u001b[39m'\u001b[39m)\n\u001b[0;32m---> 96\u001b[0m \u001b[39mself\u001b[39;49m\u001b[39m.\u001b[39;49mload_library(spec_lib_path)\n",
      "File \u001b[0;32m~/Documents/mann_labs/_git_repositories/alphadia/alphadia/planning.py:167\u001b[0m, in \u001b[0;36mPlan.load_library\u001b[0;34m(self, spec_lib_path)\u001b[0m\n\u001b[1;32m    159\u001b[0m \u001b[39m# the prepare pipeline is used to prepare an alphabase compatible spectral library for extraction\u001b[39;00m\n\u001b[1;32m    160\u001b[0m prepare_pipeline \u001b[39m=\u001b[39m libtransform\u001b[39m.\u001b[39mProcessingPipeline([\n\u001b[1;32m    161\u001b[0m     libtransform\u001b[39m.\u001b[39mDecoyGenerator(decoy_type\u001b[39m=\u001b[39m\u001b[39m'\u001b[39m\u001b[39mdiann\u001b[39m\u001b[39m'\u001b[39m),\n\u001b[1;32m    162\u001b[0m     libtransform\u001b[39m.\u001b[39mFlattenLibrary(),\n\u001b[1;32m    163\u001b[0m     libtransform\u001b[39m.\u001b[39mInitFlatColumns(),\n\u001b[1;32m    164\u001b[0m     libtransform\u001b[39m.\u001b[39mLogFlatLibraryStats(),\n\u001b[1;32m    165\u001b[0m ])\n\u001b[0;32m--> 167\u001b[0m speclib \u001b[39m=\u001b[39m import_pipeline(spec_lib_path)\n\u001b[1;32m    168\u001b[0m \u001b[39mif\u001b[39;00m \u001b[39mself\u001b[39m\u001b[39m.\u001b[39mconfig[\u001b[39m'\u001b[39m\u001b[39mlibrary\u001b[39m\u001b[39m'\u001b[39m][\u001b[39m'\u001b[39m\u001b[39msave_hdf\u001b[39m\u001b[39m'\u001b[39m]:\n\u001b[1;32m    169\u001b[0m     speclib\u001b[39m.\u001b[39msave_hdf(os\u001b[39m.\u001b[39mpath\u001b[39m.\u001b[39mjoin(\u001b[39mself\u001b[39m\u001b[39m.\u001b[39moutput_folder, \u001b[39m'\u001b[39m\u001b[39mspeclib.hdf\u001b[39m\u001b[39m'\u001b[39m))\n",
      "File \u001b[0;32m~/Documents/mann_labs/_git_repositories/alphadia/alphadia/libtransform.py:75\u001b[0m, in \u001b[0;36mProcessingPipeline.__call__\u001b[0;34m(self, input)\u001b[0m\n\u001b[1;32m     72\u001b[0m \u001b[39m\u001b[39m\u001b[39m\"\"\"Run the pipeline on the input object.            \u001b[39;00m\n\u001b[1;32m     73\u001b[0m \u001b[39m\"\"\"\u001b[39;00m\n\u001b[1;32m     74\u001b[0m \u001b[39mfor\u001b[39;00m step \u001b[39min\u001b[39;00m \u001b[39mself\u001b[39m\u001b[39m.\u001b[39msteps:\n\u001b[0;32m---> 75\u001b[0m     \u001b[39minput\u001b[39m \u001b[39m=\u001b[39m step(\u001b[39minput\u001b[39;49m)\n\u001b[1;32m     76\u001b[0m \u001b[39mreturn\u001b[39;00m \u001b[39minput\u001b[39m\n",
      "File \u001b[0;32m~/Documents/mann_labs/_git_repositories/alphadia/alphadia/libtransform.py:36\u001b[0m, in \u001b[0;36mProcessingStep.__call__\u001b[0;34m(self, input)\u001b[0m\n\u001b[1;32m     34\u001b[0m logger\u001b[39m.\u001b[39minfo(\u001b[39mf\u001b[39m\u001b[39m'\u001b[39m\u001b[39mRunning \u001b[39m\u001b[39m{\u001b[39;00m\u001b[39mself\u001b[39m\u001b[39m.\u001b[39m\u001b[39m__class__\u001b[39m\u001b[39m.\u001b[39m\u001b[39m__name__\u001b[39m\u001b[39m}\u001b[39;00m\u001b[39m'\u001b[39m)\n\u001b[1;32m     35\u001b[0m \u001b[39mif\u001b[39;00m \u001b[39mself\u001b[39m\u001b[39m.\u001b[39mvalidate(\u001b[39minput\u001b[39m):\n\u001b[0;32m---> 36\u001b[0m     \u001b[39mreturn\u001b[39;00m \u001b[39mself\u001b[39;49m\u001b[39m.\u001b[39;49mforward(\u001b[39minput\u001b[39;49m)\n\u001b[1;32m     37\u001b[0m \u001b[39melse\u001b[39;00m:\n\u001b[1;32m     38\u001b[0m     logger\u001b[39m.\u001b[39mcritical(\u001b[39mf\u001b[39m\u001b[39m'\u001b[39m\u001b[39mInput \u001b[39m\u001b[39m{\u001b[39;00m\u001b[39minput\u001b[39m\u001b[39m}\u001b[39;00m\u001b[39m failed validation for \u001b[39m\u001b[39m{\u001b[39;00m\u001b[39mself\u001b[39m\u001b[39m.\u001b[39m\u001b[39m__class__\u001b[39m\u001b[39m.\u001b[39m\u001b[39m__name__\u001b[39m\u001b[39m}\u001b[39;00m\u001b[39m'\u001b[39m)\n",
      "File \u001b[0;32m~/Documents/mann_labs/_git_repositories/alphadia/alphadia/libtransform.py:204\u001b[0m, in \u001b[0;36mAnnotateFasta.forward\u001b[0;34m(self, input)\u001b[0m\n\u001b[1;32m    199\u001b[0m \u001b[39m\u001b[39m\u001b[39m\"\"\"Annotate the precursor dataframe with protein information from a FASTA file.\"\"\"\u001b[39;00m\n\u001b[1;32m    201\u001b[0m protein_df \u001b[39m=\u001b[39m fasta\u001b[39m.\u001b[39mload_fasta_list_as_protein_df(\n\u001b[1;32m    202\u001b[0m     \u001b[39mself\u001b[39m\u001b[39m.\u001b[39mfasta_path_list\n\u001b[1;32m    203\u001b[0m )\n\u001b[0;32m--> 204\u001b[0m \u001b[39minput\u001b[39m\u001b[39m.\u001b[39m_precursor_df \u001b[39m=\u001b[39m fasta\u001b[39m.\u001b[39;49mannotate_precursor_df(\u001b[39minput\u001b[39m\u001b[39m.\u001b[39mprecursor_df, protein_df)\n\u001b[1;32m    206\u001b[0m \u001b[39mif\u001b[39;00m \u001b[39mself\u001b[39m\u001b[39m.\u001b[39mdrop_unannotated \u001b[39mand\u001b[39;00m \u001b[39m'\u001b[39m\u001b[39mcardinality\u001b[39m\u001b[39m'\u001b[39m \u001b[39min\u001b[39;00m \u001b[39minput\u001b[39m\u001b[39m.\u001b[39m_precursor_df\u001b[39m.\u001b[39mcolumns:\n\u001b[1;32m    207\u001b[0m     \u001b[39minput\u001b[39m\u001b[39m.\u001b[39m_precursor_df \u001b[39m=\u001b[39m \u001b[39minput\u001b[39m\u001b[39m.\u001b[39m_precursor_df[\u001b[39minput\u001b[39m\u001b[39m.\u001b[39m_precursor_df[\u001b[39m'\u001b[39m\u001b[39mcardinality\u001b[39m\u001b[39m'\u001b[39m] \u001b[39m>\u001b[39m \u001b[39m0\u001b[39m]\n",
      "\u001b[0;31mAttributeError\u001b[0m: module 'alphabase.protein.fasta' has no attribute 'annotate_precursor_df'"
     ]
    }
   ],
   "source": [
    "config_update = {\n",
    "    'general': {\n",
    "        'reuse_calibration': True,\n",
    "        'thread_count': 10,\n",
    "        'astral_ms1': False\n",
    "        },\n",
    "    'calibration': {\n",
    "        'norm_rt_mode': 'linear'\n",
    "    },\n",
    "    'library': {\n",
    "        'save_hdf': True\n",
    "    },\n",
    "    'extraction_target': {\n",
    "        'target_num_candidates': 5,\n",
    "        'target_ms1_tolerance': 3 if MODE == 'astral' else 15,\n",
    "        'target_ms2_tolerance': 5 if MODE == 'astral' else 15,\n",
    "        'target_rt_tolerance': 150\n",
    "    },\n",
    "}\n",
    "plan = planning.Plan(output_location, raw_files, speclib, config_update = config_update)\n",
    "\n",
    "plan.run()"
   ]
  },
  {
   "cell_type": "code",
   "execution_count": null,
   "metadata": {},
   "outputs": [],
   "source": []
  }
 ],
 "metadata": {
  "kernelspec": {
   "display_name": "alpha",
   "language": "python",
   "name": "python3"
  },
  "language_info": {
   "codemirror_mode": {
    "name": "ipython",
    "version": 3
   },
   "file_extension": ".py",
   "mimetype": "text/x-python",
   "name": "python",
   "nbconvert_exporter": "python",
   "pygments_lexer": "ipython3",
   "version": "3.9.18"
  },
  "orig_nbformat": 4
 },
 "nbformat": 4,
 "nbformat_minor": 2
}
