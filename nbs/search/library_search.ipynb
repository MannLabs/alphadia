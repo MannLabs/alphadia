{
 "cells": [
  {
   "cell_type": "code",
   "execution_count": null,
   "metadata": {},
   "outputs": [],
   "source": [
    "%reload_ext autoreload\n",
    "%autoreload 2\n",
    "\n",
    "import numpy as np\n",
    "import pandas as pd\n",
    "import matplotlib.pyplot as plt\n",
    "import seaborn as sns\n",
    "import os\n",
    "\n",
    "from alphabase.spectral_library.base import SpecLibBase\n",
    "from alphadia.extraction import data, planning\n",
    "from alphadia.extraction.workflow import manager, peptidecentric"
   ]
  },
  {
   "cell_type": "code",
   "execution_count": null,
   "metadata": {},
   "outputs": [],
   "source": [
    "performance_test_folder = '/Users/georgwallmann/Documents/data/performance_tests'\n",
    "\n",
    "MODE = 'astral'\n",
    "\n",
    "if MODE == 'astral':\n",
    "    raw_files = [os.path.join(performance_test_folder, 'raw_data/astral_lf_dia/20230815_OA1_SoSt_SA_Whisper40_ADIAMA_HeLa_5ng_8Th14ms_FAIMS-40_1900V_noLoopCount_01.raw')]\n",
    "    output_location = os.path.join(performance_test_folder, 'outputs/astral_lf_dia')\n",
    "    speclib = os.path.join(performance_test_folder, 'libraries/astral/48_fraction_hela_PaSk_orbitrap_ms2.hdf')\n",
    "elif MODE == 'timstof':\n",
    "    raw_files = [os.path.join(performance_test_folder, 'raw_data/timstof_lf_diap/20230502_TIMS05_PaSk_SA_HeLa_21min_diaP_12scans_S2-A3_1_2089.d')]\n",
    "    output_location = os.path.join(performance_test_folder, 'outputs/timstof_lf_diaPASEF')\n",
    "    speclib = os.path.join(performance_test_folder, 'libraries/timstof/21min_Evosep_HeLa_BR14_48fractions_diaPASEF_py_diAID_2_egs.hdf')\n",
    "else:\n",
    "    raise ValueError('Unknown mode')"
   ]
  },
  {
   "cell_type": "code",
   "execution_count": null,
   "metadata": {},
   "outputs": [],
   "source": [
    "test_lib = SpecLibBase()\n",
    "test_lib.load_hdf(speclib, load_mod_seq=True)\n",
    "plan = planning.Plan(output_location, raw_files, test_lib)\n",
    "\n",
    "plan.config['general']['reuse_calibration'] = False\n",
    "plan.config['general']['thread_count'] = 10\n",
    "plan.config['general']['astral_ms1'] = False\n",
    "plan.config['calibration']['norm_rt_mode'] = 'linear'\n",
    "\n",
    "plan.config['extraction_target']['target_num_candidates'] = 5\n",
    "plan.config['extraction_target']['target_ms1_tolerance'] = 3 if MODE == 'astral' else 15\n",
    "plan.config['extraction_target']['target_ms2_tolerance'] = 5 if MODE == 'astral' else 15\n",
    "plan.config['extraction_target']['target_rt_tolerance'] = 150\n",
    "\n",
    "plan.run()"
   ]
  }
 ],
 "metadata": {
  "kernelspec": {
   "display_name": "alpha",
   "language": "python",
   "name": "python3"
  },
  "language_info": {
   "codemirror_mode": {
    "name": "ipython",
    "version": 3
   },
   "file_extension": ".py",
   "mimetype": "text/x-python",
   "name": "python",
   "nbconvert_exporter": "python",
   "pygments_lexer": "ipython3",
   "version": "3.9.13"
  },
  "orig_nbformat": 4
 },
 "nbformat": 4,
 "nbformat_minor": 2
}
