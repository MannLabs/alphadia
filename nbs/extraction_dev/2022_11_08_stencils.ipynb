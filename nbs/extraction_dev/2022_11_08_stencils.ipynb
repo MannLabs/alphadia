{
 "cells": [
  {
   "cell_type": "code",
   "execution_count": 3,
   "metadata": {},
   "outputs": [],
   "source": [
    "%reload_ext autoreload\n",
    "%autoreload 2\n",
    "\n",
    "import numpy as np\n",
    "import matplotlib.pyplot as plt"
   ]
  },
  {
   "cell_type": "code",
   "execution_count": 4,
   "metadata": {},
   "outputs": [],
   "source": [
    "from alphadia.extraction.utils import kernel_1d, kernel_2d, kernel_2d_fft"
   ]
  },
  {
   "cell_type": "code",
   "execution_count": 5,
   "metadata": {},
   "outputs": [
    {
     "ename": "TypeError",
     "evalue": "Mismatch number of argument types",
     "output_type": "error",
     "traceback": [
      "\u001b[0;31m---------------------------------------------------------------------------\u001b[0m",
      "\u001b[0;31mTypeError\u001b[0m                                 Traceback (most recent call last)",
      "\u001b[1;32m/Users/georgwallmann/Documents/git/alphadia/nbs/extraction_dev/2022_11_08_stencils.ipynb Cell 3\u001b[0m in \u001b[0;36m<cell line: 12>\u001b[0;34m()\u001b[0m\n\u001b[1;32m      <a href='vscode-notebook-cell:/Users/georgwallmann/Documents/git/alphadia/nbs/extraction_dev/2022_11_08_stencils.ipynb#W2sZmlsZQ%3D%3D?line=8'>9</a>\u001b[0m axs[\u001b[39m0\u001b[39m]\u001b[39m.\u001b[39mstem(x_sparse, y_sparse, markerfmt\u001b[39m=\u001b[39m\u001b[39m'\u001b[39m\u001b[39m \u001b[39m\u001b[39m'\u001b[39m, basefmt\u001b[39m=\u001b[39m \u001b[39m'\u001b[39m\u001b[39m \u001b[39m\u001b[39m'\u001b[39m, label\u001b[39m=\u001b[39m\u001b[39m'\u001b[39m\u001b[39mraw data\u001b[39m\u001b[39m'\u001b[39m)\n\u001b[1;32m     <a href='vscode-notebook-cell:/Users/georgwallmann/Documents/git/alphadia/nbs/extraction_dev/2022_11_08_stencils.ipynb#W2sZmlsZQ%3D%3D?line=10'>11</a>\u001b[0m kernel_1 \u001b[39m=\u001b[39m kernel_1d(\u001b[39m2\u001b[39m,\u001b[39m1\u001b[39m)\n\u001b[0;32m---> <a href='vscode-notebook-cell:/Users/georgwallmann/Documents/git/alphadia/nbs/extraction_dev/2022_11_08_stencils.ipynb#W2sZmlsZQ%3D%3D?line=11'>12</a>\u001b[0m axs[\u001b[39m0\u001b[39m]\u001b[39m.\u001b[39mplot(x_sparse, kernel_1(y_sparse), \u001b[39m'\u001b[39m\u001b[39m.g-\u001b[39m\u001b[39m'\u001b[39m, label\u001b[39m=\u001b[39m\u001b[39m'\u001b[39m\u001b[39msigma: 1 , size: 2\u001b[39m\u001b[39m'\u001b[39m)\n\u001b[1;32m     <a href='vscode-notebook-cell:/Users/georgwallmann/Documents/git/alphadia/nbs/extraction_dev/2022_11_08_stencils.ipynb#W2sZmlsZQ%3D%3D?line=13'>14</a>\u001b[0m kernel_2 \u001b[39m=\u001b[39m kernel_1d(\u001b[39m4\u001b[39m,\u001b[39m2\u001b[39m)\n\u001b[1;32m     <a href='vscode-notebook-cell:/Users/georgwallmann/Documents/git/alphadia/nbs/extraction_dev/2022_11_08_stencils.ipynb#W2sZmlsZQ%3D%3D?line=14'>15</a>\u001b[0m axs[\u001b[39m0\u001b[39m]\u001b[39m.\u001b[39mplot(x_sparse, kernel_2(y_sparse), \u001b[39m'\u001b[39m\u001b[39m.r-\u001b[39m\u001b[39m'\u001b[39m, label\u001b[39m=\u001b[39m\u001b[39m'\u001b[39m\u001b[39msigma: 2 , size: 4\u001b[39m\u001b[39m'\u001b[39m)\n",
      "File \u001b[0;32m~/miniconda3/envs/alphadia/lib/python3.8/site-packages/numba/stencils/stencil.py:796\u001b[0m, in \u001b[0;36mStencilFunc.__call__\u001b[0;34m(self, *args, **kwargs)\u001b[0m\n\u001b[1;32m    793\u001b[0m \u001b[39mif\u001b[39;00m config\u001b[39m.\u001b[39mDEBUG_ARRAY_OPT \u001b[39m>\u001b[39m\u001b[39m=\u001b[39m \u001b[39m1\u001b[39m:\n\u001b[1;32m    794\u001b[0m     \u001b[39mprint\u001b[39m(\u001b[39m\"\u001b[39m\u001b[39m__call__\u001b[39m\u001b[39m\"\u001b[39m, array_types, args, kwargs)\n\u001b[0;32m--> 796\u001b[0m (real_ret, typemap, calltypes) \u001b[39m=\u001b[39m \u001b[39mself\u001b[39;49m\u001b[39m.\u001b[39;49mget_return_type(array_types)\n\u001b[1;32m    797\u001b[0m new_func \u001b[39m=\u001b[39m \u001b[39mself\u001b[39m\u001b[39m.\u001b[39m_stencil_wrapper(result, \u001b[39mNone\u001b[39;00m, real_ret, typemap,\n\u001b[1;32m    798\u001b[0m                                  calltypes, \u001b[39m*\u001b[39marray_types_full)\n\u001b[1;32m    800\u001b[0m \u001b[39mif\u001b[39;00m result \u001b[39mis\u001b[39;00m \u001b[39mNone\u001b[39;00m:\n",
      "File \u001b[0;32m~/miniconda3/envs/alphadia/lib/python3.8/site-packages/numba/stencils/stencil.py:348\u001b[0m, in \u001b[0;36mStencilFunc.get_return_type\u001b[0;34m(self, argtys)\u001b[0m\n\u001b[1;32m    344\u001b[0m     \u001b[39mraise\u001b[39;00m NumbaValueError(\u001b[39m\"\u001b[39m\u001b[39mThe first argument to a stencil kernel must \u001b[39m\u001b[39m\"\u001b[39m\n\u001b[1;32m    345\u001b[0m                           \u001b[39m\"\u001b[39m\u001b[39mbe the primary input array.\u001b[39m\u001b[39m\"\u001b[39m)\n\u001b[1;32m    347\u001b[0m \u001b[39mfrom\u001b[39;00m \u001b[39mnumba\u001b[39;00m\u001b[39m.\u001b[39;00m\u001b[39mcore\u001b[39;00m \u001b[39mimport\u001b[39;00m typed_passes\n\u001b[0;32m--> 348\u001b[0m typemap, return_type, calltypes, _ \u001b[39m=\u001b[39m typed_passes\u001b[39m.\u001b[39;49mtype_inference_stage(\n\u001b[1;32m    349\u001b[0m         \u001b[39mself\u001b[39;49m\u001b[39m.\u001b[39;49m_typingctx,\n\u001b[1;32m    350\u001b[0m         \u001b[39mself\u001b[39;49m\u001b[39m.\u001b[39;49m_targetctx,\n\u001b[1;32m    351\u001b[0m         \u001b[39mself\u001b[39;49m\u001b[39m.\u001b[39;49mkernel_ir,\n\u001b[1;32m    352\u001b[0m         argtys,\n\u001b[1;32m    353\u001b[0m         \u001b[39mNone\u001b[39;49;00m,\n\u001b[1;32m    354\u001b[0m         {})\n\u001b[1;32m    355\u001b[0m \u001b[39mif\u001b[39;00m \u001b[39misinstance\u001b[39m(return_type, types\u001b[39m.\u001b[39mnpytypes\u001b[39m.\u001b[39mArray):\n\u001b[1;32m    356\u001b[0m     \u001b[39mraise\u001b[39;00m NumbaValueError(\n\u001b[1;32m    357\u001b[0m         \u001b[39m\"\u001b[39m\u001b[39mStencil kernel must return a scalar and not a numpy array.\u001b[39m\u001b[39m\"\u001b[39m)\n",
      "File \u001b[0;32m~/miniconda3/envs/alphadia/lib/python3.8/site-packages/numba/core/typed_passes.py:64\u001b[0m, in \u001b[0;36mtype_inference_stage\u001b[0;34m(typingctx, targetctx, interp, args, return_type, locals, raise_errors)\u001b[0m\n\u001b[1;32m     61\u001b[0m \u001b[39mdef\u001b[39;00m \u001b[39mtype_inference_stage\u001b[39m(typingctx, targetctx, interp, args, return_type,\n\u001b[1;32m     62\u001b[0m                          \u001b[39mlocals\u001b[39m\u001b[39m=\u001b[39m{}, raise_errors\u001b[39m=\u001b[39m\u001b[39mTrue\u001b[39;00m):\n\u001b[1;32m     63\u001b[0m     \u001b[39mif\u001b[39;00m \u001b[39mlen\u001b[39m(args) \u001b[39m!=\u001b[39m interp\u001b[39m.\u001b[39marg_count:\n\u001b[0;32m---> 64\u001b[0m         \u001b[39mraise\u001b[39;00m \u001b[39mTypeError\u001b[39;00m(\u001b[39m\"\u001b[39m\u001b[39mMismatch number of argument types\u001b[39m\u001b[39m\"\u001b[39m)\n\u001b[1;32m     65\u001b[0m     warnings \u001b[39m=\u001b[39m errors\u001b[39m.\u001b[39mWarningsFixer(errors\u001b[39m.\u001b[39mNumbaWarning)\n\u001b[1;32m     66\u001b[0m     infer \u001b[39m=\u001b[39m typeinfer\u001b[39m.\u001b[39mTypeInferer(typingctx, interp, warnings)\n",
      "\u001b[0;31mTypeError\u001b[0m: Mismatch number of argument types"
     ]
    },
    {
     "data": {
      "image/png": "[encoded data removed]",
      "text/plain": [
       "<Figure size 1000x500 with 2 Axes>"
      ]
     },
     "metadata": {},
     "output_type": "display_data"
    }
   ],
   "source": [
    "# create test data\n",
    "# y values will be whole numbers from 0 to 100\n",
    "x_sparse = np.arange(0,100)\n",
    "# x values will be uniform noise with single peaks reaching out of the noise\n",
    "y_sparse = np.maximum((np.random.random(100)-0.8)/0.1,0)+np.random.random(100)*0.1\n",
    "\n",
    "\n",
    "fig, axs = plt.subplots(nrows=2,sharey=True, figsize=(10,5))\n",
    "axs[0].stem(x_sparse, y_sparse, markerfmt=' ', basefmt= ' ', label='raw data')\n",
    "\n",
    "kernel_1 = kernel_1d(2,1)\n",
    "axs[0].plot(x_sparse, kernel_1(y_sparse), '.g-', label='sigma: 1 , size: 2')\n",
    "\n",
    "kernel_2 = kernel_1d(4,2)\n",
    "axs[0].plot(x_sparse, kernel_2(y_sparse), '.r-', label='sigma: 2 , size: 4')\n",
    "\n",
    "axs[0].legend(loc='upper left')\n",
    "axs[0].set_xlabel('x')\n",
    "axs[0].set_ylabel('y')\n",
    "\n",
    "\n",
    "axs[1].stem(x_sparse, y_sparse, markerfmt=' ', basefmt= ' ', label='raw data')\n",
    "\n",
    "kernel_1 = kernel_1d(4,2,norm='max')\n",
    "axs[1].plot(x_sparse, kernel_1(y_sparse), '.g-', label='sigma: 2 , size: 4, norm: max')\n",
    "\n",
    "kernel_2 = kernel_1d(4,2,norm='sum')\n",
    "axs[1].plot(x_sparse, kernel_2(y_sparse), '.r-', label='sigma: 2 , size: 4, norm: sum')\n",
    "axs[1].legend(loc='upper left')\n",
    "axs[1].set_xlabel('x')\n",
    "axs[1].set_ylabel('y')\n",
    "plt.show()"
   ]
  },
  {
   "cell_type": "code",
   "execution_count": null,
   "metadata": {},
   "outputs": [],
   "source": []
  },
  {
   "cell_type": "code",
   "execution_count": 4,
   "metadata": {},
   "outputs": [
    {
     "data": {
      "image/png": "[encoded data removed]",
      "text/plain": [
       "<Figure size 640x480 with 1 Axes>"
      ]
     },
     "metadata": {},
     "output_type": "display_data"
    },
    {
     "name": "stdout",
     "output_type": "stream",
     "text": [
      "(11, 102)\n"
     ]
    },
    {
     "data": {
      "image/png": "[encoded data removed]",
      "text/plain": [
       "<Figure size 640x480 with 1 Axes>"
      ]
     },
     "metadata": {},
     "output_type": "display_data"
    }
   ],
   "source": [
    "dense = np.random.random((11,102))\n",
    "\n",
    "smooth = kernel_2d(3,2)(dense)\n",
    "\n",
    "plt.imshow(smooth)\n",
    "plt.show()\n",
    "\n",
    "smooth = kernel_2d_fft(3,2)(dense)\n",
    "print(smooth.shape)\n",
    "plt.imshow(smooth)\n",
    "plt.show()"
   ]
  },
  {
   "cell_type": "code",
   "execution_count": null,
   "metadata": {},
   "outputs": [],
   "source": []
  },
  {
   "cell_type": "code",
   "execution_count": 10,
   "metadata": {},
   "outputs": [
    {
     "name": "stdout",
     "output_type": "stream",
     "text": [
      "Numba without FFT\n",
      "Numpy with FFT\n"
     ]
    }
   ],
   "source": [
    "dense = np.random.random((100,100))\n",
    "\n",
    "print('Numba without FFT')\n",
    "\n",
    "\n",
    "\n",
    "#%timeit k(dense)\n",
    "\n",
    "print('Numpy with FFT')\n",
    "#ft_k = kernel_2d_fft(3,2)\n",
    "#%timeit fft_k(dense)"
   ]
  },
  {
   "cell_type": "code",
   "execution_count": 8,
   "metadata": {},
   "outputs": [],
   "source": [
    "k = kernel_2d(3,2)\n"
   ]
  },
  {
   "cell_type": "code",
   "execution_count": 13,
   "metadata": {},
   "outputs": [
    {
     "name": "stdout",
     "output_type": "stream",
     "text": [
      "163 ms ± 532 µs per loop (mean ± std. dev. of 7 runs, 10 loops each)\n"
     ]
    }
   ],
   "source": [
    "a = np.array([-1,1,1])\n",
    "b = np.array([-1,1,1])\n",
    "c = np.array([1,1,1])\n",
    "\n",
    "%timeit k(dense, a,b,c)"
   ]
  },
  {
   "cell_type": "code",
   "execution_count": null,
   "metadata": {},
   "outputs": [],
   "source": []
  }
 ],
 "metadata": {
  "kernelspec": {
   "display_name": "alphadia",
   "language": "python",
   "name": "python3"
  },
  "language_info": {
   "codemirror_mode": {
    "name": "ipython",
    "version": 3
   },
   "file_extension": ".py",
   "mimetype": "text/x-python",
   "name": "python",
   "nbconvert_exporter": "python",
   "pygments_lexer": "ipython3",
   "version": "3.8.13"
  },
  "orig_nbformat": 4,
  "vscode": {
   "interpreter": {
    "hash": "73529403064d3d77076e792311ea0c557580cb84bf922625b9090c035bb21740"
   }
  }
 },
 "nbformat": 4,
 "nbformat_minor": 2
}
