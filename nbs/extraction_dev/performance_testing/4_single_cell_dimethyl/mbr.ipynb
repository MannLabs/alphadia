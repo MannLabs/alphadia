{
 "cells": [
  {
   "cell_type": "code",
   "execution_count": 167,
   "metadata": {},
   "outputs": [],
   "source": [
    "%reload_ext autoreload\n",
    "%autoreload 2\n",
    "import pandas as pd\n",
    "import numpy as np\n",
    "import os\n",
    "\n",
    "import logging\n",
    "logging.getLogger().setLevel(logging.INFO)\n",
    "\n",
    "from alphabase.spectral_library.base import SpecLibBase"
   ]
  },
  {
   "cell_type": "code",
   "execution_count": 168,
   "metadata": {},
   "outputs": [],
   "source": [
    "folder = '/Users/georgwallmann/Documents/data/alphadia_benchmarking/alphadia_runs/2023_04_27_alphadia_mDIA_synchroPasef/data_small_lib/'\n",
    "label = '_d0.tsv'"
   ]
  },
  {
   "cell_type": "code",
   "execution_count": 169,
   "metadata": {},
   "outputs": [],
   "source": [
    "raw_files = [os.path.join(folder,f) for f in os.listdir(folder) if f.endswith(label)]"
   ]
  },
  {
   "cell_type": "code",
   "execution_count": 170,
   "metadata": {},
   "outputs": [],
   "source": [
    "df_list = []\n",
    "for file in raw_files:\n",
    "    run_df = pd.read_csv(file, sep='\\t')\n",
    "    run_df = run_df[run_df['qval'] < 0.01]\n",
    "    run_df['run'] = os.path.basename(file)\n",
    "\n",
    "    df_list.append(run_df)\n",
    "df = pd.concat(df_list)"
   ]
  },
  {
   "cell_type": "code",
   "execution_count": 171,
   "metadata": {},
   "outputs": [],
   "source": [
    "df['rt_deviation'] = df['rt_error'] / df['rt_calibrated']\n",
    "df['mobility_deviation'] = df['mobility_error'] / df['mobility_calibrated']"
   ]
  },
  {
   "cell_type": "code",
   "execution_count": 172,
   "metadata": {},
   "outputs": [],
   "source": [
    "rt_deviation = df.groupby('elution_group_idx', as_index=False)['rt_error'].agg(['median', 'std','count']).reset_index()\n",
    "rt_deviation = rt_deviation.sort_values('elution_group_idx')\n",
    "mobility_deviation = df.groupby('elution_group_idx', as_index=False)['mobility_error'].agg(['median', 'std','count']).reset_index()\n",
    "mobility_deviation = mobility_deviation.sort_values('elution_group_idx')\n",
    "\n",
    "valid_elution_groups = set(mobility_deviation['elution_group_idx'].unique()).intersection(set(rt_deviation['elution_group_idx'].unique()))"
   ]
  },
  {
   "cell_type": "code",
   "execution_count": 173,
   "metadata": {},
   "outputs": [
    {
     "data": {
      "text/plain": [
       "44067"
      ]
     },
     "execution_count": 173,
     "metadata": {},
     "output_type": "execute_result"
    }
   ],
   "source": [
    "len(valid_elution_groups)"
   ]
  },
  {
   "cell_type": "code",
   "execution_count": 174,
   "metadata": {},
   "outputs": [],
   "source": [
    "input_lib_path = '/Users/georgwallmann/Documents/data/alphadia_benchmarking/libraries/marvin_scp/MSfragger_library_mod_noLossType_d0_d4_d8_d12_shared_eg_n_fragments.hdf'\n",
    "output_lib_path = '/Users/georgwallmann/Documents/data/alphadia_benchmarking/libraries/marvin_scp/MSfragger_library_mod_noLossType_d0_d4_d8_d12_shared_eg_n_fragments_mbr.hdf'\n",
    "\n",
    "input_lib = SpecLibBase()\n",
    "input_lib.load_hdf(input_lib_path, load_mod_seq=True)"
   ]
  },
  {
   "cell_type": "code",
   "execution_count": 175,
   "metadata": {},
   "outputs": [],
   "source": [
    "input_lib._precursor_df = input_lib._precursor_df[input_lib._precursor_df['elution_group_idx'].isin(valid_elution_groups)]\n",
    "input_lib._precursor_df.sort_values('elution_group_idx', inplace=True)"
   ]
  },
  {
   "cell_type": "code",
   "execution_count": 176,
   "metadata": {},
   "outputs": [
    {
     "data": {
      "text/plain": [
       "Index(['charge', 'decoy', 'frag_start_idx', 'frag_stop_idx', 'mobility',\n",
       "       'mod_seq_charge_hash', 'mod_seq_hash', 'nAA', 'precursor_mz', 'rt',\n",
       "       'ccs', 'channel', 'elution_group_idx', 'genes', 'i_0', 'i_1', 'i_2',\n",
       "       'i_3', 'i_4', 'i_5', 'mod_sites', 'mods', 'n_fragments',\n",
       "       'n_fragments_allowed', 'proteins', 'rt_norm', 'sequence'],\n",
       "      dtype='object')"
      ]
     },
     "execution_count": 176,
     "metadata": {},
     "output_type": "execute_result"
    }
   ],
   "source": [
    "input_lib._precursor_df.columns"
   ]
  },
  {
   "cell_type": "code",
   "execution_count": 177,
   "metadata": {},
   "outputs": [],
   "source": [
    "rt_lookup = np.searchsorted(rt_deviation['elution_group_idx'].values, input_lib._precursor_df['elution_group_idx'].values)\n",
    "input_lib._precursor_df['rt_norm'] = input_lib._precursor_df['rt_norm'] + input_lib._precursor_df['rt_norm'] * rt_deviation['median'].values[rt_lookup]\n",
    "mobility_lookup = np.searchsorted(mobility_deviation['elution_group_idx'].values, input_lib._precursor_df['elution_group_idx'].values)\n",
    "input_lib._precursor_df['mobility'] = input_lib._precursor_df['mobility'] + input_lib._precursor_df['mobility'] * mobility_deviation['median'].values[mobility_lookup]"
   ]
  },
  {
   "cell_type": "code",
   "execution_count": 178,
   "metadata": {},
   "outputs": [],
   "source": [
    "input_lib.remove_unused_fragments()"
   ]
  },
  {
   "cell_type": "code",
   "execution_count": 179,
   "metadata": {},
   "outputs": [
    {
     "data": {
      "text/plain": [
       "<AxesSubplot:>"
      ]
     },
     "execution_count": 179,
     "metadata": {},
     "output_type": "execute_result"
    },
    {
     "data": {
      "image/png": "[encoded data removed]",
      "text/plain": [
       "<Figure size 640x480 with 1 Axes>"
      ]
     },
     "metadata": {},
     "output_type": "display_data"
    }
   ],
   "source": [
    "input_lib._precursor_df['mobility'].hist()"
   ]
  },
  {
   "cell_type": "code",
   "execution_count": 180,
   "metadata": {},
   "outputs": [],
   "source": [
    "input_lib.save_hdf(output_lib_path)"
   ]
  },
  {
   "cell_type": "code",
   "execution_count": 285,
   "metadata": {},
   "outputs": [],
   "source": [
    "diann_export_lib = input_lib.copy()\n",
    "diann_export_lib._precursor_df = diann_export_lib._precursor_df[diann_export_lib._precursor_df['channel'] == 0]\n",
    "diann_export_lib._precursor_df = diann_export_lib._precursor_df[diann_export_lib._precursor_df['decoy'] == 0]"
   ]
  },
  {
   "cell_type": "code",
   "execution_count": 287,
   "metadata": {},
   "outputs": [
    {
     "name": "stderr",
     "output_type": "stream",
     "text": [
      "44067it [00:04, 9246.09it/s] \n"
     ]
    }
   ],
   "source": [
    "from alphabase.spectral_library import translate\n",
    "\n",
    "diann_df = translate.speclib_to_single_df(diann_export_lib)"
   ]
  },
  {
   "cell_type": "code",
   "execution_count": 289,
   "metadata": {},
   "outputs": [],
   "source": [
    "diann_df.to_csv('/Users/georgwallmann/Documents/data/alphadia_benchmarking/libraries/marvin_scp/MSfragger_library_mod_noLossType_d0_d4_d8_d12_shared_eg_n_fragments_mbr.tsv', sep='\\t', index=False)"
   ]
  }
 ],
 "metadata": {
  "kernelspec": {
   "display_name": "alpha",
   "language": "python",
   "name": "python3"
  },
  "language_info": {
   "codemirror_mode": {
    "name": "ipython",
    "version": 3
   },
   "file_extension": ".py",
   "mimetype": "text/x-python",
   "name": "python",
   "nbconvert_exporter": "python",
   "pygments_lexer": "ipython3",
   "version": "3.9.13"
  },
  "orig_nbformat": 4
 },
 "nbformat": 4,
 "nbformat_minor": 2
}
