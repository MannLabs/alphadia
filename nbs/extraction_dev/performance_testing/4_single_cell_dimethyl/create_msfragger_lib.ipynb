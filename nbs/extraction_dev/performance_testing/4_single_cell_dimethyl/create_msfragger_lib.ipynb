{
 "cells": [
  {
   "cell_type": "code",
   "execution_count": 1,
   "metadata": {},
   "outputs": [
    {
     "name": "stderr",
     "output_type": "stream",
     "text": [
      "WARNING:root:WARNING: Temp mmap arrays are written to /var/folders/lc/9594t94d5b5_gn0y04w1jh980000gn/T/temp_mmap_yjxcfbyf. Cleanup of this folder is OS dependant, and might need to be triggered manually! Current space: 858,806,063,104\n",
      "WARNING:root:WARNING: No Bruker libraries are available for this operating system. Mobility and m/z values need to be estimated. While this estimation often returns acceptable results with errors < 0.02 Th, huge errors (e.g. offsets of 6 Th) have already been observed for some samples!\n",
      "INFO:root:\n"
     ]
    }
   ],
   "source": [
    "%reload_ext autoreload\n",
    "%autoreload 2\n",
    "import pandas as pd\n",
    "import numpy as np\n",
    "import os\n",
    "\n",
    "import logging\n",
    "logging.getLogger().setLevel(logging.INFO)\n",
    "\n",
    "from alphabase.spectral_library.flat import SpecLibFlat\n",
    "from alphabase.spectral_library.base import SpecLibBase\n",
    "from alphabase.spectral_library.reader import LibraryReaderBase\n",
    "from tqdm import tqdm\n",
    "from alphabase.peptide.precursor import get_mod_seq_formula\n",
    "from alphabase.constants.isotope import IsotopeDistribution\n",
    "from alphadia.extraction.utils import reannotate_fragments\n",
    "from alphabase.psm_reader import psm_reader_provider"
   ]
  },
  {
   "cell_type": "code",
   "execution_count": 2,
   "metadata": {},
   "outputs": [],
   "source": [
    "import warnings \n",
    "\n",
    "def fragment_number(precursor_df, fragment_intensity_df) :\n",
    "    if not set(['frag_start_idx', 'frag_stop_idx']).issubset(precursor_df.columns):\n",
    "        warnings.warn('frag_start_idx and frag_stop_idx not in dataframe')\n",
    "        return\n",
    "    \n",
    "    n_fragments = []\n",
    "    \n",
    "    for start, stop in zip(precursor_df['frag_start_idx'].values, precursor_df['frag_stop_idx'].values):\n",
    "        n_fragments += [np.sum(fragment_intensity_df.iloc[start:stop].values > 0)]\n",
    "\n",
    "    precursor_df['n_fragments'] = n_fragments\n",
    "\n",
    "def calc_isotope_dist(precursor_df, max_isotope = 6, min_intensity = 0.001):\n",
    "    isotope_dist = IsotopeDistribution()\n",
    "\n",
    "    col_names = ['i_{}'.format(i) for i in range(max_isotope)]\n",
    "    precursor_df[col_names] = 0.\n",
    "\n",
    "    for i in tqdm(range(len(precursor_df))):\n",
    "\n",
    "        row = precursor_df.iloc[i]\n",
    "        dist, mono = isotope_dist.calc_formula_distribution(\n",
    "            get_mod_seq_formula(row['sequence'], row['mods'])\n",
    "        )\n",
    "        dist[dist < 0.001] = 0.\n",
    "        dist = dist / dist.sum()\n",
    "        precursor_df.loc[i, col_names] = dist[:max_isotope]"
   ]
  },
  {
   "cell_type": "code",
   "execution_count": 3,
   "metadata": {},
   "outputs": [],
   "source": [
    "lib_location = '/Users/georgwallmann/Documents/data/alphadia_benchmarking/libraries/marvin_scp/4split_DIANNlib_pass_SM03_50files_splitSearch_FengLib4.tsv'\n",
    "#insilico_lib_location = '/Users/georgwallmann/Documents/data/libraries/2022_111_brunner_2022_1ng_all_29_human_trypsin_diann_decoy.hdf'\n",
    "output_location = '/Users/georgwallmann/Documents/data/alphadia_benchmarking/libraries/marvin_scp/4split_DIANNlib_pass_SM03_50files_splitSearch_d0_d4_d8_d12_shared_eg_unlimited_fragments.hdf'"
   ]
  },
  {
   "cell_type": "code",
   "execution_count": 4,
   "metadata": {},
   "outputs": [],
   "source": [
    "# create dense library from diann psm file\n",
    "target_lib = LibraryReaderBase()\n",
    "target_lib.add_modification_mapping(\n",
    "    {'Oxidation@M':['M(Oxidation)'],\n",
    "     'Dimethyl@K':['K(Dimethyl)'],\n",
    "     'Dimethyl@R':['R(Dimethyl)'],\n",
    "     'Dimethyl@Any N-term':['(Dimethyl)']\n",
    "    }\n",
    ")\n",
    "psm = target_lib.import_file(lib_location)"
   ]
  },
  {
   "cell_type": "code",
   "execution_count": 5,
   "metadata": {},
   "outputs": [
    {
     "data": {
      "text/html": [
       "<div>\n",
       "<style scoped>\n",
       "    .dataframe tbody tr th:only-of-type {\n",
       "        vertical-align: middle;\n",
       "    }\n",
       "\n",
       "    .dataframe tbody tr th {\n",
       "        vertical-align: top;\n",
       "    }\n",
       "\n",
       "    .dataframe thead th {\n",
       "        text-align: right;\n",
       "    }\n",
       "</style>\n",
       "<table border=\"1\" class=\"dataframe\">\n",
       "  <thead>\n",
       "    <tr style=\"text-align: right;\">\n",
       "      <th></th>\n",
       "      <th>mods</th>\n",
       "      <th>precursor_mz</th>\n",
       "      <th>rt</th>\n",
       "      <th>proteins</th>\n",
       "      <th>nAA</th>\n",
       "      <th>mobility</th>\n",
       "      <th>charge</th>\n",
       "      <th>genes</th>\n",
       "      <th>mod_sites</th>\n",
       "      <th>sequence</th>\n",
       "      <th>frag_start_idx</th>\n",
       "      <th>frag_stop_idx</th>\n",
       "      <th>rt_norm</th>\n",
       "      <th>ccs</th>\n",
       "    </tr>\n",
       "  </thead>\n",
       "  <tbody>\n",
       "    <tr>\n",
       "      <th>0</th>\n",
       "      <td>Dimethyl@Any N-term</td>\n",
       "      <td>297.81287</td>\n",
       "      <td>-20.764530</td>\n",
       "      <td>CBS_HUMAN</td>\n",
       "      <td>7</td>\n",
       "      <td>0.727604</td>\n",
       "      <td>3</td>\n",
       "      <td>CBS</td>\n",
       "      <td>0</td>\n",
       "      <td>MIEDAER</td>\n",
       "      <td>0</td>\n",
       "      <td>6</td>\n",
       "      <td>-0.201596</td>\n",
       "      <td>443.904351</td>\n",
       "    </tr>\n",
       "    <tr>\n",
       "      <th>1</th>\n",
       "      <td>Dimethyl@Any N-term</td>\n",
       "      <td>297.81287</td>\n",
       "      <td>-9.170625</td>\n",
       "      <td>RAB7A_HUMAN</td>\n",
       "      <td>7</td>\n",
       "      <td>0.711458</td>\n",
       "      <td>3</td>\n",
       "      <td>RAB7A</td>\n",
       "      <td>0</td>\n",
       "      <td>EVMVDDR</td>\n",
       "      <td>6</td>\n",
       "      <td>12</td>\n",
       "      <td>-0.089035</td>\n",
       "      <td>434.053941</td>\n",
       "    </tr>\n",
       "    <tr>\n",
       "      <th>2</th>\n",
       "      <td>Dimethyl@Any N-term</td>\n",
       "      <td>297.81287</td>\n",
       "      <td>-2.019791</td>\n",
       "      <td>SYAC_HUMAN</td>\n",
       "      <td>7</td>\n",
       "      <td>0.713229</td>\n",
       "      <td>3</td>\n",
       "      <td>AARS1</td>\n",
       "      <td>0</td>\n",
       "      <td>VMDDLDR</td>\n",
       "      <td>12</td>\n",
       "      <td>18</td>\n",
       "      <td>-0.019610</td>\n",
       "      <td>435.134319</td>\n",
       "    </tr>\n",
       "    <tr>\n",
       "      <th>3</th>\n",
       "      <td>Dimethyl@Any N-term</td>\n",
       "      <td>297.82388</td>\n",
       "      <td>-14.433876</td>\n",
       "      <td>SAP18_HUMAN</td>\n",
       "      <td>7</td>\n",
       "      <td>0.722396</td>\n",
       "      <td>3</td>\n",
       "      <td>SAP18</td>\n",
       "      <td>0</td>\n",
       "      <td>EVYPEAR</td>\n",
       "      <td>18</td>\n",
       "      <td>24</td>\n",
       "      <td>-0.140134</td>\n",
       "      <td>440.726564</td>\n",
       "    </tr>\n",
       "    <tr>\n",
       "      <th>4</th>\n",
       "      <td>Dimethyl@Any N-term</td>\n",
       "      <td>297.82388</td>\n",
       "      <td>-8.521379</td>\n",
       "      <td>CMBL_HUMAN</td>\n",
       "      <td>7</td>\n",
       "      <td>0.709205</td>\n",
       "      <td>3</td>\n",
       "      <td>CMBL</td>\n",
       "      <td>0</td>\n",
       "      <td>PYIDEAR</td>\n",
       "      <td>24</td>\n",
       "      <td>30</td>\n",
       "      <td>-0.082731</td>\n",
       "      <td>432.678688</td>\n",
       "    </tr>\n",
       "    <tr>\n",
       "      <th>...</th>\n",
       "      <td>...</td>\n",
       "      <td>...</td>\n",
       "      <td>...</td>\n",
       "      <td>...</td>\n",
       "      <td>...</td>\n",
       "      <td>...</td>\n",
       "      <td>...</td>\n",
       "      <td>...</td>\n",
       "      <td>...</td>\n",
       "      <td>...</td>\n",
       "      <td>...</td>\n",
       "      <td>...</td>\n",
       "      <td>...</td>\n",
       "      <td>...</td>\n",
       "    </tr>\n",
       "    <tr>\n",
       "      <th>117115</th>\n",
       "      <td>Dimethyl@Any N-term;Oxidation@M;Dimethyl@K;Dim...</td>\n",
       "      <td>924.97791</td>\n",
       "      <td>69.963455</td>\n",
       "      <td>GNA1_HUMAN</td>\n",
       "      <td>15</td>\n",
       "      <td>1.114583</td>\n",
       "      <td>2</td>\n",
       "      <td>GNPNAT1</td>\n",
       "      <td>0;1;2;15</td>\n",
       "      <td>MKPDETPMFDPSLLK</td>\n",
       "      <td>1379648</td>\n",
       "      <td>1379662</td>\n",
       "      <td>0.679253</td>\n",
       "      <td>449.755734</td>\n",
       "    </tr>\n",
       "    <tr>\n",
       "      <th>117116</th>\n",
       "      <td>Dimethyl@Any N-term;Oxidation@M;Dimethyl@K;Dim...</td>\n",
       "      <td>935.52899</td>\n",
       "      <td>31.377110</td>\n",
       "      <td>SF3A2_HUMAN</td>\n",
       "      <td>18</td>\n",
       "      <td>1.102500</td>\n",
       "      <td>2</td>\n",
       "      <td>SF3A2</td>\n",
       "      <td>0;1;3;18</td>\n",
       "      <td>MEKPPAPPSLPAGPPGVK</td>\n",
       "      <td>1379662</td>\n",
       "      <td>1379679</td>\n",
       "      <td>0.304630</td>\n",
       "      <td>444.842444</td>\n",
       "    </tr>\n",
       "    <tr>\n",
       "      <th>117117</th>\n",
       "      <td>Dimethyl@Any N-term;Oxidation@M;Dimethyl@K;Dim...</td>\n",
       "      <td>1029.53740</td>\n",
       "      <td>51.088932</td>\n",
       "      <td>PRDX6_HUMAN</td>\n",
       "      <td>18</td>\n",
       "      <td>1.194479</td>\n",
       "      <td>2</td>\n",
       "      <td>PRDX6</td>\n",
       "      <td>0;6;17;18</td>\n",
       "      <td>DGDSVMVLPTIPEEEAKK</td>\n",
       "      <td>1379679</td>\n",
       "      <td>1379696</td>\n",
       "      <td>0.496006</td>\n",
       "      <td>481.630112</td>\n",
       "    </tr>\n",
       "    <tr>\n",
       "      <th>117118</th>\n",
       "      <td>Dimethyl@Any N-term;Oxidation@M;Dimethyl@K;Dim...</td>\n",
       "      <td>1105.05320</td>\n",
       "      <td>3.698964</td>\n",
       "      <td>CRERF_HUMAN</td>\n",
       "      <td>18</td>\n",
       "      <td>1.230682</td>\n",
       "      <td>2</td>\n",
       "      <td>CREBRF</td>\n",
       "      <td>0;8;10;18</td>\n",
       "      <td>PTSSTQIMVKTNMYHNEK</td>\n",
       "      <td>1379696</td>\n",
       "      <td>1379713</td>\n",
       "      <td>0.035912</td>\n",
       "      <td>496.000007</td>\n",
       "    </tr>\n",
       "    <tr>\n",
       "      <th>117119</th>\n",
       "      <td>Dimethyl@Any N-term;Oxidation@M;Dimethyl@K;Dim...</td>\n",
       "      <td>1178.57040</td>\n",
       "      <td>16.821459</td>\n",
       "      <td>K22E_HUMAN</td>\n",
       "      <td>19</td>\n",
       "      <td>1.252500</td>\n",
       "      <td>2</td>\n",
       "      <td>KRT2</td>\n",
       "      <td>0;10;18;19</td>\n",
       "      <td>TSQNSELNNMQDLVEDYKK</td>\n",
       "      <td>1379713</td>\n",
       "      <td>1379731</td>\n",
       "      <td>0.163314</td>\n",
       "      <td>504.596401</td>\n",
       "    </tr>\n",
       "  </tbody>\n",
       "</table>\n",
       "<p>117120 rows × 14 columns</p>\n",
       "</div>"
      ],
      "text/plain": [
       "                                                     mods  precursor_mz  \\\n",
       "0                                     Dimethyl@Any N-term     297.81287   \n",
       "1                                     Dimethyl@Any N-term     297.81287   \n",
       "2                                     Dimethyl@Any N-term     297.81287   \n",
       "3                                     Dimethyl@Any N-term     297.82388   \n",
       "4                                     Dimethyl@Any N-term     297.82388   \n",
       "...                                                   ...           ...   \n",
       "117115  Dimethyl@Any N-term;Oxidation@M;Dimethyl@K;Dim...     924.97791   \n",
       "117116  Dimethyl@Any N-term;Oxidation@M;Dimethyl@K;Dim...     935.52899   \n",
       "117117  Dimethyl@Any N-term;Oxidation@M;Dimethyl@K;Dim...    1029.53740   \n",
       "117118  Dimethyl@Any N-term;Oxidation@M;Dimethyl@K;Dim...    1105.05320   \n",
       "117119  Dimethyl@Any N-term;Oxidation@M;Dimethyl@K;Dim...    1178.57040   \n",
       "\n",
       "               rt     proteins  nAA  mobility  charge    genes   mod_sites  \\\n",
       "0      -20.764530    CBS_HUMAN    7  0.727604       3      CBS           0   \n",
       "1       -9.170625  RAB7A_HUMAN    7  0.711458       3    RAB7A           0   \n",
       "2       -2.019791   SYAC_HUMAN    7  0.713229       3    AARS1           0   \n",
       "3      -14.433876  SAP18_HUMAN    7  0.722396       3    SAP18           0   \n",
       "4       -8.521379   CMBL_HUMAN    7  0.709205       3     CMBL           0   \n",
       "...           ...          ...  ...       ...     ...      ...         ...   \n",
       "117115  69.963455   GNA1_HUMAN   15  1.114583       2  GNPNAT1    0;1;2;15   \n",
       "117116  31.377110  SF3A2_HUMAN   18  1.102500       2    SF3A2    0;1;3;18   \n",
       "117117  51.088932  PRDX6_HUMAN   18  1.194479       2    PRDX6   0;6;17;18   \n",
       "117118   3.698964  CRERF_HUMAN   18  1.230682       2   CREBRF   0;8;10;18   \n",
       "117119  16.821459   K22E_HUMAN   19  1.252500       2     KRT2  0;10;18;19   \n",
       "\n",
       "                   sequence  frag_start_idx  frag_stop_idx   rt_norm  \\\n",
       "0                   MIEDAER               0              6 -0.201596   \n",
       "1                   EVMVDDR               6             12 -0.089035   \n",
       "2                   VMDDLDR              12             18 -0.019610   \n",
       "3                   EVYPEAR              18             24 -0.140134   \n",
       "4                   PYIDEAR              24             30 -0.082731   \n",
       "...                     ...             ...            ...       ...   \n",
       "117115      MKPDETPMFDPSLLK         1379648        1379662  0.679253   \n",
       "117116   MEKPPAPPSLPAGPPGVK         1379662        1379679  0.304630   \n",
       "117117   DGDSVMVLPTIPEEEAKK         1379679        1379696  0.496006   \n",
       "117118   PTSSTQIMVKTNMYHNEK         1379696        1379713  0.035912   \n",
       "117119  TSQNSELNNMQDLVEDYKK         1379713        1379731  0.163314   \n",
       "\n",
       "               ccs  \n",
       "0       443.904351  \n",
       "1       434.053941  \n",
       "2       435.134319  \n",
       "3       440.726564  \n",
       "4       432.678688  \n",
       "...            ...  \n",
       "117115  449.755734  \n",
       "117116  444.842444  \n",
       "117117  481.630112  \n",
       "117118  496.000007  \n",
       "117119  504.596401  \n",
       "\n",
       "[117120 rows x 14 columns]"
      ]
     },
     "execution_count": 5,
     "metadata": {},
     "output_type": "execute_result"
    }
   ],
   "source": [
    "target_lib.precursor_df"
   ]
  },
  {
   "cell_type": "code",
   "execution_count": 6,
   "metadata": {},
   "outputs": [],
   "source": [
    "\n",
    "target_lib.precursor_df['decoy'] = 0\n",
    "target_lib._precursor_df['channel'] = 0\n",
    "target_lib._fragment_mz_df = target_lib._fragment_mz_df[['b_z1', 'b_z2', 'y_z1', 'y_z2']]\n",
    "target_lib._fragment_intensity_df = target_lib._fragment_intensity_df[['b_z1', 'b_z2', 'y_z1', 'y_z2']]\n",
    "fragment_number(target_lib.precursor_df, target_lib._fragment_intensity_df)\n",
    "target_lib._precursor_df['elution_group_idx'] = np.arange(len(target_lib._precursor_df))"
   ]
  },
  {
   "cell_type": "code",
   "execution_count": 7,
   "metadata": {},
   "outputs": [
    {
     "name": "stderr",
     "output_type": "stream",
     "text": [
      "100%|██████████| 117120/117120 [00:45<00:00, 2583.20it/s]\n"
     ]
    }
   ],
   "source": [
    "calc_isotope_dist(target_lib.precursor_df)"
   ]
  },
  {
   "cell_type": "code",
   "execution_count": 8,
   "metadata": {},
   "outputs": [],
   "source": [
    "from alphabase.constants import modification\n",
    "\n",
    "modification.add_new_modifications(\n",
    "    {\n",
    "        \"Dimethyl:d12@Protein N-term\": {\n",
    "        \"composition\":\"H(-2)2H(8)13C(2)\"\n",
    "        },\n",
    "        \"Dimethyl:d12@Any N-term\": {\n",
    "        \"composition\":\"H(-2)2H(8)13C(2)\",\n",
    "        },\n",
    "        \"Dimethyl:d12@R\": {\n",
    "        \"composition\":\"H(-2)2H(8)13C(2)\",\n",
    "        },\n",
    "        \"Dimethyl:d12@K\": {\n",
    "        \"composition\":\"H(-2)2H(8)13C(2)\",\n",
    "        },\n",
    "    }\n",
    ")"
   ]
  },
  {
   "cell_type": "code",
   "execution_count": 9,
   "metadata": {},
   "outputs": [],
   "source": [
    "from alphabase.peptide import fragment\n",
    "\n",
    "channel_lib_list = []\n",
    "for channel, original_mod, new_mod in [\n",
    "    (4, 'Dimethyl@', 'Dimethyl:2H(4)@'),\n",
    "    (8, 'Dimethyl@', 'Dimethyl:2H(6)13C(2)@'),\n",
    "    (12, 'Dimethyl@', 'Dimethyl:d12@')\n",
    "    ]:\n",
    "\n",
    "    channel_lib = target_lib.copy()\n",
    "\n",
    "    channel_lib._precursor_df['mods'] = channel_lib._precursor_df['mods'].str.replace(original_mod, new_mod)\n",
    "    channel_lib._precursor_df['channel'] = channel\n",
    "    fragment.update_precursor_mz(channel_lib._precursor_df)\n",
    "    channel_lib.calc_fragment_mz_df()\n",
    "    channel_lib_list += [channel_lib]\n",
    "    channel_lib.precursor_df.head()\n"
   ]
  },
  {
   "cell_type": "code",
   "execution_count": 10,
   "metadata": {},
   "outputs": [
    {
     "name": "stderr",
     "output_type": "stream",
     "text": [
      "/Users/georgwallmann/Documents/git/alphabase/alphabase/spectral_library/base.py:190: UserWarning: Unmatched columns in second dataframe will be dropped: {'b_modloss_z1', 'b_modloss_z2', 'y_modloss_z2', 'y_modloss_z1'}.\n",
      "  warnings.warn(\n",
      "/Users/georgwallmann/Documents/git/alphabase/alphabase/spectral_library/base.py:190: UserWarning: Unmatched columns in second dataframe will be dropped: {'b_modloss_z1', 'b_modloss_z2', 'y_modloss_z2', 'y_modloss_z1'}.\n",
      "  warnings.warn(\n",
      "/Users/georgwallmann/Documents/git/alphabase/alphabase/spectral_library/base.py:190: UserWarning: Unmatched columns in second dataframe will be dropped: {'b_modloss_z1', 'b_modloss_z2', 'y_modloss_z2', 'y_modloss_z1'}.\n",
      "  warnings.warn(\n"
     ]
    }
   ],
   "source": [
    "for lib in channel_lib_list:\n",
    "    target_lib.append(lib)"
   ]
  },
  {
   "cell_type": "code",
   "execution_count": 11,
   "metadata": {},
   "outputs": [],
   "source": [
    "target_lib.precursor_df.sort_values('elution_group_idx', inplace=True)\n",
    "target_lib.remove_unused_fragments()"
   ]
  },
  {
   "cell_type": "code",
   "execution_count": 12,
   "metadata": {},
   "outputs": [
    {
     "data": {
      "text/plain": [
       "Index(['mods', 'precursor_mz', 'rt', 'proteins', 'nAA', 'mobility', 'charge',\n",
       "       'genes', 'mod_sites', 'sequence', 'frag_start_idx', 'frag_stop_idx',\n",
       "       'rt_norm', 'ccs', 'decoy', 'channel', 'n_fragments',\n",
       "       'elution_group_idx', 'i_0', 'i_1', 'i_2', 'i_3', 'i_4', 'i_5'],\n",
       "      dtype='object')"
      ]
     },
     "execution_count": 12,
     "metadata": {},
     "output_type": "execute_result"
    }
   ],
   "source": [
    "target_lib.precursor_df.columns"
   ]
  },
  {
   "cell_type": "code",
   "execution_count": 13,
   "metadata": {},
   "outputs": [],
   "source": [
    "decoy_lib = target_lib.copy()"
   ]
  },
  {
   "cell_type": "code",
   "execution_count": 14,
   "metadata": {},
   "outputs": [],
   "source": [
    "decoy_lib._precursor_df = target_lib._precursor_df[target_lib._precursor_df['channel'] == 0].copy()\n",
    "decoy_lib.remove_unused_fragments()"
   ]
  },
  {
   "cell_type": "code",
   "execution_count": 15,
   "metadata": {},
   "outputs": [
    {
     "data": {
      "text/plain": [
       "Index(['mods', 'precursor_mz', 'rt', 'proteins', 'nAA', 'mobility', 'charge',\n",
       "       'genes', 'mod_sites', 'sequence', 'frag_start_idx', 'frag_stop_idx',\n",
       "       'rt_norm', 'ccs', 'decoy', 'channel', 'n_fragments',\n",
       "       'elution_group_idx', 'i_0', 'i_1', 'i_2', 'i_3', 'i_4', 'i_5'],\n",
       "      dtype='object')"
      ]
     },
     "execution_count": 15,
     "metadata": {},
     "output_type": "execute_result"
    }
   ],
   "source": [
    "decoy_lib._precursor_df.columns"
   ]
  },
  {
   "cell_type": "code",
   "execution_count": 16,
   "metadata": {},
   "outputs": [],
   "source": [
    "from alphabase.spectral_library.decoy import (\n",
    "    decoy_lib_provider\n",
    ")\n",
    "# register 'protein_reverse' to the decoy_lib_provider\n",
    "import alphabase.protein.protein_level_decoy\n",
    "\n",
    "decoy_lib_instance = (\n",
    "    decoy_lib_provider.get_decoy_lib(\n",
    "        'diann', decoy_lib\n",
    "    )\n",
    ")"
   ]
  },
  {
   "cell_type": "code",
   "execution_count": 17,
   "metadata": {},
   "outputs": [],
   "source": [
    "decoy_lib_instance.calc_precursor_mz()\n",
    "decoy_lib_instance.precursor_df\n",
    "decoy_lib_instance.remove_unused_fragments()\n",
    "decoy_lib_instance.calc_fragment_mz_df()"
   ]
  },
  {
   "cell_type": "code",
   "execution_count": 18,
   "metadata": {},
   "outputs": [
    {
     "data": {
      "text/plain": [
       "Index(['mods', 'precursor_mz', 'rt', 'proteins', 'nAA', 'mobility', 'charge',\n",
       "       'genes', 'mod_sites', 'sequence', 'frag_start_idx', 'frag_stop_idx',\n",
       "       'rt_norm', 'ccs', 'decoy', 'channel', 'n_fragments',\n",
       "       'elution_group_idx', 'i_0', 'i_1', 'i_2', 'i_3', 'i_4', 'i_5'],\n",
       "      dtype='object')"
      ]
     },
     "execution_count": 18,
     "metadata": {},
     "output_type": "execute_result"
    }
   ],
   "source": [
    "decoy_lib_instance.precursor_df.columns"
   ]
  },
  {
   "cell_type": "code",
   "execution_count": 19,
   "metadata": {},
   "outputs": [],
   "source": [
    "decoy_lib_instance.precursor_df['decoy'] = 1"
   ]
  },
  {
   "cell_type": "code",
   "execution_count": 20,
   "metadata": {},
   "outputs": [
    {
     "name": "stderr",
     "output_type": "stream",
     "text": [
      "/Users/georgwallmann/Documents/git/alphabase/alphabase/spectral_library/base.py:190: UserWarning: Unmatched columns in second dataframe will be dropped: {'b_modloss_z1', 'b_modloss_z2', 'y_modloss_z2', 'y_modloss_z1'}.\n",
      "  warnings.warn(\n"
     ]
    }
   ],
   "source": [
    "target_lib.append(decoy_lib_instance)"
   ]
  },
  {
   "cell_type": "code",
   "execution_count": 21,
   "metadata": {},
   "outputs": [],
   "source": [
    "target_lib.precursor_df['n_fragments_allowed'] = target_lib.precursor_df['n_fragments']"
   ]
  },
  {
   "cell_type": "code",
   "execution_count": 22,
   "metadata": {},
   "outputs": [],
   "source": [
    "fragment_number(target_lib.precursor_df, target_lib._fragment_intensity_df)"
   ]
  },
  {
   "cell_type": "code",
   "execution_count": 23,
   "metadata": {},
   "outputs": [],
   "source": [
    "target_lib.precursor_df = target_lib.precursor_df[target_lib.precursor_df['n_fragments'] >= 3].copy()\n",
    "target_lib.remove_unused_fragments()"
   ]
  },
  {
   "cell_type": "code",
   "execution_count": 24,
   "metadata": {},
   "outputs": [
    {
     "data": {
      "text/plain": [
       "<AxesSubplot:xlabel='n_fragments', ylabel='Count'>"
      ]
     },
     "execution_count": 24,
     "metadata": {},
     "output_type": "execute_result"
    },
    {
     "data": {
      "image/png": "[encoded data removed]",
      "text/plain": [
       "<Figure size 640x480 with 1 Axes>"
      ]
     },
     "metadata": {},
     "output_type": "display_data"
    }
   ],
   "source": [
    "import seaborn as sns\n",
    "sns.histplot(target_lib.precursor_df, x='n_fragments', hue='decoy', element='step', bins=10)"
   ]
  },
  {
   "cell_type": "code",
   "execution_count": null,
   "metadata": {},
   "outputs": [],
   "source": []
  },
  {
   "cell_type": "code",
   "execution_count": 29,
   "metadata": {},
   "outputs": [],
   "source": [
    "for i, (start_idx, stop_idx, k_allowed) in enumerate(\n",
    "    zip(\n",
    "        target_lib.precursor_df['frag_start_idx'].values, \n",
    "        target_lib.precursor_df['frag_stop_idx'].values, \n",
    "        target_lib.precursor_df['n_fragments_allowed'].values\n",
    "        )\n",
    "    ):\n",
    "    intensies = target_lib._fragment_intensity_df.iloc[start_idx:stop_idx].values\n",
    "    flat_intensities = np.sort(intensies.flatten())[::-1]\n",
    "    target_lib._fragment_intensity_df.iloc[start_idx:stop_idx].values[intensies <= flat_intensities[k_allowed]] = 0"
   ]
  },
  {
   "cell_type": "code",
   "execution_count": 116,
   "metadata": {},
   "outputs": [],
   "source": [
    "target_lib.precursor_df.drop(columns=['n_fragments'], inplace=True)"
   ]
  },
  {
   "cell_type": "code",
   "execution_count": 117,
   "metadata": {},
   "outputs": [
    {
     "data": {
      "text/plain": [
       "Index(['mobility', 'charge', 'mods', 'sequence', 'nAA', 'proteins', 'genes',\n",
       "       'rt', 'mod_sites', 'precursor_mz', 'frag_start_idx', 'frag_stop_idx',\n",
       "       'rt_norm', 'ccs', 'decoy', 'channel', 'elution_group_idx', 'i_0', 'i_1',\n",
       "       'i_2', 'i_3', 'i_4', 'i_5'],\n",
       "      dtype='object')"
      ]
     },
     "execution_count": 117,
     "metadata": {},
     "output_type": "execute_result"
    }
   ],
   "source": [
    "target_lib.precursor_df.columns"
   ]
  },
  {
   "cell_type": "code",
   "execution_count": 25,
   "metadata": {},
   "outputs": [],
   "source": [
    "fragment_number(target_lib.precursor_df, target_lib._fragment_intensity_df)\n",
    "target_lib.fragment_cardinality_df = fragment.calc_fragment_cardinality(target_lib.precursor_df, target_lib._fragment_mz_df)"
   ]
  },
  {
   "cell_type": "code",
   "execution_count": 26,
   "metadata": {},
   "outputs": [],
   "source": [
    "target_lib.save_hdf(output_location)"
   ]
  },
  {
   "cell_type": "code",
   "execution_count": 21,
   "metadata": {},
   "outputs": [],
   "source": []
  }
 ],
 "metadata": {
  "kernelspec": {
   "display_name": "alpha",
   "language": "python",
   "name": "python3"
  },
  "language_info": {
   "codemirror_mode": {
    "name": "ipython",
    "version": 3
   },
   "file_extension": ".py",
   "mimetype": "text/x-python",
   "name": "python",
   "nbconvert_exporter": "python",
   "pygments_lexer": "ipython3",
   "version": "3.9.13"
  },
  "orig_nbformat": 4,
  "vscode": {
   "interpreter": {
    "hash": "bfa83213b3107409f6f749b3f3e6e3a0c51921f6998a582a53d8fef6c3fba7c5"
   }
  }
 },
 "nbformat": 4,
 "nbformat_minor": 2
}
