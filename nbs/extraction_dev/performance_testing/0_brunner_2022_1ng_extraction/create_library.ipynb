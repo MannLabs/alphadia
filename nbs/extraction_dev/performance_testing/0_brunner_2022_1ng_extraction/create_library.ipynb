{
 "cells": [
  {
   "cell_type": "code",
   "execution_count": 3,
   "metadata": {},
   "outputs": [],
   "source": [
    "import pandas as pd\n",
    "import numpy as np\n",
    "\n",
    "from alphabase.spectral_library.flat import SpecLibFlat\n",
    "from alphabase.spectral_library.base import SpecLibBase\n",
    "from alphadia.extraction.utils import reannotate_fragments\n",
    "from alphabase.psm_reader import psm_reader_provider"
   ]
  },
  {
   "cell_type": "code",
   "execution_count": 4,
   "metadata": {},
   "outputs": [],
   "source": [
    "diann_output = '/Users/georgwallmann/Documents/data/2022_10_14_brunner_1ng_rep01/report_ms1.tsv'\n",
    "insilico_lib_location = '/Users/georgwallmann/Documents/data/libraries/2022_11_29_human_trypsin_diann_decoy.hdf'\n",
    "output_location = '/Users/georgwallmann/Library/CloudStorage/OneDrive-Personal/Studium/MPI/AG Mann/alphaDIA/2022_12_18_performance_testing/0_brunner_2022_1ng_extraction'"
   ]
  },
  {
   "cell_type": "code",
   "execution_count": 5,
   "metadata": {},
   "outputs": [
    {
     "name": "stdout",
     "output_type": "stream",
     "text": [
      "2022-12-22 15:15:19> Speclib with 34,741 precursors will be reannotated with speclib with 5,888,372 precursors and 394,126,900 fragments\n",
      "2022-12-22 15:15:25> A total of 34,724 precursors were succesfully annotated, 17 precursors were not matched\n"
     ]
    }
   ],
   "source": [
    "# create dense library from diann psm file\n",
    "reader = psm_reader_provider.get_reader('diann', keep_decoy=True, fdr=1)\n",
    "reader.import_file(diann_output)\n",
    "raw_name = reader.psm_df.raw_name.unique()[0]\n",
    "reader._psm_df = reader.psm_df[reader.psm_df.raw_name == raw_name]\n",
    "speclib_psm = SpecLibBase(decoy='diann')\n",
    "speclib_psm.precursor_df = reader.psm_df\n",
    "\n",
    "# append decoys and recalculate precursor mz\n",
    "speclib_psm.append_decoy_sequence()\n",
    "speclib_psm.calc_precursor_mz()\n",
    "\n",
    "# annotate library with predicted fragments\n",
    "insilico_lib = SpecLibBase()\n",
    "insilico_lib.load_hdf(insilico_lib_location, load_mod_seq=True)\n",
    "\n",
    "speclib_psm.annotate_fragments_from_speclib(insilico_lib, verbose=True)\n",
    "speclib_psm.remove_unused_fragments()"
   ]
  },
  {
   "cell_type": "code",
   "execution_count": 6,
   "metadata": {},
   "outputs": [],
   "source": [
    "speclib_psm.save_hdf(output_location + '/brunner_2022_1ng_rep01.hdf')"
   ]
  }
 ],
 "metadata": {
  "kernelspec": {
   "display_name": "alpha",
   "language": "python",
   "name": "python3"
  },
  "language_info": {
   "codemirror_mode": {
    "name": "ipython",
    "version": 3
   },
   "file_extension": ".py",
   "mimetype": "text/x-python",
   "name": "python",
   "nbconvert_exporter": "python",
   "pygments_lexer": "ipython3",
   "version": "3.9.13"
  },
  "orig_nbformat": 4,
  "vscode": {
   "interpreter": {
    "hash": "bfa83213b3107409f6f749b3f3e6e3a0c51921f6998a582a53d8fef6c3fba7c5"
   }
  }
 },
 "nbformat": 4,
 "nbformat_minor": 2
}
