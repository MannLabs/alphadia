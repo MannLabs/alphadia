{
 "cells": [
  {
   "cell_type": "code",
   "execution_count": 1,
   "metadata": {},
   "outputs": [
    {
     "name": "stderr",
     "output_type": "stream",
     "text": [
      "WARNING:root:WARNING: Temp mmap arrays are written to /var/folders/lc/9594t94d5b5_gn0y04w1jh980000gn/T/temp_mmap_8x89d7i2. Cleanup of this folder is OS dependant, and might need to be triggered manually! Current space: 1,454,008,975,360\n",
      "WARNING:root:WARNING: No Bruker libraries are available for this operating system. Mobility and m/z values need to be estimated. While this estimation often returns acceptable results with errors < 0.02 Th, huge errors (e.g. offsets of 6 Th) have already been observed for some samples!\n",
      "INFO:root:\n",
      "INFO:root:Cupy is not available\n"
     ]
    }
   ],
   "source": [
    "import pandas as pd\n",
    "import numpy as np\n",
    "import os\n",
    "\n",
    "import logging\n",
    "logging.getLogger().setLevel(logging.INFO)\n",
    "\n",
    "from alphabase.spectral_library.flat import SpecLibFlat\n",
    "from alphabase.spectral_library.base import SpecLibBase\n",
    "from alphabase.spectral_library.reader import SWATHLibraryReader\n",
    "from alphadia.extraction.utils import reannotate_fragments\n",
    "from alphabase.psm_reader import psm_reader_provider"
   ]
  },
  {
   "cell_type": "code",
   "execution_count": 2,
   "metadata": {},
   "outputs": [
    {
     "data": {
      "text/plain": [
       "environ{'COMMAND_MODE': 'unix2003',\n",
       "        'CONDA_DEFAULT_ENV': 'base',\n",
       "        'CONDA_EXE': '/Users/georgwallmann/miniconda3/bin/conda',\n",
       "        'CONDA_PREFIX': '/Users/georgwallmann/miniconda3',\n",
       "        'CONDA_PROMPT_MODIFIER': '(base) ',\n",
       "        'CONDA_PYTHON_EXE': '/Users/georgwallmann/miniconda3/bin/python',\n",
       "        'CONDA_SHLVL': '1',\n",
       "        'HOME': '/Users/georgwallmann',\n",
       "        'HOMEBREW_CELLAR': '/opt/homebrew/Cellar',\n",
       "        'HOMEBREW_PREFIX': '/opt/homebrew',\n",
       "        'HOMEBREW_REPOSITORY': '/opt/homebrew',\n",
       "        'INFOPATH': '/opt/homebrew/share/info:',\n",
       "        'LOGNAME': 'georgwallmann',\n",
       "        'MANPATH': '/opt/homebrew/share/man::',\n",
       "        'MallocNanoZone': '0',\n",
       "        'OLDPWD': '/',\n",
       "        'ORIGINAL_XDG_CURRENT_DESKTOP': 'undefined',\n",
       "        'PATH': '/Users/georgwallmann/miniconda3/envs/alpha/bin:/Users/georgwallmann/Documents/bin:/Users/georgwallmann/miniconda3/bin:/Users/georgwallmann/miniconda3/condabin:/opt/homebrew/bin:/opt/homebrew/sbin:/usr/local/bin:/usr/bin:/bin:/usr/sbin:/sbin:/Library/Frameworks/Mono.framework/Versions/Current/Commands:/Users/georgwallmann/.cargo/bin:/Users/georgwallmann/Documents/bin:/Users/georgwallmann/miniconda3/bin:/Users/georgwallmann/miniconda3/condabin:/opt/homebrew/bin:/opt/homebrew/sbin:/usr/local/bin:/usr/bin:/bin:/usr/sbin:/sbin:/Library/Frameworks/Mono.framework/Versions/Current/Commands:/Users/georgwallmann/.cargo/bin',\n",
       "        'PWD': '/',\n",
       "        'SHELL': '/bin/zsh',\n",
       "        'SHLVL': '0',\n",
       "        'SSH_AUTH_SOCK': '/private/tmp/com.apple.launchd.SURh9diJrO/Listeners',\n",
       "        'TMPDIR': '/var/folders/lc/9594t94d5b5_gn0y04w1jh980000gn/T/',\n",
       "        'USER': 'georgwallmann',\n",
       "        'VSCODE_AMD_ENTRYPOINT': 'vs/workbench/api/node/extensionHostProcess',\n",
       "        'VSCODE_CODE_CACHE_PATH': '/Users/georgwallmann/Library/Application Support/Code/CachedData/e8a3071ea4344d9d48ef8a4df2c097372b0c5161',\n",
       "        'VSCODE_CWD': '/',\n",
       "        'VSCODE_HANDLES_UNCAUGHT_ERRORS': 'true',\n",
       "        'VSCODE_IPC_HOOK': '/Users/georgwallmann/Library/Application Support/Code/1.74.2-main.sock',\n",
       "        'VSCODE_NLS_CONFIG': '{\"locale\":\"en-gb\",\"availableLanguages\":{},\"_languagePackSupport\":true}',\n",
       "        'VSCODE_PID': '1786',\n",
       "        'XPC_FLAGS': '0x0',\n",
       "        'XPC_SERVICE_NAME': 'application.com.microsoft.VSCode.9948065.9948071',\n",
       "        '_': '/Applications/Visual Studio Code.app/Contents/MacOS/Electron',\n",
       "        '__CFBundleIdentifier': 'com.microsoft.VSCode',\n",
       "        '__CF_USER_TEXT_ENCODING': '0x1F5:0x0:0x0',\n",
       "        'ELECTRON_RUN_AS_NODE': '1',\n",
       "        'PYTHONPATH': '/Users/georgwallmann/.vscode/extensions/ms-toolsai.jupyter-2022.11.1003412109/pythonFiles:/Users/georgwallmann/.vscode/extensions/ms-toolsai.jupyter-2022.11.1003412109/pythonFiles/lib/python',\n",
       "        'PYTHONUNBUFFERED': '1',\n",
       "        'PYTHONIOENCODING': 'utf-8',\n",
       "        'LC_CTYPE': 'UTF-8',\n",
       "        'JUPYTER_PATH': '/Users/georgwallmann/.vscode/extensions/ms-toolsai.jupyter-2022.11.1003412109/temp/jupyter',\n",
       "        'PYDEVD_IPYTHON_COMPATIBLE_DEBUGGING': '1',\n",
       "        'JPY_PARENT_PID': '2019',\n",
       "        'TERM': 'xterm-color',\n",
       "        'CLICOLOR': '1',\n",
       "        'PAGER': 'cat',\n",
       "        'GIT_PAGER': 'cat',\n",
       "        'MPLBACKEND': 'module://matplotlib_inline.backend_inline',\n",
       "        'KMP_DUPLICATE_LIB_OK': 'True',\n",
       "        'KMP_INIT_AT_FORK': 'FALSE'}"
      ]
     },
     "execution_count": 2,
     "metadata": {},
     "output_type": "execute_result"
    }
   ],
   "source": [
    "os.environ"
   ]
  },
  {
   "cell_type": "code",
   "execution_count": 1,
   "metadata": {},
   "outputs": [
    {
     "name": "stdout",
     "output_type": "stream",
     "text": [
      "Available kernels:\n",
      "  pythonjvsc74a57bd031f2aee4e71d21fbe5cf8b01ff0e069b9275f58929596ceb00d14d90e3e16cd6    /Users/georgwallmann/.vscode/extensions/ms-toolsai.jupyter-2022.11.1003412109/temp/jupyter/kernels/pythonjvsc74a57bd031f2aee4e71d21fbe5cf8b01ff0e069b9275f58929596ceb00d14d90e3e16cd6\n",
      "  pythonjvsc74a57bd0ad4ad3f8f96f5d0591be47fc30cb0dcea3db68091042b3e2ba33924eb18d9ded    /Users/georgwallmann/.vscode/extensions/ms-toolsai.jupyter-2022.11.1003412109/temp/jupyter/kernels/pythonjvsc74a57bd0ad4ad3f8f96f5d0591be47fc30cb0dcea3db68091042b3e2ba33924eb18d9ded\n",
      "  pythonjvsc74a57bd0bfa83213b3107409f6f749b3f3e6e3a0c51921f6998a582a53d8fef6c3fba7c5    /Users/georgwallmann/.vscode/extensions/ms-toolsai.jupyter-2022.11.1003412109/temp/jupyter/kernels/pythonjvsc74a57bd0bfa83213b3107409f6f749b3f3e6e3a0c51921f6998a582a53d8fef6c3fba7c5\n",
      "  python3                                                                               /Users/georgwallmann/miniconda3/share/jupyter/kernels/python3\n"
     ]
    }
   ],
   "source": [
    "!jupyter kernelspec list"
   ]
  },
  {
   "cell_type": "code",
   "execution_count": 2,
   "metadata": {},
   "outputs": [],
   "source": [
    "lib_location = '/Users/georgwallmann/Documents/data/libraries/MSFRAGGER_Output/library.tsv'\n",
    "insilico_lib_location = '/Users/georgwallmann/Documents/data/libraries/2022_111_brunner_2022_1ng_all_29_human_trypsin_diann_decoy.hdf'\n",
    "output_location = '/Users/georgwallmann/Library/CloudStorage/OneDrive-Personal/Studium/MPI/AG Mann/alphaDIA/2022_12_18_performance_testing/out_lib_msfragger.hdf'"
   ]
  },
  {
   "cell_type": "code",
   "execution_count": 3,
   "metadata": {},
   "outputs": [],
   "source": [
    "# create dense library from diann psm file\n",
    "target_lib = SWATHLibraryReader()\n",
    "target_lib.import_file(lib_location)\n",
    "target_lib.precursor_df['decoy'] = 0\n",
    "target_lib._fragment_mz_df = target_lib._fragment_mz_df[['b_z1', 'b_z2', 'y_z1', 'y_z2']]\n",
    "target_lib._fragment_intensity_df = target_lib._fragment_intensity_df[['b_z1', 'b_z2', 'y_z1', 'y_z2']]"
   ]
  },
  {
   "cell_type": "code",
   "execution_count": 9,
   "metadata": {},
   "outputs": [],
   "source": [
    "decoy_lib = SWATHLibraryReader()\n",
    "decoy_lib.import_file(lib_location)\n",
    "decoy_lib.decoy = 'diann'\n",
    "decoy_lib.append_decoy_sequence()\n",
    "decoy_lib.calc_precursor_mz()\n",
    "decoy_lib.precursor_df = decoy_lib.precursor_df[decoy_lib.precursor_df['decoy'] == 1]"
   ]
  },
  {
   "cell_type": "code",
   "execution_count": 10,
   "metadata": {},
   "outputs": [],
   "source": [
    "from peptdeep.pretrained_models import ModelManager\n",
    "from alphabase.peptide.fragment import get_charged_frag_types\n",
    "\n",
    "frag_types = get_charged_frag_types(\n",
    "    ['b','y'], \n",
    "    2\n",
    ")\n",
    "\n",
    "model_mgr = ModelManager()\n",
    "\n",
    "model_mgr.nce = 30\n",
    "model_mgr.instrument = 'timsTOF'"
   ]
  },
  {
   "cell_type": "code",
   "execution_count": 11,
   "metadata": {},
   "outputs": [
    {
     "name": "stdout",
     "output_type": "stream",
     "text": [
      "2023-01-03 17:08:55> Using multiprocessing ...\n",
      "2023-01-03 17:08:55> Predicting ms2 ...\n"
     ]
    },
    {
     "name": "stderr",
     "output_type": "stream",
     "text": [
      "100%|██████████| 44/44 [00:11<00:00,  3.80it/s]\n"
     ]
    }
   ],
   "source": [
    "res = model_mgr.predict_all(\n",
    "    decoy_lib.precursor_df,\n",
    "    predict_items=['ms2'],\n",
    "    frag_types = frag_types,\n",
    ")"
   ]
  },
  {
   "cell_type": "code",
   "execution_count": 12,
   "metadata": {},
   "outputs": [],
   "source": [
    "decoy_lib._precursor_df = res['precursor_df']\n",
    "decoy_lib._fragment_mz_df = res['fragment_mz_df']\n",
    "decoy_lib._fragment_intensity_df = res['fragment_intensity_df']"
   ]
  },
  {
   "cell_type": "code",
   "execution_count": 13,
   "metadata": {},
   "outputs": [],
   "source": [
    "decoy_lib._precursor_df[['frag_start_idx']] += len(target_lib._fragment_mz_df)\n",
    "decoy_lib._precursor_df[['frag_stop_idx']] += len(target_lib._fragment_mz_df)"
   ]
  },
  {
   "cell_type": "code",
   "execution_count": 14,
   "metadata": {},
   "outputs": [],
   "source": [
    "output_lib = SpecLibBase()\n",
    "\n",
    "output_lib._precursor_df = pd.concat([target_lib._precursor_df, decoy_lib._precursor_df], join='inner')\n",
    "output_lib._fragment_mz_df = pd.concat([target_lib._fragment_mz_df, decoy_lib._fragment_mz_df], join='inner')\n",
    "output_lib._fragment_intensity_df = pd.concat([target_lib._fragment_intensity_df, decoy_lib._fragment_intensity_df], join='inner')"
   ]
  },
  {
   "cell_type": "code",
   "execution_count": 17,
   "metadata": {},
   "outputs": [],
   "source": [
    "output_lib.save_hdf(output_location)"
   ]
  },
  {
   "cell_type": "code",
   "execution_count": null,
   "metadata": {},
   "outputs": [],
   "source": []
  }
 ],
 "metadata": {
  "kernelspec": {
   "display_name": "Python 3",
   "language": "python",
   "name": "python3"
  },
  "language_info": {
   "codemirror_mode": {
    "name": "ipython",
    "version": 3
   },
   "file_extension": ".py",
   "mimetype": "text/x-python",
   "name": "python",
   "nbconvert_exporter": "python",
   "pygments_lexer": "ipython3",
   "version": "3.8.9"
  },
  "orig_nbformat": 4,
  "vscode": {
   "interpreter": {
    "hash": "31f2aee4e71d21fbe5cf8b01ff0e069b9275f58929596ceb00d14d90e3e16cd6"
   }
  }
 },
 "nbformat": 4,
 "nbformat_minor": 2
}
