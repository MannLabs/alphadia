{
 "cells": [
  {
   "cell_type": "code",
   "execution_count": 1,
   "metadata": {},
   "outputs": [
    {
     "name": "stderr",
     "output_type": "stream",
     "text": [
      "WARNING:root:WARNING: Temp mmap arrays are written to /var/folders/lc/9594t94d5b5_gn0y04w1jh980000gn/T/temp_mmap_jw3v35d9. Cleanup of this folder is OS dependant, and might need to be triggered manually! Current space: 1,419,257,102,336\n",
      "WARNING:root:WARNING: No Bruker libraries are available for this operating system. Mobility and m/z values need to be estimated. While this estimation often returns acceptable results with errors < 0.02 Th, huge errors (e.g. offsets of 6 Th) have already been observed for some samples!\n",
      "INFO:root:\n",
      "INFO:root:Cupy is not available\n"
     ]
    }
   ],
   "source": [
    "import pandas as pd\n",
    "import numpy as np\n",
    "import os\n",
    "\n",
    "import logging\n",
    "logging.getLogger().setLevel(logging.INFO)\n",
    "\n",
    "from alphabase.spectral_library.flat import SpecLibFlat\n",
    "from alphabase.spectral_library.base import SpecLibBase\n",
    "from alphabase.spectral_library.reader import SWATHLibraryReader\n",
    "from alphadia.extraction.utils import reannotate_fragments\n",
    "from alphabase.psm_reader import psm_reader_provider"
   ]
  },
  {
   "cell_type": "code",
   "execution_count": 2,
   "metadata": {},
   "outputs": [],
   "source": [
    "brunner_lib = '/Users/georgwallmann/Documents/data/brunner2022/brunner_1ng_lib.tsv'\n",
    "insilico_lib_location = '/Users/georgwallmann/Documents/data/libraries/2022_111_brunner_2022_1ng_all_29_human_trypsin_diann_decoy.hdf'\n",
    "output_location = '/Users/georgwallmann/Library/CloudStorage/OneDrive-Personal/Studium/MPI/AG Mann/alphaDIA/2022_12_18_performance_testing/out_lib_eg.hdf'"
   ]
  },
  {
   "cell_type": "code",
   "execution_count": 3,
   "metadata": {},
   "outputs": [
    {
     "name": "stdout",
     "output_type": "stream",
     "text": [
      "Index(['FileName', 'PrecursorMz', 'ProductMz', 'Tr_recalibrated',\n",
      "       'IonMobility', 'transition_name', 'LibraryIntensity',\n",
      "       'transition_group_id', 'decoy', 'PeptideSequence', 'Proteotypic',\n",
      "       'QValue', 'PGQValue', 'Ms1ProfileCorr', 'ProteinGroup', 'ProteinName',\n",
      "       'Genes', 'FullUniModPeptideName', 'ModifiedPeptide', 'PrecursorCharge',\n",
      "       'PeptideGroupLabel', 'UniprotID', 'NTerm', 'CTerm', 'FragmentType',\n",
      "       'FragmentCharge', 'FragmentSeriesNumber', 'FragmentLossType',\n",
      "       'ExcludeFromAssay'],\n",
      "      dtype='object')\n"
     ]
    }
   ],
   "source": [
    "# create dense library from diann psm file\n",
    "target_lib = SWATHLibraryReader()\n",
    "target_lib.import_file(brunner_lib)\n",
    "target_lib.precursor_df['decoy'] = 0\n",
    "target_lib._fragment_mz_df = target_lib._fragment_mz_df[['b_z1', 'b_z2', 'y_z1', 'y_z2']]\n",
    "target_lib._fragment_intensity_df = target_lib._fragment_intensity_df[['b_z1', 'b_z2', 'y_z1', 'y_z2']]\n",
    "target_lib._precursor_df['elution_group_idx'] = np.arange(len(target_lib._precursor_df))"
   ]
  },
  {
   "cell_type": "code",
   "execution_count": 7,
   "metadata": {},
   "outputs": [],
   "source": []
  },
  {
   "cell_type": "code",
   "execution_count": 8,
   "metadata": {},
   "outputs": [
    {
     "name": "stdout",
     "output_type": "stream",
     "text": [
      "                             sequence  charge          rt  mobility  \\\n",
      "279                           ADEWLMK       2   35.276371  0.743977   \n",
      "410                           AEEILEK       2  -10.277693  0.766364   \n",
      "555                           AEWQVYK       2   19.510443  0.784271   \n",
      "1118                          ALEDLHK       2  -17.151136  0.763068   \n",
      "1138                          ALELDHK       2  -17.018036  0.758438   \n",
      "...                               ...     ...         ...       ...   \n",
      "5758   ELGGAIDFGAAYVLEQASSHIGNSTQATVR       4  100.893500  1.009773   \n",
      "21917  SQSSNDTFPTAMHIAAAIEVHEVLLPGLQK       4   95.498299  1.040227   \n",
      "23872  TTGIVMDSGDGVTHTVPIYEGYALPHAILR       4   67.357315  1.073750   \n",
      "24064  TVPPAVTGITFLSGGQSEEEASINLNAINK       4   89.908928  1.036458   \n",
      "24427  VDHQTGPIVWGEPGTNGQHAFYQLIHQGTK       4   57.051338  1.057954   \n",
      "\n",
      "                    proteins mods mod_sites  nAA  frag_start_idx  \\\n",
      "279               MYH9_HUMAN                   7            3450   \n",
      "410               RL11_HUMAN                   7            4943   \n",
      "555               TFAM_HUMAN                   7            6583   \n",
      "1118              JUND_HUMAN                   7           13231   \n",
      "1138             DNJC7_HUMAN                   7           13454   \n",
      "...                      ...  ...       ...  ...             ...   \n",
      "5758             ATLA3_HUMAN                  30           65772   \n",
      "21917             FUMH_HUMAN                  30          245129   \n",
      "23872  ACTB_HUMAN;ACTG_HUMAN                  30          267504   \n",
      "24064            ALDOA_HUMAN                  30          269833   \n",
      "24427             G6PI_HUMAN                  30          274033   \n",
      "\n",
      "       frag_stop_idx   rt_norm  precursor_mz         ccs  decoy  \\\n",
      "279             3456  0.427096    446.715296  302.595657      0   \n",
      "410             4949  0.221480    416.226551  312.047513      0   \n",
      "555             6589  0.355934    462.234710  318.821377      0   \n",
      "1118           13237  0.190455    413.226885  310.742381      0   \n",
      "1138           13460  0.191056    413.226885  308.856636      0   \n",
      "...              ...       ...           ...         ...    ...   \n",
      "5758           65801  0.723271    766.384899  812.512721      0   \n",
      "21917         245158  0.698919    801.914401  836.850059      0   \n",
      "23872         267533  0.571900    796.659035  863.843314      0   \n",
      "24064         269862  0.673690    765.148929  833.991360      0   \n",
      "24427         274062  0.525382    829.662803  850.988199      0   \n",
      "\n",
      "       elution_group_idx  isotope_apex_offset  \n",
      "279                  279                    0  \n",
      "410                  410                    0  \n",
      "555                  555                    0  \n",
      "1118                1118                    0  \n",
      "1138                1138                    0  \n",
      "...                  ...                  ...  \n",
      "5758                5758                    1  \n",
      "21917              21917                    1  \n",
      "23872              23872                    1  \n",
      "24064              24064                    1  \n",
      "24427              24427                    1  \n",
      "\n",
      "[27883 rows x 16 columns]\n"
     ]
    }
   ],
   "source": [
    "print(target_lib.precursor_df)"
   ]
  },
  {
   "cell_type": "code",
   "execution_count": 9,
   "metadata": {},
   "outputs": [],
   "source": [
    "decoy_lib = SpecLibBase()\n",
    "decoy_lib._precursor_df = target_lib.precursor_df.copy()\n",
    "decoy_lib._fragment_mz_df = target_lib._fragment_mz_df.copy()\n",
    "decoy_lib._fragment_intensity_df = target_lib._fragment_intensity_df.copy()\n",
    "\n",
    "#decoy_lib.import_file(brunner_lib)\n",
    "decoy_lib.decoy = 'diann'\n",
    "decoy_lib.append_decoy_sequence()\n",
    "decoy_lib.calc_precursor_mz()\n",
    "decoy_lib.precursor_df = decoy_lib.precursor_df[decoy_lib.precursor_df['decoy'] == 1]"
   ]
  },
  {
   "cell_type": "code",
   "execution_count": 10,
   "metadata": {},
   "outputs": [],
   "source": [
    "from peptdeep.pretrained_models import ModelManager\n",
    "from alphabase.peptide.fragment import get_charged_frag_types\n",
    "\n",
    "frag_types = get_charged_frag_types(\n",
    "    ['b','y'], \n",
    "    2\n",
    ")\n",
    "\n",
    "model_mgr = ModelManager()\n",
    "\n",
    "model_mgr.nce = 30\n",
    "model_mgr.instrument = 'timsTOF'"
   ]
  },
  {
   "cell_type": "code",
   "execution_count": 11,
   "metadata": {},
   "outputs": [
    {
     "name": "stdout",
     "output_type": "stream",
     "text": [
      "2023-01-15 17:33:34> Using multiprocessing with 8 processes ...\n",
      "2023-01-15 17:33:34> Predicting ms2 ...\n"
     ]
    },
    {
     "name": "stderr",
     "output_type": "stream",
     "text": [
      "100%|██████████| 24/24 [00:08<00:00,  2.80it/s]\n"
     ]
    }
   ],
   "source": [
    "res = model_mgr.predict_all(\n",
    "    decoy_lib.precursor_df,\n",
    "    predict_items=['ms2'],\n",
    "    frag_types = frag_types,\n",
    ")"
   ]
  },
  {
   "cell_type": "code",
   "execution_count": 12,
   "metadata": {},
   "outputs": [],
   "source": [
    "decoy_lib._precursor_df = res['precursor_df']\n",
    "decoy_lib._fragment_mz_df = res['fragment_mz_df']\n",
    "decoy_lib._fragment_intensity_df = res['fragment_intensity_df']"
   ]
  },
  {
   "cell_type": "code",
   "execution_count": 13,
   "metadata": {},
   "outputs": [],
   "source": [
    "decoy_lib._precursor_df[['frag_start_idx']] += len(target_lib._fragment_mz_df)\n",
    "decoy_lib._precursor_df[['frag_stop_idx']] += len(target_lib._fragment_mz_df)"
   ]
  },
  {
   "cell_type": "code",
   "execution_count": 14,
   "metadata": {},
   "outputs": [],
   "source": [
    "output_lib = SpecLibBase()\n",
    "\n",
    "output_lib._precursor_df = pd.concat([target_lib._precursor_df, decoy_lib._precursor_df], join='inner')\n",
    "output_lib._fragment_mz_df = pd.concat([target_lib._fragment_mz_df, decoy_lib._fragment_mz_df], join='inner')\n",
    "output_lib._fragment_intensity_df = pd.concat([target_lib._fragment_intensity_df, decoy_lib._fragment_intensity_df], join='inner')"
   ]
  },
  {
   "cell_type": "code",
   "execution_count": 15,
   "metadata": {},
   "outputs": [],
   "source": [
    "output_lib._precursor_df = output_lib._precursor_df.sort_values(by=['elution_group_idx']).reset_index(drop=True)\n",
    "output_lib.precursor_df['precursor_idx'] = np.arange(len(output_lib.precursor_df))"
   ]
  },
  {
   "cell_type": "code",
   "execution_count": 16,
   "metadata": {},
   "outputs": [],
   "source": [
    "output_lib.calc_precursor_isotope()\n",
    "output_lib._precursor_df.drop(columns=[\n",
    "    'isotope_m1_intensity', \n",
    "    'isotope_apex_intensity', \n",
    "    'isotope_right_most_intensity',\n",
    "    'isotope_right_most_offset',\n",
    "    'isotope_m1_mz',\n",
    "    'isotope_apex_mz',\n",
    "    'isotope_right_most_mz'\n",
    "    ], inplace=True)"
   ]
  },
  {
   "cell_type": "code",
   "execution_count": 17,
   "metadata": {},
   "outputs": [
    {
     "data": {
      "text/plain": [
       "0    27883\n",
       "1    27798\n",
       "Name: decoy, dtype: int64"
      ]
     },
     "execution_count": 17,
     "metadata": {},
     "output_type": "execute_result"
    }
   ],
   "source": [
    "output_lib._precursor_df['decoy'].value_counts()"
   ]
  },
  {
   "cell_type": "code",
   "execution_count": 18,
   "metadata": {},
   "outputs": [],
   "source": [
    "output_lib.save_hdf(output_location)"
   ]
  },
  {
   "cell_type": "code",
   "execution_count": 15,
   "metadata": {},
   "outputs": [],
   "source": [
    "def check_fragment_coverage(speclib):\n",
    "    nAA = speclib.precursor_df['nAA'].values\n",
    "    frag_end = speclib.precursor_df['frag_end_idx'].values\n",
    "    frag_start = speclib.precursor_df['frag_start_idx'].values\n",
    "    frag_num = frag_end - frag_start\n",
    "    aa_count = np.sum(nAA - 1)\n",
    "    frag_count = np.sum(frag_num)\n",
    "    print(aa_count, frag_count)"
   ]
  }
 ],
 "metadata": {
  "kernelspec": {
   "display_name": "alpha",
   "language": "python",
   "name": "python3"
  },
  "language_info": {
   "codemirror_mode": {
    "name": "ipython",
    "version": 3
   },
   "file_extension": ".py",
   "mimetype": "text/x-python",
   "name": "python",
   "nbconvert_exporter": "python",
   "pygments_lexer": "ipython3",
   "version": "3.9.13"
  },
  "orig_nbformat": 4,
  "vscode": {
   "interpreter": {
    "hash": "bfa83213b3107409f6f749b3f3e6e3a0c51921f6998a582a53d8fef6c3fba7c5"
   }
  }
 },
 "nbformat": 4,
 "nbformat_minor": 2
}
