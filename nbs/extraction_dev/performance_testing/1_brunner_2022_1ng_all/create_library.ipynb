{
 "cells": [
  {
   "cell_type": "code",
   "execution_count": 1,
   "metadata": {},
   "outputs": [
    {
     "name": "stderr",
     "output_type": "stream",
     "text": [
      "WARNING:root:WARNING: Temp mmap arrays are written to /var/folders/lc/9594t94d5b5_gn0y04w1jh980000gn/T/temp_mmap_u8_3bqxo. Cleanup of this folder is OS dependant, and might need to be triggered manually! Current space: 1,412,547,391,488\n",
      "WARNING:root:WARNING: No Bruker libraries are available for this operating system. Mobility and m/z values need to be estimated. While this estimation often returns acceptable results with errors < 0.02 Th, huge errors (e.g. offsets of 6 Th) have already been observed for some samples!\n",
      "INFO:root:\n",
      "INFO:root:Cupy is not available\n"
     ]
    }
   ],
   "source": [
    "import pandas as pd\n",
    "import numpy as np\n",
    "import os\n",
    "\n",
    "import logging\n",
    "logging.getLogger().setLevel(logging.INFO)\n",
    "\n",
    "from alphabase.spectral_library.flat import SpecLibFlat\n",
    "from alphabase.spectral_library.base import SpecLibBase\n",
    "from alphabase.spectral_library.reader import SWATHLibraryReader\n",
    "from alphadia.extraction.utils import reannotate_fragments\n",
    "from alphabase.psm_reader import psm_reader_provider"
   ]
  },
  {
   "cell_type": "code",
   "execution_count": 2,
   "metadata": {},
   "outputs": [],
   "source": [
    "brunner_lib = '/Users/georgwallmann/Documents/data/brunner2022/brunner_1ng_lib.tsv'\n",
    "insilico_lib_location = '/Users/georgwallmann/Documents/data/libraries/2022_111_brunner_2022_1ng_all_29_human_trypsin_diann_decoy.hdf'\n",
    "output_location = '/Users/georgwallmann/Library/CloudStorage/OneDrive-Personal/Studium/MPI/AG Mann/alphaDIA/2022_12_18_performance_testing/out_lib_eg.hdf'"
   ]
  },
  {
   "cell_type": "code",
   "execution_count": 3,
   "metadata": {},
   "outputs": [
    {
     "name": "stdout",
     "output_type": "stream",
     "text": [
      "Index(['FileName', 'PrecursorMz', 'ProductMz', 'Tr_recalibrated',\n",
      "       'IonMobility', 'transition_name', 'LibraryIntensity',\n",
      "       'transition_group_id', 'decoy', 'PeptideSequence', 'Proteotypic',\n",
      "       'QValue', 'PGQValue', 'Ms1ProfileCorr', 'ProteinGroup', 'ProteinName',\n",
      "       'Genes', 'FullUniModPeptideName', 'ModifiedPeptide', 'PrecursorCharge',\n",
      "       'PeptideGroupLabel', 'UniprotID', 'NTerm', 'CTerm', 'FragmentType',\n",
      "       'FragmentCharge', 'FragmentSeriesNumber', 'FragmentLossType',\n",
      "       'ExcludeFromAssay'],\n",
      "      dtype='object')\n"
     ]
    }
   ],
   "source": [
    "# create dense library from diann psm file\n",
    "target_lib = SWATHLibraryReader()\n",
    "target_lib.import_file(brunner_lib)\n",
    "target_lib.precursor_df['decoy'] = 0\n",
    "target_lib._fragment_mz_df = target_lib._fragment_mz_df[['b_z1', 'b_z2', 'y_z1', 'y_z2']]\n",
    "target_lib._fragment_intensity_df = target_lib._fragment_intensity_df[['b_z1', 'b_z2', 'y_z1', 'y_z2']]\n",
    "target_lib._precursor_df['elution_group_idx'] = np.arange(len(target_lib._precursor_df))"
   ]
  },
  {
   "cell_type": "code",
   "execution_count": null,
   "metadata": {},
   "outputs": [],
   "source": []
  },
  {
   "cell_type": "code",
   "execution_count": 4,
   "metadata": {},
   "outputs": [
    {
     "name": "stdout",
     "output_type": "stream",
     "text": [
      "                        sequence  charge         rt  mobility     proteins  \\\n",
      "0                    AAAAAAALQAK       2 -15.465085  0.856250    RL4_HUMAN   \n",
      "1                AAAAALSQQQSLQER       2  -3.104374  1.030682  CATIN_HUMAN   \n",
      "2              AAAAASAAGPGGLVAGK       2   2.835199  0.943333  U119B_HUMAN   \n",
      "3              AAAAAWEEPSSGNGTAR       2   2.707207  1.039318   RCC2_HUMAN   \n",
      "4      AAAASAAEAGIATTGTEDSDDALLK       3  38.684788  1.000227  PSMD4_HUMAN   \n",
      "...                          ...     ...        ...       ...          ...   \n",
      "27878                YYTVFDRDNNR       3  13.692140  0.745104   CATD_HUMAN   \n",
      "27879                   YYVLNALK       2  46.346928  0.849271   PRP8_HUMAN   \n",
      "27880               YYVTIIDAPGHR       2  30.804520  1.032708  EF1A1_HUMAN   \n",
      "27881               YYVTIIDAPGHR       3  30.787134  0.792500  EF1A1_HUMAN   \n",
      "27882                   YYYIPQYK       2  35.303143  0.908542  NDUF2_HUMAN   \n",
      "\n",
      "      mods mod_sites  nAA  frag_start_idx  frag_stop_idx   rt_norm  \\\n",
      "0                      11               0             10  0.198066   \n",
      "1                      15              10             24  0.253858   \n",
      "2                      17              24             40  0.280667   \n",
      "3                      17              40             56  0.280090   \n",
      "4                      25              56             80  0.442481   \n",
      "...    ...       ...  ...             ...            ...       ...   \n",
      "27878                  11          311819         311829  0.329672   \n",
      "27879                   8          311829         311836  0.477065   \n",
      "27880                  12          311836         311847  0.406912   \n",
      "27881                  12          311847         311858  0.406833   \n",
      "27882                   8          311858         311865  0.427217   \n",
      "\n",
      "       precursor_mz         ccs  decoy  elution_group_idx  \n",
      "0        478.779816  347.905464      0                  0  \n",
      "1        786.410443  416.445789      0                  1  \n",
      "2        670.370058  381.729309      0                  2  \n",
      "3        823.381882  419.770380      0                  3  \n",
      "4        774.043203  604.497867      0                  4  \n",
      "...             ...         ...    ...                ...  \n",
      "27878    488.228507  451.879211      0              27878  \n",
      "27879    492.281660  344.935269      0              27879  \n",
      "27880    702.867151  417.698115      0              27880  \n",
      "27881    468.913860  480.808738      0              27881  \n",
      "27882    569.284400  368.317646      0              27882  \n",
      "\n",
      "[27883 rows x 15 columns]\n"
     ]
    }
   ],
   "source": [
    "print(target_lib.precursor_df)"
   ]
  },
  {
   "cell_type": "code",
   "execution_count": 5,
   "metadata": {},
   "outputs": [],
   "source": [
    "decoy_lib = SpecLibBase()\n",
    "decoy_lib._precursor_df = target_lib.precursor_df.copy()\n",
    "decoy_lib._fragment_mz_df = target_lib._fragment_mz_df.copy()\n",
    "decoy_lib._fragment_intensity_df = target_lib._fragment_intensity_df.copy()\n",
    "\n",
    "#decoy_lib.import_file(brunner_lib)\n",
    "decoy_lib.decoy = 'diann'\n",
    "decoy_lib.append_decoy_sequence()\n",
    "decoy_lib.calc_precursor_mz()\n",
    "decoy_lib.precursor_df = decoy_lib.precursor_df[decoy_lib.precursor_df['decoy'] == 1]"
   ]
  },
  {
   "cell_type": "code",
   "execution_count": 6,
   "metadata": {},
   "outputs": [],
   "source": [
    "from peptdeep.pretrained_models import ModelManager\n",
    "from alphabase.peptide.fragment import get_charged_frag_types\n",
    "\n",
    "frag_types = get_charged_frag_types(\n",
    "    ['b','y'], \n",
    "    2\n",
    ")\n",
    "\n",
    "model_mgr = ModelManager()\n",
    "\n",
    "model_mgr.nce = 30\n",
    "model_mgr.instrument = 'timsTOF'"
   ]
  },
  {
   "cell_type": "code",
   "execution_count": 7,
   "metadata": {},
   "outputs": [
    {
     "name": "stdout",
     "output_type": "stream",
     "text": [
      "2023-01-25 14:51:46> Using multiprocessing with 8 processes ...\n",
      "2023-01-25 14:51:46> Predicting ms2 ...\n"
     ]
    },
    {
     "name": "stderr",
     "output_type": "stream",
     "text": [
      "100%|██████████| 24/24 [00:08<00:00,  2.96it/s]\n"
     ]
    }
   ],
   "source": [
    "res = model_mgr.predict_all(\n",
    "    decoy_lib.precursor_df,\n",
    "    predict_items=['ms2'],\n",
    "    frag_types = frag_types,\n",
    ")"
   ]
  },
  {
   "cell_type": "code",
   "execution_count": 8,
   "metadata": {},
   "outputs": [],
   "source": [
    "decoy_lib._precursor_df = res['precursor_df']\n",
    "decoy_lib._fragment_mz_df = res['fragment_mz_df']\n",
    "decoy_lib._fragment_intensity_df = res['fragment_intensity_df']"
   ]
  },
  {
   "cell_type": "code",
   "execution_count": 9,
   "metadata": {},
   "outputs": [],
   "source": [
    "decoy_lib._precursor_df[['frag_start_idx']] += len(target_lib._fragment_mz_df)\n",
    "decoy_lib._precursor_df[['frag_stop_idx']] += len(target_lib._fragment_mz_df)"
   ]
  },
  {
   "cell_type": "code",
   "execution_count": 10,
   "metadata": {},
   "outputs": [],
   "source": [
    "output_lib = SpecLibBase()\n",
    "\n",
    "output_lib._precursor_df = pd.concat([target_lib._precursor_df, decoy_lib._precursor_df], join='inner')\n",
    "output_lib._fragment_mz_df = pd.concat([target_lib._fragment_mz_df, decoy_lib._fragment_mz_df], join='inner')\n",
    "output_lib._fragment_intensity_df = pd.concat([target_lib._fragment_intensity_df, decoy_lib._fragment_intensity_df], join='inner')"
   ]
  },
  {
   "cell_type": "code",
   "execution_count": 11,
   "metadata": {},
   "outputs": [],
   "source": [
    "output_lib._precursor_df = output_lib._precursor_df.sort_values(by=['elution_group_idx']).reset_index(drop=True)\n",
    "output_lib.precursor_df['precursor_idx'] = np.arange(len(output_lib.precursor_df))"
   ]
  },
  {
   "cell_type": "code",
   "execution_count": 21,
   "metadata": {},
   "outputs": [
    {
     "data": {
      "text/plain": [
       "sequence    AAAAAAALQAK\n",
       "mods                   \n",
       "Name: 0, dtype: object"
      ]
     },
     "execution_count": 21,
     "metadata": {},
     "output_type": "execute_result"
    }
   ],
   "source": [
    "output_lib.precursor_df\n",
    "\n",
    "from alphabase.constants.isotope import IsotopeDistribution\n",
    "isotope_dist = IsotopeDistribution()\n",
    "\n",
    "output_lib.precursor_df[['sequence','mods']].iloc[0]"
   ]
  },
  {
   "cell_type": "code",
   "execution_count": 29,
   "metadata": {},
   "outputs": [
    {
     "data": {
      "text/plain": [
       "sequence             DMAIATGGAVFGEEGLTLNLEDVQPHDLGK\n",
       "charge                                            4\n",
       "rt                                        92.312187\n",
       "mobility                                    1.01125\n",
       "proteins                                 CH60_HUMAN\n",
       "mods                                               \n",
       "mod_sites                                          \n",
       "nAA                                              30\n",
       "frag_start_idx                                41205\n",
       "frag_stop_idx                                 41234\n",
       "rt_norm                                    0.684538\n",
       "precursor_mz                             775.134122\n",
       "ccs                                      813.659782\n",
       "decoy                                             0\n",
       "elution_group_idx                              3553\n",
       "precursor_idx                                  7095\n",
       "Name: 7095, dtype: object"
      ]
     },
     "execution_count": 29,
     "metadata": {},
     "output_type": "execute_result"
    }
   ],
   "source": [
    "output_lib.precursor_df.sort_values(by=['nAA'], ascending=False).iloc[0]"
   ]
  },
  {
   "cell_type": "code",
   "execution_count": 42,
   "metadata": {},
   "outputs": [],
   "source": [
    "max_isotope = 8\n",
    "\n"
   ]
  },
  {
   "cell_type": "code",
   "execution_count": 47,
   "metadata": {},
   "outputs": [],
   "source": [
    "from tqdm import tqdm\n",
    "from alphabase.peptide.precursor import get_mod_seq_formula\n",
    "\n",
    "def calc_isotope_dist(precursor_df, max_isotope = 6, min_intensity = 0.001):\n",
    "\n",
    "    col_names = ['i_{}'.format(i) for i in range(max_isotope)]\n",
    "    output_lib.precursor_df[col_names] = 0.\n",
    "\n",
    "    for i in tqdm(range(len(output_lib.precursor_df))):\n",
    "\n",
    "        row = output_lib.precursor_df.iloc[i]\n",
    "        dist, mono = isotope_dist.calc_formula_distribution(\n",
    "            get_mod_seq_formula(row['sequence'], row['mods'])\n",
    "        )\n",
    "        dist[dist < 0.001] = 0.\n",
    "        dist = dist / dist.sum()\n",
    "        output_lib.precursor_df.loc[i, col_names] = dist[:max_isotope]"
   ]
  },
  {
   "cell_type": "code",
   "execution_count": 48,
   "metadata": {},
   "outputs": [
    {
     "name": "stderr",
     "output_type": "stream",
     "text": [
      "100%|██████████| 55681/55681 [00:20<00:00, 2738.90it/s]"
     ]
    },
    {
     "name": "stdout",
     "output_type": "stream",
     "text": [
      "                sequence mods       i_0       i_1       i_2       i_3  \\\n",
      "0            AAAAAAALQAK       0.591407  0.297877  0.088130  0.019204   \n",
      "1            ALAAAAALQLK       0.553814  0.315646  0.102037  0.023983   \n",
      "2        AAAAALSQQQSLQER       0.433274  0.343916  0.155286  0.051035   \n",
      "3        ALAAALSQQQSLQDR       0.423885  0.345828  0.159408  0.053328   \n",
      "4      AAAAASAAGPGGLVAGK       0.480321  0.336298  0.133837  0.038759   \n",
      "...                  ...  ...       ...       ...       ...       ...   \n",
      "55676       YYVTIIDAPGHR       0.443512  0.347062  0.149550  0.046192   \n",
      "55677       YYVTIIDAPGHR       0.443512  0.347062  0.149550  0.046192   \n",
      "55678       YSVTIIDAPGSR       0.491233  0.332846  0.129275  0.036661   \n",
      "55679           YSYIPQSK       0.565667  0.309193  0.098054  0.022809   \n",
      "55680           YYYIPQYK       0.496425  0.336233  0.125411  0.033534   \n",
      "\n",
      "            i_4       i_5  i_6  i_7  \n",
      "0      0.003382  0.000000  0.0  0.0  \n",
      "1      0.004519  0.000000  0.0  0.0  \n",
      "2      0.013476  0.003012  0.0  0.0  \n",
      "3      0.014307  0.003245  0.0  0.0  \n",
      "4      0.009013  0.001772  0.0  0.0  \n",
      "...         ...       ...  ...  ...  \n",
      "55676  0.011344  0.002340  0.0  0.0  \n",
      "55677  0.011344  0.002340  0.0  0.0  \n",
      "55678  0.008366  0.001617  0.0  0.0  \n",
      "55679  0.004278  0.000000  0.0  0.0  \n",
      "55680  0.007126  0.001271  0.0  0.0  \n",
      "\n",
      "[55681 rows x 10 columns]\n"
     ]
    },
    {
     "name": "stderr",
     "output_type": "stream",
     "text": [
      "\n"
     ]
    }
   ],
   "source": [
    "calc_isotope_dist(output_lib.precursor_df)\n",
    "print(output_lib.precursor_df[['sequence','mods']+col_names])"
   ]
  },
  {
   "cell_type": "code",
   "execution_count": 49,
   "metadata": {},
   "outputs": [],
   "source": [
    "output_lib.calc_precursor_isotope()\n",
    "output_lib._precursor_df.drop(columns=[\n",
    "    'isotope_m1_intensity', \n",
    "    'isotope_apex_intensity', \n",
    "    'isotope_right_most_intensity',\n",
    "    'isotope_right_most_offset',\n",
    "    'isotope_m1_mz',\n",
    "    'isotope_apex_mz',\n",
    "    'isotope_right_most_mz'\n",
    "    ], inplace=True)"
   ]
  },
  {
   "cell_type": "code",
   "execution_count": 50,
   "metadata": {},
   "outputs": [
    {
     "data": {
      "text/plain": [
       "0    27883\n",
       "1    27798\n",
       "Name: decoy, dtype: int64"
      ]
     },
     "execution_count": 50,
     "metadata": {},
     "output_type": "execute_result"
    }
   ],
   "source": [
    "output_lib._precursor_df['decoy'].value_counts()"
   ]
  },
  {
   "cell_type": "code",
   "execution_count": 51,
   "metadata": {},
   "outputs": [],
   "source": [
    "output_lib.save_hdf(output_location)"
   ]
  },
  {
   "cell_type": "code",
   "execution_count": 52,
   "metadata": {},
   "outputs": [],
   "source": [
    "def check_fragment_coverage(speclib):\n",
    "    nAA = speclib.precursor_df['nAA'].values\n",
    "    frag_end = speclib.precursor_df['frag_end_idx'].values\n",
    "    frag_start = speclib.precursor_df['frag_start_idx'].values\n",
    "    frag_num = frag_end - frag_start\n",
    "    aa_count = np.sum(nAA - 1)\n",
    "    frag_count = np.sum(frag_num)\n",
    "    print(aa_count, frag_count)"
   ]
  },
  {
   "cell_type": "code",
   "execution_count": null,
   "metadata": {},
   "outputs": [],
   "source": []
  }
 ],
 "metadata": {
  "kernelspec": {
   "display_name": "alpha",
   "language": "python",
   "name": "python3"
  },
  "language_info": {
   "codemirror_mode": {
    "name": "ipython",
    "version": 3
   },
   "file_extension": ".py",
   "mimetype": "text/x-python",
   "name": "python",
   "nbconvert_exporter": "python",
   "pygments_lexer": "ipython3",
   "version": "3.9.13"
  },
  "orig_nbformat": 4,
  "vscode": {
   "interpreter": {
    "hash": "bfa83213b3107409f6f749b3f3e6e3a0c51921f6998a582a53d8fef6c3fba7c5"
   }
  }
 },
 "nbformat": 4,
 "nbformat_minor": 2
}
