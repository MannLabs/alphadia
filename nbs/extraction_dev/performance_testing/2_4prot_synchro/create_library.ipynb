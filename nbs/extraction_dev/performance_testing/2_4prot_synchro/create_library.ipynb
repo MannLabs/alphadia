{
 "cells": [
  {
   "cell_type": "code",
   "execution_count": 1,
   "metadata": {},
   "outputs": [
    {
     "name": "stderr",
     "output_type": "stream",
     "text": [
      "WARNING:root:WARNING: Temp mmap arrays are written to /var/folders/lc/9594t94d5b5_gn0y04w1jh980000gn/T/temp_mmap__5dlp5gf. Cleanup of this folder is OS dependant, and might need to be triggered manually! Current space: 1,405,866,074,112\n",
      "WARNING:root:WARNING: No Bruker libraries are available for this operating system. Mobility and m/z values need to be estimated. While this estimation often returns acceptable results with errors < 0.02 Th, huge errors (e.g. offsets of 6 Th) have already been observed for some samples!\n",
      "INFO:root:\n",
      "INFO:root:Cupy is not available\n"
     ]
    }
   ],
   "source": [
    "import pandas as pd\n",
    "import numpy as np\n",
    "import os\n",
    "\n",
    "import logging\n",
    "logging.getLogger().setLevel(logging.INFO)\n",
    "\n",
    "from alphabase.spectral_library.flat import SpecLibFlat\n",
    "from alphabase.spectral_library.base import SpecLibBase\n",
    "from alphabase.spectral_library.reader import SWATHLibraryReader\n",
    "from alphadia.extraction.utils import reannotate_fragments\n",
    "from alphabase.psm_reader import psm_reader_provider"
   ]
  },
  {
   "cell_type": "code",
   "execution_count": 5,
   "metadata": {},
   "outputs": [
    {
     "name": "stdout",
     "output_type": "stream",
     "text": [
      "2023-02-01 11:14:28> Predicting MS2 ...\n"
     ]
    },
    {
     "name": "stderr",
     "output_type": "stream",
     "text": [
      "100%|██████████| 19/19 [00:00<00:00, 63.62it/s]\n"
     ]
    }
   ],
   "source": [
    "reader = psm_reader_provider.get_reader('maxquant', rt_unit='minute', keep_decoy=True, fdr=1)\n",
    "reader.import_file('/Users/georgwallmann/Documents/data/raw_data/synchro_PASEF_4prot/dda_psms_maxquant/evidence.txt')\n",
    "\n",
    "from peptdeep.pretrained_models import ModelManager\n",
    "from alphabase.peptide.fragment import get_charged_frag_types\n",
    "\n",
    "frag_types = get_charged_frag_types(\n",
    "    ['b','y'], \n",
    "    2\n",
    ")\n",
    "\n",
    "model_mgr = ModelManager()\n",
    "\n",
    "model_mgr.nce = 30\n",
    "model_mgr.instrument = 'timsTOF'\n",
    "\n",
    "res = model_mgr.predict_all(\n",
    "    reader.psm_df,\n",
    "    predict_items=['ms2'],\n",
    "    frag_types = frag_types,\n",
    ")"
   ]
  },
  {
   "cell_type": "code",
   "execution_count": 12,
   "metadata": {},
   "outputs": [],
   "source": [
    "target_lib = SpecLibBase()\n",
    "target_lib._precursor_df = res['precursor_df']\n",
    "target_lib._fragment_intensity_df = res['fragment_intensity_df']\n",
    "target_lib._fragment_mz_df = res['fragment_mz_df']"
   ]
  },
  {
   "cell_type": "code",
   "execution_count": 14,
   "metadata": {},
   "outputs": [],
   "source": [
    "# create dense library from diann psm file\n",
    "target_lib._precursor_df['elution_group_idx'] = np.arange(len(target_lib._precursor_df))"
   ]
  },
  {
   "cell_type": "code",
   "execution_count": 15,
   "metadata": {},
   "outputs": [],
   "source": [
    "decoy_lib = SpecLibBase()\n",
    "decoy_lib._precursor_df = target_lib.precursor_df.copy()\n",
    "decoy_lib._fragment_mz_df = target_lib._fragment_mz_df.copy()\n",
    "decoy_lib._fragment_intensity_df = target_lib._fragment_intensity_df.copy()\n",
    "\n",
    "#decoy_lib.import_file(brunner_lib)\n",
    "decoy_lib.decoy = 'diann'\n",
    "decoy_lib.append_decoy_sequence()\n",
    "decoy_lib.calc_precursor_mz()\n",
    "decoy_lib.precursor_df = decoy_lib.precursor_df[decoy_lib.precursor_df['decoy'] == 1]"
   ]
  },
  {
   "cell_type": "code",
   "execution_count": 16,
   "metadata": {},
   "outputs": [],
   "source": [
    "from peptdeep.pretrained_models import ModelManager\n",
    "from alphabase.peptide.fragment import get_charged_frag_types\n",
    "\n",
    "frag_types = get_charged_frag_types(\n",
    "    ['b','y'], \n",
    "    2\n",
    ")\n",
    "\n",
    "model_mgr = ModelManager()\n",
    "\n",
    "model_mgr.nce = 30\n",
    "model_mgr.instrument = 'timsTOF'"
   ]
  },
  {
   "cell_type": "code",
   "execution_count": 17,
   "metadata": {},
   "outputs": [
    {
     "name": "stdout",
     "output_type": "stream",
     "text": [
      "2023-02-01 11:16:48> Predicting MS2 ...\n"
     ]
    },
    {
     "name": "stderr",
     "output_type": "stream",
     "text": [
      "100%|██████████| 19/19 [00:00<00:00, 69.72it/s]\n"
     ]
    }
   ],
   "source": [
    "res = model_mgr.predict_all(\n",
    "    decoy_lib.precursor_df,\n",
    "    predict_items=['ms2'],\n",
    "    frag_types = frag_types,\n",
    ")"
   ]
  },
  {
   "cell_type": "code",
   "execution_count": 18,
   "metadata": {},
   "outputs": [],
   "source": [
    "decoy_lib._precursor_df = res['precursor_df']\n",
    "decoy_lib._fragment_mz_df = res['fragment_mz_df']\n",
    "decoy_lib._fragment_intensity_df = res['fragment_intensity_df']"
   ]
  },
  {
   "cell_type": "code",
   "execution_count": 19,
   "metadata": {},
   "outputs": [],
   "source": [
    "decoy_lib._precursor_df[['frag_start_idx']] += len(target_lib._fragment_mz_df)\n",
    "decoy_lib._precursor_df[['frag_stop_idx']] += len(target_lib._fragment_mz_df)"
   ]
  },
  {
   "cell_type": "code",
   "execution_count": 20,
   "metadata": {},
   "outputs": [],
   "source": [
    "output_lib = SpecLibBase()\n",
    "\n",
    "output_lib._precursor_df = pd.concat([target_lib._precursor_df, decoy_lib._precursor_df], join='inner')\n",
    "output_lib._fragment_mz_df = pd.concat([target_lib._fragment_mz_df, decoy_lib._fragment_mz_df], join='inner')\n",
    "output_lib._fragment_intensity_df = pd.concat([target_lib._fragment_intensity_df, decoy_lib._fragment_intensity_df], join='inner')"
   ]
  },
  {
   "cell_type": "code",
   "execution_count": 21,
   "metadata": {},
   "outputs": [],
   "source": [
    "output_lib._precursor_df = output_lib._precursor_df.sort_values(by=['elution_group_idx']).reset_index(drop=True)\n",
    "output_lib.precursor_df['precursor_idx'] = np.arange(len(output_lib.precursor_df))"
   ]
  },
  {
   "cell_type": "code",
   "execution_count": 22,
   "metadata": {},
   "outputs": [
    {
     "data": {
      "text/plain": [
       "sequence    DYSQYYR\n",
       "mods               \n",
       "Name: 0, dtype: object"
      ]
     },
     "execution_count": 22,
     "metadata": {},
     "output_type": "execute_result"
    }
   ],
   "source": [
    "output_lib.precursor_df\n",
    "\n",
    "from alphabase.constants.isotope import IsotopeDistribution\n",
    "isotope_dist = IsotopeDistribution()\n",
    "\n",
    "output_lib.precursor_df[['sequence','mods']].iloc[0]"
   ]
  },
  {
   "cell_type": "code",
   "execution_count": 23,
   "metadata": {},
   "outputs": [
    {
     "data": {
      "text/plain": [
       "sequence                                  LVSHSLLVTLASHLPSDFTPAVHASLEK\n",
       "charge                                                               4\n",
       "rt                                                              18.173\n",
       "ccs                                                         807.139316\n",
       "mobility                                                      1.002955\n",
       "scan_num                                                         26754\n",
       "raw_name             20220923_TIMS03_PaSk_SA_4prot_HeLa_Evo05_21min...\n",
       "precursor_mz                                                743.157828\n",
       "score                                                           31.674\n",
       "proteins                                                   CON__P01966\n",
       "decoy                                                                1\n",
       "intensity                                                      80869.0\n",
       "spec_idx                                                         26753\n",
       "mods                                                                  \n",
       "mod_sites                                                             \n",
       "nAA                                                                 28\n",
       "rt_norm                                                        0.90494\n",
       "frag_stop_idx                                                     6110\n",
       "nce                                                                 30\n",
       "instrument                                                     timsTOF\n",
       "frag_start_idx                                                    6083\n",
       "elution_group_idx                                                  266\n",
       "precursor_idx                                                      526\n",
       "Name: 526, dtype: object"
      ]
     },
     "execution_count": 23,
     "metadata": {},
     "output_type": "execute_result"
    }
   ],
   "source": [
    "output_lib.precursor_df.sort_values(by=['nAA'], ascending=False).iloc[0]"
   ]
  },
  {
   "cell_type": "code",
   "execution_count": 42,
   "metadata": {},
   "outputs": [],
   "source": [
    "max_isotope = 8\n",
    "\n"
   ]
  },
  {
   "cell_type": "code",
   "execution_count": 24,
   "metadata": {},
   "outputs": [],
   "source": [
    "from tqdm import tqdm\n",
    "from alphabase.peptide.precursor import get_mod_seq_formula\n",
    "\n",
    "def calc_isotope_dist(precursor_df, max_isotope = 6, min_intensity = 0.001):\n",
    "\n",
    "    col_names = ['i_{}'.format(i) for i in range(max_isotope)]\n",
    "    output_lib.precursor_df[col_names] = 0.\n",
    "\n",
    "    for i in tqdm(range(len(output_lib.precursor_df))):\n",
    "\n",
    "        row = output_lib.precursor_df.iloc[i]\n",
    "        dist, mono = isotope_dist.calc_formula_distribution(\n",
    "            get_mod_seq_formula(row['sequence'], row['mods'])\n",
    "        )\n",
    "        dist[dist < 0.001] = 0.\n",
    "        dist = dist / dist.sum()\n",
    "        output_lib.precursor_df.loc[i, col_names] = dist[:max_isotope]"
   ]
  },
  {
   "cell_type": "code",
   "execution_count": 25,
   "metadata": {},
   "outputs": [
    {
     "name": "stderr",
     "output_type": "stream",
     "text": [
      "100%|██████████| 527/527 [00:00<00:00, 2469.02it/s]\n"
     ]
    },
    {
     "ename": "NameError",
     "evalue": "name 'col_names' is not defined",
     "output_type": "error",
     "traceback": [
      "\u001b[0;31m---------------------------------------------------------------------------\u001b[0m",
      "\u001b[0;31mNameError\u001b[0m                                 Traceback (most recent call last)",
      "Cell \u001b[0;32mIn [25], line 2\u001b[0m\n\u001b[1;32m      1\u001b[0m calc_isotope_dist(output_lib\u001b[39m.\u001b[39mprecursor_df)\n\u001b[0;32m----> 2\u001b[0m \u001b[39mprint\u001b[39m(output_lib\u001b[39m.\u001b[39mprecursor_df[[\u001b[39m'\u001b[39m\u001b[39msequence\u001b[39m\u001b[39m'\u001b[39m,\u001b[39m'\u001b[39m\u001b[39mmods\u001b[39m\u001b[39m'\u001b[39m]\u001b[39m+\u001b[39mcol_names])\n",
      "\u001b[0;31mNameError\u001b[0m: name 'col_names' is not defined"
     ]
    }
   ],
   "source": [
    "calc_isotope_dist(output_lib.precursor_df)"
   ]
  },
  {
   "cell_type": "code",
   "execution_count": 49,
   "metadata": {},
   "outputs": [],
   "source": [
    "output_lib.calc_precursor_isotope()\n",
    "output_lib._precursor_df.drop(columns=[\n",
    "    'isotope_m1_intensity', \n",
    "    'isotope_apex_intensity', \n",
    "    'isotope_right_most_intensity',\n",
    "    'isotope_right_most_offset',\n",
    "    'isotope_m1_mz',\n",
    "    'isotope_apex_mz',\n",
    "    'isotope_right_most_mz'\n",
    "    ], inplace=True)"
   ]
  },
  {
   "cell_type": "code",
   "execution_count": 29,
   "metadata": {},
   "outputs": [
    {
     "data": {
      "text/html": [
       "<div>\n",
       "<style scoped>\n",
       "    .dataframe tbody tr th:only-of-type {\n",
       "        vertical-align: middle;\n",
       "    }\n",
       "\n",
       "    .dataframe tbody tr th {\n",
       "        vertical-align: top;\n",
       "    }\n",
       "\n",
       "    .dataframe thead th {\n",
       "        text-align: right;\n",
       "    }\n",
       "</style>\n",
       "<table border=\"1\" class=\"dataframe\">\n",
       "  <thead>\n",
       "    <tr style=\"text-align: right;\">\n",
       "      <th></th>\n",
       "      <th>b_z1</th>\n",
       "      <th>b_z2</th>\n",
       "      <th>y_z1</th>\n",
       "      <th>y_z2</th>\n",
       "    </tr>\n",
       "  </thead>\n",
       "  <tbody>\n",
       "    <tr>\n",
       "      <th>0</th>\n",
       "      <td>0.000000</td>\n",
       "      <td>0.0</td>\n",
       "      <td>0.000000</td>\n",
       "      <td>0.0</td>\n",
       "    </tr>\n",
       "    <tr>\n",
       "      <th>1</th>\n",
       "      <td>0.071987</td>\n",
       "      <td>0.0</td>\n",
       "      <td>1.000000</td>\n",
       "      <td>0.0</td>\n",
       "    </tr>\n",
       "    <tr>\n",
       "      <th>2</th>\n",
       "      <td>0.026730</td>\n",
       "      <td>0.0</td>\n",
       "      <td>0.356210</td>\n",
       "      <td>0.0</td>\n",
       "    </tr>\n",
       "    <tr>\n",
       "      <th>3</th>\n",
       "      <td>0.000000</td>\n",
       "      <td>0.0</td>\n",
       "      <td>0.554461</td>\n",
       "      <td>0.0</td>\n",
       "    </tr>\n",
       "    <tr>\n",
       "      <th>4</th>\n",
       "      <td>0.000000</td>\n",
       "      <td>0.0</td>\n",
       "      <td>0.190057</td>\n",
       "      <td>0.0</td>\n",
       "    </tr>\n",
       "    <tr>\n",
       "      <th>...</th>\n",
       "      <td>...</td>\n",
       "      <td>...</td>\n",
       "      <td>...</td>\n",
       "      <td>...</td>\n",
       "    </tr>\n",
       "    <tr>\n",
       "      <th>3022</th>\n",
       "      <td>0.000000</td>\n",
       "      <td>0.0</td>\n",
       "      <td>0.452760</td>\n",
       "      <td>0.0</td>\n",
       "    </tr>\n",
       "    <tr>\n",
       "      <th>3023</th>\n",
       "      <td>0.000000</td>\n",
       "      <td>0.0</td>\n",
       "      <td>0.256635</td>\n",
       "      <td>0.0</td>\n",
       "    </tr>\n",
       "    <tr>\n",
       "      <th>3024</th>\n",
       "      <td>0.000000</td>\n",
       "      <td>0.0</td>\n",
       "      <td>0.063062</td>\n",
       "      <td>0.0</td>\n",
       "    </tr>\n",
       "    <tr>\n",
       "      <th>3025</th>\n",
       "      <td>0.000000</td>\n",
       "      <td>0.0</td>\n",
       "      <td>0.056902</td>\n",
       "      <td>0.0</td>\n",
       "    </tr>\n",
       "    <tr>\n",
       "      <th>3026</th>\n",
       "      <td>0.000000</td>\n",
       "      <td>0.0</td>\n",
       "      <td>0.000000</td>\n",
       "      <td>0.0</td>\n",
       "    </tr>\n",
       "  </tbody>\n",
       "</table>\n",
       "<p>6110 rows × 4 columns</p>\n",
       "</div>"
      ],
      "text/plain": [
       "          b_z1  b_z2      y_z1  y_z2\n",
       "0     0.000000   0.0  0.000000   0.0\n",
       "1     0.071987   0.0  1.000000   0.0\n",
       "2     0.026730   0.0  0.356210   0.0\n",
       "3     0.000000   0.0  0.554461   0.0\n",
       "4     0.000000   0.0  0.190057   0.0\n",
       "...        ...   ...       ...   ...\n",
       "3022  0.000000   0.0  0.452760   0.0\n",
       "3023  0.000000   0.0  0.256635   0.0\n",
       "3024  0.000000   0.0  0.063062   0.0\n",
       "3025  0.000000   0.0  0.056902   0.0\n",
       "3026  0.000000   0.0  0.000000   0.0\n",
       "\n",
       "[6110 rows x 4 columns]"
      ]
     },
     "execution_count": 29,
     "metadata": {},
     "output_type": "execute_result"
    }
   ],
   "source": [
    "output_lib.fragment_intensity_df"
   ]
  },
  {
   "cell_type": "code",
   "execution_count": 31,
   "metadata": {},
   "outputs": [],
   "source": [
    "output_location = '/Users/georgwallmann/Documents/data/raw_data/synchro_PASEF_4prot/dda_psms_maxquant/alpha_lib.hdf'\n",
    "\n",
    "output_lib.save_hdf(output_location)"
   ]
  },
  {
   "cell_type": "code",
   "execution_count": 52,
   "metadata": {},
   "outputs": [],
   "source": [
    "def check_fragment_coverage(speclib):\n",
    "    nAA = speclib.precursor_df['nAA'].values\n",
    "    frag_end = speclib.precursor_df['frag_end_idx'].values\n",
    "    frag_start = speclib.precursor_df['frag_start_idx'].values\n",
    "    frag_num = frag_end - frag_start\n",
    "    aa_count = np.sum(nAA - 1)\n",
    "    frag_count = np.sum(frag_num)\n",
    "    print(aa_count, frag_count)"
   ]
  },
  {
   "cell_type": "code",
   "execution_count": null,
   "metadata": {},
   "outputs": [],
   "source": []
  }
 ],
 "metadata": {
  "kernelspec": {
   "display_name": "Python 3 (ipykernel)",
   "language": "python",
   "name": "pythonjvsc74a57bd0bfa83213b3107409f6f749b3f3e6e3a0c51921f6998a582a53d8fef6c3fba7c5"
  },
  "language_info": {
   "codemirror_mode": {
    "name": "ipython",
    "version": 3
   },
   "file_extension": ".py",
   "mimetype": "text/x-python",
   "name": "python",
   "nbconvert_exporter": "python",
   "pygments_lexer": "ipython3",
   "version": "3.9.13 | packaged by conda-forge | (main, May 27 2022, 17:01:00) \n[Clang 13.0.1 ]"
  },
  "orig_nbformat": 4,
  "vscode": {
   "interpreter": {
    "hash": "bfa83213b3107409f6f749b3f3e6e3a0c51921f6998a582a53d8fef6c3fba7c5"
   }
  }
 },
 "nbformat": 4,
 "nbformat_minor": 2
}
