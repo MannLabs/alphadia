{
 "cells": [
  {
   "cell_type": "code",
   "execution_count": 1,
   "metadata": {},
   "outputs": [
    {
     "name": "stderr",
     "output_type": "stream",
     "text": [
      "0:00:02.374183 \u001b[33;20m WARNING: WARNING: Temp mmap arrays are written to /var/folders/lc/9594t94d5b5_gn0y04w1jh980000gn/T/temp_mmap_0p4vpadq. Cleanup of this folder is OS dependant, and might need to be triggered manually! Current space: 1,193,803,227,136\u001b[0m\n",
      "0:00:02.374876 \u001b[33;20m WARNING: WARNING: No Bruker libraries are available for this operating system. Mobility and m/z values need to be estimated. While this estimation often returns acceptable results with errors < 0.02 Th, huge errors (e.g. offsets of 6 Th) have already been observed for some samples!\u001b[0m\n",
      "0:00:02.375056 \u001b[38;20m INFO: \u001b[0m\n",
      "0:00:04.146431 \u001b[31;20m ERROR: NEPTUNE_TOKEN environtment variable not set\u001b[0m\n"
     ]
    }
   ],
   "source": [
    "%reload_ext autoreload\n",
    "%autoreload 2\n",
    "\n",
    "import os, psutil\n",
    "\n",
    "os.environ['NUMEXPR_MAX_THREADS'] = '20'\n",
    "from alphadia.extraction import processlogger\n",
    "processlogger.init_logging()\n",
    "import logging\n",
    "\n",
    "logger = logging.getLogger()\n",
    "\n",
    "import numpy as np\n",
    "import pandas as pd\n",
    "import matplotlib.pyplot as plt\n",
    "import seaborn as sns\n",
    "import neptune.new as neptune\n",
    "\n",
    "#from alphabase.spectral_library.flat import SpecLibFlat\n",
    "from alphabase.spectral_library.base import SpecLibBase\n",
    "#from alphabase.spectral_library.reader import LibraryReaderBase\n",
    "\n",
    "from alphadia.extraction.data import TimsTOFDIA\n",
    "from alphadia.extraction.planning import Plan, Workflow\n",
    "from alphadia.extraction.calibration import RunCalibration\n",
    "from alphadia.extraction.candidateselection import MS1CentricCandidateSelection\n",
    "from alphadia.extraction.scoring import fdr_correction, MS2ExtractionWorkflow\n",
    "import alphadia.extraction.utils as utils\n",
    "yaml_file = 'config.yaml'\n",
    "\n",
    "raw_files = ['/Users/georgwallmann/Documents/data/alphadia_benchmarking/raw_data/diaPASEF_vs_synchroPASEF/20221221_TIMS05_PaSk_SA_HeLa_Evo05_200ng_21min_IM0713_diaPASEF_S4-A1_1_500.d',\n",
    "             #'/Users/georgwallmann/Documents/data/raw_data/Alpha_dia_benchmarking/diaPASEF_vs_synchroPASEF/20221221_TIMS05_PaSk_SA_HeLa_Evo05_200ng_21min_IM0713_diaPASEF_S4-A2_1_504.d',\n",
    "             #'/Users/georgwallmann/Documents/data/raw_data/Alpha_dia_benchmarking/diaPASEF_vs_synchroPASEF/20221221_TIMS05_PaSk_SA_HeLa_Evo05_200ng_21min_IM0713_diaPASEF_S4-A3_1_508.d',\n",
    "             #'/Users/georgwallmann/Documents/data/raw_data/Alpha_dia_benchmarking/diaPASEF_vs_synchroPASEF/20221221_TIMS05_PaSk_SA_HeLa_Evo05_200ng_21min_IM0713_diaPASEF_S4-A4_1_512.d',\n",
    "             #'/Users/georgwallmann/Documents/data/raw_data/Alpha_dia_benchmarking/diaPASEF_vs_synchroPASEF/20221221_TIMS05_PaSk_SA_HeLa_Evo05_200ng_21min_IM0713_SyP_classical_5bins_S2-A1_1_449.d',\n",
    "             #'/Users/georgwallmann/Documents/data/raw_data/Alpha_dia_benchmarking/diaPASEF_vs_synchroPASEF/20221221_TIMS05_PaSk_SA_HeLa_Evo05_200ng_21min_IM0713_SyP_classical_5bins_S2-A2_1_453.d',\n",
    "             #'/Users/georgwallmann/Documents/data/raw_data/Alpha_dia_benchmarking/diaPASEF_vs_synchroPASEF/20221221_TIMS05_PaSk_SA_HeLa_Evo05_200ng_21min_IM0713_SyP_classical_5bins_S2-A3_1_457.d',\n",
    "             #'/Users/georgwallmann/Documents/data/raw_data/Alpha_dia_benchmarking/diaPASEF_vs_synchroPASEF/20221221_TIMS05_PaSk_SA_HeLa_Evo05_200ng_21min_IM0713_SyP_classical_5bins_S2-A4_1_464.d'\n",
    "\n",
    "             ]\n",
    "\n",
    "output_location = '/Users/georgwallmann/Documents/data/alphadia_benchmarking/alphadia_runs/2023_02_27_diaPASEF_vs_synchroPASEF_hybrid/hela_48_fractions'\n",
    "\n",
    "try:\n",
    "    neptune_token = os.environ['NEPTUNE_TOKEN']\n",
    "except KeyError:\n",
    "    logger.error('NEPTUNE_TOKEN environtment variable not set')\n"
   ]
  },
  {
   "cell_type": "code",
   "execution_count": 2,
   "metadata": {},
   "outputs": [],
   "source": [
    "test_lib = SpecLibBase()\n",
    "test_lib_location = '/Users/georgwallmann/Documents/data/alphadia_benchmarking/libraries/patricia_hela/21min_Evosep_HeLa_BR14_48fractions_diaPASEF_py_diAID_2_predicted_after_merge.hdf'\n",
    "test_lib.load_hdf(test_lib_location, load_mod_seq=True)\n"
   ]
  },
  {
   "cell_type": "code",
   "execution_count": 3,
   "metadata": {},
   "outputs": [],
   "source": [
    "test_lib.precursor_df['elution_group_idx'] = np.arange(len(test_lib.precursor_df))"
   ]
  },
  {
   "cell_type": "code",
   "execution_count": 4,
   "metadata": {},
   "outputs": [
    {
     "name": "stderr",
     "output_type": "stream",
     "text": [
      "0:00:06.996473 \u001b[32;20m PROGRESS:       _   _      _         ___ ___   _   \u001b[0m\n",
      "0:00:06.996882 \u001b[32;20m PROGRESS:      /_\\ | |_ __| |_  __ _|   \\_ _| /_\\  \u001b[0m\n",
      "0:00:06.997133 \u001b[32;20m PROGRESS:     / _ \\| | '_ \\ ' \\/ _` | |) | | / _ \\ \u001b[0m\n",
      "0:00:06.997409 \u001b[32;20m PROGRESS:    /_/ \\_\\_| .__/_||_\\__,_|___/___/_/ \\_\\\u001b[0m\n",
      "0:00:06.997642 \u001b[32;20m PROGRESS:            |_|                            \u001b[0m\n",
      "0:00:06.997819 \u001b[32;20m PROGRESS: \u001b[0m\n",
      "0:00:06.998139 \u001b[38;20m INFO: loading default config from /Users/georgwallmann/Documents/git/alphadia/alphadia/extraction/../../misc/config/default.yaml\u001b[0m\n",
      "0:00:07.003304 \u001b[32;20m PROGRESS: version: 1.0.1\u001b[0m\n",
      "0:00:07.003771 \u001b[32;20m PROGRESS: hostname: Georgs-MacBook-Pro.local\u001b[0m\n",
      "0:00:07.004100 \u001b[32;20m PROGRESS: date: 2023-03-07 14:46:34\u001b[0m\n",
      "0:00:12.843158 \u001b[38;20m INFO: renaming precursor_columns columns\u001b[0m\n",
      "0:00:12.844056 \u001b[38;20m INFO: renaming fragment_columns columns\u001b[0m\n",
      "0:00:12.844507 \u001b[38;20m INFO: ========= Library Stats =========\u001b[0m\n",
      "0:00:12.844760 \u001b[38;20m INFO: Number of precursors: 464,663\u001b[0m\n",
      "0:00:12.911463 \u001b[38;20m INFO: \tthereof targets:234,993\u001b[0m\n",
      "0:00:12.911862 \u001b[38;20m INFO: \tthereof decoys: 229,670\u001b[0m\n",
      "0:00:12.916045 \u001b[38;20m INFO: Number of elution groups: 464,663\u001b[0m\n",
      "0:00:12.916393 \u001b[38;20m INFO: \taverage size: 1.00\u001b[0m\n",
      "0:00:12.931617 \u001b[38;20m INFO: Number of proteins: 9,902\u001b[0m\n",
      "0:00:12.931999 \u001b[33;20m WARNING: No isotope_apex_offset column was found\u001b[0m\n",
      "0:00:12.932301 \u001b[38;20m INFO: Isotopes Distribution for 6 isotopes\u001b[0m\n",
      "0:00:12.932501 \u001b[38;20m INFO: =================================\u001b[0m\n",
      "/Users/georgwallmann/Documents/git/alphabase/alphabase/peptide/precursor.py:30: SettingWithCopyWarning: \n",
      "A value is trying to be set on a copy of a slice from a DataFrame\n",
      "\n",
      "See the caveats in the documentation: https://pandas.pydata.org/pandas-docs/stable/user_guide/indexing.html#returning-a-view-versus-a-copy\n",
      "  df.fillna('', inplace=True)\n",
      "/Users/georgwallmann/Documents/git/alphabase/alphabase/peptide/precursor.py:42: SettingWithCopyWarning: \n",
      "A value is trying to be set on a copy of a slice from a DataFrame.\n",
      "Try using .loc[row_indexer,col_indexer] = value instead\n",
      "\n",
      "See the caveats in the documentation: https://pandas.pydata.org/pandas-docs/stable/user_guide/indexing.html#returning-a-view-versus-a-copy\n",
      "  df['nAA']= df.sequence.str.len().astype(np.int32)\n",
      "/Users/georgwallmann/Documents/git/alphabase/alphabase/peptide/precursor.py:50: SettingWithCopyWarning: \n",
      "A value is trying to be set on a copy of a slice from a DataFrame\n",
      "\n",
      "See the caveats in the documentation: https://pandas.pydata.org/pandas-docs/stable/user_guide/indexing.html#returning-a-view-versus-a-copy\n",
      "  df.sort_values('nAA', inplace=True)\n",
      "0:00:13.485522 \u001b[38;20m INFO: rt_type automatically determined as norm\u001b[0m\n",
      "0:00:13.485923 \u001b[38;20m INFO: Importing data from /Users/georgwallmann/Documents/data/alphadia_benchmarking/raw_data/diaPASEF_vs_synchroPASEF/20221221_TIMS05_PaSk_SA_HeLa_Evo05_200ng_21min_IM0713_diaPASEF_S4-A1_1_500.d\u001b[0m\n",
      "0:00:13.486420 \u001b[38;20m INFO: Using .d import for /Users/georgwallmann/Documents/data/alphadia_benchmarking/raw_data/diaPASEF_vs_synchroPASEF/20221221_TIMS05_PaSk_SA_HeLa_Evo05_200ng_21min_IM0713_diaPASEF_S4-A1_1_500.d\u001b[0m\n",
      "0:00:13.486620 \u001b[38;20m INFO: Reading frame metadata for /Users/georgwallmann/Documents/data/alphadia_benchmarking/raw_data/diaPASEF_vs_synchroPASEF/20221221_TIMS05_PaSk_SA_HeLa_Evo05_200ng_21min_IM0713_diaPASEF_S4-A1_1_500.d\u001b[0m\n",
      "0:00:13.552238 \u001b[38;20m INFO: Reading 11,812 frames with 1,449,841,416 detector events for /Users/georgwallmann/Documents/data/alphadia_benchmarking/raw_data/diaPASEF_vs_synchroPASEF/20221221_TIMS05_PaSk_SA_HeLa_Evo05_200ng_21min_IM0713_diaPASEF_S4-A1_1_500.d\u001b[0m\n",
      "100%|██████████| 11812/11812 [00:05<00:00, 2318.90it/s]\n",
      "0:00:18.719437 \u001b[38;20m INFO: Indexing /Users/georgwallmann/Documents/data/alphadia_benchmarking/raw_data/diaPASEF_vs_synchroPASEF/20221221_TIMS05_PaSk_SA_HeLa_Evo05_200ng_21min_IM0713_diaPASEF_S4-A1_1_500.d...\u001b[0m\n",
      "0:00:18.720354 \u001b[38;20m INFO: Bruker DLL not available, estimating mobility values\u001b[0m\n",
      "0:00:18.720689 \u001b[38;20m INFO: Bruker DLL not available, estimating mz values\u001b[0m\n",
      "0:00:18.722159 \u001b[38;20m INFO: Indexing quadrupole dimension\u001b[0m\n",
      "0:00:19.893396 \u001b[38;20m INFO: Successfully imported data from /Users/georgwallmann/Documents/data/alphadia_benchmarking/raw_data/diaPASEF_vs_synchroPASEF/20221221_TIMS05_PaSk_SA_HeLa_Evo05_200ng_21min_IM0713_diaPASEF_S4-A1_1_500.d\u001b[0m\n"
     ]
    }
   ],
   "source": [
    "plan = Plan(raw_files)\n",
    "plan.from_spec_lib_base(test_lib)\n",
    "#plan.run(output_location, keep_decoys=True, fdr=1.0)\n",
    "for dia_data, precursors_flat, fragments_flat in plan.get_run_data():\n",
    "    pass"
   ]
  },
  {
   "cell_type": "code",
   "execution_count": 308,
   "metadata": {},
   "outputs": [
    {
     "name": "stderr",
     "output_type": "stream",
     "text": [
      "3:22:10.102452 \u001b[38;20m INFO: Duty cycle consists of 13 frames, 1.39 seconds cycle time\u001b[0m\n",
      "3:22:10.102924 \u001b[38;20m INFO: Duty cycle consists of 928 scans, 0.00065 1/K_0 resolution\u001b[0m\n",
      "3:22:10.103242 \u001b[38;20m INFO: Expected peak length in RT is 8.00 seconds, sigma is 1.44\u001b[0m\n",
      "3:22:10.103658 \u001b[38;20m INFO: Expected peak length in mobility is 0.02 1/K_0, sigma is 7.73\u001b[0m\n",
      " 72%|███████▏  | 7210/10000 [00:56<00:21, 128.01it/s]\n"
     ]
    },
    {
     "ename": "KeyboardInterrupt",
     "evalue": "",
     "output_type": "error",
     "traceback": [
      "\u001b[0;31m---------------------------------------------------------------------------\u001b[0m",
      "\u001b[0;31mKeyboardInterrupt\u001b[0m                         Traceback (most recent call last)",
      "Cell \u001b[0;32mIn [308], line 15\u001b[0m\n\u001b[1;32m      1\u001b[0m \u001b[39mfrom\u001b[39;00m \u001b[39malphadia\u001b[39;00m\u001b[39m.\u001b[39;00m\u001b[39mextraction\u001b[39;00m \u001b[39mimport\u001b[39;00m hybridselection\n\u001b[1;32m      3\u001b[0m selection \u001b[39m=\u001b[39m hybridselection\u001b[39m.\u001b[39mHybridCandidateSelection(\n\u001b[1;32m      4\u001b[0m     dia_data,\n\u001b[1;32m      5\u001b[0m     precursors_flat[:\u001b[39m10000\u001b[39m],\n\u001b[0;32m   (...)\u001b[0m\n\u001b[1;32m     12\u001b[0m     \u001b[39m#debug=True,\u001b[39;00m\n\u001b[1;32m     13\u001b[0m )\n\u001b[0;32m---> 15\u001b[0m candidates, egs \u001b[39m=\u001b[39m selection()\n",
      "File \u001b[0;32m~/Documents/git/alphadia/alphadia/extraction/hybridselection.py:549\u001b[0m, in \u001b[0;36mHybridCandidateSelection.__call__\u001b[0;34m(self)\u001b[0m\n\u001b[1;32m    545\u001b[0m thread_count \u001b[39m=\u001b[39m \u001b[39m1\u001b[39m \u001b[39mif\u001b[39;00m \u001b[39mself\u001b[39m\u001b[39m.\u001b[39mdebug \u001b[39melse\u001b[39;00m \u001b[39mself\u001b[39m\u001b[39m.\u001b[39mthread_count\n\u001b[1;32m    547\u001b[0m alphatims\u001b[39m.\u001b[39mutils\u001b[39m.\u001b[39mset_threads(thread_count)\n\u001b[0;32m--> 549\u001b[0m _executor(\n\u001b[1;32m    550\u001b[0m     \u001b[39mrange\u001b[39;49m(iterator_len), \n\u001b[1;32m    551\u001b[0m     elution_group_container,\n\u001b[1;32m    552\u001b[0m     \u001b[39mself\u001b[39;49m\u001b[39m.\u001b[39;49mdia_data\u001b[39m.\u001b[39;49mjitclass(), \n\u001b[1;32m    553\u001b[0m     fragment_container, \n\u001b[1;32m    554\u001b[0m     \u001b[39mself\u001b[39;49m\u001b[39m.\u001b[39;49mkernel, \n\u001b[1;32m    555\u001b[0m     \u001b[39mself\u001b[39;49m\u001b[39m.\u001b[39;49mrt_tolerance,\n\u001b[1;32m    556\u001b[0m     \u001b[39mself\u001b[39;49m\u001b[39m.\u001b[39;49mmobility_tolerance,\n\u001b[1;32m    557\u001b[0m     \u001b[39mself\u001b[39;49m\u001b[39m.\u001b[39;49mmz_tolerance,\n\u001b[1;32m    558\u001b[0m     \u001b[39mself\u001b[39;49m\u001b[39m.\u001b[39;49mcandidate_count,\n\u001b[1;32m    559\u001b[0m     \u001b[39mself\u001b[39;49m\u001b[39m.\u001b[39;49mdebug\n\u001b[1;32m    560\u001b[0m )\n\u001b[1;32m    562\u001b[0m df \u001b[39m=\u001b[39m \u001b[39mself\u001b[39m\u001b[39m.\u001b[39massemble_candidates(elution_group_container)\n\u001b[1;32m    564\u001b[0m \u001b[39mreturn\u001b[39;00m df, elution_group_container\n",
      "File \u001b[0;32m~/Documents/git/alphatims/alphatims/utils.py:640\u001b[0m, in \u001b[0;36mpjit.<locals>.parallel_compiled_func_inner.<locals>.wrapper\u001b[0;34m(iterable, *args)\u001b[0m\n\u001b[1;32m    635\u001b[0m \u001b[39mfor\u001b[39;00m result \u001b[39min\u001b[39;00m progress_callback(\n\u001b[1;32m    636\u001b[0m     \u001b[39mrange\u001b[39m(granularity),\n\u001b[1;32m    637\u001b[0m     include_progress_callback\u001b[39m=\u001b[39minclude_progress_callback\n\u001b[1;32m    638\u001b[0m ):\n\u001b[1;32m    639\u001b[0m     \u001b[39mwhile\u001b[39;00m progress_bar \u001b[39m>\u001b[39m\u001b[39m=\u001b[39m progress_count:\n\u001b[0;32m--> 640\u001b[0m         time\u001b[39m.\u001b[39;49msleep(\u001b[39m0.01\u001b[39;49m)\n\u001b[1;32m    641\u001b[0m         progress_count \u001b[39m=\u001b[39m granularity \u001b[39m*\u001b[39m np\u001b[39m.\u001b[39msum(progress_counter) \u001b[39m/\u001b[39m \u001b[39mlen\u001b[39m(iterable)\n\u001b[1;32m    642\u001b[0m     progress_bar \u001b[39m+\u001b[39m\u001b[39m=\u001b[39m \u001b[39m1\u001b[39m\n",
      "\u001b[0;31mKeyboardInterrupt\u001b[0m: "
     ]
    }
   ],
   "source": [
    "from alphadia.extraction import hybridselection\n",
    "\n",
    "selection = hybridselection.HybridCandidateSelection(\n",
    "    dia_data,\n",
    "    precursors_flat[:10000],\n",
    "    fragments_flat,\n",
    "    rt_tolerance=360,\n",
    "    mz_tolerance=30,\n",
    "    mobility_tolerance=0.06,\n",
    "    candidate_count=3,\n",
    "    thread_count=20,\n",
    "    #debug=True,\n",
    ")\n",
    "\n",
    "candidates, egs = selection()"
   ]
  },
  {
   "cell_type": "code",
   "execution_count": 214,
   "metadata": {},
   "outputs": [],
   "source": [
    "@alphatims.utils.njit\n",
    "def ceil_to_base_two(x):\n",
    "    # borrowed from Bit Twiddling Hacks\n",
    "    # https://graphics.stanford.edu/~seander/bithacks.html#RoundUpPowerOf2\n",
    "    x -= 1\n",
    "    x |= x >> 1\n",
    "    x |= x >> 2\n",
    "    x |= x >> 4\n",
    "    x |= x >> 8\n",
    "    x |= x >> 16\n",
    "\n",
    "    x +=1\n",
    "    return x\n",
    "\n",
    "@alphatims.utils.njit\n",
    "def roll(a, delta0, delta1):\n",
    "\n",
    "    b = np.zeros_like(a)\n",
    "    b[delta0:, delta1:] = a[:-delta0, :-delta1]\n",
    "    b[:delta0, delta1:] = a[-delta0:, :-delta1]\n",
    "    b[delta0:, :delta1] = a[:-delta0, -delta1:]\n",
    "    b[:delta0, :delta1] = a[-delta0:, -delta1:]\n",
    "\n",
    "    return b\n",
    "\n",
    "@alphatims.utils.njit\n",
    "def fourier_a0(dense, kernel):\n",
    "    \"\"\"\n",
    "    Numba helper function to apply a gaussian filter to a dense stack.\n",
    "\n",
    "    Parameters\n",
    "    ----------\n",
    "\n",
    "    dense : np.ndarray\n",
    "        Array of shape (n_tofs, n_scans, n_frames)\n",
    "\n",
    "    kernel : np.ndarray\n",
    "        Array of shape (n_scans, n_frames)\n",
    "\n",
    "    Returns\n",
    "    -------\n",
    "\n",
    "    np.ndarray\n",
    "        Array of shape (n_tofs, n_scans, n_frames) containing the filtered dense stack.\n",
    "\n",
    "    \"\"\"\n",
    "\n",
    "    k0, k1 = kernel.shape\n",
    "\n",
    "    out = np.zeros_like(dense)\n",
    "\n",
    "    fourier_filter = np.fft.rfft2(kernel, dense.shape[1:])\n",
    "    for i in range(dense.shape[0]):\n",
    "        out[i] = roll(np.fft.irfft2(np.fft.rfft2(dense[i]) * fourier_filter), -k0//2, -k1//2)\n",
    "\n",
    "    return out\n",
    "\n",
    "@alphatims.utils.njit\n",
    "def fourier_a1(dense, kernel):\n",
    "    \"\"\"\n",
    "    Numba helper function to apply a gaussian filter to a dense stack.\n",
    "\n",
    "    Parameters\n",
    "    ----------\n",
    "\n",
    "    dense : np.ndarray\n",
    "        Array of shape (n_tofs, n_observations, n_scans, n_frames)\n",
    "\n",
    "    kernel : np.ndarray\n",
    "        Array of shape (n_scans, n_frames)\n",
    "\n",
    "    Returns\n",
    "    -------\n",
    "\n",
    "    np.ndarray\n",
    "        Array of shape (n_tofs, n_observations, n_scans, n_frames) containing the filtered dense stack.\n",
    "\n",
    "    \"\"\"\n",
    "\n",
    "    k0, k1 = kernel.shape\n",
    "\n",
    "    out = np.zeros_like(dense)\n",
    "\n",
    "    fourier_filter = np.fft.rfft2(kernel, dense.shape[2:])\n",
    "    for i in range(dense.shape[0]):\n",
    "        for j in range(dense.shape[1]):\n",
    "            out[i, j] = roll(np.fft.irfft2(np.fft.rfft2(dense[i, j]) * fourier_filter), -k0//2, -k1//2)\n",
    "\n",
    "    return out\n",
    "\n",
    "\n",
    "import alphatims.utils\n",
    "@alphatims.utils.njit\n",
    "def fourier_filter(\n",
    "        dense_stack, \n",
    "        kernel\n",
    "    ):\n",
    "    \"\"\"Numba helper function to apply a gaussian filter to a dense stack. \n",
    "    The filter is applied as convolution wrapping around the edges, calculated in fourier space.\n",
    "\n",
    "    As there seems to be no easy option to perform 2d fourier transforms in numba, the numpy fft is used in object mode.\n",
    "    During multithreading the GIL has to be acquired to use the numpy fft and is realeased afterwards.\n",
    "\n",
    "    Parameters\n",
    "    ----------\n",
    "\n",
    "    dense_stack : np.ndarray\n",
    "        Array of shape (2, n_precursors, n_observations ,n_scans, n_cycles) containing the dense stack.\n",
    "\n",
    "    kernel : np.ndarray\n",
    "        Array of shape (k0, k1) containing the gaussian kernel.\n",
    "\n",
    "    Returns\n",
    "    -------\n",
    "    smooth_output : np.ndarray\n",
    "        Array of shape (n_precursors, n_observations, n_scans, n_cycles) containing the filtered dense stack.\n",
    "\n",
    "    \"\"\"\n",
    "\n",
    "    k0 = kernel.shape[0]\n",
    "    k1 = kernel.shape[1]\n",
    "\n",
    "    # make sure both dimensions are even\n",
    "    scan_mod = dense_stack.shape[3] % 2\n",
    "    frame_mod = dense_stack.shape[4] % 2\n",
    "\n",
    "    scan_size = dense_stack.shape[3] - scan_mod\n",
    "    frame_size = dense_stack.shape[4] - frame_mod\n",
    "\n",
    "    smooth_output = np.zeros((\n",
    "        dense_stack.shape[1],\n",
    "        dense_stack.shape[2], \n",
    "        scan_size,\n",
    "        frame_size,\n",
    "    ), dtype='float32')\n",
    "\n",
    "    \n",
    "    fourier_filter = np.fft.rfft2(kernel, smooth_output.shape[2:])\n",
    "\n",
    "    for i in range(smooth_output.shape[0]):\n",
    "        for j in range(smooth_output.shape[1]):\n",
    "            layer = dense_stack[0,i,j,:scan_size,:frame_size]\n",
    "\n",
    "            smooth_output[i,j] = roll(np.fft.irfft2(np.fft.rfft2(layer) * fourier_filter), -k0//2, -k1//2)\n",
    "                \n",
    "\n",
    "    return smooth_output"
   ]
  },
  {
   "cell_type": "code",
   "execution_count": 215,
   "metadata": {},
   "outputs": [
    {
     "name": "stderr",
     "output_type": "stream",
     "text": [
      "2:40:34.020668 \u001b[38;20m INFO: Duty cycle consists of 13 frames, 1.39 seconds cycle time\u001b[0m\n",
      "2:40:34.021273 \u001b[38;20m INFO: Duty cycle consists of 928 scans, 0.00065 1/K_0 resolution\u001b[0m\n",
      "2:40:34.021713 \u001b[38;20m INFO: Expected peak length in RT is 8.00 seconds, sigma is 1.44\u001b[0m\n",
      "2:40:34.022085 \u001b[38;20m INFO: Expected peak length in mobility is 0.02 1/K_0, sigma is 7.73\u001b[0m\n"
     ]
    }
   ],
   "source": [
    "from alphadia.extraction import candidateselection\n",
    "\n",
    "gaussian = candidateselection.GaussianFilter(dia_data)\n",
    "kernel = gaussian.get_kernel()"
   ]
  },
  {
   "cell_type": "code",
   "execution_count": 216,
   "metadata": {},
   "outputs": [
    {
     "data": {
      "text/plain": [
       "<matplotlib.image.AxesImage at 0x571e6c430>"
      ]
     },
     "execution_count": 216,
     "metadata": {},
     "output_type": "execute_result"
    },
    {
     "data": {
      "image/png": "[encoded data removed]",
      "text/plain": [
       "<Figure size 640x480 with 1 Axes>"
      ]
     },
     "metadata": {},
     "output_type": "display_data"
    }
   ],
   "source": [
    "plt.imshow(kernel)"
   ]
  },
  {
   "cell_type": "code",
   "execution_count": 217,
   "metadata": {},
   "outputs": [
    {
     "data": {
      "text/plain": [
       "(20, 10)"
      ]
     },
     "execution_count": 217,
     "metadata": {},
     "output_type": "execute_result"
    }
   ],
   "source": [
    "kernel[:,10:].shape"
   ]
  },
  {
   "cell_type": "code",
   "execution_count": 218,
   "metadata": {},
   "outputs": [
    {
     "data": {
      "text/plain": [
       "(1, 32, 64)"
      ]
     },
     "execution_count": 218,
     "metadata": {},
     "output_type": "execute_result"
    }
   ],
   "source": [
    "p = dense_precursors[0,0,:,:32,:64]\n",
    "p.shape"
   ]
  },
  {
   "cell_type": "code",
   "execution_count": 223,
   "metadata": {},
   "outputs": [],
   "source": [
    "x = np.tile(p, (10,1,1,1))"
   ]
  },
  {
   "cell_type": "code",
   "execution_count": 224,
   "metadata": {},
   "outputs": [
    {
     "data": {
      "text/plain": [
       "(10, 1, 32, 64)"
      ]
     },
     "execution_count": 224,
     "metadata": {},
     "output_type": "execute_result"
    }
   ],
   "source": [
    "x.shape"
   ]
  },
  {
   "cell_type": "code",
   "execution_count": 225,
   "metadata": {},
   "outputs": [
    {
     "name": "stdout",
     "output_type": "stream",
     "text": [
      "149 µs ± 281 ns per loop (mean ± std. dev. of 7 runs, 10,000 loops each)\n"
     ]
    }
   ],
   "source": [
    "%timeit smooth = fourier_a1(x, kernel)"
   ]
  },
  {
   "cell_type": "code",
   "execution_count": 186,
   "metadata": {},
   "outputs": [
    {
     "data": {
      "text/plain": [
       "<matplotlib.image.AxesImage at 0x571dff640>"
      ]
     },
     "execution_count": 186,
     "metadata": {},
     "output_type": "execute_result"
    },
    {
     "data": {
      "image/png": "[encoded data removed]",
      "text/plain": [
       "<Figure size 640x480 with 1 Axes>"
      ]
     },
     "metadata": {},
     "output_type": "display_data"
    }
   ],
   "source": [
    "plt.imshow(p[0])"
   ]
  },
  {
   "cell_type": "code",
   "execution_count": 137,
   "metadata": {},
   "outputs": [
    {
     "data": {
      "text/plain": [
       "<matplotlib.image.AxesImage at 0x571caf490>"
      ]
     },
     "execution_count": 137,
     "metadata": {},
     "output_type": "execute_result"
    },
    {
     "data": {
      "image/png": "[encoded data removed]",
      "text/plain": [
       "<Figure size 640x480 with 1 Axes>"
      ]
     },
     "metadata": {},
     "output_type": "display_data"
    }
   ],
   "source": [
    "plt.imshow(smooth[0])"
   ]
  },
  {
   "cell_type": "code",
   "execution_count": 63,
   "metadata": {},
   "outputs": [],
   "source": [
    "\n",
    "            \n",
    "    "
   ]
  },
  {
   "cell_type": "code",
   "execution_count": 65,
   "metadata": {},
   "outputs": [
    {
     "data": {
      "text/plain": [
       "<matplotlib.image.AxesImage at 0x55dbf4e20>"
      ]
     },
     "execution_count": 65,
     "metadata": {},
     "output_type": "execute_result"
    },
    {
     "data": {
      "image/png": "[encoded data removed]",
      "text/plain": [
       "<Figure size 640x480 with 1 Axes>"
      ]
     },
     "metadata": {},
     "output_type": "display_data"
    }
   ],
   "source": [
    "plt.imshow(roll(smooth[0,0],-10,-10))"
   ]
  },
  {
   "cell_type": "code",
   "execution_count": 6,
   "metadata": {},
   "outputs": [
    {
     "data": {
      "text/plain": [
       "array([ 37.        -0.j        ,  -0.70710678+0.70710678j,\n",
       "         2.        +1.j        ,   0.70710678+0.70710678j,\n",
       "       -25.        -0.j        ,   0.70710678-0.70710678j,\n",
       "         2.        -1.j        ,  -0.70710678-0.70710678j])"
      ]
     },
     "execution_count": 6,
     "metadata": {},
     "output_type": "execute_result"
    }
   ],
   "source": [
    "import numba as nb\n",
    "import numpy as np\n",
    "\n",
    "@nb.njit\n",
    "def jit_fft(x):\n",
    "    return np.fft.fft(x)\n",
    "\n",
    "a = np.array([2, 7, 1, 8, 2, 8, 1, 8])\n",
    "jit_fft(a)"
   ]
  },
  {
   "cell_type": "code",
   "execution_count": null,
   "metadata": {},
   "outputs": [],
   "source": [
    "from alphadia.extraction import quadrupole, scoring, features\n",
    "q = quadrupole.SimpleQuadrupole(dia_data.cycle)"
   ]
  },
  {
   "cell_type": "code",
   "execution_count": null,
   "metadata": {},
   "outputs": [],
   "source": [
    "from alphadia.extraction import scoring\n",
    "\n",
    "extraction = scoring.MS2ExtractionWorkflow(\n",
    "    dia_data,\n",
    "    precursors_flat,\n",
    "    fragments_flat,\n",
    "    candidates,\n",
    "    q,\n",
    "    precursor_mz_tolerance=30,\n",
    "    fragment_mz_tolerance=30\n",
    ")\n",
    "\n",
    "feature_df, fragment_df = extraction()"
   ]
  },
  {
   "cell_type": "code",
   "execution_count": null,
   "metadata": {},
   "outputs": [],
   "source": [
    "df = scoring.fdr_correction(feature_df)"
   ]
  },
  {
   "cell_type": "code",
   "execution_count": null,
   "metadata": {},
   "outputs": [],
   "source": [
    "df = scoring.fdr_correction(df)"
   ]
  }
 ],
 "metadata": {
  "kernelspec": {
   "display_name": "Python 3 (ipykernel)",
   "language": "python",
   "name": "pythonjvsc74a57bd0bfa83213b3107409f6f749b3f3e6e3a0c51921f6998a582a53d8fef6c3fba7c5"
  },
  "language_info": {
   "codemirror_mode": {
    "name": "ipython",
    "version": 3
   },
   "file_extension": ".py",
   "mimetype": "text/x-python",
   "name": "python",
   "nbconvert_exporter": "python",
   "pygments_lexer": "ipython3",
   "version": "3.9.13 | packaged by conda-forge | (main, May 27 2022, 17:01:00) \n[Clang 13.0.1 ]"
  },
  "orig_nbformat": 4,
  "vscode": {
   "interpreter": {
    "hash": "bfa83213b3107409f6f749b3f3e6e3a0c51921f6998a582a53d8fef6c3fba7c5"
   }
  }
 },
 "nbformat": 4,
 "nbformat_minor": 2
}
