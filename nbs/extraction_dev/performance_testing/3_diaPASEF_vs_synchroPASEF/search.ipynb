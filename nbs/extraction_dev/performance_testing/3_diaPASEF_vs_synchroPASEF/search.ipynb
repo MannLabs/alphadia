{
 "cells": [
  {
   "cell_type": "code",
   "execution_count": 1,
   "metadata": {},
   "outputs": [
    {
     "name": "stderr",
     "output_type": "stream",
     "text": [
      "0:00:01.012684 \u001b[33;20m WARNING: WARNING: Temp mmap arrays are written to /var/folders/lc/9594t94d5b5_gn0y04w1jh980000gn/T/temp_mmap_i018pmny. Cleanup of this folder is OS dependant, and might need to be triggered manually! Current space: 1,163,079,553,024\u001b[0m\n",
      "0:00:01.023988 \u001b[33;20m WARNING: WARNING: No Bruker libraries are available for this operating system. Mobility and m/z values need to be estimated. While this estimation often returns acceptable results with errors < 0.02 Th, huge errors (e.g. offsets of 6 Th) have already been observed for some samples!\u001b[0m\n",
      "0:00:01.024318 \u001b[38;20m INFO: \u001b[0m\n"
     ]
    }
   ],
   "source": [
    "%reload_ext autoreload\n",
    "%autoreload 2\n",
    "\n",
    "import os, psutil\n",
    "\n",
    "from rocket_fft import numpy_like, scipy_like\n",
    "\n",
    "numpy_like()\n",
    "\n",
    "os.environ['NUMEXPR_MAX_THREADS'] = '20'\n",
    "os.environ['NUMBA_DEBUGINFO'] = '0'\n",
    "\n",
    "from alphadia.extraction import processlogger\n",
    "processlogger.init_logging()\n",
    "import logging\n",
    "\n",
    "logger = logging.getLogger()\n",
    "\n",
    "import numpy as np\n",
    "import pandas as pd\n",
    "import matplotlib.pyplot as plt\n",
    "import seaborn as sns\n",
    "import neptune.new as neptune\n",
    "import alphatims.bruker as bruker\n",
    "\n",
    "#from alphabase.spectral_library.flat import SpecLibFlat\n",
    "from alphabase.spectral_library.base import SpecLibBase\n",
    "#from alphabase.spectral_library.reader import LibraryReaderBase\n",
    "\n",
    "from alphadia.extraction.data import TimsTOFDIA\n",
    "from alphadia.extraction.planning import Plan, Workflow\n",
    "from alphadia.extraction.calibration import RunCalibration\n",
    "from alphadia.extraction.candidateselection import MS1CentricCandidateSelection\n",
    "from alphadia.extraction.scoring import fdr_correction, MS2ExtractionWorkflow\n",
    "import alphadia.extraction.utils as utils\n",
    "yaml_file = 'config.yaml'\n",
    "\n",
    "raw_files = ['/Users/georgwallmann/Documents/data/alphadia_benchmarking/raw_data/2023_03_02_MCT_scp_hela/20230103_TIMS05_MCT_SA_HeLa_SM03p7b_Ref10_syP5-25wo_06_S4-F9_1_656.d',\n",
    "             '/Users/georgwallmann/Documents/data/alphadia_benchmarking/raw_data/2023_03_02_MCT_scp_hela/20230103_TIMS05_MCT_SA_HeLa_SM03p7b_Ref10_syP5-25wo_05_S4-F6_1_653.d',\n",
    "             '/Users/georgwallmann/Documents/data/alphadia_benchmarking/raw_data/2023_03_02_MCT_scp_hela/20230103_TIMS05_MCT_SA_HeLa_SM03p7b_Ref10_syP5-25wo_04_S4-F3_1_650.d',\n",
    "             '/Users/georgwallmann/Documents/data/alphadia_benchmarking/raw_data/2023_03_02_MCT_scp_hela/20230103_TIMS05_MCT_SA_HeLa_SM03p7b_Ref10_syP5-25wo_03_S4-E11_1_647.d',\n",
    "             '/Users/georgwallmann/Documents/data/alphadia_benchmarking/raw_data/2023_03_02_MCT_scp_hela/20230103_TIMS05_MCT_SA_HeLa_SM03p7b_Ref10_AID8_10_S4-G9_1_667.d',\n",
    "             '/Users/georgwallmann/Documents/data/alphadia_benchmarking/raw_data/2023_03_02_MCT_scp_hela/20230103_TIMS05_MCT_SA_HeLa_SM03p7b_Ref10_AID8_09_S4-G6_1_664.d',\n",
    "             '/Users/georgwallmann/Documents/data/alphadia_benchmarking/raw_data/2023_03_02_MCT_scp_hela/20230103_TIMS05_MCT_SA_HeLa_SM03p7b_Ref10_AID8_08_S4-G3_1_661.d',\n",
    "             '/Users/georgwallmann/Documents/data/alphadia_benchmarking/raw_data/2023_03_02_MCT_scp_hela/20230103_TIMS05_MCT_SA_HeLa_SM03p7b_Ref10_AID8_07_S4-F11_1_658.d'\n",
    "            ]\n",
    "\n",
    "output_location = '/Users/georgwallmann/Documents/data/alphadia_benchmarking/alphadia_runs'\n",
    "\n",
    "try:\n",
    "    neptune_token = os.environ['NEPTUNE_TOKEN']\n",
    "except KeyError:\n",
    "    logger.error('NEPTUNE_TOKEN environtment variable not set')\n"
   ]
  },
  {
   "cell_type": "code",
   "execution_count": 2,
   "metadata": {},
   "outputs": [],
   "source": [
    "test_lib = SpecLibBase()\n",
    "test_lib_location = '/Users/georgwallmann/Documents/data/alphadia_benchmarking/libraries/marvin_scp/MSfragger_library_mod_noLossType_d0_shared_eg_n_fragments.hdf'\n",
    "test_lib.load_hdf(test_lib_location, load_mod_seq=True)\n",
    "\n",
    "test_lib.precursor_df = test_lib.precursor_df[test_lib.precursor_df['channel'] == 0].copy()\n",
    "#test_lib.precursor_df.elution_group_idx = np.arange(len(test_lib.precursor_df))"
   ]
  },
  {
   "cell_type": "code",
   "execution_count": 3,
   "metadata": {},
   "outputs": [
    {
     "name": "stderr",
     "output_type": "stream",
     "text": [
      "0:00:10.610186 \u001b[32;20m PROGRESS:       _   _      _         ___ ___   _   \u001b[0m\n",
      "0:00:10.610723 \u001b[32;20m PROGRESS:      /_\\ | |_ __| |_  __ _|   \\_ _| /_\\  \u001b[0m\n",
      "0:00:10.611034 \u001b[32;20m PROGRESS:     / _ \\| | '_ \\ ' \\/ _` | |) | | / _ \\ \u001b[0m\n",
      "0:00:10.611465 \u001b[32;20m PROGRESS:    /_/ \\_\\_| .__/_||_\\__,_|___/___/_/ \\_\\\u001b[0m\n",
      "0:00:10.611786 \u001b[32;20m PROGRESS:            |_|                            \u001b[0m\n",
      "0:00:10.612025 \u001b[32;20m PROGRESS: \u001b[0m\n",
      "0:00:10.612509 \u001b[38;20m INFO: loading default config from /Users/georgwallmann/Documents/git/alphadia/alphadia/extraction/../../misc/config/default.yaml\u001b[0m\n",
      "0:00:10.618095 \u001b[32;20m PROGRESS: version: 1.0.1\u001b[0m\n",
      "0:00:10.618489 \u001b[32;20m PROGRESS: hostname: Georgs-MacBook-Pro.local\u001b[0m\n",
      "0:00:10.618737 \u001b[32;20m PROGRESS: date: 2023-04-11 19:15:20\u001b[0m\n",
      "0:00:14.287594 \u001b[38;20m INFO: renaming precursor_columns columns\u001b[0m\n",
      "0:00:14.288536 \u001b[38;20m INFO: renaming fragment_columns columns\u001b[0m\n",
      "0:00:14.288970 \u001b[38;20m INFO: ========= Library Stats =========\u001b[0m\n",
      "0:00:14.289389 \u001b[38;20m INFO: Number of precursors: 91,732\u001b[0m\n",
      "0:00:14.302115 \u001b[38;20m INFO: \tthereof targets:45,867\u001b[0m\n",
      "0:00:14.302573 \u001b[38;20m INFO: \tthereof decoys: 45,865\u001b[0m\n",
      "0:00:14.303756 \u001b[38;20m INFO: Number of elution groups: 45,867\u001b[0m\n",
      "0:00:14.303960 \u001b[38;20m INFO: \taverage size: 2.00\u001b[0m\n",
      "0:00:14.306813 \u001b[38;20m INFO: Number of proteins: 5,068\u001b[0m\n",
      "0:00:14.307543 \u001b[38;20m INFO: Number of channels: 1 ([0])\u001b[0m\n",
      "0:00:14.308180 \u001b[38;20m INFO: Isotopes Distribution for 6 isotopes\u001b[0m\n",
      "0:00:14.308548 \u001b[38;20m INFO: =================================\u001b[0m\n",
      "0:00:14.310040 \u001b[33;20m WARNING: no precursor_idx column found, creating one\u001b[0m\n",
      "/Users/georgwallmann/Documents/git/alphabase/alphabase/peptide/precursor.py:30: SettingWithCopyWarning: \n",
      "A value is trying to be set on a copy of a slice from a DataFrame\n",
      "\n",
      "See the caveats in the documentation: https://pandas.pydata.org/pandas-docs/stable/user_guide/indexing.html#returning-a-view-versus-a-copy\n",
      "  df.fillna('', inplace=True)\n",
      "/Users/georgwallmann/Documents/git/alphabase/alphabase/peptide/precursor.py:42: SettingWithCopyWarning: \n",
      "A value is trying to be set on a copy of a slice from a DataFrame.\n",
      "Try using .loc[row_indexer,col_indexer] = value instead\n",
      "\n",
      "See the caveats in the documentation: https://pandas.pydata.org/pandas-docs/stable/user_guide/indexing.html#returning-a-view-versus-a-copy\n",
      "  df['nAA']= df.sequence.str.len().astype(np.int32)\n",
      "0:00:14.417579 \u001b[38;20m INFO: rt_type automatically determined as irt\u001b[0m\n",
      "0:00:14.417954 \u001b[38;20m INFO: Importing data from /Users/georgwallmann/Documents/data/alphadia_benchmarking/raw_data/2023_03_02_MCT_scp_hela/20230103_TIMS05_MCT_SA_HeLa_SM03p7b_Ref10_AID8_09_S4-G6_1_664.d\u001b[0m\n",
      "0:00:14.418262 \u001b[38;20m INFO: Using .d import for /Users/georgwallmann/Documents/data/alphadia_benchmarking/raw_data/2023_03_02_MCT_scp_hela/20230103_TIMS05_MCT_SA_HeLa_SM03p7b_Ref10_AID8_09_S4-G6_1_664.d\u001b[0m\n",
      "0:00:14.418464 \u001b[38;20m INFO: Reading frame metadata for /Users/georgwallmann/Documents/data/alphadia_benchmarking/raw_data/2023_03_02_MCT_scp_hela/20230103_TIMS05_MCT_SA_HeLa_SM03p7b_Ref10_AID8_09_S4-G6_1_664.d\u001b[0m\n",
      "0:00:14.559933 \u001b[38;20m INFO: Reading 17,438 frames with 1,647,748,059 detector events for /Users/georgwallmann/Documents/data/alphadia_benchmarking/raw_data/2023_03_02_MCT_scp_hela/20230103_TIMS05_MCT_SA_HeLa_SM03p7b_Ref10_AID8_09_S4-G6_1_664.d\u001b[0m\n",
      "100%|██████████| 17438/17438 [00:05<00:00, 3062.33it/s]\n",
      "0:00:20.328533 \u001b[38;20m INFO: Indexing /Users/georgwallmann/Documents/data/alphadia_benchmarking/raw_data/2023_03_02_MCT_scp_hela/20230103_TIMS05_MCT_SA_HeLa_SM03p7b_Ref10_AID8_09_S4-G6_1_664.d...\u001b[0m\n",
      "0:00:20.329679 \u001b[38;20m INFO: Bruker DLL not available, estimating mobility values\u001b[0m\n",
      "0:00:20.330050 \u001b[38;20m INFO: Bruker DLL not available, estimating mz values\u001b[0m\n",
      "0:00:20.331765 \u001b[38;20m INFO: Indexing quadrupole dimension\u001b[0m\n",
      "0:00:21.515318 \u001b[38;20m INFO: Successfully imported data from /Users/georgwallmann/Documents/data/alphadia_benchmarking/raw_data/2023_03_02_MCT_scp_hela/20230103_TIMS05_MCT_SA_HeLa_SM03p7b_Ref10_AID8_09_S4-G6_1_664.d\u001b[0m\n"
     ]
    }
   ],
   "source": [
    "plan = Plan(raw_files[5:6])\n",
    "plan.from_spec_lib_base(test_lib)\n",
    "#plan.run(output_location, keep_decoys=True, fdr=1.0, neptune_token=neptune_token, neptune_tags='scp')\n",
    "\n",
    "for dia_data, precursors_flat, fragments_flat in plan.get_run_data():\n",
    "    break"
   ]
  },
  {
   "cell_type": "code",
   "execution_count": 4,
   "metadata": {},
   "outputs": [],
   "source": [
    "jit_data = dia_data.jitclass(transpose=True)"
   ]
  },
  {
   "cell_type": "code",
   "execution_count": 5,
   "metadata": {},
   "outputs": [],
   "source": [
    "fragments_flat = pd.read_csv(os.path.join('/Users/georgwallmann/Documents/data/alphadia_benchmarking/alphadia_runs/2023_04_07_v1.0.2/fragments_flat_r.tsv'), sep='\\t')\n",
    "precursors_flat = pd.read_csv(os.path.join('/Users/georgwallmann/Documents/data/alphadia_benchmarking/alphadia_runs/2023_04_07_v1.0.2/precursors_flat_r.tsv'), sep='\\t')"
   ]
  },
  {
   "cell_type": "code",
   "execution_count": 35,
   "metadata": {},
   "outputs": [
    {
     "name": "stderr",
     "output_type": "stream",
     "text": [
      "0:34:27.533204 \u001b[38;20m INFO: Duty cycle consists of 9 frames, 0.96 seconds cycle time\u001b[0m\n",
      "0:34:27.533635 \u001b[38;20m INFO: Duty cycle consists of 928 scans, 0.00065 1/K_0 resolution\u001b[0m\n",
      "0:34:27.533872 \u001b[38;20m INFO: Expected peak length in RT is 10.00 seconds, sigma is 5.21\u001b[0m\n",
      "0:34:27.534057 \u001b[38;20m INFO: Expected peak length in mobility is 0.03 1/K_0, sigma is 23.20\u001b[0m\n",
      "0:34:27.661668 \u001b[38;20m INFO: starting candidate selection\u001b[0m\n"
     ]
    },
    {
     "name": "stdout",
     "output_type": "stream",
     "text": [
      "{'rt_tolerance': 30, 'mobility_tolerance': 0.03, 'mz_tolerance': 15, 'candidate_count': 5, 'rt_column': 'rt_calibrated', 'mobility_column': 'mobility_calibrated', 'precursor_mz_column': 'mz_calibrated', 'fragment_mz_column': 'mz_library', 'thread_count': 10, 'debug': True, 'group_channels': False, 'exclude_shared_fragments': True, 'top_k_fragments': 12, 'top_k_precursors': 3}\n"
     ]
    },
    {
     "name": "stderr",
     "output_type": "stream",
     "text": [
      "100%|██████████| 10/10 [00:00<00:00, 812.27it/s]\n"
     ]
    }
   ],
   "source": [
    "from alphadia.extraction import hybridselection\n",
    "\n",
    "selection = hybridselection.HybridCandidateSelection(\n",
    "    dia_data,\n",
    "    precursors_flat,\n",
    "    fragments_flat,\n",
    "    rt_tolerance=30,\n",
    "    mz_tolerance=15,\n",
    "    mobility_tolerance=0.03,\n",
    "    candidate_count=5,\n",
    "    thread_count=10,\n",
    "    debug=True,\n",
    "    group_channels=False,\n",
    "    top_k_precursors=3,\n",
    "    top_k_fragments=12,\n",
    "    rt_column='rt_calibrated',\n",
    "    precursor_mz_column='mz_calibrated',\n",
    "    fragment_mz_column='mz_library',\n",
    "    mobility_column='mobility_calibrated'\n",
    ")\n",
    "egs = selection()"
   ]
  },
  {
   "cell_type": "code",
   "execution_count": 34,
   "metadata": {},
   "outputs": [],
   "source": [
    "import numba as nb\n",
    "\n",
    "@nb.njit\n",
    "def calculate_dia_cycle_mask(\n",
    "        cycle : np.ndarray,\n",
    "        quad_slices : np.ndarray\n",
    "    ):\n",
    "\n",
    "    \"\"\" Calculate the DIA cycle quadrupole mask for each score group.\n",
    "\n",
    "    Parameters\n",
    "    ----------\n",
    "\n",
    "    cycle : np.ndarray\n",
    "        The DIA mz cycle as part of the bruker.TimsTOF object. (n_frames * n_scans)\n",
    "\n",
    "    quad_slices : np.ndarray\n",
    "        The quadrupole slices for each score group. (n_score_groups, 2)\n",
    "\n",
    "    Returns\n",
    "    -------\n",
    "\n",
    "    np.ndarray\n",
    "        The DIA cycle quadrupole mask for each score group. (n_score_groups, n_frames * n_scans)\n",
    "    \"\"\"\n",
    "\n",
    "    n_score_groups = quad_slices.shape[0]\n",
    "\n",
    "    dia_mz_cycle = cycle.reshape(-1, 2)\n",
    "\n",
    "    mz_mask = np.zeros((n_score_groups, len(dia_mz_cycle)), dtype=np.bool_)\n",
    "    for i, (mz_start, mz_stop) in enumerate(dia_mz_cycle):\n",
    "        for j, (quad_mz_start, quad_mz_stop) in enumerate(quad_slices):\n",
    "            if (quad_mz_start <= mz_stop) and (quad_mz_stop >= mz_start):\n",
    "                mz_mask[j, i] = True\n",
    "\n",
    "    return mz_mask"
   ]
  },
  {
   "cell_type": "code",
   "execution_count": 16,
   "metadata": {},
   "outputs": [
    {
     "name": "stdout",
     "output_type": "stream",
     "text": [
      "[[449.5776062 450.246521 ]]\n",
      "[[449.24584961 449.9147644 ]]\n",
      "[[529.25439453 529.92327881]]\n",
      "[[519.58728027 520.25616455]]\n",
      "[[420.5463562 421.215271 ]]\n",
      "[[429.89013672 430.55905151]]\n",
      "[[361.88458252 362.21902466]]\n",
      "[[352.88928223 353.22372437]]\n",
      "[[495.89105225 496.55996704]]\n",
      "[[496.56292725 497.23184204]]\n"
     ]
    }
   ],
   "source": [
    "for eg in egs[:10]:\n",
    "    #print(eg.score_group_precursor_mz)\n",
    "    #print(eg.score_group_fragment_mz)\n",
    "\n",
    "    quadrupole_mz = hybridselection.calculate_score_group_limits(\n",
    "        eg.score_group_precursor_mz, \n",
    "        eg.score_group_precursor_intensity\n",
    "    )\n",
    "\n",
    "    mz_mask = calculate_dia_cycle_mask(\n",
    "        jit_data.cycle,\n",
    "        \n",
    "\n",
    "    )\n",
    "\n",
    "    print(quadrupole_mz)"
   ]
  },
  {
   "cell_type": "code",
   "execution_count": 31,
   "metadata": {},
   "outputs": [],
   "source": [
    "def test_calculate_score_group_limits():\n",
    "    for f in [hybridselection.calculate_score_group_limits, hybridselection.calculate_score_group_limits.py_func]:\n",
    "        for i in range(1000):\n",
    "            mz_values = np.random.random(100)*1000\n",
    "            intensity_values = np.floor(np.random.random(100) * 2)\n",
    "            \n",
    "            min = mz_values[intensity_values != 0.].min()\n",
    "            max = mz_values[intensity_values != 0.].max()\n",
    "\n",
    "            limits = hybridselection.calculate_score_group_limits(\n",
    "                mz_values,\n",
    "                intensity_values\n",
    "            )\n",
    "\n",
    "            assert limits.shape == (1,2)\n",
    "            assert np.allclose(limits[0,0] , min)\n",
    "            assert np.allclose(limits[0,1] , max)\n",
    "\n",
    "\n",
    "test_calculate_score_group_limits()"
   ]
  },
  {
   "cell_type": "code",
   "execution_count": null,
   "metadata": {},
   "outputs": [],
   "source": []
  },
  {
   "cell_type": "code",
   "execution_count": 7,
   "metadata": {},
   "outputs": [
    {
     "data": {
      "text/html": [
       "<div>\n",
       "<style scoped>\n",
       "    .dataframe tbody tr th:only-of-type {\n",
       "        vertical-align: middle;\n",
       "    }\n",
       "\n",
       "    .dataframe tbody tr th {\n",
       "        vertical-align: top;\n",
       "    }\n",
       "\n",
       "    .dataframe thead th {\n",
       "        text-align: right;\n",
       "    }\n",
       "</style>\n",
       "<table border=\"1\" class=\"dataframe\">\n",
       "  <thead>\n",
       "    <tr style=\"text-align: right;\">\n",
       "      <th></th>\n",
       "      <th>elution_group_idx</th>\n",
       "      <th>score_group_idx</th>\n",
       "      <th>precursor_idx</th>\n",
       "      <th>rank</th>\n",
       "      <th>score</th>\n",
       "      <th>precursor_mz</th>\n",
       "      <th>decoy</th>\n",
       "      <th>scan_center</th>\n",
       "      <th>scan_start</th>\n",
       "      <th>scan_stop</th>\n",
       "      <th>...</th>\n",
       "      <th>mobility_calibrated</th>\n",
       "      <th>flat_frag_start_idx</th>\n",
       "      <th>flat_frag_stop_idx</th>\n",
       "      <th>charge</th>\n",
       "      <th>i_0</th>\n",
       "      <th>i_1</th>\n",
       "      <th>i_2</th>\n",
       "      <th>i_3</th>\n",
       "      <th>i_4</th>\n",
       "      <th>i_5</th>\n",
       "    </tr>\n",
       "  </thead>\n",
       "  <tbody>\n",
       "    <tr>\n",
       "      <th>0</th>\n",
       "      <td>0</td>\n",
       "      <td>0</td>\n",
       "      <td>25488</td>\n",
       "      <td>0</td>\n",
       "      <td>25.837534</td>\n",
       "      <td>449.577606</td>\n",
       "      <td>0</td>\n",
       "      <td>836</td>\n",
       "      <td>826</td>\n",
       "      <td>847</td>\n",
       "      <td>...</td>\n",
       "      <td>0.753400</td>\n",
       "      <td>0</td>\n",
       "      <td>10</td>\n",
       "      <td>3</td>\n",
       "      <td>0.486296</td>\n",
       "      <td>0.330465</td>\n",
       "      <td>0.132628</td>\n",
       "      <td>0.039262</td>\n",
       "      <td>0.009423</td>\n",
       "      <td>0.001926</td>\n",
       "    </tr>\n",
       "    <tr>\n",
       "      <th>1</th>\n",
       "      <td>0</td>\n",
       "      <td>0</td>\n",
       "      <td>25488</td>\n",
       "      <td>1</td>\n",
       "      <td>23.586605</td>\n",
       "      <td>449.577606</td>\n",
       "      <td>0</td>\n",
       "      <td>872</td>\n",
       "      <td>846</td>\n",
       "      <td>880</td>\n",
       "      <td>...</td>\n",
       "      <td>0.753400</td>\n",
       "      <td>0</td>\n",
       "      <td>10</td>\n",
       "      <td>3</td>\n",
       "      <td>0.486296</td>\n",
       "      <td>0.330465</td>\n",
       "      <td>0.132628</td>\n",
       "      <td>0.039262</td>\n",
       "      <td>0.009423</td>\n",
       "      <td>0.001926</td>\n",
       "    </tr>\n",
       "    <tr>\n",
       "      <th>2</th>\n",
       "      <td>0</td>\n",
       "      <td>0</td>\n",
       "      <td>25488</td>\n",
       "      <td>2</td>\n",
       "      <td>20.277398</td>\n",
       "      <td>449.577606</td>\n",
       "      <td>0</td>\n",
       "      <td>876</td>\n",
       "      <td>860</td>\n",
       "      <td>880</td>\n",
       "      <td>...</td>\n",
       "      <td>0.753400</td>\n",
       "      <td>0</td>\n",
       "      <td>10</td>\n",
       "      <td>3</td>\n",
       "      <td>0.486296</td>\n",
       "      <td>0.330465</td>\n",
       "      <td>0.132628</td>\n",
       "      <td>0.039262</td>\n",
       "      <td>0.009423</td>\n",
       "      <td>0.001926</td>\n",
       "    </tr>\n",
       "    <tr>\n",
       "      <th>3</th>\n",
       "      <td>0</td>\n",
       "      <td>0</td>\n",
       "      <td>25488</td>\n",
       "      <td>3</td>\n",
       "      <td>2.612197</td>\n",
       "      <td>449.577606</td>\n",
       "      <td>0</td>\n",
       "      <td>808</td>\n",
       "      <td>800</td>\n",
       "      <td>819</td>\n",
       "      <td>...</td>\n",
       "      <td>0.753400</td>\n",
       "      <td>0</td>\n",
       "      <td>10</td>\n",
       "      <td>3</td>\n",
       "      <td>0.486296</td>\n",
       "      <td>0.330465</td>\n",
       "      <td>0.132628</td>\n",
       "      <td>0.039262</td>\n",
       "      <td>0.009423</td>\n",
       "      <td>0.001926</td>\n",
       "    </tr>\n",
       "    <tr>\n",
       "      <th>4</th>\n",
       "      <td>0</td>\n",
       "      <td>0</td>\n",
       "      <td>25488</td>\n",
       "      <td>4</td>\n",
       "      <td>0.922434</td>\n",
       "      <td>449.577606</td>\n",
       "      <td>0</td>\n",
       "      <td>870</td>\n",
       "      <td>860</td>\n",
       "      <td>880</td>\n",
       "      <td>...</td>\n",
       "      <td>0.753400</td>\n",
       "      <td>0</td>\n",
       "      <td>10</td>\n",
       "      <td>3</td>\n",
       "      <td>0.486296</td>\n",
       "      <td>0.330465</td>\n",
       "      <td>0.132628</td>\n",
       "      <td>0.039262</td>\n",
       "      <td>0.009423</td>\n",
       "      <td>0.001926</td>\n",
       "    </tr>\n",
       "    <tr>\n",
       "      <th>...</th>\n",
       "      <td>...</td>\n",
       "      <td>...</td>\n",
       "      <td>...</td>\n",
       "      <td>...</td>\n",
       "      <td>...</td>\n",
       "      <td>...</td>\n",
       "      <td>...</td>\n",
       "      <td>...</td>\n",
       "      <td>...</td>\n",
       "      <td>...</td>\n",
       "      <td>...</td>\n",
       "      <td>...</td>\n",
       "      <td>...</td>\n",
       "      <td>...</td>\n",
       "      <td>...</td>\n",
       "      <td>...</td>\n",
       "      <td>...</td>\n",
       "      <td>...</td>\n",
       "      <td>...</td>\n",
       "      <td>...</td>\n",
       "      <td>...</td>\n",
       "    </tr>\n",
       "    <tr>\n",
       "      <th>413175</th>\n",
       "      <td>45865</td>\n",
       "      <td>91729</td>\n",
       "      <td>84142</td>\n",
       "      <td>3</td>\n",
       "      <td>10.129126</td>\n",
       "      <td>704.391052</td>\n",
       "      <td>1</td>\n",
       "      <td>465</td>\n",
       "      <td>453</td>\n",
       "      <td>478</td>\n",
       "      <td>...</td>\n",
       "      <td>0.992485</td>\n",
       "      <td>2779354</td>\n",
       "      <td>2779371</td>\n",
       "      <td>3</td>\n",
       "      <td>0.310872</td>\n",
       "      <td>0.344713</td>\n",
       "      <td>0.209841</td>\n",
       "      <td>0.091405</td>\n",
       "      <td>0.031640</td>\n",
       "      <td>0.009202</td>\n",
       "    </tr>\n",
       "    <tr>\n",
       "      <th>413176</th>\n",
       "      <td>45866</td>\n",
       "      <td>91730</td>\n",
       "      <td>77759</td>\n",
       "      <td>0</td>\n",
       "      <td>14.091162</td>\n",
       "      <td>1076.564209</td>\n",
       "      <td>0</td>\n",
       "      <td>123</td>\n",
       "      <td>112</td>\n",
       "      <td>135</td>\n",
       "      <td>...</td>\n",
       "      <td>1.234279</td>\n",
       "      <td>545157</td>\n",
       "      <td>545165</td>\n",
       "      <td>2</td>\n",
       "      <td>0.258218</td>\n",
       "      <td>0.303294</td>\n",
       "      <td>0.225582</td>\n",
       "      <td>0.125217</td>\n",
       "      <td>0.056558</td>\n",
       "      <td>0.021699</td>\n",
       "    </tr>\n",
       "    <tr>\n",
       "      <th>413177</th>\n",
       "      <td>45866</td>\n",
       "      <td>91730</td>\n",
       "      <td>77759</td>\n",
       "      <td>1</td>\n",
       "      <td>13.933697</td>\n",
       "      <td>1076.564209</td>\n",
       "      <td>0</td>\n",
       "      <td>59</td>\n",
       "      <td>56</td>\n",
       "      <td>71</td>\n",
       "      <td>...</td>\n",
       "      <td>1.234279</td>\n",
       "      <td>545157</td>\n",
       "      <td>545165</td>\n",
       "      <td>2</td>\n",
       "      <td>0.258218</td>\n",
       "      <td>0.303294</td>\n",
       "      <td>0.225582</td>\n",
       "      <td>0.125217</td>\n",
       "      <td>0.056558</td>\n",
       "      <td>0.021699</td>\n",
       "    </tr>\n",
       "    <tr>\n",
       "      <th>413178</th>\n",
       "      <td>45866</td>\n",
       "      <td>91730</td>\n",
       "      <td>77759</td>\n",
       "      <td>2</td>\n",
       "      <td>11.888897</td>\n",
       "      <td>1076.564209</td>\n",
       "      <td>0</td>\n",
       "      <td>131</td>\n",
       "      <td>113</td>\n",
       "      <td>136</td>\n",
       "      <td>...</td>\n",
       "      <td>1.234279</td>\n",
       "      <td>545157</td>\n",
       "      <td>545165</td>\n",
       "      <td>2</td>\n",
       "      <td>0.258218</td>\n",
       "      <td>0.303294</td>\n",
       "      <td>0.225582</td>\n",
       "      <td>0.125217</td>\n",
       "      <td>0.056558</td>\n",
       "      <td>0.021699</td>\n",
       "    </tr>\n",
       "    <tr>\n",
       "      <th>413179</th>\n",
       "      <td>45866</td>\n",
       "      <td>91730</td>\n",
       "      <td>77759</td>\n",
       "      <td>3</td>\n",
       "      <td>11.032320</td>\n",
       "      <td>1076.564209</td>\n",
       "      <td>0</td>\n",
       "      <td>104</td>\n",
       "      <td>93</td>\n",
       "      <td>116</td>\n",
       "      <td>...</td>\n",
       "      <td>1.234279</td>\n",
       "      <td>545157</td>\n",
       "      <td>545165</td>\n",
       "      <td>2</td>\n",
       "      <td>0.258218</td>\n",
       "      <td>0.303294</td>\n",
       "      <td>0.225582</td>\n",
       "      <td>0.125217</td>\n",
       "      <td>0.056558</td>\n",
       "      <td>0.021699</td>\n",
       "    </tr>\n",
       "  </tbody>\n",
       "</table>\n",
       "<p>413180 rows × 26 columns</p>\n",
       "</div>"
      ],
      "text/plain": [
       "        elution_group_idx  score_group_idx  precursor_idx  rank      score  \\\n",
       "0                       0                0          25488     0  25.837534   \n",
       "1                       0                0          25488     1  23.586605   \n",
       "2                       0                0          25488     2  20.277398   \n",
       "3                       0                0          25488     3   2.612197   \n",
       "4                       0                0          25488     4   0.922434   \n",
       "...                   ...              ...            ...   ...        ...   \n",
       "413175              45865            91729          84142     3  10.129126   \n",
       "413176              45866            91730          77759     0  14.091162   \n",
       "413177              45866            91730          77759     1  13.933697   \n",
       "413178              45866            91730          77759     2  11.888897   \n",
       "413179              45866            91730          77759     3  11.032320   \n",
       "\n",
       "        precursor_mz  decoy  scan_center  scan_start  scan_stop  ...  \\\n",
       "0         449.577606      0          836         826        847  ...   \n",
       "1         449.577606      0          872         846        880  ...   \n",
       "2         449.577606      0          876         860        880  ...   \n",
       "3         449.577606      0          808         800        819  ...   \n",
       "4         449.577606      0          870         860        880  ...   \n",
       "...              ...    ...          ...         ...        ...  ...   \n",
       "413175    704.391052      1          465         453        478  ...   \n",
       "413176   1076.564209      0          123         112        135  ...   \n",
       "413177   1076.564209      0           59          56         71  ...   \n",
       "413178   1076.564209      0          131         113        136  ...   \n",
       "413179   1076.564209      0          104          93        116  ...   \n",
       "\n",
       "        mobility_calibrated  flat_frag_start_idx  flat_frag_stop_idx  charge  \\\n",
       "0                  0.753400                    0                  10       3   \n",
       "1                  0.753400                    0                  10       3   \n",
       "2                  0.753400                    0                  10       3   \n",
       "3                  0.753400                    0                  10       3   \n",
       "4                  0.753400                    0                  10       3   \n",
       "...                     ...                  ...                 ...     ...   \n",
       "413175             0.992485              2779354             2779371       3   \n",
       "413176             1.234279               545157              545165       2   \n",
       "413177             1.234279               545157              545165       2   \n",
       "413178             1.234279               545157              545165       2   \n",
       "413179             1.234279               545157              545165       2   \n",
       "\n",
       "             i_0       i_1       i_2       i_3       i_4       i_5  \n",
       "0       0.486296  0.330465  0.132628  0.039262  0.009423  0.001926  \n",
       "1       0.486296  0.330465  0.132628  0.039262  0.009423  0.001926  \n",
       "2       0.486296  0.330465  0.132628  0.039262  0.009423  0.001926  \n",
       "3       0.486296  0.330465  0.132628  0.039262  0.009423  0.001926  \n",
       "4       0.486296  0.330465  0.132628  0.039262  0.009423  0.001926  \n",
       "...          ...       ...       ...       ...       ...       ...  \n",
       "413175  0.310872  0.344713  0.209841  0.091405  0.031640  0.009202  \n",
       "413176  0.258218  0.303294  0.225582  0.125217  0.056558  0.021699  \n",
       "413177  0.258218  0.303294  0.225582  0.125217  0.056558  0.021699  \n",
       "413178  0.258218  0.303294  0.225582  0.125217  0.056558  0.021699  \n",
       "413179  0.258218  0.303294  0.225582  0.125217  0.056558  0.021699  \n",
       "\n",
       "[413180 rows x 26 columns]"
      ]
     },
     "execution_count": 7,
     "metadata": {},
     "output_type": "execute_result"
    }
   ],
   "source": [
    "scoring. egs"
   ]
  },
  {
   "cell_type": "code",
   "execution_count": 10,
   "metadata": {},
   "outputs": [
    {
     "data": {
      "text/plain": [
       "Index(['elution_group_idx', 'score_group_idx', 'precursor_idx', 'rank',\n",
       "       'score', 'precursor_mz', 'decoy', 'scan_center', 'scan_start',\n",
       "       'scan_stop', 'frame_center', 'frame_start', 'frame_stop', 'rt_library',\n",
       "       'rt_calibrated', 'mobility_library', 'mobility_calibrated',\n",
       "       'flat_frag_start_idx', 'flat_frag_stop_idx', 'charge', 'i_0', 'i_1',\n",
       "       'i_2', 'i_3', 'i_4', 'i_5'],\n",
       "      dtype='object')"
      ]
     },
     "execution_count": 10,
     "metadata": {},
     "output_type": "execute_result"
    }
   ],
   "source": [
    "egs.columns"
   ]
  },
  {
   "cell_type": "code",
   "execution_count": 8,
   "metadata": {},
   "outputs": [],
   "source": [
    "from alphadia.extraction import quadrupole\n",
    "q = quadrupole.SimpleQuadrupole(dia_data.cycle)"
   ]
  },
  {
   "cell_type": "code",
   "execution_count": 9,
   "metadata": {},
   "outputs": [],
   "source": [
    "egs['mz'] = egs['precursor_mz']\n"
   ]
  },
  {
   "cell_type": "code",
   "execution_count": null,
   "metadata": {},
   "outputs": [],
   "source": [
    "from alphadia.extraction.scoring import MS2ExtractionWorkflow\n",
    "\n",
    "workflow = MS2ExtractionWorkflow(\n",
    "    dia_data,\n",
    "    precursors_flat,\n",
    "    fragments_flat,\n",
    "    egs,\n",
    "    q,\n",
    "    precursor_mz_tolerance=100,\n",
    "    fragment_mz_tolerance=100,\n",
    "    debug=False\n",
    ")\n",
    "psm = workflow()"
   ]
  },
  {
   "cell_type": "code",
   "execution_count": null,
   "metadata": {},
   "outputs": [],
   "source": [
    "precursor, fragment = psm"
   ]
  },
  {
   "cell_type": "code",
   "execution_count": null,
   "metadata": {},
   "outputs": [],
   "source": [
    "from alphadia.extraction.scoring import fdr_correction"
   ]
  },
  {
   "cell_type": "code",
   "execution_count": null,
   "metadata": {},
   "outputs": [],
   "source": [
    "fdr_correction(precursor)"
   ]
  },
  {
   "cell_type": "code",
   "execution_count": null,
   "metadata": {},
   "outputs": [],
   "source": [
    "df['mz'] = df['mz'].astype(np.float32)"
   ]
  },
  {
   "cell_type": "code",
   "execution_count": null,
   "metadata": {},
   "outputs": [],
   "source": [
    "df['mz'].dtype"
   ]
  },
  {
   "cell_type": "code",
   "execution_count": null,
   "metadata": {},
   "outputs": [],
   "source": [
    "precursors_flat['rt_library'].hist(bins=100)"
   ]
  },
  {
   "cell_type": "code",
   "execution_count": null,
   "metadata": {},
   "outputs": [],
   "source": [
    "start = []\n",
    "stop = []\n",
    "for eg in egs[:10]:\n",
    "    print(eg.rt)\n",
    "    #start.append(eg.frame_limits[0,0])\n",
    "    #stop.append(eg.frame_limits[0,1])\n",
    "\n",
    "start = np.array(start)\n",
    "stop = np.array(stop)"
   ]
  },
  {
   "cell_type": "code",
   "execution_count": null,
   "metadata": {},
   "outputs": [],
   "source": [
    "features = []\n",
    "decoy = []\n",
    "rank = []\n",
    "for eg in egs:\n",
    "    for c in eg.candidates:\n",
    "        features.append(c.features)\n",
    "        decoy.append(c.decoy)\n",
    "        rank.append(c.rank)\n",
    "\n",
    "features = np.array(features)\n",
    "decoy = np.array(decoy)"
   ]
  },
  {
   "cell_type": "code",
   "execution_count": null,
   "metadata": {},
   "outputs": [],
   "source": [
    "egs[0].candidates[0].precursor_mz"
   ]
  },
  {
   "cell_type": "code",
   "execution_count": null,
   "metadata": {},
   "outputs": [],
   "source": [
    "features[:,1] = np.log(features[:,1])\n",
    "features[:,3] = np.log(features[:,3])\n",
    "features[:,4] = np.log(features[:,4])\n",
    "features[:,6] = np.log(features[:,6])"
   ]
  },
  {
   "cell_type": "code",
   "execution_count": null,
   "metadata": {},
   "outputs": [],
   "source": [
    "for i in range(features.shape[1]):\n",
    "    plt.hist(features[decoy==0, i], bins=100)\n",
    "    plt.hist(features[decoy==1, i], bins=100)\n",
    "    plt.show()"
   ]
  },
  {
   "cell_type": "code",
   "execution_count": null,
   "metadata": {},
   "outputs": [],
   "source": [
    "# perform standard scaling, perform a logistic regression and plot the results\n",
    "from sklearn.preprocessing import StandardScaler\n",
    "from sklearn.linear_model import LogisticRegression\n",
    "\n",
    "scaler = StandardScaler()\n",
    "scaled_features = scaler.fit_transform(features)\n",
    "\n",
    "lr = LogisticRegression()\n",
    "lr.fit(scaled_features, decoy)\n",
    "\n",
    "\n",
    "from sklearn.metrics import roc_curve, auc\n",
    "\n",
    "lr.predict_proba(scaled_features).shape\n",
    "\n",
    "fpr, tpr, _ = roc_curve(decoy, lr.predict_proba(scaled_features)[:, 1])\n",
    "roc_auc = auc(fpr, tpr)\n",
    "\n",
    "plt.figure()\n",
    "lw = 2\n",
    "plt.plot(fpr, tpr, color='darkorange',\n",
    "            lw=lw, label='ROC curve (area = %0.2f)' % roc_auc)\n",
    "plt.plot([0, 1], [0, 1], color='navy', lw=lw, linestyle='--')\n",
    "plt.xlim([0.0, 1.0])\n",
    "plt.ylim([0.0, 1.05])\n",
    "plt.xlabel('False Positive Rate')\n",
    "plt.ylabel('True Positive Rate')\n",
    "plt.title('Receiver operating characteristic example')\n",
    "plt.legend(loc=\"lower right\")\n",
    "\n"
   ]
  },
  {
   "cell_type": "code",
   "execution_count": null,
   "metadata": {},
   "outputs": [],
   "source": [
    "# iterate columns of scaled_features and plot the histogram by the decoy status\n",
    "for i in range(features.shape[1]):\n",
    "    plt.figure()\n",
    "    plt.hist(features[decoy, i], bins=100, alpha=0.5, label='decoy')\n",
    "    plt.hist(features[~np.array(decoy), i], bins=100, alpha=0.5, label='target')\n",
    "    plt.legend()\n",
    "    plt.show()"
   ]
  },
  {
   "cell_type": "code",
   "execution_count": null,
   "metadata": {},
   "outputs": [],
   "source": [
    "scaled_features.shape"
   ]
  },
  {
   "cell_type": "code",
   "execution_count": null,
   "metadata": {},
   "outputs": [],
   "source": [
    "from alphadia.extraction.numba import numeric"
   ]
  },
  {
   "cell_type": "code",
   "execution_count": null,
   "metadata": {},
   "outputs": [],
   "source": [
    "from alphadia.extraction.hybridselection import GaussianFilter\n",
    "gaussian_filter = GaussianFilter(\n",
    "    jit_data\n",
    ")\n",
    "kernel = gaussian_filter.get_kernel()"
   ]
  },
  {
   "cell_type": "code",
   "execution_count": null,
   "metadata": {},
   "outputs": [],
   "source": [
    "from alphadia.extraction import hybridselection\n",
    "eg = egs[22]\n",
    "print(eg.precursor_decoy)\n",
    "features = hybridselection.build_candidates(\n",
    "    eg.dense_precursors,\n",
    "    eg.dense_fragments,\n",
    "    eg.score_group_precursor_intensity,\n",
    "    eg.score_group_fragment_intensity,\n",
    "    eg,\n",
    "    kernel,\n",
    "    jit_data,\n",
    "    candidate_count = 3,\n",
    "    debug=True,\n",
    "    weights = np.array([1,1,1,1,1,0.5,0.5,0.5]),\n",
    ")"
   ]
  },
  {
   "cell_type": "code",
   "execution_count": null,
   "metadata": {},
   "outputs": [],
   "source": [
    "len(features)"
   ]
  },
  {
   "cell_type": "code",
   "execution_count": null,
   "metadata": {},
   "outputs": [],
   "source": [
    "feature_vector = []\n",
    "for f in features:\n",
    "    feature_vector.append(f.features)\n",
    "\n",
    "feature_vector = np.array(feature_vector)"
   ]
  },
  {
   "cell_type": "code",
   "execution_count": null,
   "metadata": {},
   "outputs": [],
   "source": [
    "eg.score_group_precursor_mz"
   ]
  },
  {
   "cell_type": "code",
   "execution_count": null,
   "metadata": {},
   "outputs": [],
   "source": []
  },
  {
   "cell_type": "code",
   "execution_count": null,
   "metadata": {},
   "outputs": [],
   "source": [
    "jit_data.scan_max_index"
   ]
  },
  {
   "cell_type": "code",
   "execution_count": null,
   "metadata": {},
   "outputs": [],
   "source": [
    "eg.score_group_fragment_intensity"
   ]
  },
  {
   "cell_type": "code",
   "execution_count": null,
   "metadata": {},
   "outputs": [],
   "source": []
  },
  {
   "cell_type": "code",
   "execution_count": null,
   "metadata": {},
   "outputs": [],
   "source": [
    "n_scores = eg.precursor_intensity.shape[0]\n",
    "\n",
    "for score_idx in range(n_scores):\n",
    "\n",
    "    fragment_mask = fragment_intensity[score_idx] > 0\n",
    "    precursor_mask = precursor_intensity[score_idx] > 0\n"
   ]
  },
  {
   "cell_type": "code",
   "execution_count": null,
   "metadata": {},
   "outputs": [],
   "source": [
    "for i in range(s.shape[0]):\n",
    "    plt.imshow(s[i])\n",
    "    plt.show()"
   ]
  },
  {
   "cell_type": "code",
   "execution_count": null,
   "metadata": {},
   "outputs": [],
   "source": [
    "for eg in egs:\n",
    "\n",
    "    if eg.dense_precursors.shape[-1] > 10:\n",
    "        s = build_score(\n",
    "            eg.dense_precursors, \n",
    "            eg.dense_fragments, \n",
    "            eg.precursor_mz,\n",
    "            eg.precursor_intensity,\n",
    "            eg.fragment_mz,\n",
    "            eg.fragment_intensity,\n",
    "            kernel\n",
    "        )"
   ]
  },
  {
   "cell_type": "code",
   "execution_count": null,
   "metadata": {},
   "outputs": [],
   "source": [
    "egs[0].fragment_intensity\n",
    "egs[0].decoy"
   ]
  },
  {
   "cell_type": "code",
   "execution_count": null,
   "metadata": {},
   "outputs": [],
   "source": [
    "plt.imshow(s[0])"
   ]
  },
  {
   "cell_type": "code",
   "execution_count": null,
   "metadata": {},
   "outputs": [],
   "source": [
    "from alphadia.extraction.numba import numeric\n",
    "from alphadia.extraction.numba import fragments\n",
    "import numba as nb\n",
    "from tqdm import tqdm"
   ]
  },
  {
   "cell_type": "code",
   "execution_count": null,
   "metadata": {},
   "outputs": [],
   "source": [
    "#%%timeit\n",
    "\n",
    "tof_slice, values, push_indices, absolute_precursor_index, tof_indices = filter_push(\n",
    "    precursor_tof_limits,\n",
    "    jit_data.push_indices,\n",
    "    jit_data.tof_indptr, \n",
    "    push_query,\n",
    "    _absolute_precursor_index\n",
    ")\n",
    "\n",
    "precursor_index = np.unique(absolute_precursor_index)\n",
    "n_precursor_indices = len(precursor_index)\n",
    "precursor_index_reverse = np.zeros(np.max(precursor_index)+1, dtype=np.int64)\n",
    "precursor_index_reverse[precursor_index] = np.arange(len(precursor_index))\n",
    "\n",
    "relative_precursor_index = precursor_index_reverse[absolute_precursor_index]\n",
    "\n",
    "frame_indices = push_indices // jit_data.scan_max_index\n",
    "scan_indices = push_indices % jit_data.scan_max_index\n",
    "precursor_cycle_indices = (frame_indices-jit_data.zeroth_frame)//jit_data.cycle.shape[1]\n",
    "\n",
    "# cycle values\n",
    "precursor_cycle_start = int(eg.frame_limits[0,0]-jit_data.zeroth_frame)//jit_data.cycle.shape[1]\n",
    "precursor_cycle_stop = int(eg.frame_limits[0,1]-jit_data.zeroth_frame)//jit_data.cycle.shape[1]\n",
    "precursor_cycle_len = precursor_cycle_stop - precursor_cycle_start\n",
    "\n",
    "# scan valuesa\n",
    "mobility_start = eg.scan_limits[0,0]\n",
    "mobility_stop = eg.scan_limits[0,1]\n",
    "mobility_len = mobility_stop - mobility_start\n",
    "\n",
    "#tof_indices = jit_data.tof_indices[values]\n",
    "mz_values = jit_data.mz_values[tof_indices]\n",
    "\n",
    "intensities = jit_data.intensity_values_t[values]\n",
    "\n",
    "# number of channels: intensity, mz\n",
    "n_channels = 2\n",
    "\n",
    "n_tof_slices = len(precursor_tof_limits)\n",
    "\n",
    "dense_output = np.zeros(\n",
    "    (\n",
    "        n_channels, \n",
    "        n_tof_slices,\n",
    "        n_precursor_indices,\n",
    "        mobility_len,\n",
    "        precursor_cycle_len\n",
    "    ), \n",
    "    dtype=np.float64\n",
    ")\n",
    "\n",
    "# create dense intensities\n",
    "for i, (_tof_slice, intensity, mz, p_slice) in enumerate(zip(tof_slice, intensities, mz_values, relative_precursor_index)):\n",
    "    mobility = scan_indices[i]-mobility_start\n",
    "    precursor_cycle = precursor_cycle_indices[i]-precursor_cycle_start\n",
    "    dense_output[0, _tof_slice, p_slice ,mobility, precursor_cycle] += intensity\n",
    "\n",
    "for i in range(n_tof_slices):\n",
    "    plt.imshow(dense_output[0,i,0,:,:])\n",
    "    plt.show()\n"
   ]
  },
  {
   "cell_type": "code",
   "execution_count": null,
   "metadata": {},
   "outputs": [],
   "source": [
    "\n"
   ]
  },
  {
   "cell_type": "code",
   "execution_count": null,
   "metadata": {},
   "outputs": [],
   "source": [
    "values.shape"
   ]
  },
  {
   "cell_type": "code",
   "execution_count": null,
   "metadata": {},
   "outputs": [],
   "source": [
    "np.unique(absolute_precursor_index)"
   ]
  },
  {
   "cell_type": "code",
   "execution_count": null,
   "metadata": {},
   "outputs": [],
   "source": [
    "push_indices.shape"
   ]
  },
  {
   "cell_type": "code",
   "execution_count": null,
   "metadata": {},
   "outputs": [],
   "source": [
    "tof_slice.shape"
   ]
  },
  {
   "cell_type": "code",
   "execution_count": null,
   "metadata": {},
   "outputs": [],
   "source": [
    "nb.typeof(jit_data.push_indices)"
   ]
  },
  {
   "cell_type": "code",
   "execution_count": null,
   "metadata": {},
   "outputs": [],
   "source": []
  },
  {
   "cell_type": "code",
   "execution_count": null,
   "metadata": {},
   "outputs": [],
   "source": [
    "push_query.shape"
   ]
  },
  {
   "cell_type": "code",
   "execution_count": null,
   "metadata": {},
   "outputs": [],
   "source": [
    "push_indices.shape"
   ]
  },
  {
   "cell_type": "code",
   "execution_count": null,
   "metadata": {},
   "outputs": [],
   "source": [
    "absolute_precursor_index.shape"
   ]
  },
  {
   "cell_type": "code",
   "execution_count": null,
   "metadata": {},
   "outputs": [],
   "source": [
    "push_indices, absolute_precursor_cycle = get_push_indices(\n",
    "        jit_data,\n",
    "        eg.frame_limits,\n",
    "        eg.scan_limits,\n",
    "        fragment_cycle_mask\n",
    "    )"
   ]
  },
  {
   "cell_type": "code",
   "execution_count": null,
   "metadata": {},
   "outputs": [],
   "source": [
    "push_indices.shape"
   ]
  },
  {
   "cell_type": "code",
   "execution_count": null,
   "metadata": {},
   "outputs": [],
   "source": [
    "np.unique(absolute_precursor_cycle)"
   ]
  },
  {
   "cell_type": "code",
   "execution_count": null,
   "metadata": {},
   "outputs": [],
   "source": [
    "np.unique(source_indices)"
   ]
  },
  {
   "cell_type": "code",
   "execution_count": null,
   "metadata": {},
   "outputs": [],
   "source": [
    "np.unique(absolute_precursor_index)"
   ]
  },
  {
   "cell_type": "code",
   "execution_count": null,
   "metadata": {},
   "outputs": [],
   "source": [
    "quadrupole_mz"
   ]
  },
  {
   "cell_type": "code",
   "execution_count": null,
   "metadata": {},
   "outputs": [],
   "source": [
    "push_query.shape"
   ]
  },
  {
   "cell_type": "code",
   "execution_count": null,
   "metadata": {},
   "outputs": [],
   "source": [
    "cycle_limits = eg.frame_limits//jit_data.cycle.shape[1]"
   ]
  },
  {
   "cell_type": "code",
   "execution_count": null,
   "metadata": {},
   "outputs": [],
   "source": [
    "@nb.njit\n",
    "\n",
    "def get_optimized_push_indices(\n",
    "        jit_data,\n",
    "        cycle_limits,\n",
    "        scan_limits,\n",
    "        score_group_cycle_mask,\n",
    "        precursor_cycle_mask,\n",
    "    ):\n",
    "\n",
    "    for cycle_index in range(cycle_limits[0,0], cycle_limits[0,1]):\n",
    "        cycle_start_index = cycle_index * jit_data.cycle.shape[1] * jit_data.scan_max_index\n",
    "\n",
    "        \n",
    "get_optimized_push_indices(\n",
    "        jit_data,\n",
    "        cycle_limits,\n",
    "        eg.scan_limits,\n",
    "        score_group_cycle_mask,\n",
    "        precursor_cycle_mask,\n",
    "    )"
   ]
  },
  {
   "cell_type": "code",
   "execution_count": null,
   "metadata": {},
   "outputs": [],
   "source": [
    "cycle_limits"
   ]
  },
  {
   "cell_type": "code",
   "execution_count": null,
   "metadata": {},
   "outputs": [],
   "source": [
    "\n",
    "\n",
    "\n",
    "             \n",
    "push_indices, score_group, absolute_precursor_cycle = get_push_indices(\n",
    "    jit_data,\n",
    "    eg.frame_limits,\n",
    "    eg.scan_limits,\n",
    "    score_group_cycle_mask,\n",
    "    precursor_cycle_mask,\n",
    ")\n"
   ]
  },
  {
   "cell_type": "code",
   "execution_count": null,
   "metadata": {},
   "outputs": [],
   "source": [
    "%timeit get_push_indices(jit_data, eg.frame_limits, eg.scan_limits, score_group_cycle_mask, precursor_cycle_mask)"
   ]
  },
  {
   "cell_type": "code",
   "execution_count": null,
   "metadata": {},
   "outputs": [],
   "source": [
    "@nb.njit\n",
    "def unique(a):\n",
    "    return np.array(list(set(a)))\n",
    "\n",
    "%timeit unique(absolute_precursor_cycle)"
   ]
  },
  {
   "cell_type": "code",
   "execution_count": null,
   "metadata": {},
   "outputs": [],
   "source": [
    "precursor_mz"
   ]
  },
  {
   "cell_type": "code",
   "execution_count": null,
   "metadata": {},
   "outputs": [],
   "source": [
    "\n",
    "\n",
    "\n",
    "\n"
   ]
  },
  {
   "cell_type": "code",
   "execution_count": null,
   "metadata": {},
   "outputs": [],
   "source": [
    "\n",
    "\n"
   ]
  },
  {
   "cell_type": "code",
   "execution_count": null,
   "metadata": {},
   "outputs": [],
   "source": [
    "print()"
   ]
  },
  {
   "cell_type": "code",
   "execution_count": null,
   "metadata": {},
   "outputs": [],
   "source": [
    "fig, ax = plt.subplots(1,1, figsize=(10,5))\n",
    "pos = ax.imshow(fragments_dense[1,1,0,:,:],cmap='RdBu_r')\n",
    "fig.colorbar(pos, ax=ax)\n",
    "plt.show()"
   ]
  },
  {
   "cell_type": "code",
   "execution_count": null,
   "metadata": {},
   "outputs": [],
   "source": [
    "%%timeit\n",
    "get_dense_hybrid(\n",
    "    jit_data, \n",
    "    eg.frame_limits,\n",
    "    eg.scan_limits,\n",
    "    precursor_mz,\n",
    "    120,\n",
    "    fragment_mz,\n",
    "    120,\n",
    "    quadrupole_mz\n",
    "    )"
   ]
  },
  {
   "cell_type": "code",
   "execution_count": null,
   "metadata": {},
   "outputs": [],
   "source": [
    "fragment_mz"
   ]
  },
  {
   "cell_type": "code",
   "execution_count": null,
   "metadata": {},
   "outputs": [],
   "source": [
    "%timeit get_dense_hybrid( jit_data, eg.frame_limits, eg.scan_limits, precursor_mz, fragment_mz, quadrupole_mz)"
   ]
  },
  {
   "cell_type": "code",
   "execution_count": null,
   "metadata": {},
   "outputs": [],
   "source": [
    "import numba as nb\n",
    "\n",
    "os.environ['DEBUG'] = 'True'\n",
    "\n",
    "from alphadia.extraction.hybridselection import HybridElutionGroup, HybridElutionGroupContainer\n",
    "\n",
    "def assemble_elution_groups(\n",
    "        precursors_flat,\n",
    "        rt_column='rt_library',\n",
    "        mobility_column='mobility_library',\n",
    "        precursor_mz_column='mz_library'\n",
    "        ):\n",
    "    \n",
    "    \"\"\"\n",
    "    Assemble elution groups from precursor library.\n",
    "\n",
    "    Parameters\n",
    "    ----------\n",
    "\n",
    "    precursors_flat : pandas.DataFrame\n",
    "        Precursor library.\n",
    "\n",
    "    rt_column : str\n",
    "        Column name of the retention time values.\n",
    "\n",
    "    mobility_column : str\n",
    "        Column name of the mobility values.\n",
    "\n",
    "    precursor_mz_column : str\n",
    "        Column name of the precursor m/z values.\n",
    "\n",
    "    Returns\n",
    "    -------\n",
    "    HybridElutionGroupContainer\n",
    "        Numba jitclass with list of elution groups.\n",
    "    \"\"\"\n",
    "    \n",
    "    if len(precursors_flat) == 0:\n",
    "        return\n",
    "\n",
    "    available_isotopes = utils.get_isotope_columns(precursors_flat.columns)\n",
    "    available_isotope_columns = [f'i_{i}' for i in available_isotopes]\n",
    "\n",
    "    precursors_sorted = precursors_flat.sort_values('elution_group_idx').copy()\n",
    "\n",
    "    @nb.njit(debug=True)\n",
    "    def assemble_njit(\n",
    "        elution_group_idx,\n",
    "        precursor_idx,\n",
    "        channel,\n",
    "        flat_frag_start_stop_idx,\n",
    "        rt_values,\n",
    "        mobility_values,\n",
    "        charge,\n",
    "        decoy,\n",
    "        precursor_mz,\n",
    "        isotope_intensity\n",
    "    ):\n",
    "        elution_group = elution_group_idx[0]\n",
    "        elution_group_start = 0\n",
    "        elution_group_stop = 0\n",
    "\n",
    "        eg_list = []\n",
    "        \n",
    "        while elution_group_stop < len(elution_group_idx)-1:\n",
    "            \n",
    "            elution_group_stop += 1\n",
    "\n",
    "            if elution_group_idx[elution_group_stop] != elution_group:\n",
    "                    \n",
    "                eg_list.append(HybridElutionGroup(    \n",
    "                    elution_group,\n",
    "                    precursor_idx[elution_group_start:elution_group_stop],\n",
    "                    channel[elution_group_start:elution_group_stop],\n",
    "                    flat_frag_start_stop_idx[elution_group_start:elution_group_stop],\n",
    "                    rt_values[elution_group_start],\n",
    "                    mobility_values[elution_group_start],\n",
    "                    charge[elution_group_start],\n",
    "                    decoy[elution_group_start:elution_group_stop],\n",
    "                    precursor_mz[elution_group_start:elution_group_stop],\n",
    "                    isotope_intensity[elution_group_start:elution_group_stop]\n",
    "                ))\n",
    "\n",
    "                elution_group_start = elution_group_stop\n",
    "                elution_group = elution_group_idx[elution_group_start]\n",
    "                \n",
    "        egs = nb.typed.List(eg_list)\n",
    "        return HybridElutionGroupContainer(egs)\n",
    "\n",
    "    return assemble_njit(\n",
    "        precursors_sorted['elution_group_idx'].values.astype(np.uint32),\n",
    "        precursors_sorted['precursor_idx'].values.astype(np.uint32),\n",
    "        precursors_sorted['channel'].values.astype(np.uint32),\n",
    "        precursors_sorted[['flat_frag_start_idx','flat_frag_stop_idx']].values.copy().astype(np.uint32),\n",
    "        precursors_sorted[rt_column].values.astype(np.float64),\n",
    "        precursors_sorted[mobility_column].values.astype(np.float64),\n",
    "        precursors_sorted['charge'].values.astype(np.uint8),\n",
    "        precursors_sorted['decoy'].values.astype(np.uint8),\n",
    "        precursors_sorted[precursor_mz_column].values.astype(np.float64),\n",
    "        precursors_sorted[available_isotope_columns].values.copy().astype(np.float32),\n",
    "    )\n",
    "    "
   ]
  },
  {
   "cell_type": "code",
   "execution_count": null,
   "metadata": {},
   "outputs": [],
   "source": [
    "assemble_elution_groups(precursors_flat)"
   ]
  },
  {
   "cell_type": "code",
   "execution_count": null,
   "metadata": {},
   "outputs": [],
   "source": [
    "%timeit assemble_elution_groups(precursors_flat)"
   ]
  },
  {
   "cell_type": "code",
   "execution_count": null,
   "metadata": {},
   "outputs": [],
   "source": [
    "from alphadia.extraction import candidateselection\n",
    "\n",
    "gaussian = candidateselection.GaussianFilter(dia_data)\n",
    "kernel = gaussian.get_kernel()"
   ]
  },
  {
   "cell_type": "code",
   "execution_count": null,
   "metadata": {},
   "outputs": [],
   "source": [
    "plt.imshow(kernel)"
   ]
  },
  {
   "cell_type": "code",
   "execution_count": null,
   "metadata": {},
   "outputs": [],
   "source": [
    "kernel[:,10:].shape"
   ]
  },
  {
   "cell_type": "code",
   "execution_count": null,
   "metadata": {},
   "outputs": [],
   "source": [
    "p = dense_precursors[0,0,:,:32,:64]\n",
    "p.shape"
   ]
  },
  {
   "cell_type": "code",
   "execution_count": null,
   "metadata": {},
   "outputs": [],
   "source": [
    "x = np.tile(p, (10,1,1,1))"
   ]
  },
  {
   "cell_type": "code",
   "execution_count": null,
   "metadata": {},
   "outputs": [],
   "source": [
    "x.shape"
   ]
  },
  {
   "cell_type": "code",
   "execution_count": null,
   "metadata": {},
   "outputs": [],
   "source": [
    "%timeit smooth = fourier_a1(x, kernel)"
   ]
  },
  {
   "cell_type": "code",
   "execution_count": null,
   "metadata": {},
   "outputs": [],
   "source": [
    "plt.imshow(p[0])"
   ]
  },
  {
   "cell_type": "code",
   "execution_count": null,
   "metadata": {},
   "outputs": [],
   "source": [
    "plt.imshow(smooth[0])"
   ]
  },
  {
   "cell_type": "code",
   "execution_count": null,
   "metadata": {},
   "outputs": [],
   "source": [
    "\n",
    "            \n",
    "    "
   ]
  },
  {
   "cell_type": "code",
   "execution_count": null,
   "metadata": {},
   "outputs": [],
   "source": [
    "plt.imshow(roll(smooth[0,0],-10,-10))"
   ]
  },
  {
   "cell_type": "code",
   "execution_count": null,
   "metadata": {},
   "outputs": [],
   "source": [
    "import numba as nb\n",
    "import numpy as np\n",
    "\n",
    "@nb.njit\n",
    "def jit_fft(x):\n",
    "    return np.fft.fft(x)\n",
    "\n",
    "a = np.array([2, 7, 1, 8, 2, 8, 1, 8])\n",
    "jit_fft(a)"
   ]
  },
  {
   "cell_type": "code",
   "execution_count": null,
   "metadata": {},
   "outputs": [],
   "source": [
    "from alphadia.extraction import quadrupole, scoring, features\n",
    "q = quadrupole.SimpleQuadrupole(dia_data.cycle)"
   ]
  },
  {
   "cell_type": "code",
   "execution_count": null,
   "metadata": {},
   "outputs": [],
   "source": [
    "from alphadia.extraction import scoring\n",
    "\n",
    "extraction = scoring.MS2ExtractionWorkflow(\n",
    "    dia_data,\n",
    "    precursors_flat,\n",
    "    fragments_flat,\n",
    "    candidates,\n",
    "    q,\n",
    "    precursor_mz_tolerance=30,\n",
    "    fragment_mz_tolerance=30\n",
    ")\n",
    "\n",
    "feature_df, fragment_df = extraction()"
   ]
  },
  {
   "cell_type": "code",
   "execution_count": null,
   "metadata": {},
   "outputs": [],
   "source": [
    "df = scoring.fdr_correction(feature_df)"
   ]
  },
  {
   "cell_type": "code",
   "execution_count": null,
   "metadata": {},
   "outputs": [],
   "source": [
    "df = scoring.fdr_correction(df)"
   ]
  }
 ],
 "metadata": {
  "kernelspec": {
   "display_name": "alpha",
   "language": "python",
   "name": "python3"
  },
  "language_info": {
   "codemirror_mode": {
    "name": "ipython",
    "version": 3
   },
   "file_extension": ".py",
   "mimetype": "text/x-python",
   "name": "python",
   "nbconvert_exporter": "python",
   "pygments_lexer": "ipython3",
   "version": "3.9.13"
  },
  "orig_nbformat": 4
 },
 "nbformat": 4,
 "nbformat_minor": 2
}
