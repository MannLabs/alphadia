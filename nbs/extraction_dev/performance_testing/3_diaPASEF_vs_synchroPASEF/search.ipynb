{
 "cells": [
  {
   "cell_type": "code",
   "execution_count": 1,
   "metadata": {},
   "outputs": [
    {
     "name": "stderr",
     "output_type": "stream",
     "text": [
      "0:00:02.432814 \u001b[33;20m WARNING: WARNING: Temp mmap arrays are written to /var/folders/lc/9594t94d5b5_gn0y04w1jh980000gn/T/temp_mmap_0n9d80vt. Cleanup of this folder is OS dependant, and might need to be triggered manually! Current space: 1,192,358,027,264\u001b[0m\n",
      "0:00:02.433342 \u001b[33;20m WARNING: WARNING: No Bruker libraries are available for this operating system. Mobility and m/z values need to be estimated. While this estimation often returns acceptable results with errors < 0.02 Th, huge errors (e.g. offsets of 6 Th) have already been observed for some samples!\u001b[0m\n",
      "0:00:02.433589 \u001b[38;20m INFO: \u001b[0m\n"
     ]
    }
   ],
   "source": [
    "%reload_ext autoreload\n",
    "%autoreload 2\n",
    "\n",
    "import os, psutil\n",
    "\n",
    "os.environ['NUMEXPR_MAX_THREADS'] = '20'\n",
    "os.environ['NUMBA_DEBUGINFO'] = '0'\n",
    "\n",
    "from alphadia.extraction import processlogger\n",
    "processlogger.init_logging()\n",
    "import logging\n",
    "\n",
    "logger = logging.getLogger()\n",
    "\n",
    "import numpy as np\n",
    "import pandas as pd\n",
    "import matplotlib.pyplot as plt\n",
    "import seaborn as sns\n",
    "import neptune.new as neptune\n",
    "\n",
    "#from alphabase.spectral_library.flat import SpecLibFlat\n",
    "from alphabase.spectral_library.base import SpecLibBase\n",
    "#from alphabase.spectral_library.reader import LibraryReaderBase\n",
    "\n",
    "from alphadia.extraction.data import TimsTOFDIA\n",
    "from alphadia.extraction.planning import Plan, Workflow\n",
    "from alphadia.extraction.calibration import RunCalibration\n",
    "from alphadia.extraction.candidateselection import MS1CentricCandidateSelection\n",
    "from alphadia.extraction.scoring import fdr_correction, MS2ExtractionWorkflow\n",
    "import alphadia.extraction.utils as utils\n",
    "yaml_file = 'config.yaml'\n",
    "\n",
    "raw_files = ['/Users/georgwallmann/Documents/data/alphadia_benchmarking/raw_data/diaPASEF_vs_synchroPASEF/20221221_TIMS05_PaSk_SA_HeLa_Evo05_200ng_21min_IM0713_diaPASEF_S4-A1_1_500.d',\n",
    "             '/Users/georgwallmann/Documents/data/raw_data/Alpha_dia_benchmarking/diaPASEF_vs_synchroPASEF/20221221_TIMS05_PaSk_SA_HeLa_Evo05_200ng_21min_IM0713_diaPASEF_S4-A2_1_504.d',\n",
    "             '/Users/georgwallmann/Documents/data/raw_data/Alpha_dia_benchmarking/diaPASEF_vs_synchroPASEF/20221221_TIMS05_PaSk_SA_HeLa_Evo05_200ng_21min_IM0713_diaPASEF_S4-A3_1_508.d',\n",
    "             '/Users/georgwallmann/Documents/data/raw_data/Alpha_dia_benchmarking/diaPASEF_vs_synchroPASEF/20221221_TIMS05_PaSk_SA_HeLa_Evo05_200ng_21min_IM0713_diaPASEF_S4-A4_1_512.d',\n",
    "             #'/Users/georgwallmann/Documents/data/raw_data/Alpha_dia_benchmarking/diaPASEF_vs_synchroPASEF/20221221_TIMS05_PaSk_SA_HeLa_Evo05_200ng_21min_IM0713_SyP_classical_5bins_S2-A1_1_449.d',\n",
    "             #'/Users/georgwallmann/Documents/data/raw_data/Alpha_dia_benchmarking/diaPASEF_vs_synchroPASEF/20221221_TIMS05_PaSk_SA_HeLa_Evo05_200ng_21min_IM0713_SyP_classical_5bins_S2-A2_1_453.d',\n",
    "             #'/Users/georgwallmann/Documents/data/raw_data/Alpha_dia_benchmarking/diaPASEF_vs_synchroPASEF/20221221_TIMS05_PaSk_SA_HeLa_Evo05_200ng_21min_IM0713_SyP_classical_5bins_S2-A3_1_457.d',\n",
    "             #'/Users/georgwallmann/Documents/data/raw_data/Alpha_dia_benchmarking/diaPASEF_vs_synchroPASEF/20221221_TIMS05_PaSk_SA_HeLa_Evo05_200ng_21min_IM0713_SyP_classical_5bins_S2-A4_1_464.d'\n",
    "\n",
    "             ]\n",
    "\n",
    "output_location = '/Users/georgwallmann/Documents/data/alphadia_benchmarking/alphadia_runs'\n",
    "\n",
    "try:\n",
    "    neptune_token = os.environ['NEPTUNE_TOKEN']\n",
    "except KeyError:\n",
    "    logger.error('NEPTUNE_TOKEN environtment variable not set')\n"
   ]
  },
  {
   "cell_type": "code",
   "execution_count": 2,
   "metadata": {},
   "outputs": [],
   "source": [
    "test_lib = SpecLibBase()\n",
    "test_lib_location = '/Users/georgwallmann/Documents/data/alphadia_benchmarking/libraries/marvin_scp/MSfragger_library_mod_noLossType_d0_d4_d8_shared_eg.hdf'\n",
    "test_lib.load_hdf(test_lib_location, load_mod_seq=True)\n"
   ]
  },
  {
   "cell_type": "code",
   "execution_count": 3,
   "metadata": {},
   "outputs": [
    {
     "name": "stderr",
     "output_type": "stream",
     "text": [
      "0:00:05.772048 \u001b[32;20m PROGRESS:       _   _      _         ___ ___   _   \u001b[0m\n",
      "0:00:05.772446 \u001b[32;20m PROGRESS:      /_\\ | |_ __| |_  __ _|   \\_ _| /_\\  \u001b[0m\n",
      "0:00:05.772693 \u001b[32;20m PROGRESS:     / _ \\| | '_ \\ ' \\/ _` | |) | | / _ \\ \u001b[0m\n",
      "0:00:05.772924 \u001b[32;20m PROGRESS:    /_/ \\_\\_| .__/_||_\\__,_|___/___/_/ \\_\\\u001b[0m\n",
      "0:00:05.773112 \u001b[32;20m PROGRESS:            |_|                            \u001b[0m\n",
      "0:00:05.773310 \u001b[32;20m PROGRESS: \u001b[0m\n",
      "0:00:05.773878 \u001b[38;20m INFO: loading default config from /Users/georgwallmann/Documents/git/alphadia/alphadia/extraction/../../misc/config/default.yaml\u001b[0m\n",
      "0:00:05.778967 \u001b[32;20m PROGRESS: version: 1.0.1\u001b[0m\n",
      "0:00:05.779792 \u001b[32;20m PROGRESS: hostname: PCMANN428.biochem.mpg.de\u001b[0m\n",
      "0:00:05.780425 \u001b[32;20m PROGRESS: date: 2023-03-09 17:46:48\u001b[0m\n",
      "0:00:09.901142 \u001b[38;20m INFO: renaming precursor_columns columns\u001b[0m\n",
      "0:00:09.901978 \u001b[38;20m INFO: renaming fragment_columns columns\u001b[0m\n",
      "0:00:09.902347 \u001b[38;20m INFO: ========= Library Stats =========\u001b[0m\n",
      "0:00:09.902534 \u001b[38;20m INFO: Number of precursors: 275,196\u001b[0m\n",
      "0:00:09.931512 \u001b[38;20m INFO: \tthereof targets:137,601\u001b[0m\n",
      "0:00:09.931916 \u001b[38;20m INFO: \tthereof decoys: 137,595\u001b[0m\n",
      "0:00:09.933568 \u001b[38;20m INFO: Number of elution groups: 45,867\u001b[0m\n",
      "0:00:09.933811 \u001b[38;20m INFO: \taverage size: 6.00\u001b[0m\n",
      "0:00:09.942239 \u001b[38;20m INFO: Number of proteins: 5,068\u001b[0m\n",
      "0:00:09.943568 \u001b[38;20m INFO: Number of channels: 3 ([0 4 8])\u001b[0m\n",
      "0:00:09.943824 \u001b[38;20m INFO: Isotopes Distribution for 6 isotopes\u001b[0m\n",
      "0:00:09.944038 \u001b[38;20m INFO: =================================\u001b[0m\n",
      "0:00:09.945031 \u001b[33;20m WARNING: no precursor_idx column found, creating one\u001b[0m\n",
      "/Users/georgwallmann/Documents/git/alphabase/alphabase/peptide/precursor.py:30: SettingWithCopyWarning: \n",
      "A value is trying to be set on a copy of a slice from a DataFrame\n",
      "\n",
      "See the caveats in the documentation: https://pandas.pydata.org/pandas-docs/stable/user_guide/indexing.html#returning-a-view-versus-a-copy\n",
      "  df.fillna('', inplace=True)\n",
      "/Users/georgwallmann/Documents/git/alphabase/alphabase/peptide/precursor.py:42: SettingWithCopyWarning: \n",
      "A value is trying to be set on a copy of a slice from a DataFrame.\n",
      "Try using .loc[row_indexer,col_indexer] = value instead\n",
      "\n",
      "See the caveats in the documentation: https://pandas.pydata.org/pandas-docs/stable/user_guide/indexing.html#returning-a-view-versus-a-copy\n",
      "  df['nAA']= df.sequence.str.len().astype(np.int32)\n",
      "/Users/georgwallmann/Documents/git/alphabase/alphabase/peptide/precursor.py:50: SettingWithCopyWarning: \n",
      "A value is trying to be set on a copy of a slice from a DataFrame\n",
      "\n",
      "See the caveats in the documentation: https://pandas.pydata.org/pandas-docs/stable/user_guide/indexing.html#returning-a-view-versus-a-copy\n",
      "  df.sort_values('nAA', inplace=True)\n",
      "0:00:10.266985 \u001b[38;20m INFO: rt_type automatically determined as irt\u001b[0m\n",
      "0:00:10.267352 \u001b[38;20m INFO: Importing data from /Users/georgwallmann/Documents/data/alphadia_benchmarking/raw_data/diaPASEF_vs_synchroPASEF/20221221_TIMS05_PaSk_SA_HeLa_Evo05_200ng_21min_IM0713_diaPASEF_S4-A1_1_500.d\u001b[0m\n",
      "0:00:10.267691 \u001b[38;20m INFO: Using .d import for /Users/georgwallmann/Documents/data/alphadia_benchmarking/raw_data/diaPASEF_vs_synchroPASEF/20221221_TIMS05_PaSk_SA_HeLa_Evo05_200ng_21min_IM0713_diaPASEF_S4-A1_1_500.d\u001b[0m\n",
      "0:00:10.267882 \u001b[38;20m INFO: Reading frame metadata for /Users/georgwallmann/Documents/data/alphadia_benchmarking/raw_data/diaPASEF_vs_synchroPASEF/20221221_TIMS05_PaSk_SA_HeLa_Evo05_200ng_21min_IM0713_diaPASEF_S4-A1_1_500.d\u001b[0m\n",
      "0:00:10.369271 \u001b[38;20m INFO: Reading 11,812 frames with 1,449,841,416 detector events for /Users/georgwallmann/Documents/data/alphadia_benchmarking/raw_data/diaPASEF_vs_synchroPASEF/20221221_TIMS05_PaSk_SA_HeLa_Evo05_200ng_21min_IM0713_diaPASEF_S4-A1_1_500.d\u001b[0m\n",
      "100%|██████████| 11812/11812 [00:06<00:00, 1771.36it/s]\n",
      "0:00:17.119671 \u001b[38;20m INFO: Indexing /Users/georgwallmann/Documents/data/alphadia_benchmarking/raw_data/diaPASEF_vs_synchroPASEF/20221221_TIMS05_PaSk_SA_HeLa_Evo05_200ng_21min_IM0713_diaPASEF_S4-A1_1_500.d...\u001b[0m\n",
      "0:00:17.121642 \u001b[38;20m INFO: Bruker DLL not available, estimating mobility values\u001b[0m\n",
      "0:00:17.121943 \u001b[38;20m INFO: Bruker DLL not available, estimating mz values\u001b[0m\n",
      "0:00:17.123653 \u001b[38;20m INFO: Indexing quadrupole dimension\u001b[0m\n",
      "0:00:18.726577 \u001b[38;20m INFO: Successfully imported data from /Users/georgwallmann/Documents/data/alphadia_benchmarking/raw_data/diaPASEF_vs_synchroPASEF/20221221_TIMS05_PaSk_SA_HeLa_Evo05_200ng_21min_IM0713_diaPASEF_S4-A1_1_500.d\u001b[0m\n"
     ]
    }
   ],
   "source": [
    "plan = Plan(raw_files)\n",
    "plan.from_spec_lib_base(test_lib)\n",
    "#plan.run(output_location, keep_decoys=True, fdr=1.0)\n",
    "for dia_data, precursors_flat, fragments_flat in plan.get_run_data():\n",
    "    break"
   ]
  },
  {
   "cell_type": "code",
   "execution_count": 50,
   "metadata": {},
   "outputs": [
    {
     "name": "stderr",
     "output_type": "stream",
     "text": [
      "0:13:11.517911 \u001b[38;20m INFO: Duty cycle consists of 13 frames, 1.39 seconds cycle time\u001b[0m\n",
      "0:13:11.518295 \u001b[38;20m INFO: Duty cycle consists of 928 scans, 0.00065 1/K_0 resolution\u001b[0m\n",
      "0:13:11.518575 \u001b[38;20m INFO: Expected peak length in RT is 10.00 seconds, sigma is 1.80\u001b[0m\n",
      "0:13:11.519029 \u001b[38;20m INFO: Expected peak length in mobility is 0.03 1/K_0, sigma is 11.60\u001b[0m\n",
      "100%|██████████| 169/169 [00:05<00:00, 32.60it/s] \n"
     ]
    }
   ],
   "source": [
    "from alphadia.extraction import hybridselection\n",
    "\n",
    "selection = hybridselection.HybridCandidateSelection(\n",
    "    dia_data,\n",
    "    precursors_flat[:1000],\n",
    "    fragments_flat,\n",
    "    rt_tolerance=360,\n",
    "    mz_tolerance=30,\n",
    "    mobility_tolerance=0.05,\n",
    "    candidate_count=3,\n",
    "    thread_count=20,\n",
    "    #debug=True,\n",
    ")\n",
    "\n",
    "egs = selection()"
   ]
  },
  {
   "cell_type": "code",
   "execution_count": 51,
   "metadata": {},
   "outputs": [],
   "source": [
    "from alphadia.extraction.numba import fragments"
   ]
  },
  {
   "cell_type": "code",
   "execution_count": 52,
   "metadata": {},
   "outputs": [
    {
     "data": {
      "text/plain": [
       "(array([213.15976, 217.18486, 341.21832, 345.24344, 349.2627 , 646.3559 ,\n",
       "        650.381  , 654.40027], dtype=float32),\n",
       " array([[0.        , 0.        , 0.        , 0.        , 0.        ,\n",
       "         1.        , 0.        , 0.        ],\n",
       "        [0.        , 0.        , 0.        , 0.        , 0.        ,\n",
       "         0.        , 1.        , 0.        ],\n",
       "        [0.        , 0.        , 0.        , 0.        , 0.        ,\n",
       "         0.        , 0.        , 1.        ],\n",
       "        [0.59397462, 0.        , 1.        , 0.        , 0.        ,\n",
       "         0.        , 0.        , 0.        ],\n",
       "        [0.        , 0.63156048, 0.        , 1.        , 0.        ,\n",
       "         0.        , 0.        , 0.        ],\n",
       "        [0.        , 0.        , 0.        , 0.        , 1.        ,\n",
       "         0.        , 0.        , 0.        ]]))"
      ]
     },
     "execution_count": 52,
     "metadata": {},
     "output_type": "execute_result"
    }
   ],
   "source": [
    "prior_abundance = np.array([1, 1, 1, 1, 1, 1])\n",
    "\n",
    "score_grouped = False\n",
    "exclude_shared_fragments = True\n",
    "\n",
    "if score_grouped:\n",
    "    score_groups = egs[0].decoy\n",
    "\n",
    "else:\n",
    "    score_groups = np.arange(len(egs[0].decoy))\n",
    "\n",
    "fragments.get_ion_group_mapping(\n",
    "    egs[0].fragments.precursor_idx, \n",
    "    egs[0].fragments.mz,\n",
    "    egs[0].fragments.intensity,\n",
    "    prior_abundance,\n",
    "    score_groups,\n",
    "    exclude_shared=exclude_shared_fragments\n",
    ")"
   ]
  },
  {
   "cell_type": "code",
   "execution_count": 53,
   "metadata": {},
   "outputs": [],
   "source": [
    "egs[0].isotope_mz\n",
    "\n",
    "isotope_mz = egs[0].isotope_mz.flatten()\n",
    "isotope_intensity = egs[0].isotope_intensity.flatten()\n",
    "isotope_precursor = np.repeat(np.arange(0, egs[0].isotope_mz.shape[0]), egs[0].isotope_mz.shape[1])\n",
    "\n",
    "order = np.argsort(isotope_mz)\n",
    "isotope_mz = isotope_mz[order]\n",
    "isotope_intensity = isotope_intensity[order]\n",
    "isotope_precursor = isotope_precursor[order]"
   ]
  },
  {
   "cell_type": "code",
   "execution_count": 54,
   "metadata": {},
   "outputs": [
    {
     "data": {
      "text/plain": [
       "array([410.73743, 411.2391 , 411.74078, 412.74997, 413.25165, 413.75333,\n",
       "       414.7596 , 414.7687 , 415.2613 , 415.2704 , 415.76297, 415.77206,\n",
       "       416.78128, 417.28296, 417.78464, 418.7909 , 419.29257, 419.79425],\n",
       "      dtype=float32)"
      ]
     },
     "execution_count": 54,
     "metadata": {},
     "output_type": "execute_result"
    }
   ],
   "source": [
    "isotope_mz"
   ]
  },
  {
   "cell_type": "code",
   "execution_count": 55,
   "metadata": {},
   "outputs": [
    {
     "data": {
      "text/plain": [
       "array([0.62718904, 0.28260028, 0.07386316, 0.62718904, 0.28260028,\n",
       "       0.07386316, 0.62718904, 0.62718904, 0.28260028, 0.28260028,\n",
       "       0.07386316, 0.07386316, 0.62718904, 0.28260028, 0.07386316,\n",
       "       0.62718904, 0.28260028, 0.07386316], dtype=float32)"
      ]
     },
     "execution_count": 55,
     "metadata": {},
     "output_type": "execute_result"
    }
   ],
   "source": [
    "isotope_intensity"
   ]
  },
  {
   "cell_type": "code",
   "execution_count": 56,
   "metadata": {},
   "outputs": [
    {
     "data": {
      "text/plain": [
       "array([0, 0, 0, 1, 1, 1, 2, 3, 2, 3, 2, 3, 4, 4, 4, 5, 5, 5])"
      ]
     },
     "execution_count": 56,
     "metadata": {},
     "output_type": "execute_result"
    }
   ],
   "source": [
    "isotope_precursor"
   ]
  },
  {
   "cell_type": "code",
   "execution_count": null,
   "metadata": {},
   "outputs": [],
   "source": [
    "fragments.get_ion_group_mapping(\n",
    "    isotope_precursor, \n",
    "    isotope_mz,\n",
    "    isotope_intensity,\n",
    "    prior_abundance,\n",
    "    score_groups,\n",
    "    exclude_shared=exclude_shared_fragments\n",
    ")"
   ]
  },
  {
   "cell_type": "code",
   "execution_count": 37,
   "metadata": {},
   "outputs": [],
   "source": [
    "import numba as nb\n",
    "\n",
    "os.environ['DEBUG'] = 'True'\n",
    "\n",
    "from alphadia.extraction.hybridselection import HybridElutionGroup, HybridElutionGroupContainer\n",
    "\n",
    "def assemble_elution_groups(\n",
    "        precursors_flat,\n",
    "        rt_column='rt_library',\n",
    "        mobility_column='mobility_library',\n",
    "        precursor_mz_column='mz_library'\n",
    "        ):\n",
    "    \n",
    "    \"\"\"\n",
    "    Assemble elution groups from precursor library.\n",
    "\n",
    "    Parameters\n",
    "    ----------\n",
    "\n",
    "    precursors_flat : pandas.DataFrame\n",
    "        Precursor library.\n",
    "\n",
    "    rt_column : str\n",
    "        Column name of the retention time values.\n",
    "\n",
    "    mobility_column : str\n",
    "        Column name of the mobility values.\n",
    "\n",
    "    precursor_mz_column : str\n",
    "        Column name of the precursor m/z values.\n",
    "\n",
    "    Returns\n",
    "    -------\n",
    "    HybridElutionGroupContainer\n",
    "        Numba jitclass with list of elution groups.\n",
    "    \"\"\"\n",
    "    \n",
    "    if len(precursors_flat) == 0:\n",
    "        return\n",
    "\n",
    "    available_isotopes = utils.get_isotope_columns(precursors_flat.columns)\n",
    "    available_isotope_columns = [f'i_{i}' for i in available_isotopes]\n",
    "\n",
    "    precursors_sorted = precursors_flat.sort_values('elution_group_idx').copy()\n",
    "\n",
    "    @nb.njit(debug=True)\n",
    "    def assemble_njit(\n",
    "        elution_group_idx,\n",
    "        precursor_idx,\n",
    "        channel,\n",
    "        flat_frag_start_stop_idx,\n",
    "        rt_values,\n",
    "        mobility_values,\n",
    "        charge,\n",
    "        decoy,\n",
    "        precursor_mz,\n",
    "        isotope_intensity\n",
    "    ):\n",
    "        elution_group = elution_group_idx[0]\n",
    "        elution_group_start = 0\n",
    "        elution_group_stop = 0\n",
    "\n",
    "        eg_list = []\n",
    "        \n",
    "        while elution_group_stop < len(elution_group_idx)-1:\n",
    "            \n",
    "            elution_group_stop += 1\n",
    "\n",
    "            if elution_group_idx[elution_group_stop] != elution_group:\n",
    "                    \n",
    "                eg_list.append(HybridElutionGroup(    \n",
    "                    elution_group,\n",
    "                    precursor_idx[elution_group_start:elution_group_stop],\n",
    "                    channel[elution_group_start:elution_group_stop],\n",
    "                    flat_frag_start_stop_idx[elution_group_start:elution_group_stop],\n",
    "                    rt_values[elution_group_start],\n",
    "                    mobility_values[elution_group_start],\n",
    "                    charge[elution_group_start],\n",
    "                    decoy[elution_group_start:elution_group_stop],\n",
    "                    precursor_mz[elution_group_start:elution_group_stop],\n",
    "                    isotope_intensity[elution_group_start:elution_group_stop]\n",
    "                ))\n",
    "\n",
    "                elution_group_start = elution_group_stop\n",
    "                elution_group = elution_group_idx[elution_group_start]\n",
    "                \n",
    "        egs = nb.typed.List(eg_list)\n",
    "        return HybridElutionGroupContainer(egs)\n",
    "\n",
    "    return assemble_njit(\n",
    "        precursors_sorted['elution_group_idx'].values.astype(np.uint32),\n",
    "        precursors_sorted['precursor_idx'].values.astype(np.uint32),\n",
    "        precursors_sorted['channel'].values.astype(np.uint32),\n",
    "        precursors_sorted[['flat_frag_start_idx','flat_frag_stop_idx']].values.copy().astype(np.uint32),\n",
    "        precursors_sorted[rt_column].values.astype(np.float64),\n",
    "        precursors_sorted[mobility_column].values.astype(np.float64),\n",
    "        precursors_sorted['charge'].values.astype(np.uint8),\n",
    "        precursors_sorted['decoy'].values.astype(np.uint8),\n",
    "        precursors_sorted[precursor_mz_column].values.astype(np.float64),\n",
    "        precursors_sorted[available_isotope_columns].values.copy().astype(np.float32),\n",
    "    )\n",
    "    "
   ]
  },
  {
   "cell_type": "code",
   "execution_count": 38,
   "metadata": {},
   "outputs": [
    {
     "name": "stderr",
     "output_type": "stream",
     "text": [
      "/Users/georgwallmann/miniconda3/envs/alpha/lib/python3.9/site-packages/numba/core/lowering.py:107: NumbaDebugInfoWarning: \u001b[1mCould not find source for function: <function assemble_elution_groups.<locals>.assemble_njit at 0x2eb735dc0>. Debug line information may be inaccurate.\u001b[0m\n",
      "  warnings.warn(NumbaDebugInfoWarning(msg))\n"
     ]
    },
    {
     "data": {
      "text/plain": [
       "<numba.experimental.jitclass.boxing.HybridElutionGroupContainer at 0x17ec16b20>"
      ]
     },
     "execution_count": 38,
     "metadata": {},
     "output_type": "execute_result"
    }
   ],
   "source": [
    "assemble_elution_groups(precursors_flat)"
   ]
  },
  {
   "cell_type": "code",
   "execution_count": null,
   "metadata": {},
   "outputs": [],
   "source": [
    "%timeit assemble_elution_groups(precursors_flat)"
   ]
  },
  {
   "cell_type": "code",
   "execution_count": null,
   "metadata": {},
   "outputs": [],
   "source": [
    "from alphadia.extraction import candidateselection\n",
    "\n",
    "gaussian = candidateselection.GaussianFilter(dia_data)\n",
    "kernel = gaussian.get_kernel()"
   ]
  },
  {
   "cell_type": "code",
   "execution_count": null,
   "metadata": {},
   "outputs": [],
   "source": [
    "plt.imshow(kernel)"
   ]
  },
  {
   "cell_type": "code",
   "execution_count": null,
   "metadata": {},
   "outputs": [],
   "source": [
    "kernel[:,10:].shape"
   ]
  },
  {
   "cell_type": "code",
   "execution_count": null,
   "metadata": {},
   "outputs": [],
   "source": [
    "p = dense_precursors[0,0,:,:32,:64]\n",
    "p.shape"
   ]
  },
  {
   "cell_type": "code",
   "execution_count": null,
   "metadata": {},
   "outputs": [],
   "source": [
    "x = np.tile(p, (10,1,1,1))"
   ]
  },
  {
   "cell_type": "code",
   "execution_count": null,
   "metadata": {},
   "outputs": [],
   "source": [
    "x.shape"
   ]
  },
  {
   "cell_type": "code",
   "execution_count": null,
   "metadata": {},
   "outputs": [],
   "source": [
    "%timeit smooth = fourier_a1(x, kernel)"
   ]
  },
  {
   "cell_type": "code",
   "execution_count": null,
   "metadata": {},
   "outputs": [],
   "source": [
    "plt.imshow(p[0])"
   ]
  },
  {
   "cell_type": "code",
   "execution_count": null,
   "metadata": {},
   "outputs": [],
   "source": [
    "plt.imshow(smooth[0])"
   ]
  },
  {
   "cell_type": "code",
   "execution_count": null,
   "metadata": {},
   "outputs": [],
   "source": [
    "\n",
    "            \n",
    "    "
   ]
  },
  {
   "cell_type": "code",
   "execution_count": null,
   "metadata": {},
   "outputs": [],
   "source": [
    "plt.imshow(roll(smooth[0,0],-10,-10))"
   ]
  },
  {
   "cell_type": "code",
   "execution_count": null,
   "metadata": {},
   "outputs": [],
   "source": [
    "import numba as nb\n",
    "import numpy as np\n",
    "\n",
    "@nb.njit\n",
    "def jit_fft(x):\n",
    "    return np.fft.fft(x)\n",
    "\n",
    "a = np.array([2, 7, 1, 8, 2, 8, 1, 8])\n",
    "jit_fft(a)"
   ]
  },
  {
   "cell_type": "code",
   "execution_count": null,
   "metadata": {},
   "outputs": [],
   "source": [
    "from alphadia.extraction import quadrupole, scoring, features\n",
    "q = quadrupole.SimpleQuadrupole(dia_data.cycle)"
   ]
  },
  {
   "cell_type": "code",
   "execution_count": null,
   "metadata": {},
   "outputs": [],
   "source": [
    "from alphadia.extraction import scoring\n",
    "\n",
    "extraction = scoring.MS2ExtractionWorkflow(\n",
    "    dia_data,\n",
    "    precursors_flat,\n",
    "    fragments_flat,\n",
    "    candidates,\n",
    "    q,\n",
    "    precursor_mz_tolerance=30,\n",
    "    fragment_mz_tolerance=30\n",
    ")\n",
    "\n",
    "feature_df, fragment_df = extraction()"
   ]
  },
  {
   "cell_type": "code",
   "execution_count": null,
   "metadata": {},
   "outputs": [],
   "source": [
    "df = scoring.fdr_correction(feature_df)"
   ]
  },
  {
   "cell_type": "code",
   "execution_count": null,
   "metadata": {},
   "outputs": [],
   "source": [
    "df = scoring.fdr_correction(df)"
   ]
  }
 ],
 "metadata": {
  "kernelspec": {
   "display_name": "alpha",
   "language": "python",
   "name": "python3"
  },
  "language_info": {
   "codemirror_mode": {
    "name": "ipython",
    "version": 3
   },
   "file_extension": ".py",
   "mimetype": "text/x-python",
   "name": "python",
   "nbconvert_exporter": "python",
   "pygments_lexer": "ipython3",
   "version": "3.9.13"
  },
  "orig_nbformat": 4
 },
 "nbformat": 4,
 "nbformat_minor": 2
}
