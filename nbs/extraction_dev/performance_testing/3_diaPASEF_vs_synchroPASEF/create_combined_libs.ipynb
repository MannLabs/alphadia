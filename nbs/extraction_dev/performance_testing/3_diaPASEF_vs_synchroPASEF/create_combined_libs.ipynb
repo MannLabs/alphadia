{
 "cells": [
  {
   "cell_type": "code",
   "execution_count": 82,
   "metadata": {},
   "outputs": [],
   "source": [
    "import pandas as pd\n",
    "import numpy as np\n",
    "import os\n",
    "\n",
    "import logging\n",
    "logging.getLogger().setLevel(logging.INFO)\n",
    "\n",
    "from alphabase.spectral_library.flat import SpecLibFlat\n",
    "from alphabase.spectral_library.base import SpecLibBase\n",
    "from alphabase.spectral_library.reader import LibraryReaderBase\n",
    "from alphadia.extraction.utils import reannotate_fragments\n",
    "from alphabase.psm_reader import psm_reader_provider"
   ]
  },
  {
   "cell_type": "code",
   "execution_count": 83,
   "metadata": {},
   "outputs": [],
   "source": [
    "def fragment_number(precursor_df, fragment_intensity_df) :\n",
    "    if not set(['frag_start_idx', 'frag_stop_idx']).issubset(precursor_df.columns):\n",
    "        warnings.warn('frag_start_idx and frag_stop_idx not in dataframe')\n",
    "        return\n",
    "    \n",
    "    n_fragments = []\n",
    "    \n",
    "    for start, stop in zip(precursor_df['frag_start_idx'].values, precursor_df['frag_stop_idx'].values):\n",
    "        n_fragments += [np.sum(fragment_intensity_df.iloc[start:stop].values > 0)]\n",
    "\n",
    "    precursor_df['n_fragments'] = n_fragments"
   ]
  },
  {
   "cell_type": "code",
   "execution_count": 84,
   "metadata": {},
   "outputs": [],
   "source": [
    "large_lib = SpecLibBase()\n",
    "large_lib_location = '/Users/georgwallmann/Documents/data/alphadia_benchmarking/libraries/patricia_hela/21min_Evosep_HeLa_BR14_48fractions_diaPASEF_py_diAID_2.hdf'\n",
    "large_lib.load_hdf(large_lib_location, load_mod_seq=True)\n",
    "\n",
    "\n",
    "large_lib.precursor_df = large_lib.precursor_df[large_lib.precursor_df['rt_norm'] > -0.5]\n",
    "\n",
    "# scale rt_norm to from min max to 0-1\n",
    "large_lib.precursor_df['rt_norm'] = (large_lib.precursor_df['rt_norm'] - large_lib.precursor_df['rt_norm'].min())/(large_lib.precursor_df['rt_norm'].max() - large_lib.precursor_df['rt_norm'].min())"
   ]
  },
  {
   "cell_type": "code",
   "execution_count": 92,
   "metadata": {},
   "outputs": [],
   "source": [
    "small_lib = SpecLibBase()\n",
    "small_lib_location = '/Users/georgwallmann/Documents/data/alphadia_benchmarking/libraries/patricia_hela/library_MSFragger.hdf'\n",
    "small_lib.load_hdf(small_lib_location, load_mod_seq=True)\n",
    "\n",
    "small_lib.precursor_df['rt_norm'] = (small_lib.precursor_df['rt_norm'] - small_lib.precursor_df['rt_norm'].min())/(small_lib.precursor_df['rt_norm'].max() - small_lib.precursor_df['rt_norm'].min())"
   ]
  },
  {
   "cell_type": "code",
   "execution_count": 93,
   "metadata": {},
   "outputs": [],
   "source": [
    "small_lib.hash_precursor_df()\n",
    "small_lib_df = small_lib._precursor_df\n",
    "large_lib.hash_precursor_df()\n",
    "large_lib_df = large_lib._precursor_df"
   ]
  },
  {
   "cell_type": "code",
   "execution_count": 94,
   "metadata": {},
   "outputs": [],
   "source": [
    "shared_precursors_hashes = set(small_lib_df.mod_seq_charge_hash).intersection(set(large_lib_df.mod_seq_charge_hash))"
   ]
  },
  {
   "cell_type": "code",
   "execution_count": 95,
   "metadata": {},
   "outputs": [
    {
     "data": {
      "text/plain": [
       "90136"
      ]
     },
     "execution_count": 95,
     "metadata": {},
     "output_type": "execute_result"
    }
   ],
   "source": [
    "len(shared_precursors_hashes)"
   ]
  },
  {
   "cell_type": "code",
   "execution_count": 74,
   "metadata": {},
   "outputs": [],
   "source": [
    "name = '/Users/georgwallmann/Documents/data/alphadia_benchmarking/libraries/patricia_hela/library_48_fractions_reduced.hdf'\n",
    "reduced_lib = SpecLibBase()\n",
    "reduced_lib._precursor_df = large_lib_df[large_lib_df.mod_seq_charge_hash.isin(shared_precursors_hashes)].copy()\n",
    "reduced_lib._fragment_mz_df = large_lib._fragment_mz_df\n",
    "reduced_lib._fragment_intensity_df = large_lib.fragment_intensity_df\n",
    "\n",
    "reduced_lib.remove_unused_fragments()\n",
    "reduced_lib.save_hdf(name)"
   ]
  },
  {
   "cell_type": "code",
   "execution_count": 96,
   "metadata": {},
   "outputs": [],
   "source": [
    "name = '/Users/georgwallmann/Documents/data/alphadia_benchmarking/libraries/patricia_hela/library_48_fractions_reduced_rt.hdf'\n",
    "reduced_lib_rt = SpecLibBase()\n",
    "reduced_lib_rt._precursor_df = large_lib_df[large_lib_df.mod_seq_charge_hash.isin(shared_precursors_hashes)].copy()\n",
    "reduced_lib_rt._fragment_mz_df = large_lib._fragment_mz_df\n",
    "reduced_lib_rt._fragment_intensity_df = large_lib.fragment_intensity_df\n",
    "\n",
    "reduced_lib_rt._precursor_df.drop(columns=['rt_norm'], inplace=True)\n",
    "reduced_lib_rt._precursor_df = reduced_lib_rt._precursor_df.merge(small_lib_df[['mod_seq_charge_hash', 'rt_norm']], on='mod_seq_charge_hash', suffixes=('', ''))\n",
    "\n",
    "reduced_lib_rt.remove_unused_fragments()\n",
    "reduced_lib_rt.save_hdf(name)"
   ]
  },
  {
   "cell_type": "code",
   "execution_count": 97,
   "metadata": {},
   "outputs": [
    {
     "data": {
      "text/plain": [
       "(array([6.000e+00, 4.000e+00, 3.500e+01, 4.900e+01, 1.050e+02, 1.500e+02,\n",
       "        2.280e+02, 2.760e+02, 3.600e+02, 4.210e+02, 5.100e+02, 6.640e+02,\n",
       "        6.810e+02, 6.400e+02, 7.290e+02, 7.940e+02, 7.880e+02, 9.360e+02,\n",
       "        8.720e+02, 1.119e+03, 9.120e+02, 1.191e+03, 1.100e+03, 1.034e+03,\n",
       "        1.390e+03, 1.173e+03, 1.421e+03, 1.304e+03, 1.421e+03, 1.487e+03,\n",
       "        1.704e+03, 1.585e+03, 1.680e+03, 1.502e+03, 1.775e+03, 1.672e+03,\n",
       "        1.775e+03, 1.641e+03, 1.717e+03, 1.978e+03, 1.599e+03, 1.907e+03,\n",
       "        1.730e+03, 1.811e+03, 1.967e+03, 2.067e+03, 1.946e+03, 1.951e+03,\n",
       "        1.986e+03, 1.803e+03, 2.030e+03, 1.866e+03, 1.723e+03, 1.719e+03,\n",
       "        2.041e+03, 1.880e+03, 1.571e+03, 1.850e+03, 1.827e+03, 1.373e+03,\n",
       "        1.513e+03, 1.696e+03, 1.440e+03, 1.486e+03, 1.286e+03, 1.144e+03,\n",
       "        1.118e+03, 7.190e+02, 7.570e+02, 8.300e+02, 5.520e+02, 3.400e+02,\n",
       "        1.620e+02, 1.320e+02, 1.340e+02, 1.440e+02, 1.140e+02, 1.240e+02,\n",
       "        1.280e+02, 1.400e+02, 1.360e+02, 1.120e+02, 8.400e+01, 1.140e+02,\n",
       "        8.400e+01, 9.000e+01, 4.800e+01, 3.400e+01, 1.800e+01, 1.400e+01,\n",
       "        6.000e+00, 8.000e+00, 0.000e+00, 0.000e+00, 0.000e+00, 2.000e+00,\n",
       "        0.000e+00, 0.000e+00, 0.000e+00, 2.000e+00]),\n",
       " array([0.        , 0.00925725, 0.01851451, 0.02777176, 0.03702901,\n",
       "        0.04628627, 0.05554352, 0.06480077, 0.07405803, 0.08331528,\n",
       "        0.09257253, 0.10182979, 0.11108704, 0.12034429, 0.12960155,\n",
       "        0.1388588 , 0.14811605, 0.15737331, 0.16663056, 0.17588781,\n",
       "        0.18514507, 0.19440232, 0.20365957, 0.21291683, 0.22217408,\n",
       "        0.23143133, 0.24068859, 0.24994584, 0.25920309, 0.26846035,\n",
       "        0.2777176 , 0.28697486, 0.29623211, 0.30548936, 0.31474662,\n",
       "        0.32400387, 0.33326112, 0.34251838, 0.35177563, 0.36103288,\n",
       "        0.37029014, 0.37954739, 0.38880464, 0.3980619 , 0.40731915,\n",
       "        0.4165764 , 0.42583366, 0.43509091, 0.44434816, 0.45360542,\n",
       "        0.46286267, 0.47211992, 0.48137718, 0.49063443, 0.49989168,\n",
       "        0.50914894, 0.51840619, 0.52766344, 0.5369207 , 0.54617795,\n",
       "        0.5554352 , 0.56469246, 0.57394971, 0.58320696, 0.59246422,\n",
       "        0.60172147, 0.61097872, 0.62023598, 0.62949323, 0.63875048,\n",
       "        0.64800774, 0.65726499, 0.66652224, 0.6757795 , 0.68503675,\n",
       "        0.694294  , 0.70355126, 0.71280851, 0.72206576, 0.73132302,\n",
       "        0.74058027, 0.74983752, 0.75909478, 0.76835203, 0.77760928,\n",
       "        0.78686654, 0.79612379, 0.80538104, 0.8146383 , 0.82389555,\n",
       "        0.8331528 , 0.84241006, 0.85166731, 0.86092457, 0.87018182,\n",
       "        0.87943907, 0.88869633, 0.89795358, 0.90721083, 0.91646809,\n",
       "        0.92572534]),\n",
       " <BarContainer object of 100 artists>)"
      ]
     },
     "execution_count": 97,
     "metadata": {},
     "output_type": "execute_result"
    },
    {
     "data": {
      "image/png": "[encoded data removed]",
      "text/plain": [
       "<Figure size 640x480 with 1 Axes>"
      ]
     },
     "metadata": {},
     "output_type": "display_data"
    }
   ],
   "source": [
    "plt.hist(reduced_lib_rt.precursor_df['rt_norm'].values, bins=100)"
   ]
  },
  {
   "cell_type": "code",
   "execution_count": 76,
   "metadata": {},
   "outputs": [],
   "source": [
    "name = '/Users/georgwallmann/Documents/data/alphadia_benchmarking/libraries/patricia_hela/library_48_fractions_reduced_mobility.hdf'\n",
    "reduced_lib_mobility = SpecLibBase()\n",
    "reduced_lib_mobility._precursor_df = large_lib_df[large_lib_df.mod_seq_charge_hash.isin(shared_precursors_hashes)].copy()\n",
    "reduced_lib_mobility._fragment_mz_df = large_lib._fragment_mz_df\n",
    "reduced_lib_mobility._fragment_intensity_df = large_lib.fragment_intensity_df\n",
    "\n",
    "reduced_lib_mobility._precursor_df.drop(columns=['mobility'], inplace=True)\n",
    "reduced_lib_mobility._precursor_df = reduced_lib_mobility._precursor_df.merge(small_lib_df[['mod_seq_charge_hash', 'mobility']], on='mod_seq_charge_hash', suffixes=('',''))\n",
    "\n",
    "reduced_lib_mobility.remove_unused_fragments()\n",
    "reduced_lib_mobility.save_hdf(name)"
   ]
  },
  {
   "cell_type": "code",
   "execution_count": 77,
   "metadata": {},
   "outputs": [],
   "source": [
    "name = '/Users/georgwallmann/Documents/data/alphadia_benchmarking/libraries/patricia_hela/library_48_fractions_reduced_rt_mobility.hdf'\n",
    "reduced_lib_both = SpecLibBase()\n",
    "reduced_lib_both._precursor_df = large_lib_df[large_lib_df.mod_seq_charge_hash.isin(shared_precursors_hashes)].copy()\n",
    "reduced_lib_both._fragment_mz_df = large_lib._fragment_mz_df\n",
    "reduced_lib_both._fragment_intensity_df = large_lib.fragment_intensity_df\n",
    "\n",
    "reduced_lib_both._precursor_df.drop(columns=['mobility','rt_norm'], inplace=True)\n",
    "reduced_lib_both._precursor_df = reduced_lib_both._precursor_df.merge(small_lib_df[['mod_seq_charge_hash', 'mobility','rt_norm']], on='mod_seq_charge_hash', suffixes=('',''))\n",
    "\n",
    "reduced_lib_both.remove_unused_fragments()\n",
    "reduced_lib_both.save_hdf(name)\n",
    "\n"
   ]
  },
  {
   "cell_type": "code",
   "execution_count": 78,
   "metadata": {},
   "outputs": [],
   "source": [
    "name = '/Users/georgwallmann/Documents/data/alphadia_benchmarking/libraries/patricia_hela/library_48_fractions_reduced_fragments.hdf'\n",
    "\n",
    "reduced_lib_fragments = SpecLibBase()\n",
    "reduced_lib_fragments._precursor_df = large_lib_df[large_lib_df.mod_seq_charge_hash.isin(shared_precursors_hashes)].copy()\n",
    "reduced_lib_fragments._fragment_mz_df = small_lib._fragment_mz_df\n",
    "reduced_lib_fragments._fragment_intensity_df = small_lib.fragment_intensity_df\n",
    "\n",
    "reduced_lib_fragments._precursor_df.drop(columns=['frag_start_idx','frag_stop_idx'], inplace=True)\n",
    "reduced_lib_fragments._precursor_df = reduced_lib_fragments._precursor_df.merge(small_lib_df[['mod_seq_charge_hash', 'frag_start_idx','frag_stop_idx']], on='mod_seq_charge_hash', suffixes=('',''))\n",
    "\n",
    "reduced_lib_fragments.remove_unused_fragments()\n",
    "reduced_lib_fragments.save_hdf(name)"
   ]
  },
  {
   "cell_type": "code",
   "execution_count": 79,
   "metadata": {},
   "outputs": [],
   "source": [
    "name = '/Users/georgwallmann/Documents/data/alphadia_benchmarking/libraries/patricia_hela/library_48_fractions_reduced_rt_mobility_fragments.hdf'\n",
    "reduced_lib_both = SpecLibBase()\n",
    "reduced_lib_both._precursor_df = large_lib_df[large_lib_df.mod_seq_charge_hash.isin(shared_precursors_hashes)].copy()\n",
    "reduced_lib_both._fragment_mz_df = small_lib._fragment_mz_df\n",
    "reduced_lib_both._fragment_intensity_df = small_lib.fragment_intensity_df\n",
    "\n",
    "reduced_lib_both._precursor_df.drop(columns=['mobility','rt_norm', 'frag_start_idx', 'frag_stop_idx'], inplace=True)\n",
    "reduced_lib_both._precursor_df = reduced_lib_both._precursor_df.merge(small_lib_df[['mod_seq_charge_hash', 'mobility','rt_norm', 'frag_start_idx', 'frag_stop_idx']], on='mod_seq_charge_hash', suffixes=('',''))\n",
    "\n",
    "reduced_lib_both.remove_unused_fragments()\n",
    "reduced_lib_both.save_hdf(name)"
   ]
  },
  {
   "cell_type": "code",
   "execution_count": 80,
   "metadata": {},
   "outputs": [],
   "source": [
    "fragment_number(reduced_lib_both.precursor_df, reduced_lib_both.fragment_intensity_df)\n",
    "fragment_number(reduced_lib_fragments.precursor_df, reduced_lib_fragments.fragment_intensity_df)"
   ]
  },
  {
   "cell_type": "code",
   "execution_count": 101,
   "metadata": {},
   "outputs": [
    {
     "name": "stdout",
     "output_type": "stream",
     "text": [
      "2023-03-03 22:23:19> Using multiprocessing with 8 processes ...\n",
      "2023-03-03 22:23:19> Predicting ms2 ...\n"
     ]
    },
    {
     "name": "stderr",
     "output_type": "stream",
     "text": [
      "100%|██████████| 46/46 [01:40<00:00,  2.18s/it]\n"
     ]
    }
   ],
   "source": [
    "name = '/Users/georgwallmann/Documents/data/alphadia_benchmarking/libraries/patricia_hela/library_48_fractions_predicted.hdf'\n",
    "\n",
    "from peptdeep.pretrained_models import ModelManager\n",
    "from alphabase.peptide.fragment import get_charged_frag_types\n",
    "\n",
    "frag_types = get_charged_frag_types(\n",
    "    ['b','y'], \n",
    "    2\n",
    ")\n",
    "\n",
    "model_mgr = ModelManager()\n",
    "\n",
    "model_mgr.nce = 30\n",
    "model_mgr.instrument = 'timsTOF'\n",
    "\n",
    "reduced_lib_predicted = SpecLibBase()\n",
    "reduced_lib_predicted._precursor_df = large_lib_df\n",
    "\n",
    "res = model_mgr.predict_all(\n",
    "    reduced_lib_predicted.precursor_df,\n",
    "    predict_items=['ms2'],\n",
    "    frag_types = frag_types,\n",
    ")\n",
    "\n",
    "reduced_lib_predicted._precursor_df = res['precursor_df']\n",
    "reduced_lib_predicted._fragment_mz_df = res['fragment_mz_df']\n",
    "reduced_lib_predicted._fragment_intensity_df = res['fragment_intensity_df']\n",
    "\n",
    "reduced_lib_predicted.save_hdf(name)"
   ]
  },
  {
   "cell_type": "code",
   "execution_count": 103,
   "metadata": {},
   "outputs": [
    {
     "name": "stdout",
     "output_type": "stream",
     "text": [
      "2023-03-03 22:27:11> Using multiprocessing with 8 processes ...\n",
      "2023-03-03 22:27:11> Predicting ms2 ...\n"
     ]
    },
    {
     "name": "stderr",
     "output_type": "stream",
     "text": [
      "100%|██████████| 42/42 [00:24<00:00,  1.70it/s]\n"
     ]
    }
   ],
   "source": [
    "name = '/Users/georgwallmann/Documents/data/alphadia_benchmarking/libraries/patricia_hela/library_MSFragger_predicted.hdf'\n",
    "\n",
    "from peptdeep.pretrained_models import ModelManager\n",
    "from alphabase.peptide.fragment import get_charged_frag_types\n",
    "\n",
    "frag_types = get_charged_frag_types(\n",
    "    ['b','y'], \n",
    "    2\n",
    ")\n",
    "\n",
    "model_mgr = ModelManager()\n",
    "\n",
    "model_mgr.nce = 30\n",
    "model_mgr.instrument = 'timsTOF'\n",
    "\n",
    "reduced_lib_predicted = SpecLibBase()\n",
    "reduced_lib_predicted._precursor_df = small_lib_df\n",
    "\n",
    "res = model_mgr.predict_all(\n",
    "    reduced_lib_predicted.precursor_df,\n",
    "    predict_items=['ms2'],\n",
    "    frag_types = frag_types,\n",
    ")\n",
    "\n",
    "reduced_lib_predicted._precursor_df = res['precursor_df']\n",
    "reduced_lib_predicted._fragment_mz_df = res['fragment_mz_df']\n",
    "reduced_lib_predicted._fragment_intensity_df = res['fragment_intensity_df']\n",
    "\n",
    "reduced_lib_predicted.save_hdf(name)"
   ]
  },
  {
   "cell_type": "code",
   "execution_count": 106,
   "metadata": {},
   "outputs": [],
   "source": [
    "reduced_lib_predicted._precursor_df['elution_group_idx'] = np.arange(len(reduced_lib_predicted._precursor_df))"
   ]
  },
  {
   "cell_type": "code",
   "execution_count": 107,
   "metadata": {},
   "outputs": [],
   "source": [
    "reduced_lib_predicted.save_hdf(name)"
   ]
  }
 ],
 "metadata": {
  "kernelspec": {
   "display_name": "alpha",
   "language": "python",
   "name": "python3"
  },
  "language_info": {
   "codemirror_mode": {
    "name": "ipython",
    "version": 3
   },
   "file_extension": ".py",
   "mimetype": "text/x-python",
   "name": "python",
   "nbconvert_exporter": "python",
   "pygments_lexer": "ipython3",
   "version": "3.9.13"
  },
  "orig_nbformat": 4,
  "vscode": {
   "interpreter": {
    "hash": "bfa83213b3107409f6f749b3f3e6e3a0c51921f6998a582a53d8fef6c3fba7c5"
   }
  }
 },
 "nbformat": 4,
 "nbformat_minor": 2
}
