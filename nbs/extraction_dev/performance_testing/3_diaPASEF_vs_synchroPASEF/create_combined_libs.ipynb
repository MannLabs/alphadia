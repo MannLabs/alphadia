{
 "cells": [
  {
   "cell_type": "code",
   "execution_count": null,
   "metadata": {},
   "outputs": [],
   "source": [
    "import pandas as pd\n",
    "import numpy as np\n",
    "import os\n",
    "import matplotlib.pyplot as plt\n",
    "\n",
    "import logging\n",
    "logging.getLogger().setLevel(logging.INFO)\n",
    "\n",
    "from alphabase.spectral_library.flat import SpecLibFlat\n",
    "from alphabase.spectral_library.base import SpecLibBase\n",
    "from alphabase.spectral_library.reader import LibraryReaderBase\n",
    "from alphadia.extraction.utils import reannotate_fragments\n",
    "from alphabase.psm_reader import psm_reader_provider"
   ]
  },
  {
   "cell_type": "code",
   "execution_count": null,
   "metadata": {},
   "outputs": [],
   "source": [
    "def fragment_number(precursor_df, fragment_intensity_df) :\n",
    "    if not set(['frag_start_idx', 'frag_stop_idx']).issubset(precursor_df.columns):\n",
    "        warnings.warn('frag_start_idx and frag_stop_idx not in dataframe')\n",
    "        return\n",
    "    \n",
    "    n_fragments = []\n",
    "    \n",
    "    for start, stop in zip(precursor_df['frag_start_idx'].values, precursor_df['frag_stop_idx'].values):\n",
    "        n_fragments += [np.sum(fragment_intensity_df.iloc[start:stop].values > 0)]\n",
    "\n",
    "    precursor_df['n_fragments'] = n_fragments"
   ]
  },
  {
   "cell_type": "code",
   "execution_count": null,
   "metadata": {},
   "outputs": [],
   "source": [
    "large_lib = SpecLibBase()\n",
    "large_lib_location = '/Users/georgwallmann/Documents/data/alphadia_benchmarking/libraries/patricia_hela/21min_Evosep_HeLa_BR14_48fractions_diaPASEF_py_diAID_2.hdf'\n",
    "large_lib.load_hdf(large_lib_location, load_mod_seq=True, )\n",
    "\n",
    "large_lib.precursor_df = large_lib.precursor_df[large_lib.precursor_df['rt_norm'] > -0.5]\n",
    "\n",
    "# scale rt_norm to from min max to 0-1\n",
    "large_lib.precursor_df['rt_norm'] = (large_lib.precursor_df['rt_norm'] - large_lib.precursor_df['rt_norm'].min())/(large_lib.precursor_df['rt_norm'].max() - large_lib.precursor_df['rt_norm'].min())"
   ]
  },
  {
   "cell_type": "code",
   "execution_count": null,
   "metadata": {},
   "outputs": [],
   "source": [
    "small_lib = SpecLibBase()\n",
    "small_lib_location = '/Users/georgwallmann/Documents/data/alphadia_benchmarking/libraries/patricia_hela/library_MSFragger.hdf'\n",
    "small_lib.load_hdf(small_lib_location, load_mod_seq=True)\n",
    "\n",
    "small_lib.precursor_df = small_lib.precursor_df[small_lib.precursor_df['rt_norm'] > -0.5]\n",
    "\n",
    "small_lib.precursor_df['rt_norm'] = (small_lib.precursor_df['rt_norm'] - small_lib.precursor_df['rt_norm'].min())/(small_lib.precursor_df['rt_norm'].max() - small_lib.precursor_df['rt_norm'].min())"
   ]
  },
  {
   "cell_type": "code",
   "execution_count": null,
   "metadata": {},
   "outputs": [],
   "source": [
    "small_lib.hash_precursor_df()\n",
    "small_lib_df = small_lib._precursor_df"
   ]
  },
  {
   "cell_type": "code",
   "execution_count": null,
   "metadata": {},
   "outputs": [],
   "source": [
    "large_lib.hash_precursor_df()\n",
    "large_lib_df = large_lib._precursor_df"
   ]
  },
  {
   "cell_type": "code",
   "execution_count": null,
   "metadata": {},
   "outputs": [],
   "source": [
    "shared_precursors_hashes = set(small_lib_df.mod_seq_charge_hash).intersection(set(large_lib_df.mod_seq_charge_hash))"
   ]
  },
  {
   "cell_type": "code",
   "execution_count": null,
   "metadata": {},
   "outputs": [],
   "source": [
    "len(shared_precursors_hashes)"
   ]
  },
  {
   "cell_type": "code",
   "execution_count": null,
   "metadata": {},
   "outputs": [],
   "source": [
    "name = '/Users/georgwallmann/Documents/data/alphadia_benchmarking/libraries/patricia_hela/library_48_fractions_reduced.hdf'\n",
    "reduced_lib = SpecLibBase()\n",
    "reduced_lib._precursor_df = large_lib_df[large_lib_df.mod_seq_charge_hash.isin(shared_precursors_hashes)].copy()\n",
    "reduced_lib._fragment_mz_df = large_lib._fragment_mz_df\n",
    "reduced_lib._fragment_intensity_df = large_lib.fragment_intensity_df\n",
    "\n",
    "reduced_lib.remove_unused_fragments()\n",
    "reduced_lib.save_hdf(name)"
   ]
  },
  {
   "cell_type": "code",
   "execution_count": null,
   "metadata": {},
   "outputs": [],
   "source": [
    "name = '/Users/georgwallmann/Documents/data/alphadia_benchmarking/libraries/patricia_hela/library_48_fractions_reduced_rt.hdf'\n",
    "reduced_lib_rt = SpecLibBase()\n",
    "reduced_lib_rt._precursor_df = large_lib_df[large_lib_df.mod_seq_charge_hash.isin(shared_precursors_hashes)].copy()\n",
    "reduced_lib_rt._fragment_mz_df = large_lib._fragment_mz_df\n",
    "reduced_lib_rt._fragment_intensity_df = large_lib.fragment_intensity_df\n",
    "\n",
    "reduced_lib_rt._precursor_df.drop(columns=['rt_norm'], inplace=True)\n",
    "reduced_lib_rt._precursor_df = reduced_lib_rt._precursor_df.merge(small_lib_df[['mod_seq_charge_hash', 'rt_norm']], on='mod_seq_charge_hash', suffixes=('', ''))\n",
    "\n",
    "reduced_lib_rt.remove_unused_fragments()\n",
    "reduced_lib_rt.save_hdf(name)"
   ]
  },
  {
   "cell_type": "code",
   "execution_count": null,
   "metadata": {},
   "outputs": [],
   "source": [
    "name = '/Users/georgwallmann/Documents/data/alphadia_benchmarking/libraries/patricia_hela/library_48_fractions_reduced_mobility.hdf'\n",
    "reduced_lib_mobility = SpecLibBase()\n",
    "reduced_lib_mobility._precursor_df = large_lib_df[large_lib_df.mod_seq_charge_hash.isin(shared_precursors_hashes)].copy()\n",
    "reduced_lib_mobility._fragment_mz_df = large_lib._fragment_mz_df\n",
    "reduced_lib_mobility._fragment_intensity_df = large_lib.fragment_intensity_df\n",
    "\n",
    "reduced_lib_mobility._precursor_df.drop(columns=['mobility'], inplace=True)\n",
    "reduced_lib_mobility._precursor_df = reduced_lib_mobility._precursor_df.merge(small_lib_df[['mod_seq_charge_hash', 'mobility']], on='mod_seq_charge_hash', suffixes=('',''))\n",
    "\n",
    "reduced_lib_mobility.remove_unused_fragments()\n",
    "reduced_lib_mobility.save_hdf(name)"
   ]
  },
  {
   "cell_type": "code",
   "execution_count": null,
   "metadata": {},
   "outputs": [],
   "source": [
    "name = '/Users/georgwallmann/Documents/data/alphadia_benchmarking/libraries/patricia_hela/library_48_fractions_reduced_rt_mobility.hdf'\n",
    "reduced_lib_both = SpecLibBase()\n",
    "reduced_lib_both._precursor_df = large_lib_df[large_lib_df.mod_seq_charge_hash.isin(shared_precursors_hashes)].copy()\n",
    "reduced_lib_both._fragment_mz_df = large_lib._fragment_mz_df\n",
    "reduced_lib_both._fragment_intensity_df = large_lib.fragment_intensity_df\n",
    "\n",
    "reduced_lib_both._precursor_df.drop(columns=['mobility','rt_norm'], inplace=True)\n",
    "reduced_lib_both._precursor_df = reduced_lib_both._precursor_df.merge(small_lib_df[['mod_seq_charge_hash', 'mobility','rt_norm']], on='mod_seq_charge_hash', suffixes=('',''))\n",
    "\n",
    "reduced_lib_both.remove_unused_fragments()\n",
    "reduced_lib_both.save_hdf(name)\n",
    "\n"
   ]
  },
  {
   "cell_type": "code",
   "execution_count": null,
   "metadata": {},
   "outputs": [],
   "source": [
    "name = '/Users/georgwallmann/Documents/data/alphadia_benchmarking/libraries/patricia_hela/library_48_fractions_reduced_fragments.hdf'\n",
    "\n",
    "reduced_lib_fragments = SpecLibBase()\n",
    "reduced_lib_fragments._precursor_df = large_lib_df[large_lib_df.mod_seq_charge_hash.isin(shared_precursors_hashes)].copy()\n",
    "reduced_lib_fragments._fragment_mz_df = small_lib._fragment_mz_df\n",
    "reduced_lib_fragments._fragment_intensity_df = small_lib.fragment_intensity_df\n",
    "\n",
    "reduced_lib_fragments._precursor_df.drop(columns=['frag_start_idx','frag_stop_idx'], inplace=True)\n",
    "reduced_lib_fragments._precursor_df = reduced_lib_fragments._precursor_df.merge(small_lib_df[['mod_seq_charge_hash', 'frag_start_idx','frag_stop_idx']], on='mod_seq_charge_hash', suffixes=('',''))\n",
    "\n",
    "reduced_lib_fragments.remove_unused_fragments()\n",
    "reduced_lib_fragments.save_hdf(name)"
   ]
  },
  {
   "cell_type": "code",
   "execution_count": null,
   "metadata": {},
   "outputs": [],
   "source": [
    "name = '/Users/georgwallmann/Documents/data/alphadia_benchmarking/libraries/patricia_hela/library_48_fractions_reduced_rt_mobility_fragments.hdf'\n",
    "reduced_lib_both = SpecLibBase()\n",
    "reduced_lib_both._precursor_df = large_lib_df[large_lib_df.mod_seq_charge_hash.isin(shared_precursors_hashes)].copy()\n",
    "reduced_lib_both._fragment_mz_df = small_lib._fragment_mz_df\n",
    "reduced_lib_both._fragment_intensity_df = small_lib.fragment_intensity_df\n",
    "\n",
    "reduced_lib_both._precursor_df.drop(columns=['mobility','rt_norm', 'frag_start_idx', 'frag_stop_idx'], inplace=True)\n",
    "reduced_lib_both._precursor_df = reduced_lib_both._precursor_df.merge(small_lib_df[['mod_seq_charge_hash', 'mobility','rt_norm', 'frag_start_idx', 'frag_stop_idx']], on='mod_seq_charge_hash', suffixes=('',''))\n",
    "\n",
    "reduced_lib_both.remove_unused_fragments()\n",
    "reduced_lib_both.save_hdf(name)"
   ]
  },
  {
   "cell_type": "code",
   "execution_count": null,
   "metadata": {},
   "outputs": [],
   "source": [
    "fragment_number(reduced_lib_both.precursor_df, reduced_lib_both.fragment_intensity_df)\n",
    "fragment_number(reduced_lib_fragments.precursor_df, reduced_lib_fragments.fragment_intensity_df)"
   ]
  },
  {
   "cell_type": "code",
   "execution_count": null,
   "metadata": {},
   "outputs": [],
   "source": [
    "name = '/Users/georgwallmann/Documents/data/alphadia_benchmarking/libraries/patricia_hela/library_48_fractions_predicted.hdf'\n",
    "\n",
    "from peptdeep.pretrained_models import ModelManager\n",
    "from alphabase.peptide.fragment import get_charged_frag_types\n",
    "\n",
    "frag_types = get_charged_frag_types(\n",
    "    ['b','y'], \n",
    "    2\n",
    ")\n",
    "\n",
    "model_mgr = ModelManager()\n",
    "\n",
    "model_mgr.nce = 30\n",
    "model_mgr.instrument = 'timsTOF'\n",
    "\n",
    "reduced_lib_predicted = SpecLibBase()\n",
    "reduced_lib_predicted._precursor_df = large_lib_df\n",
    "\n",
    "res = model_mgr.predict_all(\n",
    "    reduced_lib_predicted.precursor_df,\n",
    "    predict_items=['ms2'],\n",
    "    frag_types = frag_types,\n",
    ")\n",
    "\n",
    "reduced_lib_predicted._precursor_df = res['precursor_df']\n",
    "reduced_lib_predicted._fragment_mz_df = res['fragment_mz_df']\n",
    "reduced_lib_predicted._fragment_intensity_df = res['fragment_intensity_df']\n",
    "\n",
    "reduced_lib_predicted.save_hdf(name)"
   ]
  },
  {
   "cell_type": "code",
   "execution_count": null,
   "metadata": {},
   "outputs": [],
   "source": [
    "large_lib_df.columns"
   ]
  },
  {
   "cell_type": "code",
   "execution_count": null,
   "metadata": {},
   "outputs": [],
   "source": [
    "name = '/Users/georgwallmann/Documents/data/alphadia_benchmarking/libraries/patricia_hela/library_MSFragger_predicted.hdf'\n",
    "\n",
    "from peptdeep.pretrained_models import ModelManager\n",
    "from alphabase.peptide.fragment import get_charged_frag_types\n",
    "\n",
    "frag_types = get_charged_frag_types(\n",
    "    ['b','y'], \n",
    "    2\n",
    ")\n",
    "\n",
    "model_mgr = ModelManager()\n",
    "\n",
    "model_mgr.nce = 30\n",
    "model_mgr.instrument = 'timsTOF'\n",
    "\n",
    "reduced_lib_predicted = SpecLibBase()\n",
    "reduced_lib_predicted._precursor_df = small_lib_df\n",
    "\n",
    "res = model_mgr.predict_all(\n",
    "    reduced_lib_predicted.precursor_df,\n",
    "    predict_items=['ms2'],\n",
    "    frag_types = frag_types,\n",
    ")\n",
    "\n",
    "reduced_lib_predicted._precursor_df = res['precursor_df']\n",
    "reduced_lib_predicted._fragment_mz_df = res['fragment_mz_df']\n",
    "reduced_lib_predicted._fragment_intensity_df = res['fragment_intensity_df']\n",
    "\n",
    "reduced_lib_predicted.save_hdf(name)"
   ]
  },
  {
   "cell_type": "code",
   "execution_count": null,
   "metadata": {},
   "outputs": [],
   "source": [
    "reduced_lib_predicted._precursor_df['elution_group_idx'] = np.arange(len(reduced_lib_predicted._precursor_df))"
   ]
  },
  {
   "cell_type": "code",
   "execution_count": null,
   "metadata": {},
   "outputs": [],
   "source": [
    "reduced_lib_predicted.save_hdf(name)"
   ]
  }
 ],
 "metadata": {
  "kernelspec": {
   "display_name": "Python 3 (ipykernel)",
   "language": "python",
   "name": "pythonjvsc74a57bd0bfa83213b3107409f6f749b3f3e6e3a0c51921f6998a582a53d8fef6c3fba7c5"
  },
  "language_info": {
   "codemirror_mode": {
    "name": "ipython",
    "version": 3
   },
   "file_extension": ".py",
   "mimetype": "text/x-python",
   "name": "python",
   "nbconvert_exporter": "python",
   "pygments_lexer": "ipython3",
   "version": "3.9.13"
  },
  "orig_nbformat": 4,
  "vscode": {
   "interpreter": {
    "hash": "bfa83213b3107409f6f749b3f3e6e3a0c51921f6998a582a53d8fef6c3fba7c5"
   }
  }
 },
 "nbformat": 4,
 "nbformat_minor": 2
}
