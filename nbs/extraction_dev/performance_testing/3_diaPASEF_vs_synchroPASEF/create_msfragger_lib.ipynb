{
 "cells": [
  {
   "cell_type": "code",
   "execution_count": 1,
   "metadata": {},
   "outputs": [
    {
     "name": "stderr",
     "output_type": "stream",
     "text": [
      "WARNING:root:WARNING: Temp mmap arrays are written to /var/folders/lc/9594t94d5b5_gn0y04w1jh980000gn/T/temp_mmap_peise6x8. Cleanup of this folder is OS dependant, and might need to be triggered manually! Current space: 1,170,237,513,728\n",
      "WARNING:root:WARNING: No Bruker libraries are available for this operating system. Mobility and m/z values need to be estimated. While this estimation often returns acceptable results with errors < 0.02 Th, huge errors (e.g. offsets of 6 Th) have already been observed for some samples!\n",
      "INFO:root:\n"
     ]
    }
   ],
   "source": [
    "import pandas as pd\n",
    "import numpy as np\n",
    "import os\n",
    "\n",
    "import logging\n",
    "logging.getLogger().setLevel(logging.INFO)\n",
    "\n",
    "from alphabase.spectral_library.flat import SpecLibFlat\n",
    "from alphabase.spectral_library.base import SpecLibBase\n",
    "from alphabase.spectral_library.reader import LibraryReaderBase\n",
    "from alphadia.extraction.utils import reannotate_fragments\n",
    "from alphabase.psm_reader import psm_reader_provider"
   ]
  },
  {
   "cell_type": "code",
   "execution_count": 5,
   "metadata": {},
   "outputs": [],
   "source": [
    "import warnings \n",
    "\n",
    "def fragment_number(precursor_df, fragment_intensity_df) :\n",
    "    if not set(['frag_start_idx', 'frag_stop_idx']).issubset(precursor_df.columns):\n",
    "        warnings.warn('frag_start_idx and frag_stop_idx not in dataframe')\n",
    "        return\n",
    "    \n",
    "    n_fragments = []\n",
    "    \n",
    "    for start, stop in zip(precursor_df['frag_start_idx'].values, precursor_df['frag_stop_idx'].values):\n",
    "        n_fragments += [np.sum(fragment_intensity_df.iloc[start:stop].values > 0)]\n",
    "\n",
    "    precursor_df['n_fragments'] = n_fragments"
   ]
  },
  {
   "cell_type": "code",
   "execution_count": 6,
   "metadata": {},
   "outputs": [],
   "source": [
    "lib_location = '/Users/georgwallmann/Documents/data/alphadia_benchmarking/libraries/patricia_hela/21min_Evosep_HeLa_BR14_48fractions_diaPASEF_py_diAID_2.tsv'\n",
    "#insilico_lib_location = '/Users/georgwallmann/Documents/data/libraries/2022_111_brunner_2022_1ng_all_29_human_trypsin_diann_decoy.hdf'\n"
   ]
  },
  {
   "cell_type": "code",
   "execution_count": 7,
   "metadata": {},
   "outputs": [
    {
     "name": "stderr",
     "output_type": "stream",
     "text": [
      "/Users/georgwallmann/Documents/git/alphabase/alphabase/spectral_library/reader.py:250: DtypeWarning: Columns (33,34) have mixed types. Specify dtype option on import or set low_memory=False.\n",
      "  df = pd.read_csv(filename, sep=self.csv_sep)\n"
     ]
    },
    {
     "data": {
      "text/html": [
       "<div>\n",
       "<style scoped>\n",
       "    .dataframe tbody tr th:only-of-type {\n",
       "        vertical-align: middle;\n",
       "    }\n",
       "\n",
       "    .dataframe tbody tr th {\n",
       "        vertical-align: top;\n",
       "    }\n",
       "\n",
       "    .dataframe thead th {\n",
       "        text-align: right;\n",
       "    }\n",
       "</style>\n",
       "<table border=\"1\" class=\"dataframe\">\n",
       "  <thead>\n",
       "    <tr style=\"text-align: right;\">\n",
       "      <th></th>\n",
       "      <th>uniprot_ids</th>\n",
       "      <th>mods</th>\n",
       "      <th>precursor_mz</th>\n",
       "      <th>proteins</th>\n",
       "      <th>charge</th>\n",
       "      <th>mod_sites</th>\n",
       "      <th>raw_name</th>\n",
       "      <th>nAA</th>\n",
       "      <th>genes</th>\n",
       "      <th>mobility</th>\n",
       "      <th>rt</th>\n",
       "      <th>sequence</th>\n",
       "      <th>frag_start_idx</th>\n",
       "      <th>frag_stop_idx</th>\n",
       "      <th>rt_norm</th>\n",
       "      <th>ccs</th>\n",
       "    </tr>\n",
       "  </thead>\n",
       "  <tbody>\n",
       "    <tr>\n",
       "      <th>0</th>\n",
       "      <td>A0A024RBG1</td>\n",
       "      <td></td>\n",
       "      <td>487.600052</td>\n",
       "      <td>NUD4B_HUMAN</td>\n",
       "      <td>3</td>\n",
       "      <td></td>\n",
       "      <td>20220715_TIMS03_PaSk_SA_HeLa_Evo05_21min_IM07-...</td>\n",
       "      <td>12</td>\n",
       "      <td>NUDT4B</td>\n",
       "      <td>0.777</td>\n",
       "      <td>37.883335</td>\n",
       "      <td>LLGIFEQNQDRK</td>\n",
       "      <td>0</td>\n",
       "      <td>11</td>\n",
       "      <td>0.255296</td>\n",
       "      <td>471.228582</td>\n",
       "    </tr>\n",
       "    <tr>\n",
       "      <th>1</th>\n",
       "      <td>A0A024RBG1</td>\n",
       "      <td></td>\n",
       "      <td>666.848958</td>\n",
       "      <td>NUD4B_HUMAN</td>\n",
       "      <td>2</td>\n",
       "      <td></td>\n",
       "      <td>20220715_TIMS03_PaSk_SA_HeLa_Evo05_21min_IM07-...</td>\n",
       "      <td>11</td>\n",
       "      <td>NUDT4B</td>\n",
       "      <td>0.969</td>\n",
       "      <td>55.980396</td>\n",
       "      <td>LLGIFEQNQDR</td>\n",
       "      <td>11</td>\n",
       "      <td>21</td>\n",
       "      <td>0.371505</td>\n",
       "      <td>392.136762</td>\n",
       "    </tr>\n",
       "    <tr>\n",
       "      <th>2</th>\n",
       "      <td>A0A024RBG1</td>\n",
       "      <td></td>\n",
       "      <td>730.896440</td>\n",
       "      <td>NUD4B_HUMAN</td>\n",
       "      <td>2</td>\n",
       "      <td></td>\n",
       "      <td>20220715_TIMS03_PaSk_SA_HeLa_Evo05_21min_IM07-...</td>\n",
       "      <td>12</td>\n",
       "      <td>NUDT4B</td>\n",
       "      <td>1.041</td>\n",
       "      <td>37.883335</td>\n",
       "      <td>LLGIFEQNQDRK</td>\n",
       "      <td>21</td>\n",
       "      <td>32</td>\n",
       "      <td>0.251158</td>\n",
       "      <td>420.894147</td>\n",
       "    </tr>\n",
       "    <tr>\n",
       "      <th>3</th>\n",
       "      <td>A0A087WSZ0</td>\n",
       "      <td></td>\n",
       "      <td>691.347175</td>\n",
       "      <td>KVD08_HUMAN</td>\n",
       "      <td>3</td>\n",
       "      <td></td>\n",
       "      <td>20220715_TIMS03_PaSk_SA_HeLa_Evo05_21min_IM07-...</td>\n",
       "      <td>18</td>\n",
       "      <td>IGKV1D-8</td>\n",
       "      <td>0.921</td>\n",
       "      <td>49.475310</td>\n",
       "      <td>MSQGISSYLAWYQQKPGK</td>\n",
       "      <td>32</td>\n",
       "      <td>49</td>\n",
       "      <td>0.328335</td>\n",
       "      <td>557.012501</td>\n",
       "    </tr>\n",
       "    <tr>\n",
       "      <th>4</th>\n",
       "      <td>A0A096LP01</td>\n",
       "      <td></td>\n",
       "      <td>539.756204</td>\n",
       "      <td>SIM26_HUMAN</td>\n",
       "      <td>2</td>\n",
       "      <td></td>\n",
       "      <td>20220715_TIMS03_PaSk_SA_HeLa_Evo05_21min_IM07-...</td>\n",
       "      <td>9</td>\n",
       "      <td>SMIM26</td>\n",
       "      <td>0.864</td>\n",
       "      <td>1.100495</td>\n",
       "      <td>EDFVPNTEK</td>\n",
       "      <td>49</td>\n",
       "      <td>57</td>\n",
       "      <td>0.007416</td>\n",
       "      <td>350.490584</td>\n",
       "    </tr>\n",
       "    <tr>\n",
       "      <th>...</th>\n",
       "      <td>...</td>\n",
       "      <td>...</td>\n",
       "      <td>...</td>\n",
       "      <td>...</td>\n",
       "      <td>...</td>\n",
       "      <td>...</td>\n",
       "      <td>...</td>\n",
       "      <td>...</td>\n",
       "      <td>...</td>\n",
       "      <td>...</td>\n",
       "      <td>...</td>\n",
       "      <td>...</td>\n",
       "      <td>...</td>\n",
       "      <td>...</td>\n",
       "      <td>...</td>\n",
       "      <td>...</td>\n",
       "    </tr>\n",
       "    <tr>\n",
       "      <th>235305</th>\n",
       "      <td>Q9Y6Y8</td>\n",
       "      <td>Oxidation@M;Carbamidomethyl@C</td>\n",
       "      <td>899.917206</td>\n",
       "      <td>S23IP_HUMAN</td>\n",
       "      <td>2</td>\n",
       "      <td>8;9</td>\n",
       "      <td>20220715_TIMS03_PaSk_SA_HeLa_Evo05_21min_IM07-...</td>\n",
       "      <td>15</td>\n",
       "      <td>SEC23IP</td>\n",
       "      <td>1.131</td>\n",
       "      <td>133.626900</td>\n",
       "      <td>IDMESLLMCTVDDLK</td>\n",
       "      <td>3084898</td>\n",
       "      <td>3084912</td>\n",
       "      <td>0.885915</td>\n",
       "      <td>456.474882</td>\n",
       "    </tr>\n",
       "    <tr>\n",
       "      <th>235306</th>\n",
       "      <td>Q9Y6Y8</td>\n",
       "      <td>Oxidation@M;Carbamidomethyl@C</td>\n",
       "      <td>899.917206</td>\n",
       "      <td>S23IP_HUMAN</td>\n",
       "      <td>2</td>\n",
       "      <td>3;9</td>\n",
       "      <td>20220715_TIMS03_PaSk_SA_HeLa_Evo05_21min_IM07-...</td>\n",
       "      <td>15</td>\n",
       "      <td>SEC23IP</td>\n",
       "      <td>1.144</td>\n",
       "      <td>94.400870</td>\n",
       "      <td>IDMESLLMCTVDDLK</td>\n",
       "      <td>3084912</td>\n",
       "      <td>3084926</td>\n",
       "      <td>0.625856</td>\n",
       "      <td>461.721720</td>\n",
       "    </tr>\n",
       "    <tr>\n",
       "      <th>235307</th>\n",
       "      <td>Q9Y6Y8</td>\n",
       "      <td>Oxidation@M;Oxidation@M</td>\n",
       "      <td>447.473638</td>\n",
       "      <td>S23IP_HUMAN</td>\n",
       "      <td>4</td>\n",
       "      <td>3;13</td>\n",
       "      <td>20220715_TIMS03_PaSk_SA_HeLa_Evo05_21min_IM07-...</td>\n",
       "      <td>15</td>\n",
       "      <td>SEC23IP</td>\n",
       "      <td>0.821</td>\n",
       "      <td>34.524582</td>\n",
       "      <td>VGMEINHLHALFMSR</td>\n",
       "      <td>3084926</td>\n",
       "      <td>3084940</td>\n",
       "      <td>0.232662</td>\n",
       "      <td>662.744153</td>\n",
       "    </tr>\n",
       "    <tr>\n",
       "      <th>235308</th>\n",
       "      <td>Q9Y6Y8</td>\n",
       "      <td>Oxidation@M;Oxidation@M</td>\n",
       "      <td>596.295758</td>\n",
       "      <td>S23IP_HUMAN</td>\n",
       "      <td>3</td>\n",
       "      <td>3;13</td>\n",
       "      <td>20220715_TIMS03_PaSk_SA_HeLa_Evo05_21min_IM07-...</td>\n",
       "      <td>15</td>\n",
       "      <td>SEC23IP</td>\n",
       "      <td>0.884</td>\n",
       "      <td>34.524582</td>\n",
       "      <td>VGMEINHLHALFMSR</td>\n",
       "      <td>3084940</td>\n",
       "      <td>3084954</td>\n",
       "      <td>0.228079</td>\n",
       "      <td>535.202532</td>\n",
       "    </tr>\n",
       "    <tr>\n",
       "      <th>235309</th>\n",
       "      <td>Q9Y6Y8</td>\n",
       "      <td>Oxidation@M;Oxidation@M;Carbamidomethyl@C</td>\n",
       "      <td>907.914664</td>\n",
       "      <td>S23IP_HUMAN</td>\n",
       "      <td>2</td>\n",
       "      <td>3;8;9</td>\n",
       "      <td>20220715_TIMS03_PaSk_SA_HeLa_Evo05_21min_IM07-...</td>\n",
       "      <td>15</td>\n",
       "      <td>SEC23IP</td>\n",
       "      <td>1.141</td>\n",
       "      <td>83.497314</td>\n",
       "      <td>IDMESLLMCTVDDLK</td>\n",
       "      <td>3084954</td>\n",
       "      <td>3084968</td>\n",
       "      <td>0.553568</td>\n",
       "      <td>460.479840</td>\n",
       "    </tr>\n",
       "  </tbody>\n",
       "</table>\n",
       "<p>235310 rows × 16 columns</p>\n",
       "</div>"
      ],
      "text/plain": [
       "       uniprot_ids                                       mods  precursor_mz  \\\n",
       "0       A0A024RBG1                                               487.600052   \n",
       "1       A0A024RBG1                                               666.848958   \n",
       "2       A0A024RBG1                                               730.896440   \n",
       "3       A0A087WSZ0                                               691.347175   \n",
       "4       A0A096LP01                                               539.756204   \n",
       "...            ...                                        ...           ...   \n",
       "235305      Q9Y6Y8              Oxidation@M;Carbamidomethyl@C    899.917206   \n",
       "235306      Q9Y6Y8              Oxidation@M;Carbamidomethyl@C    899.917206   \n",
       "235307      Q9Y6Y8                    Oxidation@M;Oxidation@M    447.473638   \n",
       "235308      Q9Y6Y8                    Oxidation@M;Oxidation@M    596.295758   \n",
       "235309      Q9Y6Y8  Oxidation@M;Oxidation@M;Carbamidomethyl@C    907.914664   \n",
       "\n",
       "           proteins  charge mod_sites  \\\n",
       "0       NUD4B_HUMAN       3             \n",
       "1       NUD4B_HUMAN       2             \n",
       "2       NUD4B_HUMAN       2             \n",
       "3       KVD08_HUMAN       3             \n",
       "4       SIM26_HUMAN       2             \n",
       "...             ...     ...       ...   \n",
       "235305  S23IP_HUMAN       2       8;9   \n",
       "235306  S23IP_HUMAN       2       3;9   \n",
       "235307  S23IP_HUMAN       4      3;13   \n",
       "235308  S23IP_HUMAN       3      3;13   \n",
       "235309  S23IP_HUMAN       2     3;8;9   \n",
       "\n",
       "                                                 raw_name  nAA     genes  \\\n",
       "0       20220715_TIMS03_PaSk_SA_HeLa_Evo05_21min_IM07-...   12    NUDT4B   \n",
       "1       20220715_TIMS03_PaSk_SA_HeLa_Evo05_21min_IM07-...   11    NUDT4B   \n",
       "2       20220715_TIMS03_PaSk_SA_HeLa_Evo05_21min_IM07-...   12    NUDT4B   \n",
       "3       20220715_TIMS03_PaSk_SA_HeLa_Evo05_21min_IM07-...   18  IGKV1D-8   \n",
       "4       20220715_TIMS03_PaSk_SA_HeLa_Evo05_21min_IM07-...    9    SMIM26   \n",
       "...                                                   ...  ...       ...   \n",
       "235305  20220715_TIMS03_PaSk_SA_HeLa_Evo05_21min_IM07-...   15   SEC23IP   \n",
       "235306  20220715_TIMS03_PaSk_SA_HeLa_Evo05_21min_IM07-...   15   SEC23IP   \n",
       "235307  20220715_TIMS03_PaSk_SA_HeLa_Evo05_21min_IM07-...   15   SEC23IP   \n",
       "235308  20220715_TIMS03_PaSk_SA_HeLa_Evo05_21min_IM07-...   15   SEC23IP   \n",
       "235309  20220715_TIMS03_PaSk_SA_HeLa_Evo05_21min_IM07-...   15   SEC23IP   \n",
       "\n",
       "        mobility          rt            sequence  frag_start_idx  \\\n",
       "0          0.777   37.883335        LLGIFEQNQDRK               0   \n",
       "1          0.969   55.980396         LLGIFEQNQDR              11   \n",
       "2          1.041   37.883335        LLGIFEQNQDRK              21   \n",
       "3          0.921   49.475310  MSQGISSYLAWYQQKPGK              32   \n",
       "4          0.864    1.100495           EDFVPNTEK              49   \n",
       "...          ...         ...                 ...             ...   \n",
       "235305     1.131  133.626900     IDMESLLMCTVDDLK         3084898   \n",
       "235306     1.144   94.400870     IDMESLLMCTVDDLK         3084912   \n",
       "235307     0.821   34.524582     VGMEINHLHALFMSR         3084926   \n",
       "235308     0.884   34.524582     VGMEINHLHALFMSR         3084940   \n",
       "235309     1.141   83.497314     IDMESLLMCTVDDLK         3084954   \n",
       "\n",
       "        frag_stop_idx   rt_norm         ccs  \n",
       "0                  11  0.255296  471.228582  \n",
       "1                  21  0.371505  392.136762  \n",
       "2                  32  0.251158  420.894147  \n",
       "3                  49  0.328335  557.012501  \n",
       "4                  57  0.007416  350.490584  \n",
       "...               ...       ...         ...  \n",
       "235305        3084912  0.885915  456.474882  \n",
       "235306        3084926  0.625856  461.721720  \n",
       "235307        3084940  0.232662  662.744153  \n",
       "235308        3084954  0.228079  535.202532  \n",
       "235309        3084968  0.553568  460.479840  \n",
       "\n",
       "[235310 rows x 16 columns]"
      ]
     },
     "execution_count": 7,
     "metadata": {},
     "output_type": "execute_result"
    }
   ],
   "source": [
    "# create dense library from diann psm file\n",
    "target_lib = LibraryReaderBase()\n",
    "target_lib.import_file(lib_location)\n",
    "\n",
    "#target_lib._fragment_mz_df = target_lib._fragment_mz_df[['b_z1', 'b_z2', 'y_z1', 'y_z2']]\n",
    "#target_lib._fragment_intensity_df = target_lib._fragment_intensity_df[['b_z1', 'b_z2', 'y_z1', 'y_z2']]"
   ]
  },
  {
   "cell_type": "code",
   "execution_count": 8,
   "metadata": {},
   "outputs": [],
   "source": [
    "target_lib._precursor_df['elution_group_idx'] = np.arange(len(target_lib._precursor_df))"
   ]
  },
  {
   "cell_type": "code",
   "execution_count": 9,
   "metadata": {},
   "outputs": [
    {
     "data": {
      "image/png": "[encoded data removed]",
      "text/plain": [
       "<Figure size 640x480 with 1 Axes>"
      ]
     },
     "metadata": {},
     "output_type": "display_data"
    }
   ],
   "source": [
    "import matplotlib.pyplot as plt\n",
    "_ = plt.hist(target_lib._precursor_df['rt_norm'])\n",
    "target_lib.precursor_df = target_lib.precursor_df[target_lib.precursor_df['rt_norm'] > -0.5].copy()\n",
    "\n",
    "# scale rt_norm to from min max to 0-1\n",
    "target_lib.precursor_df['rt_norm'] = (target_lib.precursor_df['rt_norm'] - target_lib.precursor_df['rt_norm'].min())/(target_lib.precursor_df['rt_norm'].max() - target_lib.precursor_df['rt_norm'].min())\n",
    "_ = plt.hist(target_lib._precursor_df['rt_norm'])"
   ]
  },
  {
   "cell_type": "code",
   "execution_count": 16,
   "metadata": {},
   "outputs": [
    {
     "data": {
      "text/plain": [
       "139790    2\n",
       "151009    2\n",
       "122729    2\n",
       "133153    2\n",
       "109531    2\n",
       "         ..\n",
       "66267     1\n",
       "78368     1\n",
       "78383     1\n",
       "204041    1\n",
       "28846     1\n",
       "Name: elution_group_idx, Length: 231149, dtype: int64"
      ]
     },
     "execution_count": 16,
     "metadata": {},
     "output_type": "execute_result"
    }
   ],
   "source": [
    "target_lib._precursor_df.elution_group_idx.value_counts()"
   ]
  },
  {
   "cell_type": "code",
   "execution_count": 11,
   "metadata": {},
   "outputs": [],
   "source": [
    "#target_lib._precursor_df['elution_group_idx'] = np.arange(len(target_lib._precursor_df))\n",
    "fragment_number(target_lib.precursor_df, target_lib._fragment_intensity_df)"
   ]
  },
  {
   "cell_type": "code",
   "execution_count": 12,
   "metadata": {},
   "outputs": [],
   "source": [
    "target_lib.decoy = 'diann'\n",
    "target_lib.append_decoy_sequence()\n",
    "target_lib.calc_precursor_mz()"
   ]
  },
  {
   "cell_type": "code",
   "execution_count": 13,
   "metadata": {},
   "outputs": [],
   "source": [
    "from peptdeep.pretrained_models import ModelManager\n",
    "from alphabase.peptide.fragment import get_charged_frag_types\n",
    "\n",
    "frag_types = get_charged_frag_types(\n",
    "    ['b','y','b_modloss', 'y_modloss'], \n",
    "    2\n",
    ")\n",
    "\n",
    "model_mgr = ModelManager()\n",
    "\n",
    "model_mgr.nce = 30\n",
    "model_mgr.instrument = 'timsTOF'"
   ]
  },
  {
   "cell_type": "code",
   "execution_count": 14,
   "metadata": {},
   "outputs": [
    {
     "name": "stdout",
     "output_type": "stream",
     "text": [
      "2023-03-08 12:36:30> Using multiprocessing with 8 processes ...\n",
      "2023-03-08 12:36:30> Predicting ms2 ...\n"
     ]
    },
    {
     "name": "stderr",
     "output_type": "stream",
     "text": [
      "100%|██████████| 46/46 [01:34<00:00,  2.06s/it]\n"
     ]
    }
   ],
   "source": [
    "res = model_mgr.predict_all(\n",
    "    target_lib.precursor_df,\n",
    "    predict_items=['ms2'],\n",
    "    frag_types = frag_types,\n",
    ")\n",
    "\n",
    "target_lib._precursor_df = res['precursor_df']\n",
    "target_lib._fragment_mz_df = res['fragment_mz_df']\n",
    "target_lib._fragment_intensity_df = res['fragment_intensity_df']"
   ]
  },
  {
   "cell_type": "code",
   "execution_count": null,
   "metadata": {},
   "outputs": [],
   "source": [
    "for i, (start_idx, stop_idx, k_allowed) in enumerate(zip(output_lib.precursor_df['frag_start_idx'].values, output_lib.precursor_df['frag_stop_idx'].values,output_lib.precursor_df['n_fragments'].values)):\n",
    "    intensies = output_lib._fragment_intensity_df.iloc[start_idx:stop_idx].values\n",
    "    flat_intensities = np.sort(intensies.flatten())[::-1]\n",
    "    output_lib._fragment_intensity_df.iloc[start_idx:stop_idx].values[intensies <= flat_intensities[k_allowed]] = 0\n"
   ]
  },
  {
   "cell_type": "code",
   "execution_count": 18,
   "metadata": {},
   "outputs": [],
   "source": [
    "fragment_number(target_lib.precursor_df, target_lib._fragment_intensity_df)"
   ]
  },
  {
   "cell_type": "code",
   "execution_count": 19,
   "metadata": {},
   "outputs": [
    {
     "data": {
      "text/plain": [
       "<AxesSubplot:xlabel='n_fragments', ylabel='Count'>"
      ]
     },
     "execution_count": 19,
     "metadata": {},
     "output_type": "execute_result"
    },
    {
     "data": {
      "image/png": "[encoded data removed]",
      "text/plain": [
       "<Figure size 640x480 with 1 Axes>"
      ]
     },
     "metadata": {},
     "output_type": "display_data"
    }
   ],
   "source": [
    "import seaborn as sns\n",
    "sns.histplot(target_lib.precursor_df, x ='n_fragments', hue='decoy')"
   ]
  },
  {
   "cell_type": "code",
   "execution_count": 20,
   "metadata": {},
   "outputs": [],
   "source": [
    "from tqdm import tqdm\n",
    "from alphabase.peptide.precursor import get_mod_seq_formula\n",
    "from alphabase.constants.isotope import IsotopeDistribution\n",
    "\n",
    "\n",
    "def calc_isotope_dist(precursor_df, max_isotope = 6, min_intensity = 0.001):\n",
    "    isotope_dist = IsotopeDistribution()\n",
    "\n",
    "    col_names = ['i_{}'.format(i) for i in range(max_isotope)]\n",
    "    precursor_df[col_names] = 0.\n",
    "\n",
    "    for i in tqdm(range(len(precursor_df))):\n",
    "\n",
    "        row = precursor_df.iloc[i]\n",
    "        dist, mono = isotope_dist.calc_formula_distribution(\n",
    "            get_mod_seq_formula(row['sequence'], row['mods'])\n",
    "        )\n",
    "        dist[dist < 0.001] = 0.\n",
    "        dist = dist / dist.sum()\n",
    "        precursor_df.loc[i, col_names] = dist[:max_isotope]"
   ]
  },
  {
   "cell_type": "code",
   "execution_count": 21,
   "metadata": {},
   "outputs": [
    {
     "name": "stderr",
     "output_type": "stream",
     "text": [
      "100%|██████████| 460153/460153 [02:59<00:00, 2564.00it/s]\n"
     ]
    }
   ],
   "source": [
    "calc_isotope_dist(target_lib.precursor_df)"
   ]
  },
  {
   "cell_type": "code",
   "execution_count": 23,
   "metadata": {},
   "outputs": [],
   "source": [
    "target_lib._precursor_df.drop(columns=['rt'], inplace=True)"
   ]
  },
  {
   "cell_type": "code",
   "execution_count": 24,
   "metadata": {},
   "outputs": [],
   "source": [
    "output_location = '/Users/georgwallmann/Documents/data/alphadia_benchmarking/libraries/patricia_hela/21min_Evosep_HeLa_BR14_48fractions_diaPASEF_py_diAID_2_egs.hdf'\n",
    "target_lib.save_hdf(output_location)"
   ]
  },
  {
   "cell_type": "code",
   "execution_count": 22,
   "metadata": {},
   "outputs": [
    {
     "name": "stdout",
     "output_type": "stream",
     "text": [
      "2023-03-06 20:14:31> Using multiprocessing with 8 processes ...\n",
      "2023-03-06 20:14:31> Predicting ms2 ...\n"
     ]
    },
    {
     "name": "stderr",
     "output_type": "stream",
     "text": [
      "100%|██████████| 46/46 [01:34<00:00,  2.06s/it]\n"
     ]
    }
   ],
   "source": [
    "res = model_mgr.predict_all(\n",
    "    output_lib.precursor_df,\n",
    "    predict_items=['ms2'],\n",
    "    frag_types = frag_types,\n",
    ")\n",
    "\n",
    "output_lib._precursor_df = res['precursor_df']\n",
    "output_lib._fragment_mz_df = res['fragment_mz_df']\n",
    "output_lib._fragment_intensity_df = res['fragment_intensity_df']"
   ]
  },
  {
   "cell_type": "code",
   "execution_count": 23,
   "metadata": {},
   "outputs": [],
   "source": [
    "fragment_number(output_lib.precursor_df, output_lib._fragment_intensity_df)"
   ]
  },
  {
   "cell_type": "code",
   "execution_count": 24,
   "metadata": {},
   "outputs": [
    {
     "data": {
      "text/plain": [
       "<AxesSubplot:xlabel='n_fragments', ylabel='Count'>"
      ]
     },
     "execution_count": 24,
     "metadata": {},
     "output_type": "execute_result"
    },
    {
     "data": {
      "image/png": "[encoded data removed]",
      "text/plain": [
       "<Figure size 640x480 with 1 Axes>"
      ]
     },
     "metadata": {},
     "output_type": "display_data"
    }
   ],
   "source": [
    "import seaborn as sns\n",
    "sns.histplot(output_lib.precursor_df, x ='n_fragments', hue='decoy')"
   ]
  },
  {
   "cell_type": "code",
   "execution_count": 25,
   "metadata": {},
   "outputs": [],
   "source": [
    "output_location = '/Users/georgwallmann/Documents/data/alphadia_benchmarking/libraries/patricia_hela/21min_Evosep_HeLa_BR14_48fractions_diaPASEF_py_diAID_2_predicted.hdf'\n",
    "output_lib.save_hdf(output_location)"
   ]
  }
 ],
 "metadata": {
  "kernelspec": {
   "display_name": "Python 3 (ipykernel)",
   "language": "python",
   "name": "pythonjvsc74a57bd0bfa83213b3107409f6f749b3f3e6e3a0c51921f6998a582a53d8fef6c3fba7c5"
  },
  "language_info": {
   "codemirror_mode": {
    "name": "ipython",
    "version": 3
   },
   "file_extension": ".py",
   "mimetype": "text/x-python",
   "name": "python",
   "nbconvert_exporter": "python",
   "pygments_lexer": "ipython3",
   "version": "3.9.13 | packaged by conda-forge | (main, May 27 2022, 17:01:00) \n[Clang 13.0.1 ]"
  },
  "orig_nbformat": 4,
  "vscode": {
   "interpreter": {
    "hash": "bfa83213b3107409f6f749b3f3e6e3a0c51921f6998a582a53d8fef6c3fba7c5"
   }
  }
 },
 "nbformat": 4,
 "nbformat_minor": 2
}
