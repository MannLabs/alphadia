{
 "cells": [
  {
   "cell_type": "code",
   "execution_count": 1,
   "metadata": {},
   "outputs": [
    {
     "name": "stderr",
     "output_type": "stream",
     "text": [
      "WARNING:root:WARNING: Temp mmap arrays are written to /var/folders/lc/9594t94d5b5_gn0y04w1jh980000gn/T/temp_mmap_zbuc0_p0. Cleanup of this folder is OS dependant, and might need to be triggered manually! Current space: 1,405,167,013,888\n",
      "WARNING:root:WARNING: No Bruker libraries are available for this operating system. Mobility and m/z values need to be estimated. While this estimation often returns acceptable results with errors < 0.02 Th, huge errors (e.g. offsets of 6 Th) have already been observed for some samples!\n"
     ]
    }
   ],
   "source": [
    "import pandas as pd\n",
    "import numpy as np\n",
    "\n",
    "from alphabase.spectral_library.flat import SpecLibFlat\n",
    "from alphabase.spectral_library.base import SpecLibBase\n",
    "from alphadia.extraction.utils import reannotate_fragments\n",
    "from alphabase.psm_reader import psm_reader_provider"
   ]
  },
  {
   "cell_type": "code",
   "execution_count": 7,
   "metadata": {},
   "outputs": [
    {
     "name": "stdout",
     "output_type": "stream",
     "text": [
      "2023-02-08 09:27:51> Using multiprocessing with 8 processes ...\n",
      "2023-02-08 09:27:51> Predicting ms2 ...\n"
     ]
    },
    {
     "name": "stderr",
     "output_type": "stream",
     "text": [
      "100%|██████████| 39/39 [00:07<00:00,  5.00it/s]\n"
     ]
    }
   ],
   "source": [
    "reader = psm_reader_provider.get_reader('maxquant', rt_unit='minute', keep_decoy=True, fdr=1)\n",
    "reader.import_file('/Volumes/pool-mann-pub/User/GeorgW/fromPeople/Patricia/modified_SCP2_dia-PASEF_vs_synchro-PASEF/txt/evidence.txt')\n",
    "\n",
    "from peptdeep.pretrained_models import ModelManager\n",
    "from alphabase.peptide.fragment import get_charged_frag_types\n",
    "\n",
    "frag_types = get_charged_frag_types(\n",
    "    ['b','y','b_modloss','y_modloss'], \n",
    "    2\n",
    ")\n",
    "\n",
    "model_mgr = ModelManager()\n",
    "\n",
    "model_mgr.nce = 30\n",
    "model_mgr.instrument = 'timsTOF'\n",
    "\n",
    "res = model_mgr.predict_all(\n",
    "    reader.psm_df,\n",
    "    predict_items=['ms2'],\n",
    "    frag_types = frag_types,\n",
    ")"
   ]
  },
  {
   "cell_type": "code",
   "execution_count": 8,
   "metadata": {},
   "outputs": [],
   "source": [
    "target_lib = SpecLibBase()\n",
    "target_lib._precursor_df = res['precursor_df']\n",
    "target_lib._fragment_intensity_df = res['fragment_intensity_df']\n",
    "target_lib._fragment_mz_df = res['fragment_mz_df']"
   ]
  },
  {
   "cell_type": "code",
   "execution_count": 9,
   "metadata": {},
   "outputs": [],
   "source": [
    "# create dense library from diann psm file\n",
    "target_lib._precursor_df['elution_group_idx'] = np.arange(len(target_lib._precursor_df))"
   ]
  },
  {
   "cell_type": "code",
   "execution_count": 10,
   "metadata": {},
   "outputs": [],
   "source": [
    "decoy_lib = SpecLibBase()\n",
    "decoy_lib._precursor_df = target_lib.precursor_df.copy()\n",
    "decoy_lib._fragment_mz_df = target_lib._fragment_mz_df.copy()\n",
    "decoy_lib._fragment_intensity_df = target_lib._fragment_intensity_df.copy()\n",
    "\n",
    "#decoy_lib.import_file(brunner_lib)\n",
    "decoy_lib.decoy = 'diann'\n",
    "decoy_lib.append_decoy_sequence()\n",
    "decoy_lib.calc_precursor_mz()\n",
    "decoy_lib.precursor_df = decoy_lib.precursor_df[decoy_lib.precursor_df['decoy'] == 1]"
   ]
  },
  {
   "cell_type": "code",
   "execution_count": 11,
   "metadata": {},
   "outputs": [
    {
     "name": "stdout",
     "output_type": "stream",
     "text": [
      "2023-02-08 09:28:24> Using multiprocessing with 8 processes ...\n",
      "2023-02-08 09:28:25> Predicting ms2 ...\n"
     ]
    },
    {
     "name": "stderr",
     "output_type": "stream",
     "text": [
      "100%|██████████| 39/39 [00:07<00:00,  4.88it/s]\n"
     ]
    }
   ],
   "source": [
    "res = model_mgr.predict_all(\n",
    "    decoy_lib.precursor_df,\n",
    "    predict_items=['ms2'],\n",
    "    frag_types = frag_types,\n",
    ")"
   ]
  },
  {
   "cell_type": "code",
   "execution_count": 12,
   "metadata": {},
   "outputs": [],
   "source": [
    "decoy_lib._precursor_df = res['precursor_df']\n",
    "decoy_lib._fragment_mz_df = res['fragment_mz_df']\n",
    "decoy_lib._fragment_intensity_df = res['fragment_intensity_df']\n",
    "decoy_lib._precursor_df[['frag_start_idx']] += len(target_lib._fragment_mz_df)\n",
    "decoy_lib._precursor_df[['frag_stop_idx']] += len(target_lib._fragment_mz_df)"
   ]
  },
  {
   "cell_type": "code",
   "execution_count": 13,
   "metadata": {},
   "outputs": [],
   "source": [
    "output_lib = SpecLibBase()\n",
    "\n",
    "output_lib._precursor_df = pd.concat([target_lib._precursor_df, decoy_lib._precursor_df], join='inner')\n",
    "output_lib._fragment_mz_df = pd.concat([target_lib._fragment_mz_df, decoy_lib._fragment_mz_df], join='inner')\n",
    "output_lib._fragment_intensity_df = pd.concat([target_lib._fragment_intensity_df, decoy_lib._fragment_intensity_df], join='inner')"
   ]
  },
  {
   "cell_type": "code",
   "execution_count": 14,
   "metadata": {},
   "outputs": [],
   "source": [
    "output_lib._precursor_df = output_lib._precursor_df.sort_values(by=['elution_group_idx']).reset_index(drop=True)\n",
    "output_lib.precursor_df['precursor_idx'] = np.arange(len(output_lib.precursor_df))"
   ]
  },
  {
   "cell_type": "code",
   "execution_count": 15,
   "metadata": {},
   "outputs": [],
   "source": [
    "from tqdm import tqdm\n",
    "from alphabase.peptide.precursor import get_mod_seq_formula\n",
    "from alphabase.constants.isotope import IsotopeDistribution\n",
    "\n",
    "\n",
    "def calc_isotope_dist(precursor_df, max_isotope = 6, min_intensity = 0.001):\n",
    "    isotope_dist = IsotopeDistribution()\n",
    "\n",
    "    col_names = ['i_{}'.format(i) for i in range(max_isotope)]\n",
    "    output_lib.precursor_df[col_names] = 0.\n",
    "\n",
    "    for i in tqdm(range(len(output_lib.precursor_df))):\n",
    "\n",
    "        row = output_lib.precursor_df.iloc[i]\n",
    "        dist, mono = isotope_dist.calc_formula_distribution(\n",
    "            get_mod_seq_formula(row['sequence'], row['mods'])\n",
    "        )\n",
    "        dist[dist < 0.001] = 0.\n",
    "        dist = dist / dist.sum()\n",
    "        output_lib.precursor_df.loc[i, col_names] = dist[:max_isotope]"
   ]
  }
 ],
 "metadata": {
  "kernelspec": {
   "display_name": "Python 3 (ipykernel)",
   "language": "python",
   "name": "pythonjvsc74a57bd0bfa83213b3107409f6f749b3f3e6e3a0c51921f6998a582a53d8fef6c3fba7c5"
  },
  "language_info": {
   "codemirror_mode": {
    "name": "ipython",
    "version": 3
   },
   "file_extension": ".py",
   "mimetype": "text/x-python",
   "name": "python",
   "nbconvert_exporter": "python",
   "pygments_lexer": "ipython3",
   "version": "3.9.13"
  },
  "orig_nbformat": 4,
  "vscode": {
   "interpreter": {
    "hash": "bfa83213b3107409f6f749b3f3e6e3a0c51921f6998a582a53d8fef6c3fba7c5"
   }
  }
 },
 "nbformat": 4,
 "nbformat_minor": 2
}
