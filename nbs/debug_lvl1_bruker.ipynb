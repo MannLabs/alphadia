{
 "cells": [
  {
   "cell_type": "code",
   "execution_count": 2,
   "metadata": {},
   "outputs": [
    {
     "name": "stderr",
     "output_type": "stream",
     "text": [
      "/var/folders/lc/9594t94d5b5_gn0y04w1jh980000gn/T/ipykernel_64621/1313159942.py:8: NeptuneDeprecationWarning: You're importing the Neptune client library via the deprecated `neptune.new` module, which will be removed in a future release. Import directly from `neptune` instead.\n",
      "  import neptune.new as neptune\n",
      "WARNING:root:WARNING: Temp mmap arrays are written to /var/folders/lc/9594t94d5b5_gn0y04w1jh980000gn/T/temp_mmap_d_w9w5_i. Cleanup of this folder is OS dependant, and might need to be triggered manually! Current space: 605,768,175,616\n",
      "WARNING:root:WARNING: No Bruker libraries are available for this operating system. Mobility and m/z values need to be estimated. While this estimation often returns acceptable results with errors < 0.02 Th, huge errors (e.g. offsets of 6 Th) have already been observed for some samples!\n"
     ]
    }
   ],
   "source": [
    "%reload_ext autoreload\n",
    "%autoreload 2\n",
    "\n",
    "import numpy as np\n",
    "import pandas as pd\n",
    "import matplotlib.pyplot as plt\n",
    "import seaborn as sns\n",
    "import neptune.new as neptune\n",
    "import alphatims.bruker as bruker\n",
    "\n",
    "from alphabase.spectral_library.base import SpecLibBase\n",
    "from alphadia.extraction import data, planning, workflow\n",
    "from alphadia.extraction.workflow import manager, peptidecentric\n",
    "\n",
    "\n",
    "\n",
    "raw_files = [\n",
    "    '/Users/georgwallmann/Documents/data/testing/bruker/20230422_TIMS05_PaSk_MCT_SA_HeLa_mDIA_P001_diaP_pydiAID8_1300V_S2-E3_1_1819.d',\n",
    "]\n",
    "output_location = '/Users/georgwallmann/Documents/data/performance_tests/bruker/outputs'"
   ]
  },
  {
   "cell_type": "code",
   "execution_count": 3,
   "metadata": {},
   "outputs": [],
   "source": [
    "speclib = '/Users/georgwallmann/Documents/data/alphadia_benchmarking/libraries/patricia_hela/21min_Evosep_HeLa_BR14_48fractions_diaPASEF_py_diAID_2_egs.hdf'\n",
    "test_lib = SpecLibBase()\n",
    "test_lib.load_hdf(speclib, load_mod_seq=True)"
   ]
  },
  {
   "cell_type": "code",
   "execution_count": 20,
   "metadata": {},
   "outputs": [
    {
     "name": "stderr",
     "output_type": "stream",
     "text": [
      "0:00:00.000107 \u001b[32;20m PROGRESS:       _   _      _         ___ ___   _   \u001b[0m\n",
      "0:00:00.000593 \u001b[32;20m PROGRESS:      /_\\ | |_ __| |_  __ _|   \\_ _| /_\\  \u001b[0m\n",
      "0:00:00.001020 \u001b[32;20m PROGRESS:     / _ \\| | '_ \\ ' \\/ _` | |) | | / _ \\ \u001b[0m\n",
      "0:00:00.001327 \u001b[32;20m PROGRESS:    /_/ \\_\\_| .__/_||_\\__,_|___/___/_/ \\_\\\u001b[0m\n",
      "0:00:00.001741 \u001b[32;20m PROGRESS:            |_|                            \u001b[0m\n",
      "0:00:00.002065 \u001b[32;20m PROGRESS: \u001b[0m\n",
      "0:00:00.002554 \u001b[38;20m INFO: loading default config from /Users/georgwallmann/Documents/git/alphadia/alphadia/extraction/../../misc/config/default.yaml\u001b[0m\n",
      "0:00:00.010513 \u001b[32;20m PROGRESS: version: 1.3.1\u001b[0m\n",
      "0:00:00.010932 \u001b[32;20m PROGRESS: hostname: Georgs-MacBook-Pro.local\u001b[0m\n",
      "0:00:00.011269 \u001b[32;20m PROGRESS: date: 2023-09-19 20:25:17\u001b[0m\n",
      "0:00:05.085849 \u001b[38;20m INFO: renaming precursor_columns columns\u001b[0m\n",
      "0:00:05.086369 \u001b[38;20m INFO: renaming fragment_columns columns\u001b[0m\n",
      "0:00:05.086891 \u001b[38;20m INFO: ========= Library Stats =========\u001b[0m\n",
      "0:00:05.087216 \u001b[38;20m INFO: Number of precursors: 460,153\u001b[0m\n",
      "0:00:05.151340 \u001b[38;20m INFO: \tthereof targets:230,483\u001b[0m\n",
      "0:00:05.152083 \u001b[38;20m INFO: \tthereof decoys: 229,670\u001b[0m\n",
      "0:00:05.155709 \u001b[38;20m INFO: Number of elution groups: 231,149\u001b[0m\n",
      "0:00:05.156124 \u001b[38;20m INFO: \taverage size: 1.99\u001b[0m\n",
      "0:00:05.174059 \u001b[38;20m INFO: Number of proteins: 9,899\u001b[0m\n",
      "0:00:05.176979 \u001b[38;20m INFO: Number of channels: 1 ([0])\u001b[0m\n",
      "0:00:05.177378 \u001b[38;20m INFO: Isotopes Distribution for 6 isotopes\u001b[0m\n",
      "0:00:05.177705 \u001b[38;20m INFO: =================================\u001b[0m\n"
     ]
    }
   ],
   "source": [
    "plan = planning.Plan(output_location, raw_files, test_lib)\n",
    "\n",
    "plan.config['general']['reuse_calibration'] = False\n",
    "plan.config['general']['save_figueres'] = False\n",
    "plan.config['general']['thread_count'] = 10\n",
    "plan.config['general']['astral_ms1'] = False\n",
    "plan.config['library_loading']['channel_filter'] = '0'\n",
    "plan.config['library_loading']['exclude_shared_ions'] = False\n",
    "plan.config['calibration']['norm_rt_mode'] = 'linear'\n",
    "\n",
    "plan.config['extraction_target']['target_num_candidates'] = 3\n",
    "plan.config['extraction_target']['target_ms1_tolerance'] = 30\n",
    "plan.config['extraction_target']['target_ms2_tolerance'] = 30\n",
    "plan.config['extraction_target']['target_rt_tolerance'] = 150"
   ]
  },
  {
   "cell_type": "code",
   "execution_count": 21,
   "metadata": {},
   "outputs": [],
   "source": [
    "for raw_name, dia_path, speclib in plan.get_run_data():\n",
    "    pass"
   ]
  },
  {
   "cell_type": "code",
   "execution_count": 22,
   "metadata": {},
   "outputs": [
    {
     "name": "stdout",
     "output_type": "stream",
     "text": [
      "https://app.neptune.ai/MannLabs/alphaDIA/e/AL-337\n"
     ]
    },
    {
     "name": "stderr",
     "output_type": "stream",
     "text": [
      "0:00:08.596494 \u001b[38;20m INFO: Importing data from /Users/georgwallmann/Documents/data/testing/bruker/20230422_TIMS05_PaSk_MCT_SA_HeLa_mDIA_P001_diaP_pydiAID8_1300V_S2-E3_1_1819.d\u001b[0m\n",
      "0:00:08.597051 \u001b[38;20m INFO: Using .d import for /Users/georgwallmann/Documents/data/testing/bruker/20230422_TIMS05_PaSk_MCT_SA_HeLa_mDIA_P001_diaP_pydiAID8_1300V_S2-E3_1_1819.d\u001b[0m\n",
      "0:00:08.597463 \u001b[38;20m INFO: Reading frame metadata for /Users/georgwallmann/Documents/data/testing/bruker/20230422_TIMS05_PaSk_MCT_SA_HeLa_mDIA_P001_diaP_pydiAID8_1300V_S2-E3_1_1819.d\u001b[0m\n",
      "0:00:08.793820 \u001b[38;20m INFO: Reading 17,438 frames with 1,635,017,608 detector events for /Users/georgwallmann/Documents/data/testing/bruker/20230422_TIMS05_PaSk_MCT_SA_HeLa_mDIA_P001_diaP_pydiAID8_1300V_S2-E3_1_1819.d\u001b[0m\n",
      "100%|██████████| 17438/17438 [00:07<00:00, 2446.79it/s]\n",
      "0:00:16.016436 \u001b[38;20m INFO: Indexing /Users/georgwallmann/Documents/data/testing/bruker/20230422_TIMS05_PaSk_MCT_SA_HeLa_mDIA_P001_diaP_pydiAID8_1300V_S2-E3_1_1819.d...\u001b[0m\n",
      "0:00:16.018792 \u001b[38;20m INFO: Bruker DLL not available, estimating mobility values\u001b[0m\n",
      "0:00:16.019510 \u001b[38;20m INFO: Bruker DLL not available, estimating mz values\u001b[0m\n",
      "0:00:16.021824 \u001b[38;20m INFO: Indexing quadrupole dimension\u001b[0m\n",
      "0:00:16.700933 \u001b[38;20m INFO: Transposing detector events\u001b[0m\n",
      "100%|██████████| 20/20 [00:07<00:00,  2.72it/s]\n",
      "0:00:29.116949 \u001b[38;20m INFO: Finished transposing data\u001b[0m\n",
      "0:00:29.249609 \u001b[38;20m INFO: Successfully imported data from /Users/georgwallmann/Documents/data/testing/bruker/20230422_TIMS05_PaSk_MCT_SA_HeLa_mDIA_P001_diaP_pydiAID8_1300V_S2-E3_1_1819.d\u001b[0m\n",
      "0:00:29.396492 \u001b[38;20m INFO: ========= Initializing Calibration Manager =========\u001b[0m\n",
      "0:00:29.397288 \u001b[38;20m INFO: loading calibration config\u001b[0m\n",
      "0:00:29.397672 \u001b[38;20m INFO: found 2 calibration groups\u001b[0m\n",
      "0:00:29.398352 \u001b[38;20m INFO: Calibration group :fragment, found 1 estimator(s)\u001b[0m\n",
      "0:00:29.398835 \u001b[38;20m INFO: Calibration group :precursor, found 3 estimator(s)\u001b[0m\n",
      "0:00:29.399090 \u001b[38;20m INFO: ====================================================\u001b[0m\n",
      "0:00:29.399645 \u001b[38;20m INFO: ========= Initializing Optimization Manager =========\u001b[0m\n",
      "0:00:29.400183 \u001b[38;20m INFO: initial parameter: fwhm_rt = 5\u001b[0m\n",
      "0:00:29.400594 \u001b[38;20m INFO: initial parameter: fwhm_mobility = 0.01\u001b[0m\n",
      "0:00:29.400852 \u001b[38;20m INFO: ====================================================\u001b[0m\n",
      "0:00:29.401218 \u001b[32;20m PROGRESS: Initializing workflow 20230422_TIMS05_PaSk_MCT_SA_HeLa_mDIA_P001_diaP_pydiAID8_1300V_S2-E3_1_1819\u001b[0m\n",
      "0:00:29.401613 \u001b[38;20m INFO: ========= Initializing Optimization Manager =========\u001b[0m\n",
      "0:00:29.401876 \u001b[38;20m INFO: initial parameter: current_epoch = 0\u001b[0m\n",
      "0:00:29.402219 \u001b[38;20m INFO: initial parameter: current_step = 0\u001b[0m\n",
      "0:00:29.402592 \u001b[38;20m INFO: initial parameter: ms1_error = 30\u001b[0m\n",
      "0:00:29.402870 \u001b[38;20m INFO: initial parameter: ms2_error = 30\u001b[0m\n",
      "0:00:29.403346 \u001b[38;20m INFO: initial parameter: rt_error = 240\u001b[0m\n",
      "0:00:29.403689 \u001b[38;20m INFO: initial parameter: mobility_error = 0.08\u001b[0m\n",
      "0:00:29.404059 \u001b[38;20m INFO: initial parameter: column_type = library\u001b[0m\n",
      "0:00:29.404261 \u001b[38;20m INFO: initial parameter: num_candidates = 2\u001b[0m\n",
      "0:00:29.404525 \u001b[38;20m INFO: initial parameter: recalibration_target = 200\u001b[0m\n",
      "0:00:29.404729 \u001b[38;20m INFO: initial parameter: accumulated_precursors = 0\u001b[0m\n",
      "0:00:29.405022 \u001b[38;20m INFO: initial parameter: accumulated_precursors_01FDR = 0\u001b[0m\n",
      "0:00:29.405337 \u001b[38;20m INFO: initial parameter: accumulated_precursors_001FDR = 0\u001b[0m\n",
      "0:00:29.405687 \u001b[38;20m INFO: ====================================================\u001b[0m\n",
      "0:00:29.406021 \u001b[38;20m INFO: ========= Initializing FDR Manager =========\u001b[0m\n",
      "0:00:29.406408 \u001b[38;20m INFO: ====================================================\u001b[0m\n",
      "0:00:29.406651 \u001b[32;20m PROGRESS: Applying channel filter using only: [0]\u001b[0m\n"
     ]
    }
   ],
   "source": [
    "workflow = peptidecentric.PeptideCentricWorkflow(\n",
    "    raw_name,\n",
    "    plan.config,\n",
    "    dia_path,\n",
    "    speclib\n",
    ")"
   ]
  },
  {
   "cell_type": "code",
   "execution_count": 29,
   "metadata": {},
   "outputs": [],
   "source": [
    "test_df = workflow.spectral_library.precursor_df.sample(1000)"
   ]
  },
  {
   "cell_type": "code",
   "execution_count": 34,
   "metadata": {},
   "outputs": [
    {
     "name": "stderr",
     "output_type": "stream",
     "text": [
      "0:04:55.627185 \u001b[38;20m INFO: Duty cycle consists of 9 frames, 0.96 seconds cycle time\u001b[0m\n",
      "0:04:55.627841 \u001b[38;20m INFO: Duty cycle consists of 928 scans, 0.00065 1/K_0 resolution\u001b[0m\n",
      "0:04:55.628282 \u001b[38;20m INFO: FWHM in RT is 5.00 seconds, sigma is 1.11\u001b[0m\n",
      "0:04:55.628570 \u001b[38;20m INFO: FWHM in mobility is 0.010 1/K_0, sigma is 6.57\u001b[0m\n",
      "0:04:55.631108 \u001b[38;20m INFO: Starting candidate selection\u001b[0m\n"
     ]
    },
    {
     "name": "stderr",
     "output_type": "stream",
     "text": [
      "100%|██████████| 1000/1000 [00:10<00:00, 96.39it/s]\n",
      "0:05:06.320512 \u001b[38;20m INFO: Finished candidate selection\u001b[0m\n"
     ]
    }
   ],
   "source": [
    "from alphadia.extraction import hybridselection\n",
    "\n",
    "config = hybridselection.HybridCandidateConfig()\n",
    "config.update(workflow.config['selection_config'])\n",
    "config.update({\n",
    "    'rt_tolerance':workflow.com.rt_error,\n",
    "    'mobility_tolerance': workflow.com.mobility_error,\n",
    "    'candidate_count': workflow.com.num_candidates,\n",
    "    'precursor_mz_tolerance': workflow.com.ms1_error,\n",
    "    'fragment_mz_tolerance': workflow.com.ms2_error,\n",
    "    'exclude_shared_ions': workflow.config['library_loading']['exclude_shared_ions']\n",
    "})\n",
    "\n",
    "extraction = hybridselection.HybridCandidateSelection(\n",
    "    workflow.dia_data.jitclass(),\n",
    "    test_df,\n",
    "    workflow.spectral_library.fragment_df,\n",
    "    config.jitclass(),\n",
    "    rt_column = f'rt_{workflow.com.column_type}',\n",
    "    mobility_column = f'mobility_{workflow.com.column_type}',\n",
    "    precursor_mz_column = f'mz_{workflow.com.column_type}',\n",
    "    fragment_mz_column = f'mz_{workflow.com.column_type}',\n",
    "    fwhm_rt = workflow.optimization_manager.fwhm_rt,\n",
    "    fwhm_mobility = workflow.optimization_manager.fwhm_mobility\n",
    ")\n",
    "candidates_df = extraction(\n",
    "    thread_count=workflow.config['general']['thread_count']\n",
    ")"
   ]
  },
  {
   "cell_type": "code",
   "execution_count": 36,
   "metadata": {},
   "outputs": [
    {
     "name": "stderr",
     "output_type": "stream",
     "text": [
      "0:05:06.624870 \u001b[38;20m INFO: Starting candidate scoring\u001b[0m\n",
      "100%|██████████| 1000/1000 [00:00<00:00, 4020.27it/s]\n",
      "0:05:07.001336 \u001b[33;20m WARNING: delta_frame_peak has 6 NaNs ( 0.60 % out of 1000)\u001b[0m\n",
      "0:05:07.032154 \u001b[38;20m INFO: Finished candidate scoring\u001b[0m\n"
     ]
    }
   ],
   "source": [
    "from alphadia.extraction import plexscoring\n",
    "\n",
    "config = plexscoring.CandidateConfig()\n",
    "config.update(workflow.config['scoring_config'])\n",
    "config.update({\n",
    "    'precursor_mz_tolerance': workflow.com.ms1_error,\n",
    "    'fragment_mz_tolerance': workflow.com.ms2_error,\n",
    "    'exclude_shared_ions': workflow.config['library_loading']['exclude_shared_ions']\n",
    "})\n",
    "\n",
    "candidate_scoring = plexscoring.CandidateScoring(\n",
    "    workflow.dia_data.jitclass(),\n",
    "    workflow.spectral_library._precursor_df,\n",
    "    workflow.spectral_library._fragment_df,\n",
    "    config = config,\n",
    "    rt_column = f'rt_{workflow.com.column_type}',\n",
    "    mobility_column = f'mobility_{workflow.com.column_type}',\n",
    "    precursor_mz_column = f'mz_{workflow.com.column_type}',\n",
    "    fragment_mz_column = f'mz_{workflow.com.column_type}',\n",
    ")\n",
    "\n",
    "features_df, fragments_df = candidate_scoring(\n",
    "    candidates_df, \n",
    "    thread_count=workflow.config['general']['thread_count'],\n",
    ")"
   ]
  }
 ],
 "metadata": {
  "kernelspec": {
   "display_name": "alpha",
   "language": "python",
   "name": "python3"
  },
  "language_info": {
   "codemirror_mode": {
    "name": "ipython",
    "version": 3
   },
   "file_extension": ".py",
   "mimetype": "text/x-python",
   "name": "python",
   "nbconvert_exporter": "python",
   "pygments_lexer": "ipython3",
   "version": "3.9.13"
  },
  "orig_nbformat": 4
 },
 "nbformat": 4,
 "nbformat_minor": 2
}
