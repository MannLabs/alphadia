{
 "cells": [
  {
   "cell_type": "code",
   "execution_count": 1,
   "metadata": {},
   "outputs": [
    {
     "name": "stderr",
     "output_type": "stream",
     "text": [
      "2025-03-11 12:59:36,894 - rdkit - INFO - Enabling RDKit 2024.03.3 jupyter extensions\n",
      "/Users/tungvuduc/opt/anaconda3/envs/alpha_dia/lib/python3.12/site-packages/tqdm/auto.py:21: TqdmWarning: IProgress not found. Please update jupyter and ipywidgets. See https://ipywidgets.readthedocs.io/en/stable/user_install.html\n",
      "  from .autonotebook import tqdm as notebook_tqdm\n"
     ]
    }
   ],
   "source": [
    "%load_ext autoreload\n",
    "%autoreload 2\n",
    "\n",
    "import os\n",
    "from alphadia.outputtransform import QuantBuilder\n",
    "from alphabase.spectral_library import base\n",
    "from alphadia import outputtransform\n",
    "import pandas as pd"
   ]
  },
  {
   "cell_type": "code",
   "execution_count": 10,
   "metadata": {},
   "outputs": [],
   "source": [
    "base_spec_lib = base.SpecLibBase()\n",
    "quant_folder = '/Users/tungvuduc/Desktop/PhD/projects/repos/selectLFQ/selectlfq/data/benchmark_data/MixedSpeciesOlsen/alphadia_1.10.0/second_pass/quant'\n",
    "\n",
    "folder_list = [os.path.join(quant_folder, f) for f in os.listdir(quant_folder) if os.path.isdir(os.path.join(quant_folder, f))]\n",
    "output_folder = '/Users/tungvuduc/Desktop/PhD/projects/repos/selectLFQ/selectlfq/data/benchmark_data/MixedSpeciesOlsen/alphadia_1.10.0/second_pass'"
   ]
  },
  {
   "cell_type": "code",
   "execution_count": 11,
   "metadata": {},
   "outputs": [],
   "source": [
    "config = {\n",
    "        \"general\": {\n",
    "            \"thread_count\": 8,\n",
    "        },\n",
    "        \"fdr\": {\n",
    "            \"fdr\": 0.01,\n",
    "            \"inference_strategy\": 'maximum_parsimony',\n",
    "            \"group_level\": \"genes\",\n",
    "            \"keep_decoys\": False,\n",
    "        },\n",
    "        \"search_output\": {\n",
    "            \"min_k_fragments\": 12,\n",
    "            \"min_correlation\": 0.9,\n",
    "            \"num_samples_quadratic\": 50,\n",
    "            \"min_nonnan\": 3,\n",
    "            \"peptide_level_lfq\": False,\n",
    "            \"precursor_level_lfq\": True,\n",
    "            \"normalize_lfq\": True,\n",
    "            \"file_format\": \"tsv\",\n",
    "        },\n",
    "    }\n",
    "\n",
    "output = outputtransform.SearchPlanOutput(config, output_folder)\n"
   ]
  },
  {
   "cell_type": "code",
   "execution_count": 12,
   "metadata": {},
   "outputs": [
    {
     "name": "stdout",
     "output_type": "stream",
     "text": [
      "2025-03-11 15:56:53> Reading /Users/tungvuduc/Desktop/PhD/projects/repos/selectLFQ/selectlfq/data/benchmark_data/MixedSpeciesOlsen/alphadia_1.10.0/second_pass/precursors.tsv from disk\n"
     ]
    }
   ],
   "source": [
    "output = outputtransform.SearchPlanOutput(config, output_folder)\n",
    "psm_df = output.load_precursor_table()"
   ]
  },
  {
   "cell_type": "code",
   "execution_count": 13,
   "metadata": {},
   "outputs": [
    {
     "name": "stdout",
     "output_type": "stream",
     "text": [
      "2025-03-11 15:57:18> Accumulating fragment data\n",
      "2025-03-11 15:57:18> reading frag file for 20230324_OLEP08_200ng_30min_E40H50Y10_180K_2Th3p5ms_03\n",
      "2025-03-11 15:57:18> reading frag file for 20230324_OLEP08_200ng_30min_E10H50Y40_180K_2Th3p5ms_01\n",
      "2025-03-11 15:57:31> reading frag file for 20230324_OLEP08_200ng_30min_E40H50Y10_180K_2Th3p5ms_02\n",
      "2025-03-11 15:57:41> reading frag file for 20230324_OLEP08_200ng_30min_E30H50Y20_180K_2Th3p5ms_02\n",
      "2025-03-11 15:57:50> reading frag file for 20230324_OLEP08_200ng_30min_E45H50Y5_180K_2Th3p5ms_03\n",
      "2025-03-11 15:58:00> reading frag file for 20230324_OLEP08_200ng_30min_E20H50Y30_180K_2Th3p5ms_01\n",
      "2025-03-11 15:58:10> reading frag file for 20230324_OLEP08_200ng_30min_E30H50Y20_180K_2Th3p5ms_03\n",
      "2025-03-11 15:58:20> reading frag file for 20230324_OLEP08_200ng_30min_E45H50Y5_180K_2Th3p5ms_02\n",
      "2025-03-11 15:58:30> reading frag file for 20230324_OLEP08_200ng_30min_E5H50Y45_180K_2Th3p5ms_01\n",
      "2025-03-11 15:58:40> reading frag file for 20230324_OLEP08_200ng_30min_E10H50Y40_180K_2Th3p5ms_03\n",
      "2025-03-11 15:58:51> reading frag file for 20230324_OLEP08_200ng_30min_E40H50Y10_180K_2Th3p5ms_01\n",
      "2025-03-11 15:59:01> reading frag file for 20230324_OLEP08_200ng_30min_E10H50Y40_180K_2Th3p5ms_02\n",
      "2025-03-11 15:59:12> reading frag file for 20230324_OLEP08_200ng_30min_E20H50Y30_180K_2Th3p5ms_03\n",
      "2025-03-11 15:59:23> reading frag file for 20230324_OLEP08_200ng_30min_E30H50Y20_180K_2Th3p5ms_01\n",
      "2025-03-11 15:59:33> reading frag file for 20230324_OLEP08_200ng_30min_E45H50Y5_180K_2Th3p5ms_01\n",
      "2025-03-11 15:59:44> reading frag file for 20230324_OLEP08_200ng_30min_E20H50Y30_180K_2Th3p5ms_02\n",
      "2025-03-11 15:59:55> reading frag file for 20230324_OLEP08_200ng_30min_E5H50Y45_180K_2Th3p5ms_03\n",
      "2025-03-11 16:00:06> reading frag file for 20230324_OLEP08_200ng_30min_E5H50Y45_180K_2Th3p5ms_02\n"
     ]
    }
   ],
   "source": [
    "qb = QuantBuilder(psm_df[psm_df[\"decoy\"] == 0])\n",
    "df_list = qb.accumulate_frag_df_from_folders(folder_list)"
   ]
  },
  {
   "cell_type": "code",
   "execution_count": 21,
   "metadata": {},
   "outputs": [],
   "source": [
    "# save the feature data\n",
    "# create a feature folder in the output folder\n",
    "feature_folder = os.path.join(output_folder, \"features\")\n",
    "if not os.path.exists(feature_folder):\n",
    "    os.makedirs(feature_folder, exist_ok=True)\n",
    "\n",
    "for feature, df in zip(qb.column, df_list):\n",
    "    df.to_csv(f'{feature_folder}/{feature}.csv')"
   ]
  }
 ],
 "metadata": {
  "kernelspec": {
   "display_name": "alpha_dia",
   "language": "python",
   "name": "python3"
  },
  "language_info": {
   "codemirror_mode": {
    "name": "ipython",
    "version": 3
   },
   "file_extension": ".py",
   "mimetype": "text/x-python",
   "name": "python",
   "nbconvert_exporter": "python",
   "pygments_lexer": "ipython3",
   "version": "3.12.9"
  }
 },
 "nbformat": 4,
 "nbformat_minor": 2
}
