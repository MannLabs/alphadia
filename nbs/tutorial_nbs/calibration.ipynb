{
 "cells": [
  {
   "cell_type": "code",
   "execution_count": null,
   "metadata": {},
   "outputs": [],
   "source": [
    "from alphadia.calibration.property import calibration_model_provider, Calibration\n",
    "from alphadia.workflow.managers.calibration_manager import CalibrationManager\n",
    "%reload_ext autoreload\n",
    "%autoreload 2\n",
    "\n",
    "import numpy as np\n",
    "import pandas as pd\n",
    "import matplotlib.pyplot as plt"
   ]
  },
  {
   "cell_type": "markdown",
   "metadata": {},
   "source": [
    "# Calibration Models\n",
    "By default, alphaDIA comes with different calibration models all provided by the `calibration.calibration_model_provider`.\n",
    "We can print the model provider to see what models are available."
   ]
  },
  {
   "cell_type": "code",
   "execution_count": null,
   "metadata": {},
   "outputs": [],
   "source": [
    "calibration_model_provider"
   ]
  },
  {
   "cell_type": "markdown",
   "metadata": {},
   "source": [
    "# Calibrating a Single Property"
   ]
  },
  {
   "cell_type": "code",
   "execution_count": null,
   "metadata": {},
   "outputs": [],
   "source": [
    "mz_library = np.linspace(100, 1000, 1000)\n",
    "mz_observed = mz_library + np.random.normal(0, 0.1, 1000) + mz_library * 0.001\n",
    "mz_df = pd.DataFrame({\"mz_library\": mz_library, \"mz_observed\": mz_observed})\n",
    "\n",
    "# We will calculate the difference between the observed and library mz values only for plotting purposes\n",
    "mz_residual = mz_df[\"mz_observed\"] - mz_df[\"mz_library\"]\n",
    "plt.scatter(mz_df[\"mz_library\"], mz_residual, s=1)\n",
    "plt.xlabel(\"mz_library\")\n",
    "plt.ylabel(\"mz_observed - mz_library\")"
   ]
  },
  {
   "cell_type": "code",
   "execution_count": null,
   "metadata": {},
   "outputs": [],
   "source": [
    "# we will use a scikit-learn model to calibrate the mz values\n",
    "from sklearn.linear_model import LinearRegression\n",
    "\n",
    "# We will use a linear regression model to calibrate the mz values\n",
    "mz_calibration = Calibration(\n",
    "    name=\"mz_calibration\",\n",
    "    model=LinearRegression(),\n",
    "    input_columns=[\"mz_library\"],\n",
    "    target_columns=[\"mz_observed\"],\n",
    "    output_columns=[\"mz_calibrated\"],\n",
    "    transform_deviation=1e6,\n",
    ")\n",
    "\n",
    "# The model is then fit to the data\n",
    "mz_calibration.fit(mz_df, plot=True)"
   ]
  },
  {
   "cell_type": "code",
   "execution_count": null,
   "metadata": {},
   "outputs": [],
   "source": [
    "# The model can then be used to predict the calibrated mz values\n",
    "# This happens in place by default\n",
    "mz_calibration.predict(mz_df)\n",
    "print(mz_df.head())"
   ]
  },
  {
   "cell_type": "code",
   "execution_count": null,
   "metadata": {},
   "outputs": [],
   "source": [
    "# We can also get the 99% percentile error of the model\n",
    "# It will return an numpy array with an element for every input column\n",
    "print(mz_calibration.ci(mz_df, 0.95))"
   ]
  },
  {
   "cell_type": "code",
   "execution_count": null,
   "metadata": {},
   "outputs": [],
   "source": [
    "import tempfile\n",
    "import os\n",
    "\n",
    "path = os.path.join(tempfile.tempdir, \"mz_calibration.pkl\")\n",
    "mz_calibration.save(path)\n",
    "\n",
    "mz_calibration_loaded = Calibration.from_file(path)\n",
    "mz_calibration_loaded.predict(mz_df)\n",
    "print(mz_df.head())"
   ]
  },
  {
   "cell_type": "markdown",
   "metadata": {},
   "source": [
    "# Calibrating a Single Property using Multiple Inputs"
   ]
  },
  {
   "cell_type": "code",
   "execution_count": null,
   "metadata": {},
   "outputs": [],
   "source": [
    "rt_library = np.linspace(0, 100, 1000)\n",
    "mz_library = np.random.uniform(100, 1000, 1000)\n",
    "mz_observed = (\n",
    "    mz_library\n",
    "    + np.random.normal(0, 0.01, 1000)\n",
    "    + mz_library * 0.0001\n",
    "    - rt_library * 0.0001\n",
    ")\n",
    "mz_df = pd.DataFrame(\n",
    "    {\"rt_library\": rt_library, \"mz_library\": mz_library, \"mz_observed\": mz_observed}\n",
    ")\n",
    "\n",
    "mz_residual = mz_df[\"mz_observed\"] - mz_df[\"mz_library\"]\n",
    "plt.scatter(mz_df[\"rt_library\"], mz_residual, s=1)\n",
    "plt.xlabel(\"rt_library\")\n",
    "plt.ylabel(\"mz_observed - mz_library\")\n",
    "plt.show()\n",
    "\n",
    "plt.scatter(mz_df[\"mz_library\"], mz_residual, s=1)\n",
    "plt.xlabel(\"mz_library\")\n",
    "plt.ylabel(\"mz_observed - mz_library\")\n",
    "plt.show()"
   ]
  },
  {
   "cell_type": "code",
   "execution_count": null,
   "metadata": {},
   "outputs": [],
   "source": [
    "# We will use a linear regression model to calibrate the mz values\n",
    "mz_calibration = Calibration(\n",
    "    name=\"mz_calibration\",\n",
    "    model=LinearRegression(),\n",
    "    input_columns=[\"mz_library\", \"rt_library\"],\n",
    "    target_columns=[\"mz_observed\"],\n",
    "    output_columns=[\"mz_calibrated\"],\n",
    "    transform_deviation=1e6,\n",
    ")\n",
    "\n",
    "# The model is then fit to the data\n",
    "mz_calibration.fit(mz_df, plot=True)"
   ]
  },
  {
   "cell_type": "markdown",
   "metadata": {},
   "source": [
    "# Using the Calibration Manager to handle more complexe cases"
   ]
  },
  {
   "cell_type": "code",
   "execution_count": null,
   "metadata": {},
   "outputs": [],
   "source": [
    "# initialize the calibration manager\n",
    "calibration_manager = CalibrationManager()\n",
    "\n",
    "# load the config from a dictionary. The dictionary could be loaded from a yaml file\n",
    "calibration_manager.setup_estimator_groups(\n",
    "    [\n",
    "        {\n",
    "            \"name\": \"mz_calibration\",\n",
    "            \"estimators\": [\n",
    "                {\n",
    "                    \"name\": \"mz\",\n",
    "                    \"model\": \"LinearRegression\",\n",
    "                    \"input_columns\": [\"mz_library\"],\n",
    "                    \"target_columns\": [\"mz_observed\"],\n",
    "                    \"output_columns\": [\"mz_calibrated\"],\n",
    "                    \"transform_deviation\": 1e6,\n",
    "                },\n",
    "                {\n",
    "                    \"name\": \"rt\",\n",
    "                    \"model\": \"PolynomialRegression\",\n",
    "                    \"model_args\": {\"degree\": 3},\n",
    "                    \"input_columns\": [\"rt_library\"],\n",
    "                    \"target_columns\": [\"rt_observed\"],\n",
    "                    \"output_columns\": [\"rt_calibrated\"],\n",
    "                    \"transform_deviation\": None,\n",
    "                },\n",
    "            ],\n",
    "        }\n",
    "    ]\n",
    ")"
   ]
  },
  {
   "cell_type": "code",
   "execution_count": null,
   "metadata": {},
   "outputs": [],
   "source": [
    "# The calibration manager contains a single estimator group with two calibration estimators\n",
    "calibration_manager.estimator_groups"
   ]
  },
  {
   "cell_type": "code",
   "execution_count": null,
   "metadata": {},
   "outputs": [],
   "source": [
    "# lets create some test data with mz and rt values\n",
    "mz_library = np.linspace(100, 1000, 1000)\n",
    "mz_observed = (\n",
    "    mz_library + np.random.normal(0, 0.001, 1000) + mz_library * 0.00001 + 0.005\n",
    ")\n",
    "\n",
    "rt_library = np.linspace(0, 100, 1000)\n",
    "rt_observed = rt_library + np.random.normal(0, 0.5, 1000) + np.sin(rt_library * 0.05)\n",
    "\n",
    "df = pd.DataFrame(\n",
    "    {\n",
    "        \"mz_library\": mz_library,\n",
    "        \"mz_observed\": mz_observed,\n",
    "        \"rt_library\": rt_library,\n",
    "        \"rt_observed\": rt_observed,\n",
    "    }\n",
    ")"
   ]
  },
  {
   "cell_type": "code",
   "execution_count": null,
   "metadata": {},
   "outputs": [],
   "source": [
    "# First, we will manually retrieve the mz estimators and fit them to the data\n",
    "groups = calibration_manager.CALIBRATION_GROUPS_CONFIG.keys()\n",
    "print(f\"groups: {groups}\")\n",
    "estimators = [estimator.name for estimator in groups[0]]\n",
    "print(f\"estimators: {estimators}\")\n",
    "\n",
    "# collect the estimator instance and fit it to the data\n",
    "estimator = calibration_manager.get_estimator(groups[0], estimators[0])\n",
    "estimator.fit(df, plot=True)\n",
    "# predict the calibrated values\n",
    "estimator.predict(df)"
   ]
  },
  {
   "cell_type": "code",
   "execution_count": null,
   "metadata": {},
   "outputs": [],
   "source": [
    "# Now we will perform the calibration on the group level\n",
    "# All estimators in the group will be fit to the data\n",
    "calibration_manager.fit(df, groups[0], plot=True)\n",
    "\n",
    "# we can then predict the calibrated values for all estimators in the group\n",
    "calibration_manager.predict(df, groups[0])"
   ]
  },
  {
   "cell_type": "code",
   "execution_count": null,
   "metadata": {},
   "outputs": [],
   "source": []
  },
  {
   "cell_type": "code",
   "execution_count": null,
   "metadata": {},
   "outputs": [],
   "source": [
    "temp_path = path = os.path.join(tempfile.tempdir, \"calibration.pkl\")\n",
    "calibration_manager._path = temp_path\n",
    "calibration_manager.save()\n",
    "\n",
    "calibration_manager_loaded = CalibrationManager(temp_path)\n",
    "calibration_manager_loaded.load()\n",
    "\n",
    "# We can also get the 99% percentile error of the model for all estimators in the group\n",
    "for estimator in calibration_manager_loaded.estimator_groups[0].values():\n",
    "    ci = estimator.ci(df, 0.95)\n",
    "    print(f\" 95% CI for {estimator}: {ci}\")"
   ]
  }
 ],
 "metadata": {
  "kernelspec": {
   "display_name": "alpha",
   "language": "python",
   "name": "python3"
  },
  "language_info": {
   "codemirror_mode": {
    "name": "ipython",
    "version": 3
   },
   "file_extension": ".py",
   "mimetype": "text/x-python",
   "name": "python",
   "nbconvert_exporter": "python",
   "pygments_lexer": "ipython3"
  }
 },
 "nbformat": 4,
 "nbformat_minor": 2
}
