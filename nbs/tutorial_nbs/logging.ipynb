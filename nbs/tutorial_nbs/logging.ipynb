{
 "cells": [
  {
   "cell_type": "code",
   "execution_count": 1,
   "metadata": {},
   "outputs": [],
   "source": [
    "%reload_ext autoreload\n",
    "%autoreload 2\n",
    "\n",
    "from alphadia.extraction.workflow import reporting"
   ]
  },
  {
   "cell_type": "code",
   "execution_count": 2,
   "metadata": {},
   "outputs": [
    {
     "name": "stderr",
     "output_type": "stream",
     "text": [
      "0:00:00.000142 \u001B[32;20mPROGRESS: test\u001B[0m\n",
      "0:00:00.001181 INFO: test\n",
      "0:00:00.002749 \u001B[33;20mWARNING: test\u001B[0m\n",
      "0:00:00.004025 \u001B[31;20mERROR: test\u001B[0m\n",
      "0:00:00.005516 \u001B[31;1mCRITICAL: test\u001B[0m\n"
     ]
    }
   ],
   "source": [
    "from matplotlib import pyplot as plt\n",
    "import numpy as np\n",
    "import tempfile\n",
    "import os\n",
    "import logging\n",
    "\n",
    "\n",
    "def test_logging():\n",
    "    tempfolder = tempfile.gettempdir()\n",
    "\n",
    "    if os.path.exists(os.path.join(tempfolder, \"log.txt\")):\n",
    "        os.remove(os.path.join(tempfolder, \"log.txt\"))\n",
    "\n",
    "    reporting.init_logging(tempfolder)\n",
    "    python_logger = logging.getLogger()\n",
    "    python_logger.progress(\"test\")\n",
    "    python_logger.info(\"test\")\n",
    "    python_logger.warning(\"test\")\n",
    "    python_logger.error(\"test\")\n",
    "    python_logger.critical(\"test\")\n",
    "\n",
    "    assert os.path.exists(os.path.join(tempfolder, \"log.txt\"))\n",
    "    with open(os.path.join(tempfolder, \"log.txt\"), \"r\") as f:\n",
    "        string = f.read()\n",
    "        assert string.count(\"test\") == 5\n",
    "\n",
    "    os.remove(os.path.join(tempfolder, \"log.txt\"))\n",
    "\n",
    "\n",
    "test_logging()\n",
    "\n",
    "\n",
    "def test_backend():\n",
    "    backend = reporting.Backend()\n",
    "    backend.log_event(\"start_extraction\", None)\n",
    "    backend.log_metric(\"accuracy\", 0.9)\n",
    "    backend.log_string(\"test\")\n",
    "    backend.log_figure(\"scatter\", None)\n",
    "    backend.log_data(\"test\", None)\n",
    "\n",
    "\n",
    "test_backend()\n",
    "\n",
    "\n",
    "def test_figure_backend():\n",
    "    figure_backend = reporting.FigureBackend(path=tempfile.gettempdir())\n",
    "\n",
    "    fig, ax = plt.subplots(1, 1, figsize=(5, 5))\n",
    "    ax.scatter(np.random.rand(10), np.random.rand(10))\n",
    "\n",
    "    figure_backend.log_figure(\"scatter\", fig)\n",
    "    plt.close(fig)\n",
    "\n",
    "    assert os.path.exists(\n",
    "        os.path.join(tempfile.gettempdir(), figure_backend.FIGURE_PATH, \"scatter.png\")\n",
    "    )\n",
    "    os.remove(\n",
    "        os.path.join(tempfile.gettempdir(), figure_backend.FIGURE_PATH, \"scatter.png\")\n",
    "    )\n",
    "\n",
    "\n",
    "test_figure_backend()\n",
    "\n",
    "\n",
    "def test_jsonl_backend():\n",
    "    with reporting.JSONLBackend(path=tempfile.gettempdir()) as jsonl_backend:\n",
    "        jsonl_backend.log_event(\"start_extraction\", None)\n",
    "        jsonl_backend.log_metric(\"accuracy\", 0.9)\n",
    "        jsonl_backend.log_string(\"test\")\n",
    "\n",
    "    assert os.path.exists(os.path.join(tempfile.gettempdir(), \"events.jsonl\"))\n",
    "    with open(os.path.join(tempfile.gettempdir(), \"events.jsonl\"), \"r\") as f:\n",
    "        assert len(f.readlines()) == 5\n",
    "    os.remove(os.path.join(tempfile.gettempdir(), \"events.jsonl\"))\n",
    "\n",
    "\n",
    "test_jsonl_backend()\n",
    "\n",
    "\n",
    "def test_pipeline():\n",
    "    tempdir = tempfile.gettempdir()\n",
    "\n",
    "    pipeline = reporting.Pipeline(\n",
    "        backends=[\n",
    "            reporting.JSONLBackend(path=tempdir),\n",
    "            reporting.FigureBackend(path=tempdir),\n",
    "        ]\n",
    "    )\n",
    "\n",
    "    with pipeline.context:\n",
    "        pipeline.log_event(\"start_extraction\", None)\n",
    "        pipeline.log_metric(\"accuracy\", 0.9)\n",
    "        pipeline.log_string(\"test\")\n",
    "\n",
    "        fig, ax = plt.subplots(1, 1, figsize=(5, 5))\n",
    "        ax.scatter(np.random.rand(10), np.random.rand(10))\n",
    "        pipeline.log_figure(\"scatter\", fig)\n",
    "        plt.close(fig)\n",
    "\n",
    "    assert os.path.exists(os.path.join(tempdir, \"events.jsonl\"))\n",
    "    assert os.path.exists(os.path.join(tempdir, \"figures\", \"scatter.png\"))\n",
    "\n",
    "\n",
    "test_pipeline()"
   ]
  },
  {
   "cell_type": "code",
   "execution_count": 15,
   "metadata": {},
   "outputs": [],
   "source": [
    "def test_pipeline():\n",
    "    tempdir = \"/Users/georgwallmann/Documents/data/performance_tests/outputs\"\n",
    "\n",
    "    pipeline = reporting.Pipeline(\n",
    "        backends=[\n",
    "            reporting.LogBackend(),\n",
    "            reporting.JSONLBackend(path=tempdir),\n",
    "            reporting.FigureBackend(path=tempdir),\n",
    "        ]\n",
    "    )\n",
    "\n",
    "    with pipeline.context:\n",
    "        pipeline.log_event(\"start_extraction\", None)\n",
    "        pipeline.log_metric(\"accuracy\", 0.9)\n",
    "        pipeline.log_string(\"test\")\n",
    "        pipeline.log_string(\"test2\", verbosity=\"progress\")\n",
    "\n",
    "        fig, ax = plt.subplots(1, 1, figsize=(5, 5))\n",
    "        ax.scatter(np.random.rand(10), np.random.rand(10))\n",
    "        # pipeline.log_figure(\"scatter\", fig)\n",
    "        plt.close(fig)\n",
    "\n",
    "    # assert os.path.exists(os.path.join(tempdir, \"log.txt\"))\n",
    "    assert os.path.exists(os.path.join(tempdir, \"events.jsonl\"))\n",
    "    assert os.path.exists(os.path.join(tempdir, \"figures\", \"scatter.png\"))"
   ]
  },
  {
   "cell_type": "code",
   "execution_count": 16,
   "metadata": {},
   "outputs": [
    {
     "name": "stderr",
     "output_type": "stream",
     "text": [
      "0:02:32.645095 INFO: test\n"
     ]
    },
    {
     "name": "stderr",
     "output_type": "stream",
     "text": [
      "0:02:32.650484 \u001B[32;20mPROGRESS: test2\u001B[0m\n"
     ]
    }
   ],
   "source": [
    "test_pipeline()"
   ]
  },
  {
   "cell_type": "code",
   "execution_count": null,
   "metadata": {},
   "outputs": [],
   "source": []
  }
 ],
 "metadata": {
  "kernelspec": {
   "display_name": "alpha",
   "language": "python",
   "name": "python3"
  },
  "language_info": {
   "codemirror_mode": {
    "name": "ipython",
    "version": 3
   },
   "file_extension": ".py",
   "mimetype": "text/x-python",
   "name": "python",
   "nbconvert_exporter": "python",
   "pygments_lexer": "ipython3",
   "version": "3.9.13"
  },
  "orig_nbformat": 4
 },
 "nbformat": 4,
 "nbformat_minor": 2
}
