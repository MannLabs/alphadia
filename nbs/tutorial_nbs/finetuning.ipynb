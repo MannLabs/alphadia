{
 "cells": [
  {
   "cell_type": "code",
   "metadata": {},
   "source": [
    "%reload_ext autoreload\n",
    "%autoreload 2\n",
    "\n",
    "import matplotlib.pyplot as plt\n",
    "from alphabase.spectral_library.base import SpecLibBase\n",
    "from alphadia.transferlearning.train import *\n",
    "from alphabase.tools.data_downloader import DataShareDownloader\n",
    "import tempfile\n",
    "import seaborn as sns\n",
    "\n",
    "from alphadia.workflow import reporting # noqa: this is to avoid AttributeError: 'RootLogger' object has no attribute 'progress'\n",
    "\n",
    "sns.set()"
   ],
   "outputs": [],
   "execution_count": null
  },
  {
   "cell_type": "code",
   "metadata": {},
   "source": [
    "import torch\n",
    "torch.set_num_threads(10)"
   ],
   "outputs": [],
   "execution_count": null
  },
  {
   "cell_type": "code",
   "metadata": {},
   "source": [
    "tempdir = tempfile.gettempdir()\n",
    "DataShareDownloader(\"https://datashare.biochem.mpg.de/s/1GiKQSwlPf6YlMm/download?path=%2Ftransfer_pass&files=speclib.transfer.hdf\", tempdir).download()\n",
    "\n",
    "transfer_lib = SpecLibBase()\n",
    "transfer_lib.load_hdf(f'{tempdir}/speclib.transfer.hdf', load_mod_seq=True)\n"
   ],
   "outputs": [],
   "execution_count": null
  },
  {
   "cell_type": "code",
   "metadata": {},
   "source": [
    "transfer_lib.precursor_df = transfer_lib.precursor_df[~transfer_lib.precursor_df['mods'].str.contains('Dimethyl@C')]"
   ],
   "outputs": [],
   "execution_count": null
  },
  {
   "cell_type": "code",
   "metadata": {},
   "source": [
    "tune_mgr = FinetuneManager(\n",
    "    device=\"gpu\",\n",
    "    test_interval=3)\n"
   ],
   "outputs": [],
   "execution_count": null
  },
  {
   "cell_type": "markdown",
   "metadata": {},
   "source": [
    "## CCS Fine-tuning\n"
   ]
  },
  {
   "cell_type": "code",
   "metadata": {},
   "source": [
    "transfer_lib.precursor_df[\"mobility\"] = transfer_lib.precursor_df[\"mobility_observed\"]\n",
    "transfer_lib.precursor_df = tune_mgr.predict_mobility(transfer_lib.precursor_df)\n",
    "plt.scatter(transfer_lib.precursor_df['mobility'], transfer_lib.precursor_df['mobility_pred'], s=1, alpha=0.1)\n",
    "plt.xlabel('mobility observed')\n",
    "plt.ylabel('mobility predicted')"
   ],
   "outputs": [],
   "execution_count": null
  },
  {
   "cell_type": "code",
   "metadata": {},
   "source": [
    "ccs_stats = tune_mgr.finetune_ccs(transfer_lib.precursor_df)\n",
    "\n",
    "transfer_lib.precursor_df = tune_mgr.ccs_model.predict(transfer_lib.precursor_df)\n",
    "plt.scatter(transfer_lib.precursor_df['ccs'], transfer_lib.precursor_df['ccs_pred'], s=1, alpha=0.1)\n",
    "plt.xlabel('ccs observed')\n",
    "plt.ylabel('ccs predicted')"
   ],
   "outputs": [],
   "execution_count": null
  },
  {
   "cell_type": "code",
   "metadata": {},
   "source": [
    "g = sns.relplot(data=ccs_stats, x='epoch', y='value', hue='data_split', marker= 'o',dashes=False, col='metric_name', kind='line', col_wrap=2, facet_kws={'sharex': False, 'sharey': False, 'legend_out': False})\n",
    "g.set_titles(\"{col_name}\")\n",
    "g.legend.set_title('Data split')"
   ],
   "outputs": [],
   "execution_count": null
  },
  {
   "cell_type": "markdown",
   "metadata": {},
   "source": [
    "## RT Fine-tuning\n"
   ]
  },
  {
   "cell_type": "code",
   "metadata": {},
   "source": [
    "\n",
    "transfer_lib.precursor_df = tune_mgr.predict_rt(transfer_lib.precursor_df)\n",
    "plt.scatter(transfer_lib.precursor_df['rt_norm'], transfer_lib.precursor_df['rt_norm_pred'], s=1, alpha=0.1)\n",
    "plt.xlabel('RT observed')\n",
    "plt.ylabel('RT predicted')"
   ],
   "outputs": [],
   "execution_count": null
  },
  {
   "cell_type": "code",
   "metadata": {},
   "source": [
    "rt_stats = tune_mgr.finetune_rt(transfer_lib.precursor_df)\n",
    "\n",
    "transfer_lib.precursor_df = tune_mgr.predict_rt(transfer_lib.precursor_df)\n",
    "\n",
    "plt.scatter(transfer_lib.precursor_df['rt_norm'], transfer_lib.precursor_df['rt_norm_pred'], s=0.1, alpha=0.1)\n",
    "plt.xlabel('RT observed')\n",
    "plt.ylabel('RT predicted')\n"
   ],
   "outputs": [],
   "execution_count": null
  },
  {
   "cell_type": "code",
   "metadata": {},
   "source": [
    "g = sns.relplot(data=rt_stats, x='epoch', y='value', hue='data_split', marker= 'o',dashes=False, col='metric_name', kind='line', col_wrap=2, facet_kws={'sharex': False, 'sharey': False, 'legend_out': False})\n",
    "g.set_titles(\"{col_name}\")\n",
    "g.legend.set_title('Data split')"
   ],
   "outputs": [],
   "execution_count": null
  },
  {
   "cell_type": "markdown",
   "metadata": {},
   "source": [
    "## Charge Fine-tuning"
   ]
  },
  {
   "cell_type": "code",
   "metadata": {},
   "source": [
    "\n",
    "# Testing the charge finetuning on the transfer library\n",
    "charge_stats = tune_mgr.finetune_charge(psm_df=transfer_lib.precursor_df)"
   ],
   "outputs": [],
   "execution_count": null
  },
  {
   "cell_type": "code",
   "metadata": {},
   "source": [
    "g = sns.relplot(data=charge_stats, x='epoch', y='value', hue='data_split', marker= 'o',dashes=False, col='metric_name', kind='line', col_wrap=2, facet_kws={'sharex': False, 'sharey': False, 'legend_out': False})\n",
    "g.set_titles(\"{col_name}\")\n",
    "g.legend.set_title('Data split')\n"
   ],
   "outputs": [],
   "execution_count": null
  },
  {
   "cell_type": "markdown",
   "metadata": {},
   "source": [
    "## MS2 Fine-tuning"
   ]
  },
  {
   "cell_type": "code",
   "metadata": {},
   "source": [
    "# Uncomment the following line to only finetune the ms2 on high quality spectra\n",
    "# transfer_lib.precursor_df = transfer_lib.precursor_df[transfer_lib.precursor_df['use_for_ms2']]\n"
   ],
   "outputs": [],
   "execution_count": null
  },
  {
   "cell_type": "code",
   "metadata": {},
   "source": [
    "def calculate_similarity(precursor_df_a, precursor_df_b, intensity_df_a, intensity_df_b):\n",
    "\n",
    "    _a_df = precursor_df_a[['precursor_idx', 'frag_start_idx', 'frag_stop_idx']].copy()\n",
    "    _b_df = precursor_df_b[['precursor_idx', 'frag_start_idx', 'frag_stop_idx']].copy()\n",
    "\n",
    "    _merged_df = pd.merge(_a_df, _b_df, on='precursor_idx', suffixes=('_a', '_b'))\n",
    "    # keep only first precursor\n",
    "    _merged_df = _merged_df.drop_duplicates(subset='precursor_idx', keep='first')\n",
    "    similarity_list = []\n",
    "\n",
    "    for i, (start_a, stop_a, start_b, stop_b) in enumerate(zip(_merged_df['frag_start_idx_a'], _merged_df['frag_stop_idx_a'], _merged_df['frag_start_idx_b'], _merged_df['frag_stop_idx_b'])):\n",
    "        observed_intensity = intensity_df_a.iloc[start_a:stop_a, :4].values.flatten()\n",
    "        predicted_intensity = intensity_df_b.iloc[start_b:stop_b, :4].values.flatten()\n",
    "\n",
    "        similarity = np.dot(observed_intensity, predicted_intensity) / (np.linalg.norm(observed_intensity) * np.linalg.norm(predicted_intensity))\n",
    "        similarity_list.append({'similarity': similarity, 'index': i, 'precursor_idx': _merged_df.iloc[i]['precursor_idx']})\n",
    "\n",
    "    return pd.DataFrame(similarity_list)"
   ],
   "outputs": [],
   "execution_count": null
  },
  {
   "cell_type": "code",
   "metadata": {},
   "source": [
    "res = tune_mgr.predict_all(transfer_lib.precursor_df.copy(), predict_items=['ms2'])\n",
    "\n",
    "precursor_after_df = res['precursor_df']\n",
    "fragment_mz_after_df = res['fragment_mz_df']\n",
    "fragment_intensity_after_df = res['fragment_intensity_df']\n",
    "similarity_after_df = calculate_similarity(precursor_after_df, transfer_lib.precursor_df, fragment_intensity_after_df, transfer_lib.fragment_intensity_df)\n",
    "print(similarity_after_df['similarity'].median())\n",
    "plt.scatter(similarity_after_df['index'], similarity_after_df['similarity'], s=0.1)\n",
    "plt.xlabel('Index')\n",
    "plt.ylabel('Similarity')\n",
    "plt.title('Similarity between observed and predicted MS2 spectra before fine-tuning')"
   ],
   "outputs": [],
   "execution_count": null
  },
  {
   "cell_type": "code",
   "metadata": {},
   "source": [
    "\n",
    "# Testing the ms2 finetuning on the transfer library\n",
    "ms2_stats = tune_mgr.finetune_ms2(psm_df=transfer_lib.precursor_df.copy(), matched_intensity_df=transfer_lib.fragment_intensity_df.copy())"
   ],
   "outputs": [],
   "execution_count": null
  },
  {
   "cell_type": "code",
   "metadata": {},
   "source": [
    "res = tune_mgr.predict_all(transfer_lib.precursor_df.copy(), predict_items=[\"ms2\"])\n",
    "\n",
    "precursor_after_df = res[\"precursor_df\"]\n",
    "fragment_mz_after_df = res[\"fragment_mz_df\"]\n",
    "fragment_intensity_after_df = res[\"fragment_intensity_df\"]\n",
    "similarity_after_df = calculate_similarity(\n",
    "    precursor_after_df,\n",
    "    transfer_lib.precursor_df,\n",
    "    fragment_intensity_after_df,\n",
    "    transfer_lib.fragment_intensity_df,\n",
    ")\n",
    "print(similarity_after_df[\"similarity\"].median())\n",
    "plt.scatter(similarity_after_df[\"index\"], similarity_after_df[\"similarity\"], s=0.1)\n",
    "plt.xlabel(\"Index\")\n",
    "plt.ylabel(\"Similarity\")\n",
    "plt.title(\"Similarity between observed and predicted MS2 spectra after fine-tuning\")"
   ],
   "outputs": [],
   "execution_count": null
  },
  {
   "cell_type": "code",
   "metadata": {},
   "source": [
    "g = sns.relplot(data=ms2_stats, x='epoch', y='value', hue='data_split', marker= 'o',dashes=False, col='metric_name', kind='line', col_wrap=2, facet_kws={'sharex': False, 'sharey': False, 'legend_out': False})\n",
    "g.set_titles(\"{col_name}\")\n",
    "g.legend.set_title('Data split')\n"
   ],
   "outputs": [],
   "execution_count": null
  }
 ],
 "metadata": {
  "kernelspec": {
   "display_name": "alpha",
   "language": "python",
   "name": "python3"
  },
  "language_info": {
   "codemirror_mode": {
    "name": "ipython",
    "version": 3
   },
   "file_extension": ".py",
   "mimetype": "text/x-python",
   "name": "python",
   "nbconvert_exporter": "python",
   "pygments_lexer": "ipython3"
  }
 },
 "nbformat": 4,
 "nbformat_minor": 2
}
