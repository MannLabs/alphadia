{
 "cells": [
  {
   "cell_type": "code",
   "execution_count": 1,
   "metadata": {},
   "outputs": [],
   "source": [
    "%reload_ext autoreload\n",
    "%autoreload 2\n",
    "\n",
    "import numpy as np\n",
    "import pandas as pd\n",
    "import matplotlib.pyplot as plt\n",
    "import seaborn as sns\n",
    "import os\n",
    "\n",
    "from peptdeep.pretrained_models import ModelManager\n",
    "\n",
    "from alphabase.spectral_library.base import SpecLibBase\n",
    "from alphadia import data, planning\n",
    "from alphadia.workflow import manager, peptidecentric\n",
    "from alphadia.tunning import settings, FinetuneManager\n"
   ]
  },
  {
   "cell_type": "code",
   "execution_count": 2,
   "metadata": {},
   "outputs": [],
   "source": [
    "import torch\n",
    "torch.set_num_threads(10)"
   ]
  },
  {
   "cell_type": "code",
   "execution_count": 4,
   "metadata": {},
   "outputs": [],
   "source": [
    "transfer_lib = SpecLibBase()\n",
    "transfer_lib.load_hdf('alphaDia/second_pass_score/second_pass_score/output/speclib.transfer.hdf', load_mod_seq=True)"
   ]
  },
  {
   "cell_type": "code",
   "execution_count": 3,
   "metadata": {},
   "outputs": [],
   "source": [
    "transfer_lib = SpecLibBase()\n",
    "transfer_lib.load_hdf('alphaDia/d0_search/output/speclib.transfer.hdf', load_mod_seq=True)"
   ]
  },
  {
   "cell_type": "markdown",
   "metadata": {},
   "source": [
    "## RT Fine-tuning\n"
   ]
  },
  {
   "cell_type": "code",
   "execution_count": null,
   "metadata": {},
   "outputs": [],
   "source": [
    "\n",
    "tune_mgr = FinetuneManager(\n",
    "    device=\"mps\",\n",
    "    settings=settings)\n",
    "tune_mgr.nce = 25\n",
    "tune_mgr.instrument = 'Lumos'\n",
    "transfer_lib.precursor_df = tune_mgr.predict_rt(transfer_lib.precursor_df)\n",
    "plt.scatter(transfer_lib.precursor_df['rt_norm'], transfer_lib.precursor_df['rt_norm_pred'], s=1, alpha=0.1)\n",
    "plt.xlabel('RT observed')\n",
    "plt.ylabel('RT predicted')"
   ]
  },
  {
   "cell_type": "code",
   "execution_count": null,
   "metadata": {},
   "outputs": [],
   "source": [
    "stats = tune_mgr.finetune_rt(transfer_lib.precursor_df)\n",
    "\n",
    "transfer_lib.precursor_df = tune_mgr.predict_rt(transfer_lib.precursor_df)\n",
    "\n",
    "plt.scatter(transfer_lib.precursor_df['rt_norm'], transfer_lib.precursor_df['rt_norm_pred'], s=0.1, alpha=0.1)\n",
    "plt.xlabel('RT observed')\n",
    "plt.ylabel('RT predicted')\n"
   ]
  },
  {
   "cell_type": "code",
   "execution_count": null,
   "metadata": {},
   "outputs": [],
   "source": [
    "\n",
    "num_plots = len(stats.columns) - 3\n",
    "fig_col = 2\n",
    "fig_row = np.ceil(num_plots / fig_col).astype(int) + 1\n",
    "fig, ax = plt.subplots(fig_row, fig_col, figsize=(15, 5 * fig_row))\n",
    "\n",
    "x_axis = stats[\"epoch\"]\n",
    "# Train and test loss\n",
    "ax[0, 0].plot(x_axis, stats[\"train_loss\"], label=\"train\")\n",
    "ax[0, 0].plot(x_axis, stats[\"test_loss\"], label=\"test\")\n",
    "ax[0, 0].set_title(\"Loss\")\n",
    "ax[0, 0].set_xlabel(\"Epoch\")\n",
    "ax[0, 0].set_ylabel(\"Loss\")\n",
    "ax[0, 0].legend()\n",
    "\n",
    "\n",
    "# Rest of the columns\n",
    "columns_to_plot = stats.columns.drop([\"epoch\", \"train_loss\", \"test_loss\"])\n",
    "for i, column_name in enumerate(columns_to_plot):\n",
    "    row = (i + 1) // fig_col\n",
    "    col = (i + 1) % fig_col\n",
    "    ax[row, col].plot(x_axis, stats[column_name])\n",
    "    ax[row, col].set_title(column_name)\n",
    "    ax[row, col].set_xlabel(\"Epoch\")\n",
    "    ax[row, col].set_ylabel(column_name)\n",
    "\n",
    "\n",
    "plt.tight_layout()\n",
    "plt.show()"
   ]
  },
  {
   "cell_type": "markdown",
   "metadata": {},
   "source": [
    "## Charge Fine-tuning"
   ]
  },
  {
   "cell_type": "code",
   "execution_count": null,
   "metadata": {},
   "outputs": [],
   "source": [
    "\n",
    "# Testing the charge finetuning on the transfer library\n",
    "stats = tune_mgr.finetune_charge(psm_df=transfer_lib.precursor_df)"
   ]
  },
  {
   "cell_type": "code",
   "execution_count": null,
   "metadata": {},
   "outputs": [],
   "source": [
    "\n",
    "num_plots = len(stats.columns) - 3\n",
    "fig_col = 2\n",
    "fig_row = np.ceil(num_plots / fig_col).astype(int) + 1\n",
    "fig, ax = plt.subplots(fig_row, fig_col, figsize=(15, 5 * fig_row))\n",
    "\n",
    "x_axis = stats[\"epoch\"]\n",
    "# Train and test loss\n",
    "ax[0, 0].plot(x_axis, stats[\"train_loss\"], label=\"train\")\n",
    "ax[0, 0].plot(x_axis, stats[\"test_loss\"], label=\"test\")\n",
    "ax[0, 0].set_title(\"Loss\")\n",
    "ax[0, 0].set_xlabel(\"Epoch\")\n",
    "ax[0, 0].set_ylabel(\"Loss\")\n",
    "ax[0, 0].legend()\n",
    "\n",
    "# Rest of the columns\n",
    "columns_to_plot = stats.columns.drop([\"epoch\", \"train_loss\", \"test_loss\"])\n",
    "for i, column_name in enumerate(columns_to_plot):\n",
    "    row = (i + 1) // fig_col\n",
    "    col = (i + 1) % fig_col\n",
    "    ax[row, col].plot(x_axis, stats[column_name])\n",
    "    ax[row, col].set_title(column_name)\n",
    "    ax[row, col].set_xlabel(\"Epoch\")\n",
    "    ax[row, col].set_ylabel(column_name)\n",
    "\n",
    "\n",
    "plt.tight_layout()\n",
    "plt.show()"
   ]
  },
  {
   "cell_type": "markdown",
   "metadata": {},
   "source": [
    "## MS2 Fine-tuning"
   ]
  },
  {
   "cell_type": "code",
   "execution_count": null,
   "metadata": {},
   "outputs": [],
   "source": [
    "\n",
    "# Testing the ms2 finetuning on the transfer library\n",
    "stats = tune_mgr.finetune_ms2(psm_df=transfer_lib.precursor_df,matched_intensity_df=transfer_lib.fragment_intensity_df)"
   ]
  },
  {
   "cell_type": "code",
   "execution_count": null,
   "metadata": {},
   "outputs": [],
   "source": [
    "\n",
    "num_plots = len(stats.columns) - 3\n",
    "fig_col = 2\n",
    "fig_row = np.ceil(num_plots / fig_col).astype(int) + 1\n",
    "fig, ax = plt.subplots(fig_row, fig_col, figsize=(15, 5 * fig_row))\n",
    "\n",
    "x_axis = stats[\"epoch\"]\n",
    "# Train and test loss\n",
    "ax[0, 0].plot(x_axis, stats[\"train_loss\"], label=\"train\")\n",
    "ax[0, 0].plot(x_axis, stats[\"test_loss\"], label=\"test\")\n",
    "ax[0, 0].set_title(\"Loss\")\n",
    "ax[0, 0].set_xlabel(\"Epoch\")\n",
    "ax[0, 0].set_ylabel(\"Loss\")\n",
    "ax[0, 0].legend()\n",
    "\n",
    "\n",
    "# Rest of the columns\n",
    "columns_to_plot = stats.columns.drop([\"epoch\", \"train_loss\", \"test_loss\"])\n",
    "for i, column_name in enumerate(columns_to_plot):\n",
    "    row = (i + 1) // fig_col\n",
    "    col = (i + 1) % fig_col\n",
    "    ax[row, col].plot(x_axis, stats[column_name])\n",
    "    ax[row, col].set_title(column_name)\n",
    "    ax[row, col].set_xlabel(\"Epoch\")\n",
    "    ax[row, col].set_ylabel(column_name)\n",
    "\n",
    "\n",
    "plt.tight_layout()\n",
    "plt.show()"
   ]
  }
 ],
 "metadata": {
  "kernelspec": {
   "display_name": "alpha",
   "language": "python",
   "name": "python3"
  },
  "language_info": {
   "codemirror_mode": {
    "name": "ipython",
    "version": 3
   },
   "file_extension": ".py",
   "mimetype": "text/x-python",
   "name": "python",
   "nbconvert_exporter": "python",
   "pygments_lexer": "ipython3",
   "version": "3.9.18"
  }
 },
 "nbformat": 4,
 "nbformat_minor": 2
}
