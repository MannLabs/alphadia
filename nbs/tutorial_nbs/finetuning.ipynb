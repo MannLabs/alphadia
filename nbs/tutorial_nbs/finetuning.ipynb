{
 "cells": [
  {
   "cell_type": "code",
   "execution_count": 1,
   "metadata": {},
   "outputs": [],
   "source": [
    "import pandas as pd\n",
    "import numpy as np\n",
    "import matplotlib.pyplot as plt\n",
    "import seaborn as sns\n",
    "import os"
   ]
  },
  {
   "cell_type": "code",
   "execution_count": 2,
   "metadata": {},
   "outputs": [
    {
     "name": "stderr",
     "output_type": "stream",
     "text": [
      "/Users/georgwallmann/miniconda3/envs/alpha/lib/python3.9/site-packages/tqdm/auto.py:21: TqdmWarning: IProgress not found. Please update jupyter and ipywidgets. See https://ipywidgets.readthedocs.io/en/stable/user_install.html\n",
      "  from .autonotebook import tqdm as notebook_tqdm\n"
     ]
    }
   ],
   "source": [
    "from alphabase.spectral_library import base\n",
    "from alphadia import outputtransform\n",
    "from alphadia.workflow import reporting"
   ]
  },
  {
   "cell_type": "code",
   "execution_count": null,
   "metadata": {},
   "outputs": [],
   "source": [
    "base_spec_lib = base.SpecLibBase()\n",
    "base_spec_lib.load_hdf('/Users/georgwallmann/Documents/data/alphadia_manuscript/experiments/2023_12_13_mixed_species_astral/second_pass_polon_fragcomp/speclib.hdf', load_mod_seq=True)\n",
    "\n",
    "progress_folder = '/Users/georgwallmann/Documents/data/alphadia_manuscript/experiments/2023_12_13_mixed_species_astral/second_pass_polon_fragcomp/.progress'\n",
    "folder_list = [os.path.join(progress_folder, f) for f in os.listdir(progress_folder) if os.path.isdir(os.path.join(progress_folder, f))]\n",
    "\n",
    "\n",
    "output_folder = '/Users/georgwallmann/Documents/data/alphadia_manuscript/experiments/2023_12_13_mixed_species_astral/second_pass_polon_fragcomp_k=12'\n"
   ]
  },
  {
   "cell_type": "code",
   "execution_count": null,
   "metadata": {},
   "outputs": [],
   "source": [
    "config = {\n",
    "        \"general\": {\n",
    "            \"thread_count\": 8,\n",
    "        },\n",
    "        \"fdr\": {\n",
    "            \"fdr\": 0.01,\n",
    "            \"inference_strategy\": 'maximum_parsimony',\n",
    "            \"group_level\": \"genes\",\n",
    "            \"keep_decoys\": False,\n",
    "        },\n",
    "        \"search_output\": {\n",
    "            \"min_k_fragments\": 12,\n",
    "            \"min_correlation\": 0.9,\n",
    "            \"num_samples_quadratic\": 50,\n",
    "            \"min_nonnan\": 3,\n",
    "            \"peptide_level_lfq\": False,\n",
    "            \"precursor_level_lfq\": False,\n",
    "            \"normalize_lfq\": True,\n",
    "        },\n",
    "    }\n",
    "\n",
    "output = outputtransform.SearchPlanOutput(config, output_folder)\n",
    "psm_df = output.build(folder_list, base_spec_lib)"
   ]
  }
 ],
 "metadata": {
  "kernelspec": {
   "display_name": "alpha",
   "language": "python",
   "name": "python3"
  },
  "language_info": {
   "codemirror_mode": {
    "name": "ipython",
    "version": 3
   },
   "file_extension": ".py",
   "mimetype": "text/x-python",
   "name": "python",
   "nbconvert_exporter": "python",
   "pygments_lexer": "ipython3",
   "version": "3.9.18"
  }
 },
 "nbformat": 4,
 "nbformat_minor": 2
}
