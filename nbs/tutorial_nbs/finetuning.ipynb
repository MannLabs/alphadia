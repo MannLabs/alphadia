{
 "cells": [
  {
   "cell_type": "code",
   "metadata": {
    "ExecuteTime": {
     "end_time": "2025-06-12T12:05:12.276232Z",
     "start_time": "2025-06-12T12:05:12.151195Z"
    }
   },
   "source": [
    "%reload_ext autoreload\n",
    "%autoreload 2\n",
    "\n",
    "import matplotlib.pyplot as plt\n",
    "from alphabase.spectral_library.base import SpecLibBase\n",
    "from alphadia.transferlearning.train import *\n",
    "from alphabase.tools.data_downloader import DataShareDownloader\n",
    "import tempfile\n",
    "import seaborn as sns\n",
    "sns.set()\n",
    "\n",
    "logger = logging.getLogger()\n"
   ],
   "outputs": [],
   "execution_count": 7
  },
  {
   "cell_type": "code",
   "metadata": {
    "ExecuteTime": {
     "end_time": "2025-06-12T12:01:37.350778Z",
     "start_time": "2025-06-12T12:01:37.323762Z"
    }
   },
   "source": [
    "import torch\n",
    "torch.set_num_threads(10)"
   ],
   "outputs": [],
   "execution_count": 3
  },
  {
   "cell_type": "code",
   "metadata": {
    "ExecuteTime": {
     "end_time": "2025-06-12T12:05:35.089866Z",
     "start_time": "2025-06-12T12:05:21.162683Z"
    }
   },
   "source": [
    "tempdir = tempfile.gettempdir()\n",
    "DataShareDownloader(\"https://datashare.biochem.mpg.de/s/1GiKQSwlPf6YlMm/download?path=%2Ftransfer_pass&files=speclib.transfer.hdf\", tempdir).download()\n",
    "\n",
    "transfer_lib = SpecLibBase()\n",
    "transfer_lib.load_hdf(f'{tempdir}/speclib.transfer.hdf', load_mod_seq=True)\n"
   ],
   "outputs": [
    {
     "name": "stdout",
     "output_type": "stream",
     "text": [
      "/var/folders/6r/8h59xkv90qs2dyy8mdn_ch840000gn/T/speclib.transfer.hdf does not yet exist\n",
      "/var/folders/6r/8h59xkv90qs2dyy8mdn_ch840000gn/T/speclib.transfer.hdf successfully downloaded (73.11343574523926 MB)\n"
     ]
    },
    {
     "ename": "FileNotFoundError",
     "evalue": "[Errno 2] Unable to synchronously open file (unable to open file: name = 'tempdir/speclib.transfer.hdf', errno = 2, error message = 'No such file or directory', flags = 0, o_flags = 0)",
     "output_type": "error",
     "traceback": [
      "\u001B[31m---------------------------------------------------------------------------\u001B[39m",
      "\u001B[31mFileNotFoundError\u001B[39m                         Traceback (most recent call last)",
      "\u001B[36mCell\u001B[39m\u001B[36m \u001B[39m\u001B[32mIn[8]\u001B[39m\u001B[32m, line 5\u001B[39m\n\u001B[32m      2\u001B[39m DataShareDownloader(\u001B[33m\"\u001B[39m\u001B[33mhttps://datashare.biochem.mpg.de/s/1GiKQSwlPf6YlMm/download?path=\u001B[39m\u001B[38;5;132;01m%2F\u001B[39;00m\u001B[33mtransfer_pass&files=speclib.transfer.hdf\u001B[39m\u001B[33m\"\u001B[39m, tempdir).download()\n\u001B[32m      4\u001B[39m transfer_lib = SpecLibBase()\n\u001B[32m----> \u001B[39m\u001B[32m5\u001B[39m \u001B[43mtransfer_lib\u001B[49m\u001B[43m.\u001B[49m\u001B[43mload_hdf\u001B[49m\u001B[43m(\u001B[49m\u001B[33;43m'\u001B[39;49m\u001B[33;43mtempdir/speclib.transfer.hdf\u001B[39;49m\u001B[33;43m'\u001B[39;49m\u001B[43m,\u001B[49m\u001B[43m \u001B[49m\u001B[43mload_mod_seq\u001B[49m\u001B[43m=\u001B[49m\u001B[38;5;28;43;01mTrue\u001B[39;49;00m\u001B[43m)\u001B[49m\n",
      "\u001B[36mFile \u001B[39m\u001B[32m/opt/homebrew/anaconda3/envs/alphadia/lib/python3.11/site-packages/alphabase/spectral_library/base.py:723\u001B[39m, in \u001B[36mSpecLibBase.load_hdf\u001B[39m\u001B[34m(self, hdf_file, load_mod_seq, support_legacy_mods_format, infer_charged_frag_types)\u001B[39m\n\u001B[32m    693\u001B[39m \u001B[38;5;28;01mdef\u001B[39;00m\u001B[38;5;250m \u001B[39m\u001B[34mload_hdf\u001B[39m(\n\u001B[32m    694\u001B[39m     \u001B[38;5;28mself\u001B[39m,\n\u001B[32m    695\u001B[39m     hdf_file: \u001B[38;5;28mstr\u001B[39m,\n\u001B[32m   (...)\u001B[39m\u001B[32m    698\u001B[39m     infer_charged_frag_types: \u001B[38;5;28mbool\u001B[39m = \u001B[38;5;28;01mTrue\u001B[39;00m,\n\u001B[32m    699\u001B[39m ):\n\u001B[32m    700\u001B[39m \u001B[38;5;250m    \u001B[39m\u001B[33;03m\"\"\"Load the hdf library from hdf_file\u001B[39;00m\n\u001B[32m    701\u001B[39m \n\u001B[32m    702\u001B[39m \u001B[33;03m    Parameters\u001B[39;00m\n\u001B[32m   (...)\u001B[39m\u001B[32m    721\u001B[39m \u001B[33;03m        If set to False, only charged frag types defined in `charged_frag_types` will be loaded.\u001B[39;00m\n\u001B[32m    722\u001B[39m \u001B[33;03m    \"\"\"\u001B[39;00m\n\u001B[32m--> \u001B[39m\u001B[32m723\u001B[39m     _hdf = \u001B[43mHDF_File\u001B[49m\u001B[43m(\u001B[49m\u001B[43mhdf_file\u001B[49m\u001B[43m)\u001B[49m\n\u001B[32m    724\u001B[39m     \u001B[38;5;28mself\u001B[39m._precursor_df: pd.DataFrame = _hdf.library.precursor_df.values\n\u001B[32m    725\u001B[39m     \u001B[38;5;28;01mif\u001B[39;00m load_mod_seq \u001B[38;5;129;01mand\u001B[39;00m \u001B[38;5;28mhasattr\u001B[39m(_hdf.library, \u001B[33m\"\u001B[39m\u001B[33mmod_seq_df\u001B[39m\u001B[33m\"\u001B[39m):\n",
      "\u001B[36mFile \u001B[39m\u001B[32m/opt/homebrew/anaconda3/envs/alphadia/lib/python3.11/site-packages/alphabase/io/hdf.py:513\u001B[39m, in \u001B[36mHDF_File.__init__\u001B[39m\u001B[34m(self, file_name, read_only, truncate, delete_existing)\u001B[39m\n\u001B[32m    510\u001B[39m \u001B[38;5;28;01melse\u001B[39;00m:\n\u001B[32m    511\u001B[39m     mode = \u001B[33m\"\u001B[39m\u001B[33ma\u001B[39m\u001B[33m\"\u001B[39m\n\u001B[32m--> \u001B[39m\u001B[32m513\u001B[39m \u001B[38;5;28;01mwith\u001B[39;00m \u001B[43mh5py\u001B[49m\u001B[43m.\u001B[49m\u001B[43mFile\u001B[49m\u001B[43m(\u001B[49m\u001B[43mfile_name\u001B[49m\u001B[43m,\u001B[49m\u001B[43m \u001B[49m\u001B[43mmode\u001B[49m\u001B[43m)\u001B[49m:\n\u001B[32m    514\u001B[39m     \u001B[38;5;28;01mpass\u001B[39;00m\n\u001B[32m    516\u001B[39m \u001B[38;5;28msuper\u001B[39m().\u001B[34m__init__\u001B[39m(\n\u001B[32m    517\u001B[39m     file_name=file_name,\n\u001B[32m    518\u001B[39m     name=\u001B[33m\"\u001B[39m\u001B[33m/\u001B[39m\u001B[33m\"\u001B[39m,\n\u001B[32m    519\u001B[39m     read_only=read_only,\n\u001B[32m    520\u001B[39m     truncate=truncate,\n\u001B[32m    521\u001B[39m )\n",
      "\u001B[36mFile \u001B[39m\u001B[32m/opt/homebrew/anaconda3/envs/alphadia/lib/python3.11/site-packages/h5py/_hl/files.py:564\u001B[39m, in \u001B[36mFile.__init__\u001B[39m\u001B[34m(self, name, mode, driver, libver, userblock_size, swmr, rdcc_nslots, rdcc_nbytes, rdcc_w0, track_order, fs_strategy, fs_persist, fs_threshold, fs_page_size, page_buf_size, min_meta_keep, min_raw_keep, locking, alignment_threshold, alignment_interval, meta_block_size, **kwds)\u001B[39m\n\u001B[32m    555\u001B[39m     fapl = make_fapl(driver, libver, rdcc_nslots, rdcc_nbytes, rdcc_w0,\n\u001B[32m    556\u001B[39m                      locking, page_buf_size, min_meta_keep, min_raw_keep,\n\u001B[32m    557\u001B[39m                      alignment_threshold=alignment_threshold,\n\u001B[32m    558\u001B[39m                      alignment_interval=alignment_interval,\n\u001B[32m    559\u001B[39m                      meta_block_size=meta_block_size,\n\u001B[32m    560\u001B[39m                      **kwds)\n\u001B[32m    561\u001B[39m     fcpl = make_fcpl(track_order=track_order, fs_strategy=fs_strategy,\n\u001B[32m    562\u001B[39m                      fs_persist=fs_persist, fs_threshold=fs_threshold,\n\u001B[32m    563\u001B[39m                      fs_page_size=fs_page_size)\n\u001B[32m--> \u001B[39m\u001B[32m564\u001B[39m     fid = \u001B[43mmake_fid\u001B[49m\u001B[43m(\u001B[49m\u001B[43mname\u001B[49m\u001B[43m,\u001B[49m\u001B[43m \u001B[49m\u001B[43mmode\u001B[49m\u001B[43m,\u001B[49m\u001B[43m \u001B[49m\u001B[43muserblock_size\u001B[49m\u001B[43m,\u001B[49m\u001B[43m \u001B[49m\u001B[43mfapl\u001B[49m\u001B[43m,\u001B[49m\u001B[43m \u001B[49m\u001B[43mfcpl\u001B[49m\u001B[43m,\u001B[49m\u001B[43m \u001B[49m\u001B[43mswmr\u001B[49m\u001B[43m=\u001B[49m\u001B[43mswmr\u001B[49m\u001B[43m)\u001B[49m\n\u001B[32m    566\u001B[39m \u001B[38;5;28;01mif\u001B[39;00m \u001B[38;5;28misinstance\u001B[39m(libver, \u001B[38;5;28mtuple\u001B[39m):\n\u001B[32m    567\u001B[39m     \u001B[38;5;28mself\u001B[39m._libver = libver\n",
      "\u001B[36mFile \u001B[39m\u001B[32m/opt/homebrew/anaconda3/envs/alphadia/lib/python3.11/site-packages/h5py/_hl/files.py:238\u001B[39m, in \u001B[36mmake_fid\u001B[39m\u001B[34m(name, mode, userblock_size, fapl, fcpl, swmr)\u001B[39m\n\u001B[32m    236\u001B[39m     \u001B[38;5;28;01mif\u001B[39;00m swmr \u001B[38;5;129;01mand\u001B[39;00m swmr_support:\n\u001B[32m    237\u001B[39m         flags |= h5f.ACC_SWMR_READ\n\u001B[32m--> \u001B[39m\u001B[32m238\u001B[39m     fid = \u001B[43mh5f\u001B[49m\u001B[43m.\u001B[49m\u001B[43mopen\u001B[49m\u001B[43m(\u001B[49m\u001B[43mname\u001B[49m\u001B[43m,\u001B[49m\u001B[43m \u001B[49m\u001B[43mflags\u001B[49m\u001B[43m,\u001B[49m\u001B[43m \u001B[49m\u001B[43mfapl\u001B[49m\u001B[43m=\u001B[49m\u001B[43mfapl\u001B[49m\u001B[43m)\u001B[49m\n\u001B[32m    239\u001B[39m \u001B[38;5;28;01melif\u001B[39;00m mode == \u001B[33m'\u001B[39m\u001B[33mr+\u001B[39m\u001B[33m'\u001B[39m:\n\u001B[32m    240\u001B[39m     fid = h5f.open(name, h5f.ACC_RDWR, fapl=fapl)\n",
      "\u001B[36mFile \u001B[39m\u001B[32mh5py/_objects.pyx:54\u001B[39m, in \u001B[36mh5py._objects.with_phil.wrapper\u001B[39m\u001B[34m()\u001B[39m\n",
      "\u001B[36mFile \u001B[39m\u001B[32mh5py/_objects.pyx:55\u001B[39m, in \u001B[36mh5py._objects.with_phil.wrapper\u001B[39m\u001B[34m()\u001B[39m\n",
      "\u001B[36mFile \u001B[39m\u001B[32mh5py/h5f.pyx:102\u001B[39m, in \u001B[36mh5py.h5f.open\u001B[39m\u001B[34m()\u001B[39m\n",
      "\u001B[31mFileNotFoundError\u001B[39m: [Errno 2] Unable to synchronously open file (unable to open file: name = 'tempdir/speclib.transfer.hdf', errno = 2, error message = 'No such file or directory', flags = 0, o_flags = 0)"
     ]
    }
   ],
   "execution_count": 8
  },
  {
   "cell_type": "code",
   "metadata": {
    "ExecuteTime": {
     "end_time": "2025-06-12T12:05:37.224510Z",
     "start_time": "2025-06-12T12:05:36.881614Z"
    }
   },
   "source": [
    "transfer_lib.precursor_df = transfer_lib.precursor_df[~transfer_lib.precursor_df['mods'].str.contains('Dimethyl@C')]"
   ],
   "outputs": [
    {
     "ename": "KeyError",
     "evalue": "'mods'",
     "output_type": "error",
     "traceback": [
      "\u001B[31m---------------------------------------------------------------------------\u001B[39m",
      "\u001B[31mKeyError\u001B[39m                                  Traceback (most recent call last)",
      "\u001B[36mCell\u001B[39m\u001B[36m \u001B[39m\u001B[32mIn[9]\u001B[39m\u001B[32m, line 1\u001B[39m\n\u001B[32m----> \u001B[39m\u001B[32m1\u001B[39m transfer_lib.precursor_df = transfer_lib.precursor_df[~\u001B[43mtransfer_lib\u001B[49m\u001B[43m.\u001B[49m\u001B[43mprecursor_df\u001B[49m\u001B[43m[\u001B[49m\u001B[33;43m'\u001B[39;49m\u001B[33;43mmods\u001B[39;49m\u001B[33;43m'\u001B[39;49m\u001B[43m]\u001B[49m.str.contains(\u001B[33m'\u001B[39m\u001B[33mDimethyl@C\u001B[39m\u001B[33m'\u001B[39m)]\n",
      "\u001B[36mFile \u001B[39m\u001B[32m/opt/homebrew/anaconda3/envs/alphadia/lib/python3.11/site-packages/pandas/core/frame.py:4102\u001B[39m, in \u001B[36mDataFrame.__getitem__\u001B[39m\u001B[34m(self, key)\u001B[39m\n\u001B[32m   4100\u001B[39m \u001B[38;5;28;01mif\u001B[39;00m \u001B[38;5;28mself\u001B[39m.columns.nlevels > \u001B[32m1\u001B[39m:\n\u001B[32m   4101\u001B[39m     \u001B[38;5;28;01mreturn\u001B[39;00m \u001B[38;5;28mself\u001B[39m._getitem_multilevel(key)\n\u001B[32m-> \u001B[39m\u001B[32m4102\u001B[39m indexer = \u001B[38;5;28;43mself\u001B[39;49m\u001B[43m.\u001B[49m\u001B[43mcolumns\u001B[49m\u001B[43m.\u001B[49m\u001B[43mget_loc\u001B[49m\u001B[43m(\u001B[49m\u001B[43mkey\u001B[49m\u001B[43m)\u001B[49m\n\u001B[32m   4103\u001B[39m \u001B[38;5;28;01mif\u001B[39;00m is_integer(indexer):\n\u001B[32m   4104\u001B[39m     indexer = [indexer]\n",
      "\u001B[36mFile \u001B[39m\u001B[32m/opt/homebrew/anaconda3/envs/alphadia/lib/python3.11/site-packages/pandas/core/indexes/range.py:417\u001B[39m, in \u001B[36mRangeIndex.get_loc\u001B[39m\u001B[34m(self, key)\u001B[39m\n\u001B[32m    415\u001B[39m         \u001B[38;5;28;01mraise\u001B[39;00m \u001B[38;5;167;01mKeyError\u001B[39;00m(key) \u001B[38;5;28;01mfrom\u001B[39;00m\u001B[38;5;250m \u001B[39m\u001B[34;01merr\u001B[39;00m\n\u001B[32m    416\u001B[39m \u001B[38;5;28;01mif\u001B[39;00m \u001B[38;5;28misinstance\u001B[39m(key, Hashable):\n\u001B[32m--> \u001B[39m\u001B[32m417\u001B[39m     \u001B[38;5;28;01mraise\u001B[39;00m \u001B[38;5;167;01mKeyError\u001B[39;00m(key)\n\u001B[32m    418\u001B[39m \u001B[38;5;28mself\u001B[39m._check_indexing_error(key)\n\u001B[32m    419\u001B[39m \u001B[38;5;28;01mraise\u001B[39;00m \u001B[38;5;167;01mKeyError\u001B[39;00m(key)\n",
      "\u001B[31mKeyError\u001B[39m: 'mods'"
     ]
    }
   ],
   "execution_count": 9
  },
  {
   "cell_type": "code",
   "metadata": {
    "ExecuteTime": {
     "end_time": "2025-06-12T12:05:38.179382Z",
     "start_time": "2025-06-12T12:05:37.296938Z"
    }
   },
   "source": [
    "tune_mgr = FinetuneManager(\n",
    "    device=\"gpu\",\n",
    "    test_interval=3)\n"
   ],
   "outputs": [],
   "execution_count": 10
  },
  {
   "cell_type": "markdown",
   "metadata": {},
   "source": [
    "## CCS Fine-tuning\n"
   ]
  },
  {
   "cell_type": "code",
   "execution_count": null,
   "metadata": {},
   "outputs": [],
   "source": [
    "transfer_lib.precursor_df[\"mobility\"] = transfer_lib.precursor_df[\"mobility_observed\"]\n",
    "transfer_lib.precursor_df = tune_mgr.predict_mobility(transfer_lib.precursor_df)\n",
    "plt.scatter(transfer_lib.precursor_df['mobility'], transfer_lib.precursor_df['mobility_pred'], s=1, alpha=0.1)\n",
    "plt.xlabel('mobility observed')\n",
    "plt.ylabel('mobility predicted')"
   ]
  },
  {
   "cell_type": "code",
   "execution_count": null,
   "metadata": {},
   "outputs": [],
   "source": [
    "ccs_stats = tune_mgr.finetune_ccs(transfer_lib.precursor_df)\n",
    "\n",
    "transfer_lib.precursor_df = tune_mgr.ccs_model.predict(transfer_lib.precursor_df)\n",
    "plt.scatter(transfer_lib.precursor_df['ccs'], transfer_lib.precursor_df['ccs_pred'], s=1, alpha=0.1)\n",
    "plt.xlabel('ccs observed')\n",
    "plt.ylabel('ccs predicted')"
   ]
  },
  {
   "cell_type": "code",
   "execution_count": null,
   "metadata": {},
   "outputs": [],
   "source": [
    "g = sns.relplot(data=ccs_stats, x='epoch', y='value', hue='data_split', marker= 'o',dashes=False, col='metric_name', kind='line', col_wrap=2, facet_kws={'sharex': False, 'sharey': False, 'legend_out': False})\n",
    "g.set_titles(\"{col_name}\")\n",
    "g.legend.set_title('Data split')"
   ]
  },
  {
   "cell_type": "markdown",
   "metadata": {},
   "source": [
    "## RT Fine-tuning\n"
   ]
  },
  {
   "cell_type": "code",
   "execution_count": null,
   "metadata": {},
   "outputs": [],
   "source": [
    "\n",
    "transfer_lib.precursor_df = tune_mgr.predict_rt(transfer_lib.precursor_df)\n",
    "plt.scatter(transfer_lib.precursor_df['rt_norm'], transfer_lib.precursor_df['rt_norm_pred'], s=1, alpha=0.1)\n",
    "plt.xlabel('RT observed')\n",
    "plt.ylabel('RT predicted')"
   ]
  },
  {
   "cell_type": "code",
   "execution_count": null,
   "metadata": {},
   "outputs": [],
   "source": [
    "rt_stats = tune_mgr.finetune_rt(transfer_lib.precursor_df)\n",
    "\n",
    "transfer_lib.precursor_df = tune_mgr.predict_rt(transfer_lib.precursor_df)\n",
    "\n",
    "plt.scatter(transfer_lib.precursor_df['rt_norm'], transfer_lib.precursor_df['rt_norm_pred'], s=0.1, alpha=0.1)\n",
    "plt.xlabel('RT observed')\n",
    "plt.ylabel('RT predicted')\n"
   ]
  },
  {
   "cell_type": "code",
   "execution_count": null,
   "metadata": {},
   "outputs": [],
   "source": [
    "g = sns.relplot(data=rt_stats, x='epoch', y='value', hue='data_split', marker= 'o',dashes=False, col='metric_name', kind='line', col_wrap=2, facet_kws={'sharex': False, 'sharey': False, 'legend_out': False})\n",
    "g.set_titles(\"{col_name}\")\n",
    "g.legend.set_title('Data split')"
   ]
  },
  {
   "cell_type": "markdown",
   "metadata": {},
   "source": [
    "## Charge Fine-tuning"
   ]
  },
  {
   "cell_type": "code",
   "execution_count": null,
   "metadata": {},
   "outputs": [],
   "source": [
    "\n",
    "# Testing the charge finetuning on the transfer library\n",
    "charge_stats = tune_mgr.finetune_charge(psm_df=transfer_lib.precursor_df)"
   ]
  },
  {
   "cell_type": "code",
   "execution_count": null,
   "metadata": {},
   "outputs": [],
   "source": [
    "g = sns.relplot(data=charge_stats, x='epoch', y='value', hue='data_split', marker= 'o',dashes=False, col='metric_name', kind='line', col_wrap=2, facet_kws={'sharex': False, 'sharey': False, 'legend_out': False})\n",
    "g.set_titles(\"{col_name}\")\n",
    "g.legend.set_title('Data split')\n"
   ]
  },
  {
   "cell_type": "markdown",
   "metadata": {},
   "source": [
    "## MS2 Fine-tuning"
   ]
  },
  {
   "cell_type": "code",
   "execution_count": null,
   "metadata": {},
   "outputs": [],
   "source": [
    "# Uncomment the following line to only finetune the ms2 on high quality spectra\n",
    "# transfer_lib.precursor_df = transfer_lib.precursor_df[transfer_lib.precursor_df['use_for_ms2']]\n"
   ]
  },
  {
   "cell_type": "code",
   "execution_count": null,
   "metadata": {},
   "outputs": [],
   "source": [
    "def calculate_similarity(precursor_df_a, precursor_df_b, intensity_df_a, intensity_df_b):\n",
    "\n",
    "    _a_df = precursor_df_a[['precursor_idx', 'frag_start_idx', 'frag_stop_idx']].copy()\n",
    "    _b_df = precursor_df_b[['precursor_idx', 'frag_start_idx', 'frag_stop_idx']].copy()\n",
    "\n",
    "    _merged_df = pd.merge(_a_df, _b_df, on='precursor_idx', suffixes=('_a', '_b'))\n",
    "    # keep only first precursor\n",
    "    _merged_df = _merged_df.drop_duplicates(subset='precursor_idx', keep='first')\n",
    "    similarity_list = []\n",
    "\n",
    "    for i, (start_a, stop_a, start_b, stop_b) in enumerate(zip(_merged_df['frag_start_idx_a'], _merged_df['frag_stop_idx_a'], _merged_df['frag_start_idx_b'], _merged_df['frag_stop_idx_b'])):\n",
    "        observed_intensity = intensity_df_a.iloc[start_a:stop_a, :4].values.flatten()\n",
    "        predicted_intensity = intensity_df_b.iloc[start_b:stop_b, :4].values.flatten()\n",
    "\n",
    "        similarity = np.dot(observed_intensity, predicted_intensity) / (np.linalg.norm(observed_intensity) * np.linalg.norm(predicted_intensity))\n",
    "        similarity_list.append({'similarity': similarity, 'index': i, 'precursor_idx': _merged_df.iloc[i]['precursor_idx']})\n",
    "\n",
    "    return pd.DataFrame(similarity_list)"
   ]
  },
  {
   "cell_type": "code",
   "execution_count": null,
   "metadata": {},
   "outputs": [],
   "source": [
    "res = tune_mgr.predict_all(transfer_lib.precursor_df.copy(), predict_items=['ms2'])\n",
    "\n",
    "precursor_after_df = res['precursor_df']\n",
    "fragment_mz_after_df = res['fragment_mz_df']\n",
    "fragment_intensity_after_df = res['fragment_intensity_df']\n",
    "similarity_after_df = calculate_similarity(precursor_after_df, transfer_lib.precursor_df, fragment_intensity_after_df, transfer_lib.fragment_intensity_df)\n",
    "print(similarity_after_df['similarity'].median())\n",
    "plt.scatter(similarity_after_df['index'], similarity_after_df['similarity'], s=0.1)\n",
    "plt.xlabel('Index')\n",
    "plt.ylabel('Similarity')\n",
    "plt.title('Similarity between observed and predicted MS2 spectra before fine-tuning')"
   ]
  },
  {
   "cell_type": "code",
   "execution_count": null,
   "metadata": {},
   "outputs": [],
   "source": [
    "\n",
    "# Testing the ms2 finetuning on the transfer library\n",
    "ms2_stats = tune_mgr.finetune_ms2(psm_df=transfer_lib.precursor_df.copy(), matched_intensity_df=transfer_lib.fragment_intensity_df.copy())"
   ]
  },
  {
   "cell_type": "code",
   "execution_count": null,
   "metadata": {},
   "outputs": [],
   "source": [
    "res = tune_mgr.predict_all(transfer_lib.precursor_df.copy(), predict_items=[\"ms2\"])\n",
    "\n",
    "precursor_after_df = res[\"precursor_df\"]\n",
    "fragment_mz_after_df = res[\"fragment_mz_df\"]\n",
    "fragment_intensity_after_df = res[\"fragment_intensity_df\"]\n",
    "similarity_after_df = calculate_similarity(\n",
    "    precursor_after_df,\n",
    "    transfer_lib.precursor_df,\n",
    "    fragment_intensity_after_df,\n",
    "    transfer_lib.fragment_intensity_df,\n",
    ")\n",
    "print(similarity_after_df[\"similarity\"].median())\n",
    "plt.scatter(similarity_after_df[\"index\"], similarity_after_df[\"similarity\"], s=0.1)\n",
    "plt.xlabel(\"Index\")\n",
    "plt.ylabel(\"Similarity\")\n",
    "plt.title(\"Similarity between observed and predicted MS2 spectra after fine-tuning\")"
   ]
  },
  {
   "cell_type": "code",
   "execution_count": null,
   "metadata": {},
   "outputs": [],
   "source": [
    "g = sns.relplot(data=ms2_stats, x='epoch', y='value', hue='data_split', marker= 'o',dashes=False, col='metric_name', kind='line', col_wrap=2, facet_kws={'sharex': False, 'sharey': False, 'legend_out': False})\n",
    "g.set_titles(\"{col_name}\")\n",
    "g.legend.set_title('Data split')\n"
   ]
  }
 ],
 "metadata": {
  "kernelspec": {
   "display_name": "alpha",
   "language": "python",
   "name": "python3"
  },
  "language_info": {
   "codemirror_mode": {
    "name": "ipython",
    "version": 3
   },
   "file_extension": ".py",
   "mimetype": "text/x-python",
   "name": "python",
   "nbconvert_exporter": "python",
   "pygments_lexer": "ipython3"
  }
 },
 "nbformat": 4,
 "nbformat_minor": 2
}
