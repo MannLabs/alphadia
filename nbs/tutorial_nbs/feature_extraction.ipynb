{
 "cells": [
  {
   "cell_type": "code",
   "execution_count": 8,
   "id": "f4b9c362",
   "metadata": {},
   "outputs": [
    {
     "name": "stdout",
     "output_type": "stream",
     "text": [
      "The autoreload extension is already loaded. To reload it, use:\n",
      "  %reload_ext autoreload\n"
     ]
    }
   ],
   "source": [
    "%load_ext autoreload\n",
    "%autoreload 2\n",
    "\n",
    "import os\n",
    "from alphadia.outputtransform.quant_builder import QuantBuilder\n",
    "from alphadia.outputtransform.search_plan_output import SearchPlanOutput\n",
    "from alphabase.spectral_library import base\n",
    "from alphadia import outputtransform\n",
    "import pandas as pd"
   ]
  },
  {
   "cell_type": "code",
   "execution_count": 15,
   "id": "4b8a13a4",
   "metadata": {},
   "outputs": [],
   "source": [
    "base_spec_lib = base.SpecLibBase()\n",
    "quant_folder = '/Users/tungvuduc/Desktop/PhD/projects/repos/selectLFQ/selectlfq/data/benchmark_data/20231213_mixed_species_astral_thielert/alphadia_1.10.3/output/quant'\n",
    "\n",
    "folder_list = [os.path.join(quant_folder, f) for f in os.listdir(quant_folder) if os.path.isdir(os.path.join(quant_folder, f))]\n",
    "output_folder = '/Users/tungvuduc/Desktop/PhD/projects/repos/selectLFQ/selectlfq/data/benchmark_data/20231213_mixed_species_astral_thielert/alphadia_1.10.3/output'"
   ]
  },
  {
   "cell_type": "code",
   "execution_count": 16,
   "id": "db7e1c6e",
   "metadata": {},
   "outputs": [],
   "source": [
    "config = {\n",
    "        \"general\": {\n",
    "            \"thread_count\": 8,\n",
    "            \"save_figures\": False,\n",
    "        },\n",
    "        \"fdr\": {\n",
    "            \"fdr\": 0.01,\n",
    "            \"inference_strategy\": 'maximum_parsimony',\n",
    "            \"group_level\": \"genes\",\n",
    "            \"keep_decoys\": False,\n",
    "        },\n",
    "        \"search_output\": {\n",
    "            \"min_k_fragments\": 12,\n",
    "            \"min_correlation\": 0.9,\n",
    "            \"num_samples_quadratic\": 50,\n",
    "            \"min_nonnan\": 3,\n",
    "            \"peptide_level_lfq\": False,\n",
    "            \"precursor_level_lfq\": True,\n",
    "            \"normalize_lfq\": True,\n",
    "            \"file_format\": \"tsv\",\n",
    "            \"save_fragment_quant_matrix\": False,\n",
    "        },\n",
    "    }\n"
   ]
  },
  {
   "cell_type": "code",
   "execution_count": null,
   "id": "b0bcc3d8",
   "metadata": {},
   "outputs": [
    {
     "name": "stdout",
     "output_type": "stream",
     "text": [
      "2025-07-21 11:13:48> Accumulating fragment data\n",
      "2025-07-21 11:13:48> reading frag file for 20231212_OA1_MCT_SA_M768_AD02_HYE_200ng_quadPolON_sample3_01\n",
      "2025-07-21 11:13:48> reading frag file for 20231212_OA1_MCT_SA_M768_AD02_HYE_200ng_quadPolON_sample2_01\n",
      "2025-07-21 11:13:54> reading frag file for 20231212_OA1_MCT_SA_M768_AD02_HYE_200ng_quadPolON_sample1_05\n",
      "2025-07-21 11:13:59> reading frag file for 20231212_OA1_MCT_SA_M768_AD02_HYE_200ng_quadPolON_sample1_02\n",
      "2025-07-21 11:14:03> reading frag file for 20231212_OA1_MCT_SA_M768_AD02_HYE_200ng_quadPolON_sample1_03\n",
      "2025-07-21 11:14:09> reading frag file for 20231212_OA1_MCT_SA_M768_AD02_HYE_200ng_quadPolON_sample1_04\n",
      "2025-07-21 11:14:15> reading frag file for 20231212_OA1_MCT_SA_M768_AD02_HYE_200ng_quadPolON_sample4_02\n",
      "2025-07-21 11:14:21> reading frag file for 20231212_OA1_MCT_SA_M768_AD02_HYE_200ng_quadPolON_sample4_05\n",
      "2025-07-21 11:14:28> reading frag file for 20231212_OA1_MCT_SA_M768_AD02_HYE_200ng_quadPolON_sample4_04\n",
      "2025-07-21 11:14:34> reading frag file for 20231212_OA1_MCT_SA_M768_AD02_HYE_200ng_quadPolON_sample4_03\n",
      "2025-07-21 11:14:40> reading frag file for 20231212_OA1_MCT_SA_M768_AD02_HYE_200ng_quadPolON_sample3_03\n",
      "2025-07-21 11:14:46> reading frag file for 20231212_OA1_MCT_SA_M768_AD02_HYE_200ng_quadPolON_sample3_04\n",
      "2025-07-21 11:14:53> reading frag file for 20231212_OA1_MCT_SA_M768_AD02_HYE_200ng_quadPolON_sample3_05\n",
      "2025-07-21 11:14:59> reading frag file for 20231212_OA1_MCT_SA_M768_AD02_HYE_200ng_quadPolON_sample3_02\n",
      "2025-07-21 11:15:06> reading frag file for 20231212_OA1_MCT_SA_M768_AD02_HYE_200ng_quadPolON_sample2_05\n",
      "2025-07-21 11:15:12> reading frag file for 20231212_OA1_MCT_SA_M768_AD02_HYE_200ng_quadPolON_sample2_02\n",
      "2025-07-21 11:15:18> reading frag file for 20231212_OA1_MCT_SA_M768_AD02_HYE_200ng_quadPolON_sample2_03\n",
      "2025-07-21 11:15:25> reading frag file for 20231212_OA1_MCT_SA_M768_AD02_HYE_200ng_quadPolON_sample2_04\n",
      "2025-07-21 11:15:31> reading frag file for 20231212_OA1_MCT_SA_M768_AD02_HYE_200ng_quadPolON_sample1_01\n",
      "2025-07-21 11:15:38> reading frag file for 20231212_OA1_MCT_SA_M768_AD02_HYE_200ng_quadPolON_sample4_01\n"
     ]
    }
   ],
   "source": [
    "output = SearchPlanOutput(config, output_folder)\n",
    "\n",
    "psm_df = output._load_precursor_table()\n",
    "\n",
    "qb = QuantBuilder(\n",
    "    psm_df[psm_df[\"decoy\"] == 0], \n",
    "    columns=[\n",
    "        'intensity',\n",
    "        'mass_error',\n",
    "        'correlation',\n",
    "        'height',\n",
    "        'charge',\n",
    "        'mz_observed',\n",
    "        'type',\n",
    "        'number'\n",
    "    ]\n",
    ")\n",
    "df_list = qb.accumulate_frag_df_from_folders(folder_list)"
   ]
  }
 ],
 "metadata": {
  "kernelspec": {
   "display_name": "alpha_dia",
   "language": "python",
   "name": "python3"
  },
  "language_info": {
   "codemirror_mode": {
    "name": "ipython",
    "version": 3
   },
   "file_extension": ".py",
   "mimetype": "text/x-python",
   "name": "python",
   "nbconvert_exporter": "python",
   "pygments_lexer": "ipython3",
   "version": "3.12.9"
  }
 },
 "nbformat": 4,
 "nbformat_minor": 5
}
