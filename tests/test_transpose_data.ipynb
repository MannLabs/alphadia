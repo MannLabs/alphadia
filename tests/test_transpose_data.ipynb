{
 "cells": [
  {
   "cell_type": "code",
   "execution_count": 1,
   "metadata": {},
   "outputs": [
    {
     "name": "stderr",
     "output_type": "stream",
     "text": [
      "WARNING:root:WARNING: Temp mmap arrays are written to /var/folders/lc/9594t94d5b5_gn0y04w1jh980000gn/T/temp_mmap_ji0zf40j. Cleanup of this folder is OS dependant, and might need to be triggered manually! Current space: 892,848,340,992\n",
      "WARNING:root:WARNING: No Bruker libraries are available for this operating system. Mobility and m/z values need to be estimated. While this estimation often returns acceptable results with errors < 0.02 Th, huge errors (e.g. offsets of 6 Th) have already been observed for some samples!\n"
     ]
    }
   ],
   "source": [
    "%reload_ext autoreload\n",
    "%autoreload 2\n",
    "\n",
    "import numpy as np\n",
    "from alphadia.extraction import data"
   ]
  },
  {
   "cell_type": "code",
   "execution_count": 2,
   "metadata": {},
   "outputs": [
    {
     "name": "stderr",
     "output_type": "stream",
     "text": [
      "100%|██████████| 17438/17438 [00:12<00:00, 1350.86it/s]\n"
     ]
    }
   ],
   "source": [
    "\n",
    "raw_name = '/Users/georgwallmann/Documents/data/alphadia_benchmarking/raw_data/2023_03_02_MCT_scp_hela/20230103_TIMS05_MCT_SA_HeLa_SM03p7b_Ref10_AID8_10_S4-G9_1_667.d'\n",
    "dia_data = data.TimsTOFTranspose(raw_name)\n"
   ]
  },
  {
   "cell_type": "code",
   "execution_count": 3,
   "metadata": {},
   "outputs": [],
   "source": [
    "jit_data = dia_data.jitclass()"
   ]
  },
  {
   "cell_type": "code",
   "execution_count": 4,
   "metadata": {},
   "outputs": [],
   "source": [
    "# test get_frame_indices\n",
    "\n",
    "def fuzz_get_frame_indices(jit_data):\n",
    "\n",
    "    start_index = np.random.randint(0, jit_data.rt_values.shape[0], size=1)[0]\n",
    "    stop_index = np.random.randint(start_index, jit_data.rt_values.shape[0], size=1)[0]\n",
    "\n",
    "    rt = jit_data.rt_values[[start_index, stop_index]]\n",
    "    frame_indices = jit_data.get_frame_indices(rt, 16)\n",
    "\n",
    "    # make sure the shape matches\n",
    "    assert frame_indices.shape == (2,)\n",
    "\n",
    "    assert np.all(frame_indices >= 0)\n",
    "    assert np.all(frame_indices < jit_data.rt_values.shape[0])\n",
    "    assert np.all(frame_indices[1] >= frame_indices[0])\n",
    "\n",
    "    cycle_offset = (frame_indices-jit_data.zeroth_frame) % jit_data.cycle.shape[1]\n",
    "\n",
    "    # make sure that the start and stop are at the start of a cycle\n",
    "    assert np.all(cycle_offset == 0)\n",
    "\n",
    "    cycle_indices = (frame_indices-jit_data.zeroth_frame) // jit_data.cycle.shape[1]\n",
    "    cycle_len = cycle_indices[1] - cycle_indices[0]\n",
    "\n",
    "    # make sure the cycle length is a multiple of 16\n",
    "    assert cycle_len % 16 == 0\n",
    "\n",
    "for i in range(1000):\n",
    "    fuzz_get_frame_indices(jit_data)"
   ]
  },
  {
   "cell_type": "code",
   "execution_count": 5,
   "metadata": {},
   "outputs": [],
   "source": [
    "# test get_frame_indices_tolerance\n",
    "\n",
    "def fuzz_get_frame_indices_tolerance(jit_data):\n",
    "\n",
    "    rt = jit_data.rt_values[np.random.randint(0, jit_data.rt_values.shape[0], size=1)][0]\n",
    "    rt_tolerance = np.random.uniform(0, 300, size=1)[0]\n",
    "\n",
    "    frame_indices = jit_data.get_frame_indices_tolerance(rt, rt_tolerance, 16)\n",
    "\n",
    "    # make sure the shape matches\n",
    "    assert frame_indices.shape == (1, 3)\n",
    "\n",
    "    frame_indices = frame_indices[0,[0,1]]\n",
    "\n",
    "    assert np.all(frame_indices >= 0)\n",
    "    assert np.all(frame_indices < jit_data.rt_values.shape[0])\n",
    "    assert np.all(frame_indices[1] >= frame_indices[0])\n",
    "\n",
    "    cycle_offset = (frame_indices-jit_data.zeroth_frame) % jit_data.cycle.shape[1]\n",
    "\n",
    "    # make sure that the start and stop are at the start of a cycle\n",
    "    assert np.all(cycle_offset == 0)\n",
    "\n",
    "    cycle_indices = (frame_indices-jit_data.zeroth_frame) // jit_data.cycle.shape[1]\n",
    "    cycle_len = cycle_indices[1] - cycle_indices[0]\n",
    "\n",
    "    # make sure the cycle length is a multiple of 16\n",
    "    assert cycle_len % 16 == 0\n",
    "\n",
    "for i in range(1000):\n",
    "    fuzz_get_frame_indices_tolerance(jit_data)\n"
   ]
  },
  {
   "cell_type": "code",
   "execution_count": 6,
   "metadata": {},
   "outputs": [],
   "source": [
    "# test get_scan_indices\n",
    "\n",
    "def fuzz_get_scan_indices(jit_data):\n",
    "\n",
    "    start_index = np.random.randint(0, jit_data.mobility_values.shape[0], size=1)[0]\n",
    "    stop_index = np.random.randint(start_index, jit_data.mobility_values.shape[0], size=1)[0]\n",
    "\n",
    "    mobility = jit_data.mobility_values[[start_index, stop_index]]\n",
    "    scan_indices = jit_data.get_scan_indices(mobility, 16)\n",
    "\n",
    "    # make sure the shape matches\n",
    "    assert scan_indices.shape == (2,)\n",
    "\n",
    "    assert np.all(scan_indices >= 0)\n",
    "    assert np.all(scan_indices <= jit_data.mobility_values.shape[0])\n",
    "    assert np.all(scan_indices[1] >= scan_indices[0])\n",
    "\n",
    "    scan_len = scan_indices[1] - scan_indices[0]\n",
    "\n",
    "    # make sure the cycle length is a multiple of 16\n",
    "    assert scan_len % 16 == 0\n",
    "\n",
    "for i in range(10):\n",
    "    fuzz_get_scan_indices(jit_data)"
   ]
  },
  {
   "cell_type": "code",
   "execution_count": 7,
   "metadata": {},
   "outputs": [],
   "source": [
    "# test get_scan_indices_tolerance\n",
    "# test get_frame_indices_tolerance\n",
    "\n",
    "def fuzz_get_scan_indices_tolerance(jit_data):\n",
    "\n",
    "    mobility = jit_data.mobility_values[np.random.randint(0, jit_data.mobility_values.shape[0], size=1)][0]\n",
    "    mobility_tolerance = np.random.uniform(0, 0.1, size=1)[0]\n",
    "\n",
    "    scan_indices = jit_data.get_scan_indices_tolerance(mobility, mobility_tolerance, 16)\n",
    "\n",
    "    # make sure the shape matches\n",
    "    assert scan_indices.shape == (1, 3)\n",
    "\n",
    "    scan_indices = scan_indices[0,[0,1]]\n",
    "\n",
    "    assert np.all(scan_indices >= 0)\n",
    "\n",
    "    if not np.all(scan_indices <= jit_data.mobility_values.shape[0]):\n",
    "        print(mobility, mobility_tolerance)\n",
    "        print(scan_indices)\n",
    "    assert np.all(scan_indices[1] >= scan_indices[0])\n",
    "\n",
    "    scan_len = scan_indices[1] - scan_indices[0]\n",
    "\n",
    "    # make sure the cycle length is a multiple of 16\n",
    "    assert scan_len % 16 == 0\n",
    "\n",
    "for i in range(1000):\n",
    "    fuzz_get_scan_indices_tolerance(jit_data)"
   ]
  },
  {
   "cell_type": "code",
   "execution_count": 9,
   "metadata": {},
   "outputs": [
    {
     "name": "stderr",
     "output_type": "stream",
     "text": [
      "100%|██████████| 1/1 [00:00<00:00, 78.05it/s]"
     ]
    },
    {
     "name": "stdout",
     "output_type": "stream",
     "text": [
      "[[2485 3637    1]] int64 [[459 523   1]] int64 [ 185.12119  374.02203  510.31326  601.63464  685.67334  856.825\n",
      "  917.9102  1307.4122  1554.3955  1602.5912 ] float32 150 [[762.5863 762.5863]] float32 True\n"
     ]
    },
    {
     "name": "stderr",
     "output_type": "stream",
     "text": [
      "\n"
     ]
    }
   ],
   "source": [
    "from tqdm import tqdm\n",
    "import numba as nb\n",
    "import numpy as np\n",
    "from alphadia.extraction import utils\n",
    "import matplotlib.pyplot as plt\n",
    "\n",
    "def fuzz_jit_data(jit_data):\n",
    "    min_mz = jit_data.mz_values.min()\n",
    "    max_mz = jit_data.mz_values.max()\n",
    "    use_q = np.random.randint(0, 2, dtype=bool)\n",
    "    \n",
    "    if use_q:\n",
    "        _precursor = np.random.uniform(jit_data.quad_min_mz_value, jit_data.quad_max_mz_value, size=1)[0]\n",
    "        precursor = np.array([[_precursor, _precursor]], dtype=np.float32)\n",
    "\n",
    "    else:\n",
    "        precursor = np.array([[-1.,-1.]], dtype=np.float32)\n",
    "\n",
    "    mz = np.sort(np.random.uniform(min_mz, max_mz, size=10).astype(np.float32))\n",
    "    mz_tolerance = 150#np.random.uniform(0, 200, size=1)[0]\n",
    "\n",
    "    rt = jit_data.rt_values[np.random.randint(0, jit_data.rt_values.shape[0], size=1)][0]\n",
    "    rt_tolerance = np.random.uniform(0, 300, size=1)[0]\n",
    "\n",
    "    mobility = jit_data.mobility_values[np.random.randint(0, jit_data.mobility_values.shape[0], size=1)][0]\n",
    "    mobility_tolerance = np.random.uniform(0, 0.1, size=1)[0]\n",
    "\n",
    "    scan_limits = jit_data.get_scan_indices_tolerance(\n",
    "        mobility,\n",
    "        mobility_tolerance\n",
    "    )\n",
    "\n",
    "    frame_limits = jit_data.get_frame_indices_tolerance(\n",
    "        rt,\n",
    "        rt_tolerance\n",
    "    )\n",
    "\n",
    "    dense, precursor_index = jit_data.get_dense(\n",
    "        frame_limits,\n",
    "        scan_limits,\n",
    "        mz,\n",
    "        mz_tolerance,\n",
    "        precursor,\n",
    "        True,\n",
    "    )\n",
    "\n",
    "    print(\n",
    "        frame_limits,\n",
    "        frame_limits.dtype,\n",
    "        scan_limits,\n",
    "        scan_limits.dtype,\n",
    "        mz,\n",
    "        mz.dtype,\n",
    "        mz_tolerance,\n",
    "        precursor,\n",
    "        precursor.dtype,\n",
    "        True,\n",
    "    )\n",
    "\n",
    "    \n",
    "\n",
    "    if dense.shape[0] == 0:\n",
    "        return\n",
    "\n",
    "for i in tqdm(range(1)):\n",
    "    fuzz_jit_data(jit_data)"
   ]
  },
  {
   "cell_type": "code",
   "execution_count": null,
   "metadata": {},
   "outputs": [],
   "source": []
  }
 ],
 "metadata": {
  "kernelspec": {
   "display_name": "alpha",
   "language": "python",
   "name": "python3"
  },
  "language_info": {
   "codemirror_mode": {
    "name": "ipython",
    "version": 3
   },
   "file_extension": ".py",
   "mimetype": "text/x-python",
   "name": "python",
   "nbconvert_exporter": "python",
   "pygments_lexer": "ipython3",
   "version": "3.9.13"
  },
  "orig_nbformat": 4
 },
 "nbformat": 4,
 "nbformat_minor": 2
}
